{
 "cells": [
  {
   "cell_type": "markdown",
   "metadata": {},
   "source": [
    "# Import"
   ]
  },
  {
   "cell_type": "code",
   "execution_count": 1,
   "metadata": {},
   "outputs": [],
   "source": [
    "import numpy as np  \n",
    "import pandas as pd  \n",
    "import datetime as dt"
   ]
  },
  {
   "cell_type": "markdown",
   "metadata": {},
   "source": [
    "# Read Data"
   ]
  },
  {
   "cell_type": "markdown",
   "metadata": {},
   "source": [
    "## Crime Data\n",
    "1. Download crime data from https://data.cityofchicago.org/browse?q=crimes&sortBy=relevancein in `csv` format\n",
    "2. Use the data files from 2015 to present and combine them into one file\n",
    "3. Has the information about each crime record. Key metrics can be used:\n",
    "\n",
    " - **Date**: Describe when the crime happend. It could be used to join `weather` data\n",
    " - **Case Number**: Unique record id for each crime. It could be used to conut number of crime per day"
   ]
  },
  {
   "cell_type": "code",
   "execution_count": 2,
   "metadata": {},
   "outputs": [],
   "source": [
    "crime_2015 =  pd.read_csv('Crimes_-_2015.csv', parse_dates=['Date'])\n",
    "crime_2016 =  pd.read_csv('Crimes_-_2016.csv', parse_dates=['Date'])\n",
    "crime_2017 =  pd.read_csv('Crimes_-_2017.csv', parse_dates=['Date'])\n",
    "crime_2018 =  pd.read_csv('Crimes_-_2018.csv', parse_dates=['Date'])\n",
    "crime_2019 =  pd.read_csv('Crimes_-_2019.csv', parse_dates=['Date'])"
   ]
  },
  {
   "cell_type": "code",
   "execution_count": 3,
   "metadata": {},
   "outputs": [
    {
     "data": {
      "text/html": [
       "<div>\n",
       "<style scoped>\n",
       "    .dataframe tbody tr th:only-of-type {\n",
       "        vertical-align: middle;\n",
       "    }\n",
       "\n",
       "    .dataframe tbody tr th {\n",
       "        vertical-align: top;\n",
       "    }\n",
       "\n",
       "    .dataframe thead th {\n",
       "        text-align: right;\n",
       "    }\n",
       "</style>\n",
       "<table border=\"1\" class=\"dataframe\">\n",
       "  <thead>\n",
       "    <tr style=\"text-align: right;\">\n",
       "      <th></th>\n",
       "      <th>ID</th>\n",
       "      <th>Case Number</th>\n",
       "      <th>Date</th>\n",
       "      <th>Block</th>\n",
       "      <th>IUCR</th>\n",
       "      <th>Primary Type</th>\n",
       "      <th>Description</th>\n",
       "      <th>Location Description</th>\n",
       "      <th>Arrest</th>\n",
       "      <th>Domestic</th>\n",
       "      <th>...</th>\n",
       "      <th>Longitude</th>\n",
       "      <th>Location</th>\n",
       "      <th>Historical Wards 2003-2015</th>\n",
       "      <th>Zip Codes</th>\n",
       "      <th>Community Areas</th>\n",
       "      <th>Census Tracts</th>\n",
       "      <th>Wards</th>\n",
       "      <th>Boundaries - ZIP Codes</th>\n",
       "      <th>Police Districts</th>\n",
       "      <th>Police Beats</th>\n",
       "    </tr>\n",
       "  </thead>\n",
       "  <tbody>\n",
       "    <tr>\n",
       "      <td>0</td>\n",
       "      <td>10272078</td>\n",
       "      <td>HY460276</td>\n",
       "      <td>2015-01-01</td>\n",
       "      <td>058XX N MULLIGAN AVE</td>\n",
       "      <td>0266</td>\n",
       "      <td>CRIM SEXUAL ASSAULT</td>\n",
       "      <td>PREDATORY</td>\n",
       "      <td>RESIDENCE</td>\n",
       "      <td>False</td>\n",
       "      <td>True</td>\n",
       "      <td>...</td>\n",
       "      <td>-87.786436</td>\n",
       "      <td>(41.987511956, -87.786435884)</td>\n",
       "      <td>20.0</td>\n",
       "      <td>22532.0</td>\n",
       "      <td>36.0</td>\n",
       "      <td>656.0</td>\n",
       "      <td>50.0</td>\n",
       "      <td>18.0</td>\n",
       "      <td>12.0</td>\n",
       "      <td>43.0</td>\n",
       "    </tr>\n",
       "    <tr>\n",
       "      <td>1</td>\n",
       "      <td>10231909</td>\n",
       "      <td>HY419527</td>\n",
       "      <td>2015-01-01</td>\n",
       "      <td>047XX S CHAMPLAIN AVE</td>\n",
       "      <td>1752</td>\n",
       "      <td>OFFENSE INVOLVING CHILDREN</td>\n",
       "      <td>AGG CRIM SEX ABUSE FAM MEMBER</td>\n",
       "      <td>RESIDENCE</td>\n",
       "      <td>False</td>\n",
       "      <td>True</td>\n",
       "      <td>...</td>\n",
       "      <td>-87.610186</td>\n",
       "      <td>(41.808636571, -87.610186264)</td>\n",
       "      <td>1.0</td>\n",
       "      <td>21192.0</td>\n",
       "      <td>4.0</td>\n",
       "      <td>165.0</td>\n",
       "      <td>10.0</td>\n",
       "      <td>10.0</td>\n",
       "      <td>24.0</td>\n",
       "      <td>116.0</td>\n",
       "    </tr>\n",
       "    <tr>\n",
       "      <td>2</td>\n",
       "      <td>11070122</td>\n",
       "      <td>JA409822</td>\n",
       "      <td>2015-01-01</td>\n",
       "      <td>027XX N LINCOLN AVE</td>\n",
       "      <td>1153</td>\n",
       "      <td>DECEPTIVE PRACTICE</td>\n",
       "      <td>FINANCIAL IDENTITY THEFT OVER $ 300</td>\n",
       "      <td>BAR OR TAVERN</td>\n",
       "      <td>False</td>\n",
       "      <td>False</td>\n",
       "      <td>...</td>\n",
       "      <td>NaN</td>\n",
       "      <td>NaN</td>\n",
       "      <td>NaN</td>\n",
       "      <td>NaN</td>\n",
       "      <td>NaN</td>\n",
       "      <td>NaN</td>\n",
       "      <td>NaN</td>\n",
       "      <td>NaN</td>\n",
       "      <td>NaN</td>\n",
       "      <td>NaN</td>\n",
       "    </tr>\n",
       "    <tr>\n",
       "      <td>3</td>\n",
       "      <td>10435783</td>\n",
       "      <td>HZ173239</td>\n",
       "      <td>2015-01-01</td>\n",
       "      <td>088XX S EXCHANGE AVE</td>\n",
       "      <td>0266</td>\n",
       "      <td>CRIM SEXUAL ASSAULT</td>\n",
       "      <td>PREDATORY</td>\n",
       "      <td>RESIDENCE</td>\n",
       "      <td>False</td>\n",
       "      <td>True</td>\n",
       "      <td>...</td>\n",
       "      <td>NaN</td>\n",
       "      <td>NaN</td>\n",
       "      <td>NaN</td>\n",
       "      <td>NaN</td>\n",
       "      <td>NaN</td>\n",
       "      <td>NaN</td>\n",
       "      <td>NaN</td>\n",
       "      <td>NaN</td>\n",
       "      <td>NaN</td>\n",
       "      <td>NaN</td>\n",
       "    </tr>\n",
       "    <tr>\n",
       "      <td>4</td>\n",
       "      <td>10251294</td>\n",
       "      <td>HY438848</td>\n",
       "      <td>2015-01-01</td>\n",
       "      <td>030XX W VAN BUREN ST</td>\n",
       "      <td>1562</td>\n",
       "      <td>SEX OFFENSE</td>\n",
       "      <td>AGG CRIMINAL SEXUAL ABUSE</td>\n",
       "      <td>RESIDENCE</td>\n",
       "      <td>False</td>\n",
       "      <td>False</td>\n",
       "      <td>...</td>\n",
       "      <td>-87.702855</td>\n",
       "      <td>(41.87590938, -87.702854917)</td>\n",
       "      <td>11.0</td>\n",
       "      <td>21184.0</td>\n",
       "      <td>28.0</td>\n",
       "      <td>737.0</td>\n",
       "      <td>23.0</td>\n",
       "      <td>28.0</td>\n",
       "      <td>16.0</td>\n",
       "      <td>123.0</td>\n",
       "    </tr>\n",
       "  </tbody>\n",
       "</table>\n",
       "<p>5 rows × 30 columns</p>\n",
       "</div>"
      ],
      "text/plain": [
       "         ID Case Number       Date                  Block  IUCR  \\\n",
       "0  10272078    HY460276 2015-01-01   058XX N MULLIGAN AVE  0266   \n",
       "1  10231909    HY419527 2015-01-01  047XX S CHAMPLAIN AVE  1752   \n",
       "2  11070122    JA409822 2015-01-01    027XX N LINCOLN AVE  1153   \n",
       "3  10435783    HZ173239 2015-01-01   088XX S EXCHANGE AVE  0266   \n",
       "4  10251294    HY438848 2015-01-01   030XX W VAN BUREN ST  1562   \n",
       "\n",
       "                 Primary Type                          Description  \\\n",
       "0         CRIM SEXUAL ASSAULT                            PREDATORY   \n",
       "1  OFFENSE INVOLVING CHILDREN        AGG CRIM SEX ABUSE FAM MEMBER   \n",
       "2          DECEPTIVE PRACTICE  FINANCIAL IDENTITY THEFT OVER $ 300   \n",
       "3         CRIM SEXUAL ASSAULT                            PREDATORY   \n",
       "4                 SEX OFFENSE            AGG CRIMINAL SEXUAL ABUSE   \n",
       "\n",
       "  Location Description  Arrest  Domestic  ...  Longitude  \\\n",
       "0            RESIDENCE   False      True  ... -87.786436   \n",
       "1            RESIDENCE   False      True  ... -87.610186   \n",
       "2        BAR OR TAVERN   False     False  ...        NaN   \n",
       "3            RESIDENCE   False      True  ...        NaN   \n",
       "4            RESIDENCE   False     False  ... -87.702855   \n",
       "\n",
       "                        Location  Historical Wards 2003-2015  Zip Codes  \\\n",
       "0  (41.987511956, -87.786435884)                        20.0    22532.0   \n",
       "1  (41.808636571, -87.610186264)                         1.0    21192.0   \n",
       "2                            NaN                         NaN        NaN   \n",
       "3                            NaN                         NaN        NaN   \n",
       "4   (41.87590938, -87.702854917)                        11.0    21184.0   \n",
       "\n",
       "  Community Areas  Census Tracts  Wards  Boundaries - ZIP Codes  \\\n",
       "0            36.0          656.0   50.0                    18.0   \n",
       "1             4.0          165.0   10.0                    10.0   \n",
       "2             NaN            NaN    NaN                     NaN   \n",
       "3             NaN            NaN    NaN                     NaN   \n",
       "4            28.0          737.0   23.0                    28.0   \n",
       "\n",
       "  Police Districts  Police Beats  \n",
       "0             12.0          43.0  \n",
       "1             24.0         116.0  \n",
       "2              NaN           NaN  \n",
       "3              NaN           NaN  \n",
       "4             16.0         123.0  \n",
       "\n",
       "[5 rows x 30 columns]"
      ]
     },
     "execution_count": 3,
     "metadata": {},
     "output_type": "execute_result"
    }
   ],
   "source": [
    "# combine 5 files to 1 file\n",
    "crime = crime_2015.append([crime_2016, crime_2017, crime_2018, crime_2019],\n",
    "                          ignore_index=True).sort_values(by='Date').reset_index(drop=True)\n",
    "crime.head()"
   ]
  },
  {
   "cell_type": "code",
   "execution_count": 4,
   "metadata": {},
   "outputs": [
    {
     "data": {
      "text/plain": [
       "True"
      ]
     },
     "execution_count": 4,
     "metadata": {},
     "output_type": "execute_result"
    }
   ],
   "source": [
    "# quick check the length of the new dataframe\n",
    "len(crime) == len(crime_2015) + len(crime_2016) + len(crime_2017) + len(crime_2018) + len(crime_2019)"
   ]
  },
  {
   "cell_type": "code",
   "execution_count": 5,
   "metadata": {},
   "outputs": [],
   "source": [
    "crime_useful = crime[['Date', 'Case Number']].copy()\n",
    "crime_useful.rename(columns={\"Date\": \"timestamp\", \"Case Number\": \"case_number\"}, inplace=True)"
   ]
  },
  {
   "cell_type": "code",
   "execution_count": 6,
   "metadata": {
    "scrolled": true
   },
   "outputs": [
    {
     "data": {
      "text/plain": [
       "timestamp      0\n",
       "case_number    0\n",
       "dtype: int64"
      ]
     },
     "execution_count": 6,
     "metadata": {},
     "output_type": "execute_result"
    }
   ],
   "source": [
    "# quick check the null values\n",
    "crime_useful.isnull().sum()"
   ]
  },
  {
   "cell_type": "markdown",
   "metadata": {},
   "source": [
    "## Weather Data\n",
    "1. Download weather data from https://data.cityofchicago.org/Parks-Recreation/Beach-Weather-Stations-Automated-Sensors/k7hf-8y75 in `csv` format\n",
    "2. Hourly data that has the information about each weather record. Key metrics can be used:\n",
    "\n",
    " - **Measurement Timestamp**: the timestamp when the measurements were taken. It could be used to join `crime` data\n",
    " - **Air Temperature**: numerical degree in centigrade\n",
    " - **Total Rain**: total rain since midnight in mm\n",
    " - **Wind Speed**: wind speed in meters"
   ]
  },
  {
   "cell_type": "code",
   "execution_count": 7,
   "metadata": {},
   "outputs": [
    {
     "data": {
      "text/html": [
       "<div>\n",
       "<style scoped>\n",
       "    .dataframe tbody tr th:only-of-type {\n",
       "        vertical-align: middle;\n",
       "    }\n",
       "\n",
       "    .dataframe tbody tr th {\n",
       "        vertical-align: top;\n",
       "    }\n",
       "\n",
       "    .dataframe thead th {\n",
       "        text-align: right;\n",
       "    }\n",
       "</style>\n",
       "<table border=\"1\" class=\"dataframe\">\n",
       "  <thead>\n",
       "    <tr style=\"text-align: right;\">\n",
       "      <th></th>\n",
       "      <th>Station Name</th>\n",
       "      <th>Measurement Timestamp</th>\n",
       "      <th>Air Temperature</th>\n",
       "      <th>Wet Bulb Temperature</th>\n",
       "      <th>Humidity</th>\n",
       "      <th>Rain Intensity</th>\n",
       "      <th>Interval Rain</th>\n",
       "      <th>Total Rain</th>\n",
       "      <th>Precipitation Type</th>\n",
       "      <th>Wind Direction</th>\n",
       "      <th>Wind Speed</th>\n",
       "      <th>Maximum Wind Speed</th>\n",
       "      <th>Barometric Pressure</th>\n",
       "      <th>Solar Radiation</th>\n",
       "      <th>Heading</th>\n",
       "      <th>Battery Life</th>\n",
       "      <th>Measurement Timestamp Label</th>\n",
       "      <th>Measurement ID</th>\n",
       "    </tr>\n",
       "  </thead>\n",
       "  <tbody>\n",
       "    <tr>\n",
       "      <td>0</td>\n",
       "      <td>63rd Street Weather Station</td>\n",
       "      <td>2015-04-25 09:00:00</td>\n",
       "      <td>7.00</td>\n",
       "      <td>5.9</td>\n",
       "      <td>86</td>\n",
       "      <td>7.2</td>\n",
       "      <td>5.0</td>\n",
       "      <td>5.2</td>\n",
       "      <td>60.0</td>\n",
       "      <td>119</td>\n",
       "      <td>5.1</td>\n",
       "      <td>7.1</td>\n",
       "      <td>986.1</td>\n",
       "      <td>38</td>\n",
       "      <td>354.0</td>\n",
       "      <td>12.0</td>\n",
       "      <td>04/25/2015 9:00 AM</td>\n",
       "      <td>63rdStreetWeatherStation201504250900</td>\n",
       "    </tr>\n",
       "    <tr>\n",
       "      <td>1</td>\n",
       "      <td>63rd Street Weather Station</td>\n",
       "      <td>2015-04-30 05:00:00</td>\n",
       "      <td>6.10</td>\n",
       "      <td>4.3</td>\n",
       "      <td>76</td>\n",
       "      <td>0.0</td>\n",
       "      <td>0.0</td>\n",
       "      <td>2.5</td>\n",
       "      <td>0.0</td>\n",
       "      <td>11</td>\n",
       "      <td>7.2</td>\n",
       "      <td>13.0</td>\n",
       "      <td>989.9</td>\n",
       "      <td>4</td>\n",
       "      <td>354.0</td>\n",
       "      <td>11.9</td>\n",
       "      <td>04/30/2015 5:00 AM</td>\n",
       "      <td>63rdStreetWeatherStation201504300500</td>\n",
       "    </tr>\n",
       "    <tr>\n",
       "      <td>2</td>\n",
       "      <td>Oak Street Weather Station</td>\n",
       "      <td>2015-05-22 15:00:00</td>\n",
       "      <td>NaN</td>\n",
       "      <td>7.0</td>\n",
       "      <td>55</td>\n",
       "      <td>0.0</td>\n",
       "      <td>0.0</td>\n",
       "      <td>1.4</td>\n",
       "      <td>0.0</td>\n",
       "      <td>63</td>\n",
       "      <td>1.9</td>\n",
       "      <td>2.8</td>\n",
       "      <td>NaN</td>\n",
       "      <td>780</td>\n",
       "      <td>322.0</td>\n",
       "      <td>12.0</td>\n",
       "      <td>05/22/2015 3:00 PM</td>\n",
       "      <td>OakStreetWeatherStation201505221500</td>\n",
       "    </tr>\n",
       "    <tr>\n",
       "      <td>3</td>\n",
       "      <td>Foster Weather Station</td>\n",
       "      <td>2015-05-22 16:00:00</td>\n",
       "      <td>9.17</td>\n",
       "      <td>NaN</td>\n",
       "      <td>59</td>\n",
       "      <td>NaN</td>\n",
       "      <td>0.0</td>\n",
       "      <td>NaN</td>\n",
       "      <td>NaN</td>\n",
       "      <td>4</td>\n",
       "      <td>4.0</td>\n",
       "      <td>4.4</td>\n",
       "      <td>NaN</td>\n",
       "      <td>556</td>\n",
       "      <td>NaN</td>\n",
       "      <td>15.1</td>\n",
       "      <td>05/22/2015 4:00 PM</td>\n",
       "      <td>FosterWeatherStation201505221600</td>\n",
       "    </tr>\n",
       "    <tr>\n",
       "      <td>4</td>\n",
       "      <td>Foster Weather Station</td>\n",
       "      <td>2015-05-22 17:00:00</td>\n",
       "      <td>9.28</td>\n",
       "      <td>NaN</td>\n",
       "      <td>61</td>\n",
       "      <td>NaN</td>\n",
       "      <td>0.0</td>\n",
       "      <td>NaN</td>\n",
       "      <td>NaN</td>\n",
       "      <td>40</td>\n",
       "      <td>1.2</td>\n",
       "      <td>1.7</td>\n",
       "      <td>NaN</td>\n",
       "      <td>322</td>\n",
       "      <td>NaN</td>\n",
       "      <td>15.1</td>\n",
       "      <td>05/22/2015 5:00 PM</td>\n",
       "      <td>FosterWeatherStation201505221700</td>\n",
       "    </tr>\n",
       "  </tbody>\n",
       "</table>\n",
       "</div>"
      ],
      "text/plain": [
       "                  Station Name Measurement Timestamp  Air Temperature  \\\n",
       "0  63rd Street Weather Station   2015-04-25 09:00:00             7.00   \n",
       "1  63rd Street Weather Station   2015-04-30 05:00:00             6.10   \n",
       "2   Oak Street Weather Station   2015-05-22 15:00:00              NaN   \n",
       "3       Foster Weather Station   2015-05-22 16:00:00             9.17   \n",
       "4       Foster Weather Station   2015-05-22 17:00:00             9.28   \n",
       "\n",
       "   Wet Bulb Temperature  Humidity  Rain Intensity  Interval Rain  Total Rain  \\\n",
       "0                   5.9        86             7.2            5.0         5.2   \n",
       "1                   4.3        76             0.0            0.0         2.5   \n",
       "2                   7.0        55             0.0            0.0         1.4   \n",
       "3                   NaN        59             NaN            0.0         NaN   \n",
       "4                   NaN        61             NaN            0.0         NaN   \n",
       "\n",
       "   Precipitation Type  Wind Direction  Wind Speed  Maximum Wind Speed  \\\n",
       "0                60.0             119         5.1                 7.1   \n",
       "1                 0.0              11         7.2                13.0   \n",
       "2                 0.0              63         1.9                 2.8   \n",
       "3                 NaN               4         4.0                 4.4   \n",
       "4                 NaN              40         1.2                 1.7   \n",
       "\n",
       "   Barometric Pressure  Solar Radiation  Heading  Battery Life  \\\n",
       "0                986.1               38    354.0          12.0   \n",
       "1                989.9                4    354.0          11.9   \n",
       "2                  NaN              780    322.0          12.0   \n",
       "3                  NaN              556      NaN          15.1   \n",
       "4                  NaN              322      NaN          15.1   \n",
       "\n",
       "  Measurement Timestamp Label                        Measurement ID  \n",
       "0          04/25/2015 9:00 AM  63rdStreetWeatherStation201504250900  \n",
       "1          04/30/2015 5:00 AM  63rdStreetWeatherStation201504300500  \n",
       "2          05/22/2015 3:00 PM   OakStreetWeatherStation201505221500  \n",
       "3          05/22/2015 4:00 PM      FosterWeatherStation201505221600  \n",
       "4          05/22/2015 5:00 PM      FosterWeatherStation201505221700  "
      ]
     },
     "execution_count": 7,
     "metadata": {},
     "output_type": "execute_result"
    }
   ],
   "source": [
    "weather = pd.read_csv('Beach_Weather_Stations_-_Automated_Sensors.csv', parse_dates=['Measurement Timestamp'])\n",
    "weather = weather.sort_values('Measurement Timestamp').reset_index(drop=True)\n",
    "weather.head()"
   ]
  },
  {
   "cell_type": "code",
   "execution_count": 8,
   "metadata": {},
   "outputs": [],
   "source": [
    "weather_useful = weather[['Measurement Timestamp', 'Air Temperature', 'Total Rain', 'Maximum Wind Speed']].copy()\n",
    "# rename the useful weather data\n",
    "weather_useful.columns = ['timestamp', 'temp', 'total_rain', 'wind_speed']"
   ]
  },
  {
   "cell_type": "code",
   "execution_count": 9,
   "metadata": {},
   "outputs": [
    {
     "data": {
      "text/plain": [
       "timestamp         0\n",
       "temp             75\n",
       "total_rain    35704\n",
       "wind_speed        0\n",
       "dtype: int64"
      ]
     },
     "execution_count": 9,
     "metadata": {},
     "output_type": "execute_result"
    }
   ],
   "source": [
    "# quick check the null values\n",
    "weather_useful.isnull().sum()"
   ]
  },
  {
   "cell_type": "code",
   "execution_count": 10,
   "metadata": {},
   "outputs": [
    {
     "data": {
      "text/html": [
       "<div>\n",
       "<style scoped>\n",
       "    .dataframe tbody tr th:only-of-type {\n",
       "        vertical-align: middle;\n",
       "    }\n",
       "\n",
       "    .dataframe tbody tr th {\n",
       "        vertical-align: top;\n",
       "    }\n",
       "\n",
       "    .dataframe thead th {\n",
       "        text-align: right;\n",
       "    }\n",
       "</style>\n",
       "<table border=\"1\" class=\"dataframe\">\n",
       "  <thead>\n",
       "    <tr style=\"text-align: right;\">\n",
       "      <th></th>\n",
       "      <th>timestamp</th>\n",
       "      <th>temp</th>\n",
       "      <th>total_rain</th>\n",
       "      <th>wind_speed</th>\n",
       "    </tr>\n",
       "  </thead>\n",
       "  <tbody>\n",
       "  </tbody>\n",
       "</table>\n",
       "</div>"
      ],
      "text/plain": [
       "Empty DataFrame\n",
       "Columns: [timestamp, temp, total_rain, wind_speed]\n",
       "Index: []"
      ]
     },
     "execution_count": 10,
     "metadata": {},
     "output_type": "execute_result"
    }
   ],
   "source": [
    "\"\"\"\n",
    "since there are always more than 2 features have values, we won't fillna here\n",
    "\"\"\"\n",
    "weather_useful[(weather_useful[\"temp\"].isnull()) & (weather_useful[\"total_rain\"].isnull())]"
   ]
  },
  {
   "cell_type": "markdown",
   "metadata": {},
   "source": [
    "# Data Transformation"
   ]
  },
  {
   "cell_type": "markdown",
   "metadata": {},
   "source": [
    "## Create a `date` column for both dataset"
   ]
  },
  {
   "cell_type": "code",
   "execution_count": 11,
   "metadata": {},
   "outputs": [],
   "source": [
    "crime_useful[\"date\"] = crime_useful[\"timestamp\"].apply(lambda x: pd.to_datetime(x.date()))\n",
    "weather_useful[\"date\"] = weather_useful[\"timestamp\"].apply(lambda x: pd.to_datetime(x.date()))"
   ]
  },
  {
   "cell_type": "markdown",
   "metadata": {},
   "source": [
    "## Keep the data with the overlapped dates"
   ]
  },
  {
   "cell_type": "code",
   "execution_count": 12,
   "metadata": {},
   "outputs": [
    {
     "data": {
      "text/plain": [
       "(Timestamp('2015-01-01 00:00:00'), Timestamp('2019-08-29 00:00:00'))"
      ]
     },
     "execution_count": 12,
     "metadata": {},
     "output_type": "execute_result"
    }
   ],
   "source": [
    "# check the start and end date of crime\n",
    "crime_useful['date'].min(), crime_useful['date'].max()"
   ]
  },
  {
   "cell_type": "code",
   "execution_count": 13,
   "metadata": {},
   "outputs": [
    {
     "data": {
      "text/plain": [
       "(Timestamp('2015-04-25 00:00:00'), Timestamp('2019-09-06 00:00:00'))"
      ]
     },
     "execution_count": 13,
     "metadata": {},
     "output_type": "execute_result"
    }
   ],
   "source": [
    "# check the start and end date of weather\n",
    "weather_useful['date'].min(), weather_useful['date'].max()"
   ]
  },
  {
   "cell_type": "code",
   "execution_count": 14,
   "metadata": {},
   "outputs": [],
   "source": [
    "# keep both data with overlapped dates\n",
    "start_date = max(crime_useful['date'].min(), weather_useful['date'].min())\n",
    "end_date = min(crime_useful['date'].max(), weather_useful['date'].max())\n",
    "new_weather = weather_useful.query(\"date >= @start_date and date <= @end_date\").copy()\n",
    "new_crime = crime_useful.query(\"date >= @start_date and date <= @end_date\").copy()"
   ]
  },
  {
   "cell_type": "markdown",
   "metadata": {},
   "source": [
    "## Convert the data to daily aggregation"
   ]
  },
  {
   "cell_type": "code",
   "execution_count": 15,
   "metadata": {},
   "outputs": [
    {
     "data": {
      "text/html": [
       "<div>\n",
       "<style scoped>\n",
       "    .dataframe tbody tr th:only-of-type {\n",
       "        vertical-align: middle;\n",
       "    }\n",
       "\n",
       "    .dataframe tbody tr th {\n",
       "        vertical-align: top;\n",
       "    }\n",
       "\n",
       "    .dataframe thead th {\n",
       "        text-align: right;\n",
       "    }\n",
       "</style>\n",
       "<table border=\"1\" class=\"dataframe\">\n",
       "  <thead>\n",
       "    <tr style=\"text-align: right;\">\n",
       "      <th></th>\n",
       "      <th>date</th>\n",
       "      <th>daily_crime_count</th>\n",
       "    </tr>\n",
       "  </thead>\n",
       "  <tbody>\n",
       "    <tr>\n",
       "      <td>0</td>\n",
       "      <td>2015-04-25</td>\n",
       "      <td>695</td>\n",
       "    </tr>\n",
       "    <tr>\n",
       "      <td>1</td>\n",
       "      <td>2015-04-26</td>\n",
       "      <td>718</td>\n",
       "    </tr>\n",
       "    <tr>\n",
       "      <td>2</td>\n",
       "      <td>2015-04-27</td>\n",
       "      <td>719</td>\n",
       "    </tr>\n",
       "    <tr>\n",
       "      <td>3</td>\n",
       "      <td>2015-04-28</td>\n",
       "      <td>718</td>\n",
       "    </tr>\n",
       "    <tr>\n",
       "      <td>4</td>\n",
       "      <td>2015-04-29</td>\n",
       "      <td>766</td>\n",
       "    </tr>\n",
       "  </tbody>\n",
       "</table>\n",
       "</div>"
      ],
      "text/plain": [
       "        date  daily_crime_count\n",
       "0 2015-04-25                695\n",
       "1 2015-04-26                718\n",
       "2 2015-04-27                719\n",
       "3 2015-04-28                718\n",
       "4 2015-04-29                766"
      ]
     },
     "execution_count": 15,
     "metadata": {},
     "output_type": "execute_result"
    }
   ],
   "source": [
    "# daily crime count as the target\n",
    "daily_crime = new_crime.groupby('date').agg({'case_number': 'count'}).reset_index()\n",
    "daily_crime.rename(columns={\"case_number\": \"daily_crime_count\"}, inplace=True)\n",
    "daily_crime.head()"
   ]
  },
  {
   "cell_type": "code",
   "execution_count": 16,
   "metadata": {},
   "outputs": [
    {
     "data": {
      "text/html": [
       "<div>\n",
       "<style scoped>\n",
       "    .dataframe tbody tr th:only-of-type {\n",
       "        vertical-align: middle;\n",
       "    }\n",
       "\n",
       "    .dataframe tbody tr th {\n",
       "        vertical-align: top;\n",
       "    }\n",
       "\n",
       "    .dataframe thead th {\n",
       "        text-align: right;\n",
       "    }\n",
       "</style>\n",
       "<table border=\"1\" class=\"dataframe\">\n",
       "  <thead>\n",
       "    <tr style=\"text-align: right;\">\n",
       "      <th></th>\n",
       "      <th>date</th>\n",
       "      <th>temp_min</th>\n",
       "      <th>temp_mean</th>\n",
       "      <th>temp_max</th>\n",
       "      <th>total_rain_min</th>\n",
       "      <th>total_rain_mean</th>\n",
       "      <th>total_rain_max</th>\n",
       "      <th>wind_speed_min</th>\n",
       "      <th>wind_speed_mean</th>\n",
       "      <th>wind_speed_max</th>\n",
       "    </tr>\n",
       "  </thead>\n",
       "  <tbody>\n",
       "    <tr>\n",
       "      <td>0</td>\n",
       "      <td>2015-04-25</td>\n",
       "      <td>7.00</td>\n",
       "      <td>7.000000</td>\n",
       "      <td>7.00</td>\n",
       "      <td>5.2</td>\n",
       "      <td>5.200000</td>\n",
       "      <td>5.2</td>\n",
       "      <td>7.1</td>\n",
       "      <td>7.100000</td>\n",
       "      <td>7.1</td>\n",
       "    </tr>\n",
       "    <tr>\n",
       "      <td>1</td>\n",
       "      <td>2015-04-30</td>\n",
       "      <td>6.10</td>\n",
       "      <td>6.100000</td>\n",
       "      <td>6.10</td>\n",
       "      <td>2.5</td>\n",
       "      <td>2.500000</td>\n",
       "      <td>2.5</td>\n",
       "      <td>13.0</td>\n",
       "      <td>13.000000</td>\n",
       "      <td>13.0</td>\n",
       "    </tr>\n",
       "    <tr>\n",
       "      <td>2</td>\n",
       "      <td>2015-05-22</td>\n",
       "      <td>9.17</td>\n",
       "      <td>9.695000</td>\n",
       "      <td>10.38</td>\n",
       "      <td>1.4</td>\n",
       "      <td>1.400000</td>\n",
       "      <td>1.4</td>\n",
       "      <td>1.7</td>\n",
       "      <td>2.775000</td>\n",
       "      <td>4.5</td>\n",
       "    </tr>\n",
       "    <tr>\n",
       "      <td>3</td>\n",
       "      <td>2015-05-23</td>\n",
       "      <td>13.89</td>\n",
       "      <td>15.784000</td>\n",
       "      <td>17.17</td>\n",
       "      <td>1.4</td>\n",
       "      <td>1.400000</td>\n",
       "      <td>1.4</td>\n",
       "      <td>0.9</td>\n",
       "      <td>2.792593</td>\n",
       "      <td>4.9</td>\n",
       "    </tr>\n",
       "    <tr>\n",
       "      <td>4</td>\n",
       "      <td>2015-05-24</td>\n",
       "      <td>12.99</td>\n",
       "      <td>16.507368</td>\n",
       "      <td>24.01</td>\n",
       "      <td>1.4</td>\n",
       "      <td>4.795455</td>\n",
       "      <td>11.1</td>\n",
       "      <td>0.7</td>\n",
       "      <td>2.065854</td>\n",
       "      <td>4.5</td>\n",
       "    </tr>\n",
       "  </tbody>\n",
       "</table>\n",
       "</div>"
      ],
      "text/plain": [
       "        date  temp_min  temp_mean  temp_max  total_rain_min  total_rain_mean  \\\n",
       "0 2015-04-25      7.00   7.000000      7.00             5.2         5.200000   \n",
       "1 2015-04-30      6.10   6.100000      6.10             2.5         2.500000   \n",
       "2 2015-05-22      9.17   9.695000     10.38             1.4         1.400000   \n",
       "3 2015-05-23     13.89  15.784000     17.17             1.4         1.400000   \n",
       "4 2015-05-24     12.99  16.507368     24.01             1.4         4.795455   \n",
       "\n",
       "   total_rain_max  wind_speed_min  wind_speed_mean  wind_speed_max  \n",
       "0             5.2             7.1         7.100000             7.1  \n",
       "1             2.5            13.0        13.000000            13.0  \n",
       "2             1.4             1.7         2.775000             4.5  \n",
       "3             1.4             0.9         2.792593             4.9  \n",
       "4            11.1             0.7         2.065854             4.5  "
      ]
     },
     "execution_count": 16,
     "metadata": {},
     "output_type": "execute_result"
    }
   ],
   "source": [
    "# daily aggregation (min, mean, max) on 3 columns as the target\n",
    "daily_weather = new_weather.groupby('date').agg({'temp': ['min', 'mean', 'max'],\n",
    "                                                 'total_rain': ['min', 'mean', 'max'],\n",
    "                                                 'wind_speed': ['min', 'mean', 'max']}).reset_index()\n",
    "weather_new_cols = [daily_weather.columns[0][0]] + [\"_\".join(col) for col in daily_weather.columns[1:]]\n",
    "daily_weather.columns = weather_new_cols\n",
    "daily_weather.head()"
   ]
  },
  {
   "cell_type": "markdown",
   "metadata": {},
   "source": [
    "## Merge Crime data with Weather Data"
   ]
  },
  {
   "cell_type": "code",
   "execution_count": 17,
   "metadata": {},
   "outputs": [
    {
     "data": {
      "text/html": [
       "<div>\n",
       "<style scoped>\n",
       "    .dataframe tbody tr th:only-of-type {\n",
       "        vertical-align: middle;\n",
       "    }\n",
       "\n",
       "    .dataframe tbody tr th {\n",
       "        vertical-align: top;\n",
       "    }\n",
       "\n",
       "    .dataframe thead th {\n",
       "        text-align: right;\n",
       "    }\n",
       "</style>\n",
       "<table border=\"1\" class=\"dataframe\">\n",
       "  <thead>\n",
       "    <tr style=\"text-align: right;\">\n",
       "      <th></th>\n",
       "      <th>date</th>\n",
       "      <th>temp_min</th>\n",
       "      <th>temp_mean</th>\n",
       "      <th>temp_max</th>\n",
       "      <th>total_rain_min</th>\n",
       "      <th>total_rain_mean</th>\n",
       "      <th>total_rain_max</th>\n",
       "      <th>wind_speed_min</th>\n",
       "      <th>wind_speed_mean</th>\n",
       "      <th>wind_speed_max</th>\n",
       "      <th>daily_crime_count</th>\n",
       "    </tr>\n",
       "  </thead>\n",
       "  <tbody>\n",
       "    <tr>\n",
       "      <td>0</td>\n",
       "      <td>2015-04-25</td>\n",
       "      <td>7.00</td>\n",
       "      <td>7.000000</td>\n",
       "      <td>7.00</td>\n",
       "      <td>5.2</td>\n",
       "      <td>5.200000</td>\n",
       "      <td>5.2</td>\n",
       "      <td>7.1</td>\n",
       "      <td>7.100000</td>\n",
       "      <td>7.1</td>\n",
       "      <td>695</td>\n",
       "    </tr>\n",
       "    <tr>\n",
       "      <td>1</td>\n",
       "      <td>2015-04-30</td>\n",
       "      <td>6.10</td>\n",
       "      <td>6.100000</td>\n",
       "      <td>6.10</td>\n",
       "      <td>2.5</td>\n",
       "      <td>2.500000</td>\n",
       "      <td>2.5</td>\n",
       "      <td>13.0</td>\n",
       "      <td>13.000000</td>\n",
       "      <td>13.0</td>\n",
       "      <td>665</td>\n",
       "    </tr>\n",
       "    <tr>\n",
       "      <td>2</td>\n",
       "      <td>2015-05-22</td>\n",
       "      <td>9.17</td>\n",
       "      <td>9.695000</td>\n",
       "      <td>10.38</td>\n",
       "      <td>1.4</td>\n",
       "      <td>1.400000</td>\n",
       "      <td>1.4</td>\n",
       "      <td>1.7</td>\n",
       "      <td>2.775000</td>\n",
       "      <td>4.5</td>\n",
       "      <td>824</td>\n",
       "    </tr>\n",
       "    <tr>\n",
       "      <td>3</td>\n",
       "      <td>2015-05-23</td>\n",
       "      <td>13.89</td>\n",
       "      <td>15.784000</td>\n",
       "      <td>17.17</td>\n",
       "      <td>1.4</td>\n",
       "      <td>1.400000</td>\n",
       "      <td>1.4</td>\n",
       "      <td>0.9</td>\n",
       "      <td>2.792593</td>\n",
       "      <td>4.9</td>\n",
       "      <td>798</td>\n",
       "    </tr>\n",
       "    <tr>\n",
       "      <td>4</td>\n",
       "      <td>2015-05-24</td>\n",
       "      <td>12.99</td>\n",
       "      <td>16.507368</td>\n",
       "      <td>24.01</td>\n",
       "      <td>1.4</td>\n",
       "      <td>4.795455</td>\n",
       "      <td>11.1</td>\n",
       "      <td>0.7</td>\n",
       "      <td>2.065854</td>\n",
       "      <td>4.5</td>\n",
       "      <td>687</td>\n",
       "    </tr>\n",
       "  </tbody>\n",
       "</table>\n",
       "</div>"
      ],
      "text/plain": [
       "        date  temp_min  temp_mean  temp_max  total_rain_min  total_rain_mean  \\\n",
       "0 2015-04-25      7.00   7.000000      7.00             5.2         5.200000   \n",
       "1 2015-04-30      6.10   6.100000      6.10             2.5         2.500000   \n",
       "2 2015-05-22      9.17   9.695000     10.38             1.4         1.400000   \n",
       "3 2015-05-23     13.89  15.784000     17.17             1.4         1.400000   \n",
       "4 2015-05-24     12.99  16.507368     24.01             1.4         4.795455   \n",
       "\n",
       "   total_rain_max  wind_speed_min  wind_speed_mean  wind_speed_max  \\\n",
       "0             5.2             7.1         7.100000             7.1   \n",
       "1             2.5            13.0        13.000000            13.0   \n",
       "2             1.4             1.7         2.775000             4.5   \n",
       "3             1.4             0.9         2.792593             4.9   \n",
       "4            11.1             0.7         2.065854             4.5   \n",
       "\n",
       "   daily_crime_count  \n",
       "0                695  \n",
       "1                665  \n",
       "2                824  \n",
       "3                798  \n",
       "4                687  "
      ]
     },
     "execution_count": 17,
     "metadata": {},
     "output_type": "execute_result"
    }
   ],
   "source": [
    "# inner join crime and weather data\n",
    "weather_crime = daily_weather.merge(daily_crime, on='date')\n",
    "weather_crime.head()"
   ]
  },
  {
   "cell_type": "code",
   "execution_count": 18,
   "metadata": {},
   "outputs": [
    {
     "data": {
      "text/plain": [
       "1554"
      ]
     },
     "execution_count": 18,
     "metadata": {},
     "output_type": "execute_result"
    }
   ],
   "source": [
    "len(weather_crime)"
   ]
  },
  {
   "cell_type": "code",
   "execution_count": 19,
   "metadata": {},
   "outputs": [
    {
     "data": {
      "text/plain": [
       "date                 0\n",
       "temp_min             0\n",
       "temp_mean            0\n",
       "temp_max             0\n",
       "total_rain_min       0\n",
       "total_rain_mean      0\n",
       "total_rain_max       0\n",
       "wind_speed_min       0\n",
       "wind_speed_mean      0\n",
       "wind_speed_max       0\n",
       "daily_crime_count    0\n",
       "dtype: int64"
      ]
     },
     "execution_count": 19,
     "metadata": {},
     "output_type": "execute_result"
    }
   ],
   "source": [
    "weather_crime.isnull().sum()"
   ]
  },
  {
   "cell_type": "markdown",
   "metadata": {},
   "source": [
    "# Save Data"
   ]
  },
  {
   "cell_type": "code",
   "execution_count": 20,
   "metadata": {},
   "outputs": [],
   "source": [
    "weather_crime.to_csv(\"weather_crime.csv\", index=False)"
   ]
  },
  {
   "cell_type": "code",
   "execution_count": null,
   "metadata": {},
   "outputs": [],
   "source": []
  }
 ],
 "metadata": {
  "kernelspec": {
   "display_name": "Python 3",
   "language": "python",
   "name": "python3"
  },
  "language_info": {
   "codemirror_mode": {
    "name": "ipython",
    "version": 3
   },
   "file_extension": ".py",
   "mimetype": "text/x-python",
   "name": "python",
   "nbconvert_exporter": "python",
   "pygments_lexer": "ipython3",
   "version": "3.7.1"
  }
 },
 "nbformat": 4,
 "nbformat_minor": 4
}
