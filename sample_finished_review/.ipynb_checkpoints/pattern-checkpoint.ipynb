{
 "cells": [
  {
   "cell_type": "markdown",
   "metadata": {},
   "source": [
    "## Import"
   ]
  },
  {
   "cell_type": "code",
   "execution_count": 1,
   "metadata": {},
   "outputs": [],
   "source": [
    "import pandas as pd\n",
    "import glob"
   ]
  },
  {
   "cell_type": "code",
   "execution_count": 2,
   "metadata": {},
   "outputs": [],
   "source": [
    "sample1 = pd.read_csv(\"uc_one_sample_1_reviewed.csv\", encoding = \"utf-8-sig\", engine='python')\n",
    "sample2 = pd.read_csv(\"uc_one_sample_2_reviewed.csv\", encoding = \"utf-8-sig\", engine='python')\n",
    "sample3 = pd.read_csv(\"uc_one_sample_3_reviewed.csv\", encoding = \"utf-8-sig\", engine='python')\n",
    "sample4 = pd.read_csv(\"uc_one_sample_4_reviewed.csv\", encoding = \"utf-8-sig\", engine='python')\n",
    "sample5 = pd.read_csv(\"uc_one_sample_5_reviewed.csv\", encoding = \"utf-8-sig\", engine='python')"
   ]
  },
  {
   "cell_type": "markdown",
   "metadata": {},
   "source": [
    "## Merge all samples"
   ]
  },
  {
   "cell_type": "code",
   "execution_count": 3,
   "metadata": {},
   "outputs": [],
   "source": [
    "whole_sample = sample1.append([sample2,sample3,sample4,sample5], ignore_index=True,sort=True)"
   ]
  },
  {
   "cell_type": "code",
   "execution_count": 4,
   "metadata": {},
   "outputs": [
    {
     "data": {
      "text/plain": [
       "True"
      ]
     },
     "execution_count": 4,
     "metadata": {},
     "output_type": "execute_result"
    }
   ],
   "source": [
    "#check if the merge is correct\n",
    "whole_sample.shape[0] == len(sample1)+len(sample2)+len(sample3)+len(sample4)+len(sample5)"
   ]
  },
  {
   "cell_type": "code",
   "execution_count": 5,
   "metadata": {},
   "outputs": [
    {
     "data": {
      "text/plain": [
       "Index(['402', 'False Positive Phrase', 'Spam', 'Unnamed: 6', 'article_content',\n",
       "       'article_title', 'entity_hits', 'entity_name', 'story_id',\n",
       "       'story_source'],\n",
       "      dtype='object')"
      ]
     },
     "execution_count": 5,
     "metadata": {},
     "output_type": "execute_result"
    }
   ],
   "source": [
    "whole_sample.columns"
   ]
  },
  {
   "cell_type": "code",
   "execution_count": 6,
   "metadata": {},
   "outputs": [],
   "source": [
    "whole_sample.rename(columns = {\"Spam\": \"spam\",\n",
    "                              \"False Positive Phrase\": \"false_positive_phrase\"}, inplace=True)"
   ]
  },
  {
   "cell_type": "code",
   "execution_count": 7,
   "metadata": {},
   "outputs": [],
   "source": [
    "whole_sample = whole_sample[['article_content', 'article_title', 'entity_hits', \n",
    "                             'entity_name', 'story_id', 'story_source', 'spam', \n",
    "                             \"false_positive_phrase\"]]"
   ]
  },
  {
   "cell_type": "code",
   "execution_count": 8,
   "metadata": {},
   "outputs": [
    {
     "data": {
      "text/plain": [
       "131"
      ]
     },
     "execution_count": 8,
     "metadata": {},
     "output_type": "execute_result"
    }
   ],
   "source": [
    "# Count the number of n/a values\n",
    "whole_sample['spam'].isnull().sum()"
   ]
  },
  {
   "cell_type": "code",
   "execution_count": 9,
   "metadata": {},
   "outputs": [],
   "source": [
    "# Drop the n/a\n",
    "whole_sample = whole_sample.dropna(subset=['spam', \"false_positive_phrase\"], how='all').sort_values(['entity_hits', 'spam']).reset_index(drop=True)"
   ]
  },
  {
   "cell_type": "code",
   "execution_count": 10,
   "metadata": {},
   "outputs": [],
   "source": [
    "# Drop the invalid \n",
    "whole_sample.drop([0,1], axis=0, inplace=True)"
   ]
  },
  {
   "cell_type": "code",
   "execution_count": 11,
   "metadata": {},
   "outputs": [
    {
     "data": {
      "text/html": [
       "<div>\n",
       "<style scoped>\n",
       "    .dataframe tbody tr th:only-of-type {\n",
       "        vertical-align: middle;\n",
       "    }\n",
       "\n",
       "    .dataframe tbody tr th {\n",
       "        vertical-align: top;\n",
       "    }\n",
       "\n",
       "    .dataframe thead th {\n",
       "        text-align: right;\n",
       "    }\n",
       "</style>\n",
       "<table border=\"1\" class=\"dataframe\">\n",
       "  <thead>\n",
       "    <tr style=\"text-align: right;\">\n",
       "      <th></th>\n",
       "      <th>article_content</th>\n",
       "      <th>article_title</th>\n",
       "      <th>entity_hits</th>\n",
       "      <th>entity_name</th>\n",
       "      <th>story_id</th>\n",
       "      <th>story_source</th>\n",
       "      <th>spam</th>\n",
       "      <th>false_positive_phrase</th>\n",
       "    </tr>\n",
       "  </thead>\n",
       "  <tbody>\n",
       "    <tr>\n",
       "      <th>0</th>\n",
       "      <td>这边发债圈钱,那边出手抢地,上市房企正掀起前所未有的超大规模发债热潮。羊城晚报记者粗略统计,...</td>\n",
       "      <td>9月以来房企发债超千亿 四季度或成拿地窗口期</td>\n",
       "      <td>[\"万科\"]</td>\n",
       "      <td>CHINA VANKE CO LTD H</td>\n",
       "      <td>ObjectId(5cfe8d40c50f3e0ecce7e18c)</td>\n",
       "      <td>sina.com.cn</td>\n",
       "      <td>0</td>\n",
       "      <td>0</td>\n",
       "    </tr>\n",
       "    <tr>\n",
       "      <th>1</th>\n",
       "      <td>中国楼市最疯狂的人都已经变得小心翼翼！ 2016年05月18日 11:21 来源： 编辑： ...</td>\n",
       "      <td>ä¸­å½æ¥¼å¸æ ç-¯ççäººé½å·²ç» å å¾--å° ...</td>\n",
       "      <td>[\"万科\"]</td>\n",
       "      <td>CHINA VANKE CO LTD H</td>\n",
       "      <td>ObjectId(5d011a4567cd6e1df72b14a3)</td>\n",
       "      <td>eastmoney.com</td>\n",
       "      <td>0</td>\n",
       "      <td>0</td>\n",
       "    </tr>\n",
       "    <tr>\n",
       "      <th>2</th>\n",
       "      <td>首页 &gt; 财经频道 &gt; 正文 知名私募把脉2019：多重博弈下的预期再平衡 2019年01月...</td>\n",
       "      <td>知名私募把脉2019：多重博弈下的预期再平衡</td>\n",
       "      <td>[\"万科\"]</td>\n",
       "      <td>CHINA VANKE CO LTD H</td>\n",
       "      <td>ObjectId(5d05b42f43431100ef8bcff7)</td>\n",
       "      <td>eastmoney.com</td>\n",
       "      <td>0</td>\n",
       "      <td>0</td>\n",
       "    </tr>\n",
       "    <tr>\n",
       "      <th>3</th>\n",
       "      <td>千亿活水或驰援A股 蓝筹基金迎布局良机 2016年05月31日 07:32 来源： 采编： ...</td>\n",
       "      <td>千亿活水或驰援A股 蓝筹迎布局良机</td>\n",
       "      <td>[\"万科\"]</td>\n",
       "      <td>CHINA VANKE CO LTD H</td>\n",
       "      <td>ObjectId(5d011a0c67cd6e1d892b0a58)</td>\n",
       "      <td>eastmoney.com</td>\n",
       "      <td>0</td>\n",
       "      <td>NaN</td>\n",
       "    </tr>\n",
       "    <tr>\n",
       "      <th>4</th>\n",
       "      <td>东方财富网APP 方便，快捷 手机查看财经快讯 专业，丰富 一手掌握市场脉搏 手机上阅读文章...</td>\n",
       "      <td>三利好或催生行情大变局</td>\n",
       "      <td>[\"万科\"]</td>\n",
       "      <td>CHINA VANKE CO LTD H</td>\n",
       "      <td>ObjectId(5d010ba867cd6e0a702b2df1)</td>\n",
       "      <td>eastmoney.com</td>\n",
       "      <td>0</td>\n",
       "      <td>NaN</td>\n",
       "    </tr>\n",
       "  </tbody>\n",
       "</table>\n",
       "</div>"
      ],
      "text/plain": [
       "                                     article_content  \\\n",
       "0  这边发债圈钱,那边出手抢地,上市房企正掀起前所未有的超大规模发债热潮。羊城晚报记者粗略统计,...   \n",
       "1  中国楼市最疯狂的人都已经变得小心翼翼！ 2016年05月18日 11:21 来源： 编辑： ...   \n",
       "2  首页 > 财经频道 > 正文 知名私募把脉2019：多重博弈下的预期再平衡 2019年01月...   \n",
       "3  千亿活水或驰援A股 蓝筹基金迎布局良机 2016年05月31日 07:32 来源： 采编： ...   \n",
       "4  东方财富网APP 方便，快捷 手机查看财经快讯 专业，丰富 一手掌握市场脉搏 手机上阅读文章...   \n",
       "\n",
       "                                       article_title entity_hits  \\\n",
       "0                             9月以来房企发债超千亿 四季度或成拿地窗口期      [\"万科\"]   \n",
       "1  ä¸­å½æ¥¼å¸æ ç-¯ççäººé½å·²ç» å å¾--å° ...      [\"万科\"]   \n",
       "2                             知名私募把脉2019：多重博弈下的预期再平衡      [\"万科\"]   \n",
       "3                                  千亿活水或驰援A股 蓝筹迎布局良机      [\"万科\"]   \n",
       "4                                        三利好或催生行情大变局      [\"万科\"]   \n",
       "\n",
       "            entity_name                            story_id   story_source  \\\n",
       "0  CHINA VANKE CO LTD H  ObjectId(5cfe8d40c50f3e0ecce7e18c)    sina.com.cn   \n",
       "1  CHINA VANKE CO LTD H  ObjectId(5d011a4567cd6e1df72b14a3)  eastmoney.com   \n",
       "2  CHINA VANKE CO LTD H  ObjectId(5d05b42f43431100ef8bcff7)  eastmoney.com   \n",
       "3  CHINA VANKE CO LTD H  ObjectId(5d011a0c67cd6e1d892b0a58)  eastmoney.com   \n",
       "4  CHINA VANKE CO LTD H  ObjectId(5d010ba867cd6e0a702b2df1)  eastmoney.com   \n",
       "\n",
       "  spam false_positive_phrase  \n",
       "0    0                     0  \n",
       "1    0                     0  \n",
       "2    0                     0  \n",
       "3    0                   NaN  \n",
       "4    0                   NaN  "
      ]
     },
     "execution_count": 11,
     "metadata": {},
     "output_type": "execute_result"
    }
   ],
   "source": [
    "whole_sample.reset_index(drop=True).head()"
   ]
  },
  {
   "cell_type": "code",
   "execution_count": 12,
   "metadata": {},
   "outputs": [],
   "source": [
    "# Unique the data type of \"Spam\"\n",
    "whole_sample[\"spam\"] = whole_sample.spam.astype(int)"
   ]
  },
  {
   "cell_type": "markdown",
   "metadata": {},
   "source": [
    "## Do some statistics analysis of the result\n",
    "### Change the Spam == 2 to Spam == 1"
   ]
  },
  {
   "cell_type": "code",
   "execution_count": 13,
   "metadata": {},
   "outputs": [],
   "source": [
    "sta_sample = whole_sample.copy()"
   ]
  },
  {
   "cell_type": "code",
   "execution_count": 14,
   "metadata": {},
   "outputs": [],
   "source": [
    "idx = sta_sample[sta_sample.spam ==2].index\n",
    "sta_sample.loc[idx,\"spam\"] = 1"
   ]
  },
  {
   "cell_type": "markdown",
   "metadata": {},
   "source": [
    "### Calculate the false percentage based on each different \"entity_hits\""
   ]
  },
  {
   "cell_type": "code",
   "execution_count": 15,
   "metadata": {},
   "outputs": [
    {
     "data": {
      "text/html": [
       "<div>\n",
       "<style scoped>\n",
       "    .dataframe tbody tr th:only-of-type {\n",
       "        vertical-align: middle;\n",
       "    }\n",
       "\n",
       "    .dataframe tbody tr th {\n",
       "        vertical-align: top;\n",
       "    }\n",
       "\n",
       "    .dataframe thead th {\n",
       "        text-align: right;\n",
       "    }\n",
       "</style>\n",
       "<table border=\"1\" class=\"dataframe\">\n",
       "  <thead>\n",
       "    <tr style=\"text-align: right;\">\n",
       "      <th></th>\n",
       "      <th>entity_hits</th>\n",
       "      <th>count</th>\n",
       "      <th>sum</th>\n",
       "      <th>percentage</th>\n",
       "    </tr>\n",
       "  </thead>\n",
       "  <tbody>\n",
       "    <tr>\n",
       "      <th>84</th>\n",
       "      <td>[\"融創\"]</td>\n",
       "      <td>2</td>\n",
       "      <td>2</td>\n",
       "      <td>1.000000</td>\n",
       "    </tr>\n",
       "    <tr>\n",
       "      <th>26</th>\n",
       "      <td>[\"力高\"]</td>\n",
       "      <td>129</td>\n",
       "      <td>127</td>\n",
       "      <td>0.984496</td>\n",
       "    </tr>\n",
       "    <tr>\n",
       "      <th>55</th>\n",
       "      <td>[\"时代中国\"]</td>\n",
       "      <td>162</td>\n",
       "      <td>155</td>\n",
       "      <td>0.956790</td>\n",
       "    </tr>\n",
       "    <tr>\n",
       "      <th>77</th>\n",
       "      <td>[\"花樣年\"]</td>\n",
       "      <td>7</td>\n",
       "      <td>6</td>\n",
       "      <td>0.857143</td>\n",
       "    </tr>\n",
       "    <tr>\n",
       "      <th>82</th>\n",
       "      <td>[\"融创\"]</td>\n",
       "      <td>479</td>\n",
       "      <td>352</td>\n",
       "      <td>0.734864</td>\n",
       "    </tr>\n",
       "    <tr>\n",
       "      <th>85</th>\n",
       "      <td>[\"越秀\"]</td>\n",
       "      <td>88</td>\n",
       "      <td>62</td>\n",
       "      <td>0.704545</td>\n",
       "    </tr>\n",
       "    <tr>\n",
       "      <th>28</th>\n",
       "      <td>[\"北京建设\"]</td>\n",
       "      <td>10</td>\n",
       "      <td>7</td>\n",
       "      <td>0.700000</td>\n",
       "    </tr>\n",
       "    <tr>\n",
       "      <th>13</th>\n",
       "      <td>[\"仁恒置地\"]</td>\n",
       "      <td>3</td>\n",
       "      <td>2</td>\n",
       "      <td>0.666667</td>\n",
       "    </tr>\n",
       "    <tr>\n",
       "      <th>86</th>\n",
       "      <td>[\"路劲\"]</td>\n",
       "      <td>5</td>\n",
       "      <td>3</td>\n",
       "      <td>0.600000</td>\n",
       "    </tr>\n",
       "    <tr>\n",
       "      <th>56</th>\n",
       "      <td>[\"時代中國\"]</td>\n",
       "      <td>5</td>\n",
       "      <td>3</td>\n",
       "      <td>0.600000</td>\n",
       "    </tr>\n",
       "  </tbody>\n",
       "</table>\n",
       "</div>"
      ],
      "text/plain": [
       "   entity_hits  count  sum  percentage\n",
       "84      [\"融創\"]      2    2    1.000000\n",
       "26      [\"力高\"]    129  127    0.984496\n",
       "55    [\"时代中国\"]    162  155    0.956790\n",
       "77     [\"花樣年\"]      7    6    0.857143\n",
       "82      [\"融创\"]    479  352    0.734864\n",
       "85      [\"越秀\"]     88   62    0.704545\n",
       "28    [\"北京建设\"]     10    7    0.700000\n",
       "13    [\"仁恒置地\"]      3    2    0.666667\n",
       "86      [\"路劲\"]      5    3    0.600000\n",
       "56    [\"時代中國\"]      5    3    0.600000"
      ]
     },
     "execution_count": 15,
     "metadata": {},
     "output_type": "execute_result"
    }
   ],
   "source": [
    "per_sample = pd.pivot_table(sta_sample, values='spam', index=\"entity_hits\",aggfunc={'spam':[\"count\", sum]}).reset_index()\n",
    "per_sample[\"percentage\"] = per_sample[\"sum\"]/per_sample[\"count\"]\n",
    "per_sample.sort_values(by = \"percentage\", ascending = False).head(10)"
   ]
  },
  {
   "cell_type": "markdown",
   "metadata": {},
   "source": [
    "### The false percentage based on different \"entity_hits\""
   ]
  },
  {
   "cell_type": "code",
   "execution_count": 16,
   "metadata": {},
   "outputs": [],
   "source": [
    "per_sample['entity_hits'] = per_sample['entity_hits'].str.replace('\\[','').str.replace('\\]','').str.replace('\\\"','')\n",
    "per_sample['entity_hits'] = per_sample['entity_hits'].str.replace('',' ').str.split()"
   ]
  },
  {
   "cell_type": "code",
   "execution_count": 17,
   "metadata": {},
   "outputs": [],
   "source": [
    "#count the values of the the entity_hits\n",
    "per_sample['num'] = per_sample['entity_hits'].apply(lambda x: len(x))"
   ]
  },
  {
   "cell_type": "markdown",
   "metadata": {},
   "source": [
    "### The result of different nums of the \"entity_hits\""
   ]
  },
  {
   "cell_type": "code",
   "execution_count": 18,
   "metadata": {},
   "outputs": [
    {
     "data": {
      "text/html": [
       "<div>\n",
       "<style scoped>\n",
       "    .dataframe tbody tr th:only-of-type {\n",
       "        vertical-align: middle;\n",
       "    }\n",
       "\n",
       "    .dataframe tbody tr th {\n",
       "        vertical-align: top;\n",
       "    }\n",
       "\n",
       "    .dataframe thead th {\n",
       "        text-align: right;\n",
       "    }\n",
       "</style>\n",
       "<table border=\"1\" class=\"dataframe\">\n",
       "  <thead>\n",
       "    <tr style=\"text-align: right;\">\n",
       "      <th></th>\n",
       "      <th>entity_hits</th>\n",
       "      <th>count</th>\n",
       "      <th>sum</th>\n",
       "      <th>percentage</th>\n",
       "      <th>num</th>\n",
       "    </tr>\n",
       "  </thead>\n",
       "  <tbody>\n",
       "    <tr>\n",
       "      <th>84</th>\n",
       "      <td>[融, 創]</td>\n",
       "      <td>2</td>\n",
       "      <td>2</td>\n",
       "      <td>1.000000</td>\n",
       "      <td>2</td>\n",
       "    </tr>\n",
       "    <tr>\n",
       "      <th>26</th>\n",
       "      <td>[力, 高]</td>\n",
       "      <td>129</td>\n",
       "      <td>127</td>\n",
       "      <td>0.984496</td>\n",
       "      <td>2</td>\n",
       "    </tr>\n",
       "    <tr>\n",
       "      <th>82</th>\n",
       "      <td>[融, 创]</td>\n",
       "      <td>479</td>\n",
       "      <td>352</td>\n",
       "      <td>0.734864</td>\n",
       "      <td>2</td>\n",
       "    </tr>\n",
       "    <tr>\n",
       "      <th>85</th>\n",
       "      <td>[越, 秀]</td>\n",
       "      <td>88</td>\n",
       "      <td>62</td>\n",
       "      <td>0.704545</td>\n",
       "      <td>2</td>\n",
       "    </tr>\n",
       "    <tr>\n",
       "      <th>86</th>\n",
       "      <td>[路, 劲]</td>\n",
       "      <td>5</td>\n",
       "      <td>3</td>\n",
       "      <td>0.600000</td>\n",
       "      <td>2</td>\n",
       "    </tr>\n",
       "    <tr>\n",
       "      <th>58</th>\n",
       "      <td>[朗, 诗]</td>\n",
       "      <td>5</td>\n",
       "      <td>1</td>\n",
       "      <td>0.200000</td>\n",
       "      <td>2</td>\n",
       "    </tr>\n",
       "    <tr>\n",
       "      <th>62</th>\n",
       "      <td>[泰, 禾]</td>\n",
       "      <td>41</td>\n",
       "      <td>3</td>\n",
       "      <td>0.073171</td>\n",
       "      <td>2</td>\n",
       "    </tr>\n",
       "    <tr>\n",
       "      <th>0</th>\n",
       "      <td>[万, 科]</td>\n",
       "      <td>864</td>\n",
       "      <td>12</td>\n",
       "      <td>0.013889</td>\n",
       "      <td>2</td>\n",
       "    </tr>\n",
       "  </tbody>\n",
       "</table>\n",
       "</div>"
      ],
      "text/plain": [
       "   entity_hits  count  sum  percentage  num\n",
       "84      [融, 創]      2    2    1.000000    2\n",
       "26      [力, 高]    129  127    0.984496    2\n",
       "82      [融, 创]    479  352    0.734864    2\n",
       "85      [越, 秀]     88   62    0.704545    2\n",
       "86      [路, 劲]      5    3    0.600000    2\n",
       "58      [朗, 诗]      5    1    0.200000    2\n",
       "62      [泰, 禾]     41    3    0.073171    2\n",
       "0       [万, 科]    864   12    0.013889    2"
      ]
     },
     "execution_count": 18,
     "metadata": {},
     "output_type": "execute_result"
    }
   ],
   "source": [
    "per_sample[per_sample.num == 2].sort_values('percentage', ascending= False)"
   ]
  },
  {
   "cell_type": "code",
   "execution_count": 19,
   "metadata": {},
   "outputs": [
    {
     "data": {
      "text/plain": [
       "max        1.000000\n",
       "mean       0.538871\n",
       "min        0.013889\n",
       "average    0.538871\n",
       "Name: percentage, dtype: float64"
      ]
     },
     "execution_count": 19,
     "metadata": {},
     "output_type": "execute_result"
    }
   ],
   "source": [
    "per_sample[per_sample.num == 2].percentage.agg(['max','mean','min','average'])"
   ]
  },
  {
   "cell_type": "code",
   "execution_count": 20,
   "metadata": {},
   "outputs": [
    {
     "data": {
      "text/html": [
       "<div>\n",
       "<style scoped>\n",
       "    .dataframe tbody tr th:only-of-type {\n",
       "        vertical-align: middle;\n",
       "    }\n",
       "\n",
       "    .dataframe tbody tr th {\n",
       "        vertical-align: top;\n",
       "    }\n",
       "\n",
       "    .dataframe thead th {\n",
       "        text-align: right;\n",
       "    }\n",
       "</style>\n",
       "<table border=\"1\" class=\"dataframe\">\n",
       "  <thead>\n",
       "    <tr style=\"text-align: right;\">\n",
       "      <th></th>\n",
       "      <th>entity_hits</th>\n",
       "      <th>count</th>\n",
       "      <th>sum</th>\n",
       "      <th>percentage</th>\n",
       "      <th>num</th>\n",
       "    </tr>\n",
       "  </thead>\n",
       "  <tbody>\n",
       "    <tr>\n",
       "      <th>77</th>\n",
       "      <td>[花, 樣, 年]</td>\n",
       "      <td>7</td>\n",
       "      <td>6</td>\n",
       "      <td>0.857143</td>\n",
       "      <td>3</td>\n",
       "    </tr>\n",
       "    <tr>\n",
       "      <th>30</th>\n",
       "      <td>[华, 南, 城]</td>\n",
       "      <td>13</td>\n",
       "      <td>7</td>\n",
       "      <td>0.538462</td>\n",
       "      <td>3</td>\n",
       "    </tr>\n",
       "    <tr>\n",
       "      <th>75</th>\n",
       "      <td>[花, 样, 年]</td>\n",
       "      <td>28</td>\n",
       "      <td>13</td>\n",
       "      <td>0.464286</td>\n",
       "      <td>3</td>\n",
       "    </tr>\n",
       "    <tr>\n",
       "      <th>68</th>\n",
       "      <td>[碧, 桂, 園]</td>\n",
       "      <td>6</td>\n",
       "      <td>1</td>\n",
       "      <td>0.166667</td>\n",
       "      <td>3</td>\n",
       "    </tr>\n",
       "    <tr>\n",
       "      <th>14</th>\n",
       "      <td>[佳, 兆, 业]</td>\n",
       "      <td>52</td>\n",
       "      <td>2</td>\n",
       "      <td>0.038462</td>\n",
       "      <td>3</td>\n",
       "    </tr>\n",
       "    <tr>\n",
       "      <th>91</th>\n",
       "      <td>[阳, 光, 城]</td>\n",
       "      <td>75</td>\n",
       "      <td>2</td>\n",
       "      <td>0.026667</td>\n",
       "      <td>3</td>\n",
       "    </tr>\n",
       "    <tr>\n",
       "      <th>66</th>\n",
       "      <td>[碧, 桂, 园]</td>\n",
       "      <td>231</td>\n",
       "      <td>1</td>\n",
       "      <td>0.004329</td>\n",
       "      <td>3</td>\n",
       "    </tr>\n",
       "    <tr>\n",
       "      <th>16</th>\n",
       "      <td>[佳, 兆, 業]</td>\n",
       "      <td>2</td>\n",
       "      <td>0</td>\n",
       "      <td>0.000000</td>\n",
       "      <td>3</td>\n",
       "    </tr>\n",
       "  </tbody>\n",
       "</table>\n",
       "</div>"
      ],
      "text/plain": [
       "   entity_hits  count  sum  percentage  num\n",
       "77   [花, 樣, 年]      7    6    0.857143    3\n",
       "30   [华, 南, 城]     13    7    0.538462    3\n",
       "75   [花, 样, 年]     28   13    0.464286    3\n",
       "68   [碧, 桂, 園]      6    1    0.166667    3\n",
       "14   [佳, 兆, 业]     52    2    0.038462    3\n",
       "91   [阳, 光, 城]     75    2    0.026667    3\n",
       "66   [碧, 桂, 园]    231    1    0.004329    3\n",
       "16   [佳, 兆, 業]      2    0    0.000000    3"
      ]
     },
     "execution_count": 20,
     "metadata": {},
     "output_type": "execute_result"
    }
   ],
   "source": [
    "per_sample[per_sample.num == 3].sort_values('percentage', ascending= False)"
   ]
  },
  {
   "cell_type": "code",
   "execution_count": 21,
   "metadata": {},
   "outputs": [
    {
     "data": {
      "text/plain": [
       "max        0.857143\n",
       "mean       0.262002\n",
       "min        0.000000\n",
       "average    0.262002\n",
       "Name: percentage, dtype: float64"
      ]
     },
     "execution_count": 21,
     "metadata": {},
     "output_type": "execute_result"
    }
   ],
   "source": [
    "per_sample[per_sample.num == 3].percentage.agg(['max','mean','min','average'])"
   ]
  },
  {
   "cell_type": "code",
   "execution_count": 22,
   "metadata": {},
   "outputs": [
    {
     "data": {
      "text/html": [
       "<div>\n",
       "<style scoped>\n",
       "    .dataframe tbody tr th:only-of-type {\n",
       "        vertical-align: middle;\n",
       "    }\n",
       "\n",
       "    .dataframe tbody tr th {\n",
       "        vertical-align: top;\n",
       "    }\n",
       "\n",
       "    .dataframe thead th {\n",
       "        text-align: right;\n",
       "    }\n",
       "</style>\n",
       "<table border=\"1\" class=\"dataframe\">\n",
       "  <thead>\n",
       "    <tr style=\"text-align: right;\">\n",
       "      <th></th>\n",
       "      <th>entity_hits</th>\n",
       "      <th>count</th>\n",
       "      <th>sum</th>\n",
       "      <th>percentage</th>\n",
       "      <th>num</th>\n",
       "    </tr>\n",
       "  </thead>\n",
       "  <tbody>\n",
       "    <tr>\n",
       "      <th>55</th>\n",
       "      <td>[时, 代, 中, 国]</td>\n",
       "      <td>162</td>\n",
       "      <td>155</td>\n",
       "      <td>0.956790</td>\n",
       "      <td>4</td>\n",
       "    </tr>\n",
       "    <tr>\n",
       "      <th>28</th>\n",
       "      <td>[北, 京, 建, 设]</td>\n",
       "      <td>10</td>\n",
       "      <td>7</td>\n",
       "      <td>0.700000</td>\n",
       "      <td>4</td>\n",
       "    </tr>\n",
       "    <tr>\n",
       "      <th>13</th>\n",
       "      <td>[仁, 恒, 置, 地]</td>\n",
       "      <td>3</td>\n",
       "      <td>2</td>\n",
       "      <td>0.666667</td>\n",
       "      <td>4</td>\n",
       "    </tr>\n",
       "    <tr>\n",
       "      <th>56</th>\n",
       "      <td>[時, 代, 中, 國]</td>\n",
       "      <td>5</td>\n",
       "      <td>3</td>\n",
       "      <td>0.600000</td>\n",
       "      <td>4</td>\n",
       "    </tr>\n",
       "    <tr>\n",
       "      <th>50</th>\n",
       "      <td>[新, 城, 发, 展]</td>\n",
       "      <td>12</td>\n",
       "      <td>3</td>\n",
       "      <td>0.250000</td>\n",
       "      <td>4</td>\n",
       "    </tr>\n",
       "  </tbody>\n",
       "</table>\n",
       "</div>"
      ],
      "text/plain": [
       "     entity_hits  count  sum  percentage  num\n",
       "55  [时, 代, 中, 国]    162  155    0.956790    4\n",
       "28  [北, 京, 建, 设]     10    7    0.700000    4\n",
       "13  [仁, 恒, 置, 地]      3    2    0.666667    4\n",
       "56  [時, 代, 中, 國]      5    3    0.600000    4\n",
       "50  [新, 城, 发, 展]     12    3    0.250000    4"
      ]
     },
     "execution_count": 22,
     "metadata": {},
     "output_type": "execute_result"
    }
   ],
   "source": [
    "per_sample[per_sample.num == 4].sort_values('percentage', ascending= False).head()"
   ]
  },
  {
   "cell_type": "code",
   "execution_count": 23,
   "metadata": {},
   "outputs": [
    {
     "data": {
      "text/plain": [
       "max        0.956790\n",
       "mean       0.059082\n",
       "min        0.000000\n",
       "average    0.059082\n",
       "Name: percentage, dtype: float64"
      ]
     },
     "execution_count": 23,
     "metadata": {},
     "output_type": "execute_result"
    }
   ],
   "source": [
    "per_sample[per_sample.num == 4].percentage.agg(['max','mean','min','average'])"
   ]
  },
  {
   "cell_type": "code",
   "execution_count": null,
   "metadata": {},
   "outputs": [],
   "source": []
  }
 ],
 "metadata": {
  "kernelspec": {
   "display_name": "Python 3",
   "language": "python",
   "name": "python3"
  },
  "language_info": {
   "codemirror_mode": {
    "name": "ipython",
    "version": 3
   },
   "file_extension": ".py",
   "mimetype": "text/x-python",
   "name": "python",
   "nbconvert_exporter": "python",
   "pygments_lexer": "ipython3",
   "version": "3.7.3"
  }
 },
 "nbformat": 4,
 "nbformat_minor": 2
}
