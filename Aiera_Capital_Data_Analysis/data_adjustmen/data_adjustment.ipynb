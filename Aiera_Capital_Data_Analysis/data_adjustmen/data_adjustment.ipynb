{
 "cells": [
  {
   "cell_type": "markdown",
   "metadata": {},
   "source": [
    "# Set Up"
   ]
  },
  {
   "cell_type": "markdown",
   "metadata": {},
   "source": [
    "## Import"
   ]
  },
  {
   "cell_type": "code",
   "execution_count": 1,
   "metadata": {},
   "outputs": [],
   "source": [
    "import pandas as pd  \n",
    "from datetime import timedelta  "
   ]
  },
  {
   "cell_type": "markdown",
   "metadata": {},
   "source": [
    "### Read in PE/PS Data"
   ]
  },
  {
   "cell_type": "code",
   "execution_count": 2,
   "metadata": {},
   "outputs": [],
   "source": [
    "pe_ps = pd.read_csv('forward_ps_pe.csv', parse_dates=['date'])"
   ]
  },
  {
   "cell_type": "markdown",
   "metadata": {},
   "source": [
    "### Read in SPX Data"
   ]
  },
  {
   "cell_type": "code",
   "execution_count": 3,
   "metadata": {},
   "outputs": [
    {
     "data": {
      "text/html": [
       "<div>\n",
       "<style scoped>\n",
       "    .dataframe tbody tr th:only-of-type {\n",
       "        vertical-align: middle;\n",
       "    }\n",
       "\n",
       "    .dataframe tbody tr th {\n",
       "        vertical-align: top;\n",
       "    }\n",
       "\n",
       "    .dataframe thead th {\n",
       "        text-align: right;\n",
       "    }\n",
       "</style>\n",
       "<table border=\"1\" class=\"dataframe\">\n",
       "  <thead>\n",
       "    <tr style=\"text-align: right;\">\n",
       "      <th></th>\n",
       "      <th>date</th>\n",
       "      <th>spx_price</th>\n",
       "      <th>spx_ps</th>\n",
       "      <th>spx_pe</th>\n",
       "    </tr>\n",
       "  </thead>\n",
       "  <tbody>\n",
       "    <tr>\n",
       "      <th>0</th>\n",
       "      <td>2019-08-02</td>\n",
       "      <td>2932.05</td>\n",
       "      <td>2.1136</td>\n",
       "      <td>17.6770</td>\n",
       "    </tr>\n",
       "    <tr>\n",
       "      <th>1</th>\n",
       "      <td>2019-08-01</td>\n",
       "      <td>2953.56</td>\n",
       "      <td>2.1285</td>\n",
       "      <td>17.8006</td>\n",
       "    </tr>\n",
       "    <tr>\n",
       "      <th>2</th>\n",
       "      <td>2019-07-31</td>\n",
       "      <td>2980.38</td>\n",
       "      <td>2.1470</td>\n",
       "      <td>17.9832</td>\n",
       "    </tr>\n",
       "    <tr>\n",
       "      <th>3</th>\n",
       "      <td>2019-07-30</td>\n",
       "      <td>3013.18</td>\n",
       "      <td>2.1710</td>\n",
       "      <td>18.1859</td>\n",
       "    </tr>\n",
       "    <tr>\n",
       "      <th>4</th>\n",
       "      <td>2019-07-29</td>\n",
       "      <td>3020.97</td>\n",
       "      <td>2.1742</td>\n",
       "      <td>18.2308</td>\n",
       "    </tr>\n",
       "  </tbody>\n",
       "</table>\n",
       "</div>"
      ],
      "text/plain": [
       "        date  spx_price  spx_ps   spx_pe\n",
       "0 2019-08-02    2932.05  2.1136  17.6770\n",
       "1 2019-08-01    2953.56  2.1285  17.8006\n",
       "2 2019-07-31    2980.38  2.1470  17.9832\n",
       "3 2019-07-30    3013.18  2.1710  18.1859\n",
       "4 2019-07-29    3020.97  2.1742  18.2308"
      ]
     },
     "execution_count": 3,
     "metadata": {},
     "output_type": "execute_result"
    }
   ],
   "source": [
    "spx = pd.read_csv('SPX Data.csv', parse_dates=['Date'])\n",
    "spx = spx[['Date', 'PX_LAST', 'BEST_PX_SALES_RATIO', 'BEST_PE_RATIO']]\n",
    "spx.rename(columns={'Date' : 'date', 'PX_LAST' : 'spx_price', \n",
    "                    'BEST_PX_SALES_RATIO' : 'spx_ps', 'BEST_PE_RATIO' : 'spx_pe'}, inplace=True)\n",
    "spx.head()"
   ]
  },
  {
   "cell_type": "code",
   "execution_count": 17,
   "metadata": {},
   "outputs": [],
   "source": [
    "# Check if there is any date_gap\n",
    "spx_test = spx.copy()\n",
    "spx_test = spx_test.sort_values('date').reset_index(drop=True)\n",
    "spx_test['next_date'] = spx_test['date'].shift(-1)\n",
    "spx_test['date_gap'] = spx_test.apply(lambda x:(x['next_date'] - x['date']).days, axis=1)"
   ]
  },
  {
   "cell_type": "code",
   "execution_count": 19,
   "metadata": {},
   "outputs": [
    {
     "data": {
      "text/html": [
       "<div>\n",
       "<style scoped>\n",
       "    .dataframe tbody tr th:only-of-type {\n",
       "        vertical-align: middle;\n",
       "    }\n",
       "\n",
       "    .dataframe tbody tr th {\n",
       "        vertical-align: top;\n",
       "    }\n",
       "\n",
       "    .dataframe thead th {\n",
       "        text-align: right;\n",
       "    }\n",
       "</style>\n",
       "<table border=\"1\" class=\"dataframe\">\n",
       "  <thead>\n",
       "    <tr style=\"text-align: right;\">\n",
       "      <th></th>\n",
       "      <th>date</th>\n",
       "      <th>spx_price</th>\n",
       "      <th>spx_ps</th>\n",
       "      <th>spx_pe</th>\n",
       "      <th>next_date</th>\n",
       "      <th>date_gap</th>\n",
       "    </tr>\n",
       "  </thead>\n",
       "  <tbody>\n",
       "    <tr>\n",
       "      <th>2140</th>\n",
       "      <td>2012-10-26</td>\n",
       "      <td>1411.94</td>\n",
       "      <td>1.2978</td>\n",
       "      <td>13.5479</td>\n",
       "      <td>2012-10-31</td>\n",
       "      <td>5.0</td>\n",
       "    </tr>\n",
       "    <tr>\n",
       "      <th>672</th>\n",
       "      <td>2006-12-29</td>\n",
       "      <td>1418.30</td>\n",
       "      <td>1.5539</td>\n",
       "      <td>16.3008</td>\n",
       "      <td>2007-01-03</td>\n",
       "      <td>5.0</td>\n",
       "    </tr>\n",
       "    <tr>\n",
       "      <th>20</th>\n",
       "      <td>2004-05-28</td>\n",
       "      <td>1120.68</td>\n",
       "      <td>1.5715</td>\n",
       "      <td>17.1858</td>\n",
       "      <td>2004-06-01</td>\n",
       "      <td>4.0</td>\n",
       "    </tr>\n",
       "    <tr>\n",
       "      <th>2465</th>\n",
       "      <td>2014-02-14</td>\n",
       "      <td>1838.63</td>\n",
       "      <td>1.5987</td>\n",
       "      <td>15.6149</td>\n",
       "      <td>2014-02-18</td>\n",
       "      <td>4.0</td>\n",
       "    </tr>\n",
       "    <tr>\n",
       "      <th>2812</th>\n",
       "      <td>2015-07-02</td>\n",
       "      <td>2076.78</td>\n",
       "      <td>1.8378</td>\n",
       "      <td>17.5411</td>\n",
       "      <td>2015-07-06</td>\n",
       "      <td>4.0</td>\n",
       "    </tr>\n",
       "    <tr>\n",
       "      <th>2784</th>\n",
       "      <td>2015-05-22</td>\n",
       "      <td>2126.06</td>\n",
       "      <td>1.8847</td>\n",
       "      <td>17.9873</td>\n",
       "      <td>2015-05-26</td>\n",
       "      <td>4.0</td>\n",
       "    </tr>\n",
       "    <tr>\n",
       "      <th>2749</th>\n",
       "      <td>2015-04-02</td>\n",
       "      <td>2066.96</td>\n",
       "      <td>1.8016</td>\n",
       "      <td>17.4884</td>\n",
       "      <td>2015-04-06</td>\n",
       "      <td>4.0</td>\n",
       "    </tr>\n",
       "    <tr>\n",
       "      <th>2716</th>\n",
       "      <td>2015-02-13</td>\n",
       "      <td>2096.99</td>\n",
       "      <td>1.8323</td>\n",
       "      <td>17.6526</td>\n",
       "      <td>2015-02-17</td>\n",
       "      <td>4.0</td>\n",
       "    </tr>\n",
       "    <tr>\n",
       "      <th>2697</th>\n",
       "      <td>2015-01-16</td>\n",
       "      <td>2019.42</td>\n",
       "      <td>1.7344</td>\n",
       "      <td>16.6241</td>\n",
       "      <td>2015-01-20</td>\n",
       "      <td>4.0</td>\n",
       "    </tr>\n",
       "    <tr>\n",
       "      <th>2601</th>\n",
       "      <td>2014-08-29</td>\n",
       "      <td>2003.37</td>\n",
       "      <td>1.7197</td>\n",
       "      <td>16.7694</td>\n",
       "      <td>2014-09-02</td>\n",
       "      <td>4.0</td>\n",
       "    </tr>\n",
       "  </tbody>\n",
       "</table>\n",
       "</div>"
      ],
      "text/plain": [
       "           date  spx_price  spx_ps   spx_pe  next_date  date_gap\n",
       "2140 2012-10-26    1411.94  1.2978  13.5479 2012-10-31       5.0\n",
       "672  2006-12-29    1418.30  1.5539  16.3008 2007-01-03       5.0\n",
       "20   2004-05-28    1120.68  1.5715  17.1858 2004-06-01       4.0\n",
       "2465 2014-02-14    1838.63  1.5987  15.6149 2014-02-18       4.0\n",
       "2812 2015-07-02    2076.78  1.8378  17.5411 2015-07-06       4.0\n",
       "2784 2015-05-22    2126.06  1.8847  17.9873 2015-05-26       4.0\n",
       "2749 2015-04-02    2066.96  1.8016  17.4884 2015-04-06       4.0\n",
       "2716 2015-02-13    2096.99  1.8323  17.6526 2015-02-17       4.0\n",
       "2697 2015-01-16    2019.42  1.7344  16.6241 2015-01-20       4.0\n",
       "2601 2014-08-29    2003.37  1.7197  16.7694 2014-09-02       4.0"
      ]
     },
     "execution_count": 19,
     "metadata": {},
     "output_type": "execute_result"
    }
   ],
   "source": [
    "spx_test[(spx_test['date_gap'].notnull()) & (spx_test['date_gap'] > 3)].sort_values('date_gap', ascending=False).head(10)"
   ]
  },
  {
   "cell_type": "markdown",
   "metadata": {},
   "source": [
    "## Merge the spx data with pe/ps data"
   ]
  },
  {
   "cell_type": "code",
   "execution_count": 4,
   "metadata": {},
   "outputs": [],
   "source": [
    "# try to merge the spx and pe/ps data first\n",
    "with_spx = pe_ps.merge(spx, how='left', on=['date'])"
   ]
  },
  {
   "cell_type": "code",
   "execution_count": 5,
   "metadata": {},
   "outputs": [
    {
     "data": {
      "text/plain": [
       "date              0\n",
       "ticker            0\n",
       "forward_ps        0\n",
       "forward_pe        0\n",
       "spx_price     23420\n",
       "spx_ps        23420\n",
       "spx_pe        23420\n",
       "dtype: int64"
      ]
     },
     "execution_count": 5,
     "metadata": {},
     "output_type": "execute_result"
    }
   ],
   "source": [
    "with_spx.isnull().sum()"
   ]
  },
  {
   "cell_type": "code",
   "execution_count": 6,
   "metadata": {},
   "outputs": [],
   "source": [
    "# check the list of the date with null values\n",
    "holiday_list = with_spx[with_spx.spx_price.isnull()].date.unique()"
   ]
  },
  {
   "cell_type": "code",
   "execution_count": 7,
   "metadata": {},
   "outputs": [],
   "source": [
    "pe_ps_corr = pe_ps.copy()"
   ]
  },
  {
   "cell_type": "code",
   "execution_count": 9,
   "metadata": {},
   "outputs": [],
   "source": [
    "\"\"\"\n",
    "Based on the data, the p/e and p/s are predicted data of each Friday but some of these Fridays are holidays \n",
    "and do not have the corrseponding spx and price data\n",
    "So we change the date of these holidays to one day before which would have the corresponding spx and price data\n",
    "\"\"\" \n",
    "\n",
    "# Change the holiday dates to one day before and then merge it with the spx data\n",
    "holiday_index = pe_ps_corr[pe_ps_corr.date.isin(holiday_list)].index\n",
    "for index in holiday_index:\n",
    "    pe_ps_corr.loc[index, 'date'] = pe_ps_corr.loc[index,'date'] - timedelta(days=1)"
   ]
  },
  {
   "cell_type": "code",
   "execution_count": 10,
   "metadata": {},
   "outputs": [],
   "source": [
    "# Merge the adjusted pe_ps data with the spx date again\n",
    "with_spx_new = pe_ps_corr.merge(spx, how='left', on=['date'])"
   ]
  },
  {
   "cell_type": "code",
   "execution_count": 11,
   "metadata": {},
   "outputs": [
    {
     "data": {
      "text/plain": [
       "array(['2019-08-08T00:00:00.000000000'], dtype='datetime64[ns]')"
      ]
     },
     "execution_count": 11,
     "metadata": {},
     "output_type": "execute_result"
    }
   ],
   "source": [
    "with_spx_new[with_spx_new.spx_ps.isnull()].date.unique()"
   ]
  },
  {
   "cell_type": "code",
   "execution_count": 25,
   "metadata": {},
   "outputs": [],
   "source": [
    "with_spx_new_test = with_spx_new.copy()\n",
    "with_spx_new_test = with_spx_new_test.sort_values(['ticker','date']).reset_index(drop=True)\n",
    "with_spx_new_test['next_date'] = with_spx_new_test.groupby('ticker')['date'].shift(-1)\n",
    "with_spx_new_test['date_gap'] = with_spx_new_test.apply(lambda x:(x['next_date'] - x['date']).days, axis=1)"
   ]
  },
  {
   "cell_type": "code",
   "execution_count": 26,
   "metadata": {},
   "outputs": [
    {
     "data": {
      "text/plain": [
       "array([ 7.,  6.,  8., nan])"
      ]
     },
     "execution_count": 26,
     "metadata": {},
     "output_type": "execute_result"
    }
   ],
   "source": [
    "with_spx_new_test.date_gap.unique()"
   ]
  },
  {
   "cell_type": "code",
   "execution_count": 27,
   "metadata": {},
   "outputs": [
    {
     "data": {
      "text/plain": [
       "24"
      ]
     },
     "execution_count": 27,
     "metadata": {},
     "output_type": "execute_result"
    }
   ],
   "source": [
    "with_spx_new_test[with_spx_new_test.date_gap == 6].date.nunique()"
   ]
  },
  {
   "cell_type": "code",
   "execution_count": 28,
   "metadata": {},
   "outputs": [
    {
     "data": {
      "text/plain": [
       "23"
      ]
     },
     "execution_count": 28,
     "metadata": {},
     "output_type": "execute_result"
    }
   ],
   "source": [
    "with_spx_new_test[with_spx_new_test.date_gap == 8].date.nunique()"
   ]
  },
  {
   "cell_type": "code",
   "execution_count": 12,
   "metadata": {},
   "outputs": [],
   "source": [
    "# After check that the 2019-08-08 do not have the latest spx data so drop the records of 2019-08-08\n",
    "with_spx_final = with_spx_new[with_spx_new.date != '2019-08-08']"
   ]
  },
  {
   "cell_type": "code",
   "execution_count": 13,
   "metadata": {},
   "outputs": [
    {
     "data": {
      "text/plain": [
       "date          0\n",
       "ticker        0\n",
       "forward_ps    0\n",
       "forward_pe    0\n",
       "spx_price     0\n",
       "spx_ps        0\n",
       "spx_pe        0\n",
       "dtype: int64"
      ]
     },
     "execution_count": 13,
     "metadata": {},
     "output_type": "execute_result"
    }
   ],
   "source": [
    "# Check if there is still any null values (None)\n",
    "with_spx_final.isnull().sum()"
   ]
  },
  {
   "cell_type": "code",
   "execution_count": 20,
   "metadata": {},
   "outputs": [],
   "source": [
    "with_spx_final_test = with_spx_final.copy()\n",
    "with_spx_final_test = with_spx_final_test.sort_values(['ticker','date']).reset_index(drop=True)\n",
    "with_spx_final_test['next_date'] = with_spx_final_test.groupby('ticker')['date'].shift(-1)\n",
    "with_spx_final_test['date_gap'] = with_spx_final_test.apply(lambda x:(x['next_date'] - x['date']).days, axis=1)"
   ]
  },
  {
   "cell_type": "code",
   "execution_count": 21,
   "metadata": {},
   "outputs": [
    {
     "data": {
      "text/plain": [
       "array([ 7.,  6.,  8., nan])"
      ]
     },
     "execution_count": 21,
     "metadata": {},
     "output_type": "execute_result"
    }
   ],
   "source": [
    "with_spx_final_test.date_gap.unique()"
   ]
  },
  {
   "cell_type": "code",
   "execution_count": 62,
   "metadata": {},
   "outputs": [
    {
     "data": {
      "text/plain": [
       "array(['2004-12-24T00:00:00.000000000', '2005-03-25T00:00:00.000000000',\n",
       "       '2006-04-14T00:00:00.000000000', '2007-04-06T00:00:00.000000000',\n",
       "       '2008-03-21T00:00:00.000000000', '2008-07-04T00:00:00.000000000',\n",
       "       '2009-04-10T00:00:00.000000000', '2009-07-03T00:00:00.000000000',\n",
       "       '2009-12-25T00:00:00.000000000', '2010-01-01T00:00:00.000000000',\n",
       "       '2010-04-02T00:00:00.000000000', '2010-12-24T00:00:00.000000000',\n",
       "       '2011-04-22T00:00:00.000000000', '2012-04-06T00:00:00.000000000',\n",
       "       '2013-03-29T00:00:00.000000000', '2014-04-18T00:00:00.000000000',\n",
       "       '2014-07-04T00:00:00.000000000', '2015-04-03T00:00:00.000000000',\n",
       "       '2015-07-03T00:00:00.000000000', '2015-12-25T00:00:00.000000000',\n",
       "       '2016-01-01T00:00:00.000000000', '2016-03-25T00:00:00.000000000',\n",
       "       '2017-04-14T00:00:00.000000000', '2018-03-30T00:00:00.000000000',\n",
       "       '2019-04-19T00:00:00.000000000', '2019-08-09T00:00:00.000000000'],\n",
       "      dtype='datetime64[ns]')"
      ]
     },
     "execution_count": 62,
     "metadata": {},
     "output_type": "execute_result"
    }
   ],
   "source": [
    "holiday_list[::-1]"
   ]
  },
  {
   "cell_type": "code",
   "execution_count": 63,
   "metadata": {},
   "outputs": [
    {
     "data": {
      "text/plain": [
       "array(['2004-12-23T00:00:00.000000000', '2005-03-24T00:00:00.000000000',\n",
       "       '2006-04-13T00:00:00.000000000', '2007-04-05T00:00:00.000000000',\n",
       "       '2008-03-20T00:00:00.000000000', '2008-07-03T00:00:00.000000000',\n",
       "       '2009-04-09T00:00:00.000000000', '2009-07-02T00:00:00.000000000',\n",
       "       '2009-12-31T00:00:00.000000000', '2010-04-01T00:00:00.000000000',\n",
       "       '2010-12-23T00:00:00.000000000', '2011-04-21T00:00:00.000000000',\n",
       "       '2012-04-05T00:00:00.000000000', '2013-03-28T00:00:00.000000000',\n",
       "       '2014-04-17T00:00:00.000000000', '2014-07-03T00:00:00.000000000',\n",
       "       '2015-04-02T00:00:00.000000000', '2015-07-02T00:00:00.000000000',\n",
       "       '2015-12-31T00:00:00.000000000', '2016-03-24T00:00:00.000000000',\n",
       "       '2017-04-13T00:00:00.000000000', '2018-03-29T00:00:00.000000000',\n",
       "       '2019-04-18T00:00:00.000000000'], dtype='datetime64[ns]')"
      ]
     },
     "execution_count": 63,
     "metadata": {},
     "output_type": "execute_result"
    }
   ],
   "source": [
    "with_spx_final_test[with_spx_final_test.date_gap == 8].date.unique()"
   ]
  },
  {
   "cell_type": "code",
   "execution_count": 23,
   "metadata": {},
   "outputs": [
    {
     "data": {
      "text/plain": [
       "23"
      ]
     },
     "execution_count": 23,
     "metadata": {},
     "output_type": "execute_result"
    }
   ],
   "source": [
    "with_spx_final_test[with_spx_final_test.date_gap == 8].date.nunique("
   ]
  },
  {
   "cell_type": "code",
   "execution_count": null,
   "metadata": {},
   "outputs": [],
   "source": [
    "with_spx_final_test[(with_spx_final_test['date_gap'].notnull()) & (with_spx_finaltest['date_gap'] != 7)].sort_values('date_gap', ascending=False).head(10)"
   ]
  },
  {
   "cell_type": "code",
   "execution_count": 15,
   "metadata": {},
   "outputs": [
    {
     "data": {
      "text/html": [
       "<div>\n",
       "<style scoped>\n",
       "    .dataframe tbody tr th:only-of-type {\n",
       "        vertical-align: middle;\n",
       "    }\n",
       "\n",
       "    .dataframe tbody tr th {\n",
       "        vertical-align: top;\n",
       "    }\n",
       "\n",
       "    .dataframe thead th {\n",
       "        text-align: right;\n",
       "    }\n",
       "</style>\n",
       "<table border=\"1\" class=\"dataframe\">\n",
       "  <thead>\n",
       "    <tr style=\"text-align: right;\">\n",
       "      <th></th>\n",
       "      <th>date</th>\n",
       "      <th>ticker</th>\n",
       "      <th>forward_ps</th>\n",
       "      <th>forward_pe</th>\n",
       "      <th>spx_price</th>\n",
       "      <th>spx_ps</th>\n",
       "      <th>spx_pe</th>\n",
       "    </tr>\n",
       "  </thead>\n",
       "  <tbody>\n",
       "  </tbody>\n",
       "</table>\n",
       "</div>"
      ],
      "text/plain": [
       "Empty DataFrame\n",
       "Columns: [date, ticker, forward_ps, forward_pe, spx_price, spx_ps, spx_pe]\n",
       "Index: []"
      ]
     },
     "execution_count": 15,
     "metadata": {},
     "output_type": "execute_result"
    }
   ],
   "source": [
    "# Check if there is any date in the holiday_list(None)\n",
    "with_spx_final[with_spx_final.ticker.isin(holiday_list)]"
   ]
  },
  {
   "cell_type": "markdown",
   "metadata": {},
   "source": [
    "# Calculation"
   ]
  },
  {
   "cell_type": "code",
   "execution_count": 166,
   "metadata": {},
   "outputs": [],
   "source": [
    "with_spx_final = with_spx_final.sort_values(['ticker', 'date']).reset_index(drop=True)"
   ]
  },
  {
   "cell_type": "code",
   "execution_count": 167,
   "metadata": {},
   "outputs": [],
   "source": [
    "with_spx_final.loc[:,'adjusted_spx_price'] = with_spx_final.loc[:,'spx_price']/10\n",
    "# with_spx_final.loc[:,'relative_price'] = with_spx_final.loc[:,'spx_price']/with_spx_final.loc[:,'adjusted_spx_price']"
   ]
  },
  {
   "cell_type": "code",
   "execution_count": 172,
   "metadata": {},
   "outputs": [
    {
     "data": {
      "text/plain": [
       "date                  2005-02-04 00:00:00\n",
       "ticker                                  A\n",
       "forward_ps                           1.48\n",
       "forward_pe                          17.69\n",
       "spx_price                         1203.03\n",
       "spx_ps                             1.6043\n",
       "spx_pe                            16.2632\n",
       "adjusted_spx_price                120.303\n",
       "Name: 26, dtype: object"
      ]
     },
     "execution_count": 172,
     "metadata": {},
     "output_type": "execute_result"
    }
   ],
   "source": [
    "with_spx_final.loc[26,:]"
   ]
  },
  {
   "cell_type": "code",
   "execution_count": 184,
   "metadata": {},
   "outputs": [],
   "source": [
    "#ticker_list = with_spx_final.ticker.unique()\n",
    "# calculation_price = pd.Dataframe()\n",
    "#for ticker in ticker_list:\n",
    "    #sub_data = with_spx_final.query(\"ticker == @ticker\").copy().reset_index(drop=True)\n",
    "    #sub_data.loc[25,'26W EMA Price'] = 0\n",
    "    #for n in range(26, len(sub_data)):\n",
    "        #sub_data.loc[n,'26W EMA Price'] = (sub_data.loc[n,'26W EMA Price']- sub_data.loc[n-1,'26W EMA Price'])*2/27 + sub_data.loc[n-1,'26W EMA Price']\n",
    "        #calculation_price = calculation_price.append(sub_data, index=False)"
   ]
  },
  {
   "cell_type": "code",
   "execution_count": 202,
   "metadata": {},
   "outputs": [],
   "source": [
    "test = with_spx_final[with_spx_final.ticker == 'A']"
   ]
  },
  {
   "cell_type": "code",
   "execution_count": 251,
   "metadata": {},
   "outputs": [
    {
     "data": {
      "text/html": [
       "<div>\n",
       "<style scoped>\n",
       "    .dataframe tbody tr th:only-of-type {\n",
       "        vertical-align: middle;\n",
       "    }\n",
       "\n",
       "    .dataframe tbody tr th {\n",
       "        vertical-align: top;\n",
       "    }\n",
       "\n",
       "    .dataframe thead th {\n",
       "        text-align: right;\n",
       "    }\n",
       "</style>\n",
       "<table border=\"1\" class=\"dataframe\">\n",
       "  <thead>\n",
       "    <tr style=\"text-align: right;\">\n",
       "      <th></th>\n",
       "      <th>date</th>\n",
       "      <th>ticker</th>\n",
       "      <th>forward_ps</th>\n",
       "      <th>forward_pe</th>\n",
       "      <th>spx_price</th>\n",
       "      <th>spx_ps</th>\n",
       "      <th>spx_pe</th>\n",
       "      <th>adjusted_spx_price</th>\n",
       "      <th>26W Ann Rate of Chage</th>\n",
       "    </tr>\n",
       "  </thead>\n",
       "  <tbody>\n",
       "    <tr>\n",
       "      <th>0</th>\n",
       "      <td>2004-08-06</td>\n",
       "      <td>A</td>\n",
       "      <td>1.35</td>\n",
       "      <td>15.26</td>\n",
       "      <td>1063.97</td>\n",
       "      <td>1.4408</td>\n",
       "      <td>15.9835</td>\n",
       "      <td>106.397</td>\n",
       "      <td>NaN</td>\n",
       "    </tr>\n",
       "    <tr>\n",
       "      <th>1</th>\n",
       "      <td>2004-08-13</td>\n",
       "      <td>A</td>\n",
       "      <td>1.27</td>\n",
       "      <td>14.23</td>\n",
       "      <td>1064.80</td>\n",
       "      <td>1.4430</td>\n",
       "      <td>16.0194</td>\n",
       "      <td>106.480</td>\n",
       "      <td>NaN</td>\n",
       "    </tr>\n",
       "    <tr>\n",
       "      <th>2</th>\n",
       "      <td>2004-08-20</td>\n",
       "      <td>A</td>\n",
       "      <td>1.37</td>\n",
       "      <td>15.32</td>\n",
       "      <td>1098.35</td>\n",
       "      <td>1.4881</td>\n",
       "      <td>16.4891</td>\n",
       "      <td>109.835</td>\n",
       "      <td>NaN</td>\n",
       "    </tr>\n",
       "    <tr>\n",
       "      <th>3</th>\n",
       "      <td>2004-08-27</td>\n",
       "      <td>A</td>\n",
       "      <td>1.33</td>\n",
       "      <td>14.84</td>\n",
       "      <td>1107.77</td>\n",
       "      <td>1.4989</td>\n",
       "      <td>16.6189</td>\n",
       "      <td>110.777</td>\n",
       "      <td>NaN</td>\n",
       "    </tr>\n",
       "    <tr>\n",
       "      <th>4</th>\n",
       "      <td>2004-09-03</td>\n",
       "      <td>A</td>\n",
       "      <td>1.25</td>\n",
       "      <td>13.89</td>\n",
       "      <td>1113.63</td>\n",
       "      <td>1.5050</td>\n",
       "      <td>16.7029</td>\n",
       "      <td>111.363</td>\n",
       "      <td>NaN</td>\n",
       "    </tr>\n",
       "  </tbody>\n",
       "</table>\n",
       "</div>"
      ],
      "text/plain": [
       "        date ticker  forward_ps  forward_pe  spx_price  spx_ps   spx_pe  \\\n",
       "0 2004-08-06      A        1.35       15.26    1063.97  1.4408  15.9835   \n",
       "1 2004-08-13      A        1.27       14.23    1064.80  1.4430  16.0194   \n",
       "2 2004-08-20      A        1.37       15.32    1098.35  1.4881  16.4891   \n",
       "3 2004-08-27      A        1.33       14.84    1107.77  1.4989  16.6189   \n",
       "4 2004-09-03      A        1.25       13.89    1113.63  1.5050  16.7029   \n",
       "\n",
       "   adjusted_spx_price  26W Ann Rate of Chage   \n",
       "0             106.397                     NaN  \n",
       "1             106.480                     NaN  \n",
       "2             109.835                     NaN  \n",
       "3             110.777                     NaN  \n",
       "4             111.363                     NaN  "
      ]
     },
     "execution_count": 251,
     "metadata": {},
     "output_type": "execute_result"
    }
   ],
   "source": [
    "test.head()"
   ]
  },
  {
   "cell_type": "code",
   "execution_count": 247,
   "metadata": {},
   "outputs": [
    {
     "data": {
      "text/plain": [
       "date                      2004-08-13 00:00:00\n",
       "ticker                                      A\n",
       "forward_ps                               1.27\n",
       "forward_pe                              14.23\n",
       "spx_price                              1064.8\n",
       "spx_ps                                  1.443\n",
       "spx_pe                                16.0194\n",
       "adjusted_spx_price                     106.48\n",
       "26W Ann Rate of Chage                     NaN\n",
       "Name: 1, dtype: object"
      ]
     },
     "execution_count": 247,
     "metadata": {},
     "output_type": "execute_result"
    }
   ],
   "source": [
    "test.loc[(2-1),:]"
   ]
  },
  {
   "cell_type": "code",
   "execution_count": 238,
   "metadata": {},
   "outputs": [],
   "source": [
    "n = 38\n",
    "for n in range(38, len(test)):\n",
    "    test.loc[n,'26W Ann Rate of Chage '] = (test.loc[n,'spx_price']/test.loc[(n-26),'spx_price'] -1 )/ 2\n",
    "    n = n+1"
   ]
  },
  {
   "cell_type": "code",
   "execution_count": 200,
   "metadata": {},
   "outputs": [],
   "source": [
    "# test.loc[:,'12W SMA P/E'] = test.spx_price.rolling(window=13).mean()"
   ]
  },
  {
   "cell_type": "code",
   "execution_count": 177,
   "metadata": {},
   "outputs": [
    {
     "data": {
      "text/plain": [
       "array(['A', 'AA', 'AAN', ..., 'ZTS', 'ZUMZ', 'ZUO'], dtype=object)"
      ]
     },
     "execution_count": 177,
     "metadata": {},
     "output_type": "execute_result"
    }
   ],
   "source": [
    "# calculation_price2 = pd.Dataframe()\n",
    "#for ticker in ticker_list:\n",
    "    #sub_data = calculation_price.query(\"ticker == @ticker\").copy().reset_index(drop=True)\n",
    "    #sub_data.loc[:,'12W SMA P/E'] = sub_data.forward_pe.rolling(window=13).mean()\n",
    "    #calculation_price2 = calculation_price2.append(sub_data, index=False)"
   ]
  },
  {
   "cell_type": "code",
   "execution_count": null,
   "metadata": {},
   "outputs": [],
   "source": [
    "# calculation_price3 = pd.Dataframe()\n",
    "#for ticker in ticker_list:\n",
    "    #sub_data = calculation_price2.query(\"ticker == @ticker\").copy().reset_index(drop=True)\n",
    "    #for n in range(38, len(sub_data)):\n",
    "        #sub_data.loc[n,'26W Ann Rate of Change'] = (sub_data.loc[n,'spx_price']/sub_data.loc[(n-26),'spx_price'] -1 )/ 2\n",
    "        #calculation_price3 = calculation_price3.append(sub_data, index=False)"
   ]
  },
  {
   "cell_type": "code",
   "execution_count": null,
   "metadata": {},
   "outputs": [],
   "source": [
    "# calculation_price4 = pd.Dataframe()\n",
    "#for ticker in ticker_list:\n",
    "    #sub_data = calculation_price3.query(\"ticker == @ticker\").copy().reset_index(drop=True)\n",
    "    #sub_data.loc[51, '13W EMA Ann Rate of Change'] = np.mean(sub_data.loc[38:51,'26W Ann Rate of Chage']\n",
    "    #for n in range(52, len(sub_data)):\n",
    "        # sub_data.loc[n,'13W EMA Ann Rate of Change'] = (sub_data.loc[n,'26W Ann Rate of Chage']-\n",
    "                                                        #sub_data.loc[n-1,'13W EMA Ann Rate of Change'])*2/14 + sub_data.loc[(n-1),'13W EMA Ann Rate of Change']\n",
    "        #calculation_price4 = calculation_price4.append(sub_data, index=False)"
   ]
  },
  {
   "cell_type": "code",
   "execution_count": null,
   "metadata": {},
   "outputs": [],
   "source": [
    "# calculation_price5 = pd.Dataframe()\n",
    "#for ticker in ticker_list:\n",
    "    #sub_data = calculation_price4.query(\"ticker == @ticker\").copy().reset_index(drop=True)\n",
    "    #sub_data.loc[:,'8W SMA p/s'] = sub_data.forward_ps.rolling(window=9).mean()\n",
    "    #calculation_price5 = calculation_price5.append(sub_data, index=False)"
   ]
  },
  {
   "cell_type": "code",
   "execution_count": null,
   "metadata": {},
   "outputs": [],
   "source": [
    "# calculation_price6 = pd.Dataframe()\n",
    "#for ticker in ticker_list:\n",
    "    #sub_data = calculation_price5.query(\"ticker == @ticker\").copy().reset_index(drop=True)\n",
    "    #for n in range(34, len(sub_data)):\n",
    "        #sub_data.loc[n, '26W Ann Rate Change P/S'] = ((sub_data.loc[n,'8W SMA p/s']/sub_data.loc[(n-26),'8W SMA p/s'])-1)*2\n",
    "        #calculation_price6 = calculation_price6.append(sub_data, index=False)"
   ]
  },
  {
   "cell_type": "code",
   "execution_count": null,
   "metadata": {},
   "outputs": [],
   "source": [
    "# calculation_price7 = pd.Dataframe()\n",
    "#for ticker in ticker_list:\n",
    "    #sub_data = calculation_price6.query(\"ticker == @ticker\").copy().reset_index(drop=True)\n",
    "    #sub_data.loc[47, '13W EMA P/S ROC'] = np.mean(sub_data.loc[34:47,'26W Ann Rate Change P/S']\n",
    "    #for n in range(48, len(sub_data)):\n",
    "        #sub_data.loc[n,'13W EMA P/S ROC'] = (sub_data.loc[n,'26W Ann Rate Change P/S']-\n",
    "                                                        #sub_data.loc[n-1,'13W EMA P/S ROC'])*2/14 + sub_data.loc[(n-1),'13W EMA P/S ROC']\n",
    "        #calculation_price7 = calculation_price7.append(sub_data, index=False)"
   ]
  },
  {
   "cell_type": "code",
   "execution_count": null,
   "metadata": {},
   "outputs": [],
   "source": [
    "# calculation_price8 = pd.Dataframe()\n",
    "#for ticker in ticker_list:\n",
    "    #sub_data = calculation_price7.query(\"ticker == @ticker\").copy().reset_index(drop=True)\n",
    "    #sub_data.loc[:,'8W SMA Price'] = sub_data.relative_price.rolling(window=9).mean()\n",
    "    #calculation_price8 = calculation_price8.append(sub_data, index=False)"
   ]
  },
  {
   "cell_type": "code",
   "execution_count": null,
   "metadata": {},
   "outputs": [],
   "source": [
    "# # calculation_price9 = pd.Dataframe()\n",
    "#for ticker in ticker_list:\n",
    "    #sub_data = calculation_price8.query(\"ticker == @ticker\").copy().reset_index(drop=True)\n",
    "    #for n in range(34, len(sub_data)):\n",
    "        #sub_data.loc[n, '26W Ann Rate Change Price'] = ((sub_data.loc[n,'8W SMA Price']/sub_data.loc[(n-26),'8W SMA Price'])-1)*2\n",
    "        #calculation_price9 = calculation_price9.append(sub_data, index=False)"
   ]
  },
  {
   "cell_type": "code",
   "execution_count": null,
   "metadata": {},
   "outputs": [],
   "source": [
    "# calculation_price10 = pd.Dataframe()\n",
    "#for ticker in ticker_list:\n",
    "    #sub_data = calculation_price9.query(\"ticker == @ticker\").copy().reset_index(drop=True)\n",
    "    #sub_data.loc[47, '13W EMA Price ROC'] = np.mean(sub_data.loc[34:47,'26W Ann Rate Change Price']\n",
    "    #for n in range(48, len(sub_data)):\n",
    "        #sub_data.loc[n,'13W EMA Price ROC'] = (sub_data.loc[n,'26W Ann Rate Change Price']-\n",
    "                                                        #sub_data.loc[n-1,'13W EMA Price ROC'])*2/14 + sub_data.loc[(n-1),'13W EMA Price ROC']\n",
    "        #calculation_price7 = calculation_price10.append(sub_data, index=False)"
   ]
  },
  {
   "cell_type": "code",
   "execution_count": null,
   "metadata": {},
   "outputs": [],
   "source": [
    "# calculation_price11 = pd.Dataframe()\n",
    "#for ticker in ticker_list:\n",
    "    #sub_data = calculation_price10.query(\"ticker == @ticker\").copy().reset_index(drop=True)\n",
    "    # sub_data.loc[12,'12W EMA Relative Price'] = 0\n",
    "    #for n in range(13, len(sub_data)):\n",
    "        #sub_data.loc[n,'12W EMA Relative Price'] = (sub_data.loc[n,'relative_price'] - \n",
    "                                                    #sub_data.loc[n-1,'12W EMA Relative Price'])*2/13 + sub_data.loc[n-1,'12W EMA Relative Price']\n",
    "        #calculation_price8 = calculation_price11.append(sub_data, index=False)"
   ]
  },
  {
   "cell_type": "code",
   "execution_count": null,
   "metadata": {},
   "outputs": [],
   "source": [
    "# calculation_price12 = pd.Dataframe()\n",
    "#for ticker in ticker_list:\n",
    "    #sub_data = calculation_price11.query(\"ticker == @ticker\").copy().reset_index(drop=True)\n",
    "    #for n in range(26, len(sub_data)):\n",
    "        #sub_data.loc[n,'MACD'] = sub_data.loc[n,'12W EMA Relative Price'] - sub_data.loc[n,'26W EMA Price']\n",
    "        #calculation_price9 = calculation_price12.append(sub_data, index=False)"
   ]
  },
  {
   "cell_type": "code",
   "execution_count": 248,
   "metadata": {},
   "outputs": [],
   "source": [
    "# calculation_price13 = pd.Dataframe()\n",
    "#for ticker in ticker_list:\n",
    "    #sub_data = calculation_price12.query(\"ticker == @ticker\").copy().reset_index(drop=True)\n",
    "    # sub_data.loc[35,'9W SMA MACD'] = np.mean(sub_data.loc[26:35,'MACD'])\n",
    "    #for n in range(36, len(sub_data)):\n",
    "        #sub_data.loc[n,'9W SMA MACD'] = (sub_data.loc[n,'MACD'] - \n",
    "                                                    #sub_data.loc[n-1,'9W SMA MACD'])*2/10 + sub_data.loc[n-1,'9W SMA MACD']\n",
    "        #calculation_price13 = calculation_price13.append(sub_data, index=False)"
   ]
  },
  {
   "cell_type": "code",
   "execution_count": 249,
   "metadata": {},
   "outputs": [],
   "source": [
    "# Some signals Calculation\n",
    "#calculation_unfinish = calculation_price13.copy()"
   ]
  },
  {
   "cell_type": "code",
   "execution_count": null,
   "metadata": {},
   "outputs": [],
   "source": [
    "calculation_unfinish[‘P/S -.5’] = calculation_unfinish[].apply(lambda x:if x<-0.4999 1,0)"
   ]
  },
  {
   "cell_type": "markdown",
   "metadata": {},
   "source": [
    "## Read in Price Data"
   ]
  },
  {
   "cell_type": "code",
   "execution_count": 3,
   "metadata": {},
   "outputs": [
    {
     "data": {
      "text/html": [
       "<div>\n",
       "<style scoped>\n",
       "    .dataframe tbody tr th:only-of-type {\n",
       "        vertical-align: middle;\n",
       "    }\n",
       "\n",
       "    .dataframe tbody tr th {\n",
       "        vertical-align: top;\n",
       "    }\n",
       "\n",
       "    .dataframe thead th {\n",
       "        text-align: right;\n",
       "    }\n",
       "</style>\n",
       "<table border=\"1\" class=\"dataframe\">\n",
       "  <thead>\n",
       "    <tr style=\"text-align: right;\">\n",
       "      <th></th>\n",
       "      <th>ticker</th>\n",
       "      <th>date</th>\n",
       "      <th>adj_close</th>\n",
       "    </tr>\n",
       "  </thead>\n",
       "  <tbody>\n",
       "    <tr>\n",
       "      <th>0</th>\n",
       "      <td>A</td>\n",
       "      <td>2004-05-07</td>\n",
       "      <td>17.670214</td>\n",
       "    </tr>\n",
       "    <tr>\n",
       "      <th>1</th>\n",
       "      <td>AABA</td>\n",
       "      <td>2004-05-07</td>\n",
       "      <td>26.400000</td>\n",
       "    </tr>\n",
       "    <tr>\n",
       "      <th>2</th>\n",
       "      <td>AAME</td>\n",
       "      <td>2004-05-07</td>\n",
       "      <td>2.642746</td>\n",
       "    </tr>\n",
       "    <tr>\n",
       "      <th>3</th>\n",
       "      <td>AAN</td>\n",
       "      <td>2004-05-07</td>\n",
       "      <td>10.597434</td>\n",
       "    </tr>\n",
       "    <tr>\n",
       "      <th>4</th>\n",
       "      <td>AAON</td>\n",
       "      <td>2004-05-07</td>\n",
       "      <td>3.215521</td>\n",
       "    </tr>\n",
       "  </tbody>\n",
       "</table>\n",
       "</div>"
      ],
      "text/plain": [
       "  ticker       date  adj_close\n",
       "0      A 2004-05-07  17.670214\n",
       "1   AABA 2004-05-07  26.400000\n",
       "2   AAME 2004-05-07   2.642746\n",
       "3    AAN 2004-05-07  10.597434\n",
       "4   AAON 2004-05-07   3.215521"
      ]
     },
     "execution_count": 3,
     "metadata": {},
     "output_type": "execute_result"
    }
   ],
   "source": [
    "price = pd.read_csv('daily_price.csv', parse_dates=['date']).sort_values([\"date\", \"ticker\"]).reset_index(drop=True)\n",
    "price = price[['ticker', 'date', 'adj_close']]\n",
    "price.head()"
   ]
  },
  {
   "cell_type": "code",
   "execution_count": 4,
   "metadata": {},
   "outputs": [
    {
     "data": {
      "text/html": [
       "<div>\n",
       "<style scoped>\n",
       "    .dataframe tbody tr th:only-of-type {\n",
       "        vertical-align: middle;\n",
       "    }\n",
       "\n",
       "    .dataframe tbody tr th {\n",
       "        vertical-align: top;\n",
       "    }\n",
       "\n",
       "    .dataframe thead th {\n",
       "        text-align: right;\n",
       "    }\n",
       "</style>\n",
       "<table border=\"1\" class=\"dataframe\">\n",
       "  <thead>\n",
       "    <tr style=\"text-align: right;\">\n",
       "      <th></th>\n",
       "      <th>ticker</th>\n",
       "      <th>date</th>\n",
       "      <th>adj_close</th>\n",
       "    </tr>\n",
       "  </thead>\n",
       "  <tbody>\n",
       "    <tr>\n",
       "      <th>0</th>\n",
       "      <td>A</td>\n",
       "      <td>2004-05-07</td>\n",
       "      <td>17.670214</td>\n",
       "    </tr>\n",
       "    <tr>\n",
       "      <th>1</th>\n",
       "      <td>AABA</td>\n",
       "      <td>2004-05-07</td>\n",
       "      <td>26.400000</td>\n",
       "    </tr>\n",
       "    <tr>\n",
       "      <th>2</th>\n",
       "      <td>AAME</td>\n",
       "      <td>2004-05-07</td>\n",
       "      <td>2.642746</td>\n",
       "    </tr>\n",
       "    <tr>\n",
       "      <th>3</th>\n",
       "      <td>AAN</td>\n",
       "      <td>2004-05-07</td>\n",
       "      <td>10.597434</td>\n",
       "    </tr>\n",
       "    <tr>\n",
       "      <th>4</th>\n",
       "      <td>AAON</td>\n",
       "      <td>2004-05-07</td>\n",
       "      <td>3.215521</td>\n",
       "    </tr>\n",
       "  </tbody>\n",
       "</table>\n",
       "</div>"
      ],
      "text/plain": [
       "  ticker       date  adj_close\n",
       "0      A 2004-05-07  17.670214\n",
       "1   AABA 2004-05-07  26.400000\n",
       "2   AAME 2004-05-07   2.642746\n",
       "3    AAN 2004-05-07  10.597434\n",
       "4   AAON 2004-05-07   3.215521"
      ]
     },
     "execution_count": 4,
     "metadata": {},
     "output_type": "execute_result"
    }
   ],
   "source": [
    "price.head()"
   ]
  },
  {
   "cell_type": "code",
   "execution_count": 5,
   "metadata": {},
   "outputs": [],
   "source": [
    "with_price = pe_ps.merge(price, how='left', on=['ticker', 'date'])"
   ]
  },
  {
   "cell_type": "code",
   "execution_count": 6,
   "metadata": {},
   "outputs": [
    {
     "data": {
      "text/plain": [
       "1550"
      ]
     },
     "execution_count": 6,
     "metadata": {},
     "output_type": "execute_result"
    }
   ],
   "source": [
    "with_price.ticker.nunique()"
   ]
  },
  {
   "cell_type": "code",
   "execution_count": 9,
   "metadata": {},
   "outputs": [
    {
     "data": {
      "text/plain": [
       "date              0\n",
       "ticker            0\n",
       "forward_ps        0\n",
       "forward_pe        0\n",
       "adj_close     33162\n",
       "dtype: int64"
      ]
     },
     "execution_count": 9,
     "metadata": {},
     "output_type": "execute_result"
    }
   ],
   "source": [
    "with_price.isnull().sum()"
   ]
  },
  {
   "cell_type": "code",
   "execution_count": 14,
   "metadata": {},
   "outputs": [
    {
     "data": {
      "text/plain": [
       "699618"
      ]
     },
     "execution_count": 14,
     "metadata": {},
     "output_type": "execute_result"
    }
   ],
   "source": [
    "len(with_price)"
   ]
  },
  {
   "cell_type": "code",
   "execution_count": 21,
   "metadata": {},
   "outputs": [
    {
     "data": {
      "text/plain": [
       "784"
      ]
     },
     "execution_count": 21,
     "metadata": {},
     "output_type": "execute_result"
    }
   ],
   "source": [
    "len(with_price[with_price.adj_close.isnull()].date.unique())"
   ]
  },
  {
   "cell_type": "code",
   "execution_count": 29,
   "metadata": {},
   "outputs": [],
   "source": [
    "dates = with_price[with_price.adj_close.isnull()].date.unique()\n",
    "mon_day = [str(x)[5:10] for x in dates]"
   ]
  },
  {
   "cell_type": "code",
   "execution_count": 31,
   "metadata": {},
   "outputs": [
    {
     "data": {
      "text/plain": [
       "784"
      ]
     },
     "execution_count": 31,
     "metadata": {},
     "output_type": "execute_result"
    }
   ],
   "source": [
    "len(mon_day)"
   ]
  },
  {
   "cell_type": "code",
   "execution_count": 15,
   "metadata": {},
   "outputs": [
    {
     "data": {
      "text/html": [
       "<div>\n",
       "<style scoped>\n",
       "    .dataframe tbody tr th:only-of-type {\n",
       "        vertical-align: middle;\n",
       "    }\n",
       "\n",
       "    .dataframe tbody tr th {\n",
       "        vertical-align: top;\n",
       "    }\n",
       "\n",
       "    .dataframe thead th {\n",
       "        text-align: right;\n",
       "    }\n",
       "</style>\n",
       "<table border=\"1\" class=\"dataframe\">\n",
       "  <thead>\n",
       "    <tr style=\"text-align: right;\">\n",
       "      <th></th>\n",
       "      <th>date</th>\n",
       "      <th>ticker</th>\n",
       "      <th>forward_ps</th>\n",
       "      <th>forward_pe</th>\n",
       "      <th>adj_close</th>\n",
       "    </tr>\n",
       "  </thead>\n",
       "  <tbody>\n",
       "    <tr>\n",
       "      <th>0</th>\n",
       "      <td>2019-08-09</td>\n",
       "      <td>AAN</td>\n",
       "      <td>1.04</td>\n",
       "      <td>15.16</td>\n",
       "      <td>NaN</td>\n",
       "    </tr>\n",
       "    <tr>\n",
       "      <th>16</th>\n",
       "      <td>2019-04-19</td>\n",
       "      <td>AAN</td>\n",
       "      <td>0.88</td>\n",
       "      <td>13.53</td>\n",
       "      <td>NaN</td>\n",
       "    </tr>\n",
       "    <tr>\n",
       "      <th>71</th>\n",
       "      <td>2018-03-30</td>\n",
       "      <td>AAN</td>\n",
       "      <td>0.85</td>\n",
       "      <td>13.13</td>\n",
       "      <td>NaN</td>\n",
       "    </tr>\n",
       "    <tr>\n",
       "      <th>121</th>\n",
       "      <td>2017-04-14</td>\n",
       "      <td>AAN</td>\n",
       "      <td>0.67</td>\n",
       "      <td>12.79</td>\n",
       "      <td>NaN</td>\n",
       "    </tr>\n",
       "    <tr>\n",
       "      <th>176</th>\n",
       "      <td>2016-03-25</td>\n",
       "      <td>AAN</td>\n",
       "      <td>0.51</td>\n",
       "      <td>9.93</td>\n",
       "      <td>NaN</td>\n",
       "    </tr>\n",
       "    <tr>\n",
       "      <th>188</th>\n",
       "      <td>2016-01-01</td>\n",
       "      <td>AAN</td>\n",
       "      <td>0.47</td>\n",
       "      <td>9.61</td>\n",
       "      <td>NaN</td>\n",
       "    </tr>\n",
       "    <tr>\n",
       "      <th>189</th>\n",
       "      <td>2015-12-25</td>\n",
       "      <td>AAN</td>\n",
       "      <td>0.48</td>\n",
       "      <td>9.86</td>\n",
       "      <td>NaN</td>\n",
       "    </tr>\n",
       "    <tr>\n",
       "      <th>214</th>\n",
       "      <td>2015-07-03</td>\n",
       "      <td>AAN</td>\n",
       "      <td>0.77</td>\n",
       "      <td>15.45</td>\n",
       "      <td>NaN</td>\n",
       "    </tr>\n",
       "    <tr>\n",
       "      <th>227</th>\n",
       "      <td>2015-04-03</td>\n",
       "      <td>AAN</td>\n",
       "      <td>0.62</td>\n",
       "      <td>13.17</td>\n",
       "      <td>NaN</td>\n",
       "    </tr>\n",
       "    <tr>\n",
       "      <th>266</th>\n",
       "      <td>2014-07-04</td>\n",
       "      <td>AAN</td>\n",
       "      <td>0.85</td>\n",
       "      <td>15.42</td>\n",
       "      <td>NaN</td>\n",
       "    </tr>\n",
       "    <tr>\n",
       "      <th>277</th>\n",
       "      <td>2014-04-18</td>\n",
       "      <td>AAN</td>\n",
       "      <td>0.73</td>\n",
       "      <td>13.59</td>\n",
       "      <td>NaN</td>\n",
       "    </tr>\n",
       "    <tr>\n",
       "      <th>332</th>\n",
       "      <td>2013-03-29</td>\n",
       "      <td>AAN</td>\n",
       "      <td>0.89</td>\n",
       "      <td>12.12</td>\n",
       "      <td>NaN</td>\n",
       "    </tr>\n",
       "    <tr>\n",
       "      <th>383</th>\n",
       "      <td>2012-04-06</td>\n",
       "      <td>AAN</td>\n",
       "      <td>0.90</td>\n",
       "      <td>12.90</td>\n",
       "      <td>NaN</td>\n",
       "    </tr>\n",
       "    <tr>\n",
       "      <th>433</th>\n",
       "      <td>2011-04-22</td>\n",
       "      <td>AAN</td>\n",
       "      <td>1.00</td>\n",
       "      <td>14.92</td>\n",
       "      <td>NaN</td>\n",
       "    </tr>\n",
       "    <tr>\n",
       "      <th>450</th>\n",
       "      <td>2010-12-24</td>\n",
       "      <td>AAN</td>\n",
       "      <td>0.81</td>\n",
       "      <td>12.49</td>\n",
       "      <td>NaN</td>\n",
       "    </tr>\n",
       "    <tr>\n",
       "      <th>488</th>\n",
       "      <td>2010-04-02</td>\n",
       "      <td>AAN</td>\n",
       "      <td>0.77</td>\n",
       "      <td>11.70</td>\n",
       "      <td>NaN</td>\n",
       "    </tr>\n",
       "    <tr>\n",
       "      <th>501</th>\n",
       "      <td>2010-01-01</td>\n",
       "      <td>AAN</td>\n",
       "      <td>0.64</td>\n",
       "      <td>10.00</td>\n",
       "      <td>NaN</td>\n",
       "    </tr>\n",
       "    <tr>\n",
       "      <th>502</th>\n",
       "      <td>2009-12-25</td>\n",
       "      <td>AAN</td>\n",
       "      <td>0.65</td>\n",
       "      <td>10.34</td>\n",
       "      <td>NaN</td>\n",
       "    </tr>\n",
       "    <tr>\n",
       "      <th>527</th>\n",
       "      <td>2009-07-03</td>\n",
       "      <td>AAN</td>\n",
       "      <td>0.66</td>\n",
       "      <td>10.87</td>\n",
       "      <td>NaN</td>\n",
       "    </tr>\n",
       "    <tr>\n",
       "      <th>539</th>\n",
       "      <td>2009-04-10</td>\n",
       "      <td>AAN</td>\n",
       "      <td>0.50</td>\n",
       "      <td>13.26</td>\n",
       "      <td>NaN</td>\n",
       "    </tr>\n",
       "    <tr>\n",
       "      <th>579</th>\n",
       "      <td>2008-07-04</td>\n",
       "      <td>AAN</td>\n",
       "      <td>0.59</td>\n",
       "      <td>11.99</td>\n",
       "      <td>NaN</td>\n",
       "    </tr>\n",
       "    <tr>\n",
       "      <th>594</th>\n",
       "      <td>2008-03-21</td>\n",
       "      <td>AAN</td>\n",
       "      <td>0.64</td>\n",
       "      <td>13.37</td>\n",
       "      <td>NaN</td>\n",
       "    </tr>\n",
       "    <tr>\n",
       "      <th>644</th>\n",
       "      <td>2007-04-06</td>\n",
       "      <td>AAN</td>\n",
       "      <td>0.82</td>\n",
       "      <td>14.37</td>\n",
       "      <td>NaN</td>\n",
       "    </tr>\n",
       "    <tr>\n",
       "      <th>695</th>\n",
       "      <td>2006-04-14</td>\n",
       "      <td>AAN</td>\n",
       "      <td>0.91</td>\n",
       "      <td>15.43</td>\n",
       "      <td>NaN</td>\n",
       "    </tr>\n",
       "    <tr>\n",
       "      <th>750</th>\n",
       "      <td>2005-03-25</td>\n",
       "      <td>AAN</td>\n",
       "      <td>0.80</td>\n",
       "      <td>14.69</td>\n",
       "      <td>NaN</td>\n",
       "    </tr>\n",
       "    <tr>\n",
       "      <th>763</th>\n",
       "      <td>2004-12-24</td>\n",
       "      <td>AAN</td>\n",
       "      <td>0.98</td>\n",
       "      <td>19.09</td>\n",
       "      <td>NaN</td>\n",
       "    </tr>\n",
       "  </tbody>\n",
       "</table>\n",
       "</div>"
      ],
      "text/plain": [
       "          date ticker  forward_ps  forward_pe  adj_close\n",
       "0   2019-08-09    AAN        1.04       15.16        NaN\n",
       "16  2019-04-19    AAN        0.88       13.53        NaN\n",
       "71  2018-03-30    AAN        0.85       13.13        NaN\n",
       "121 2017-04-14    AAN        0.67       12.79        NaN\n",
       "176 2016-03-25    AAN        0.51        9.93        NaN\n",
       "188 2016-01-01    AAN        0.47        9.61        NaN\n",
       "189 2015-12-25    AAN        0.48        9.86        NaN\n",
       "214 2015-07-03    AAN        0.77       15.45        NaN\n",
       "227 2015-04-03    AAN        0.62       13.17        NaN\n",
       "266 2014-07-04    AAN        0.85       15.42        NaN\n",
       "277 2014-04-18    AAN        0.73       13.59        NaN\n",
       "332 2013-03-29    AAN        0.89       12.12        NaN\n",
       "383 2012-04-06    AAN        0.90       12.90        NaN\n",
       "433 2011-04-22    AAN        1.00       14.92        NaN\n",
       "450 2010-12-24    AAN        0.81       12.49        NaN\n",
       "488 2010-04-02    AAN        0.77       11.70        NaN\n",
       "501 2010-01-01    AAN        0.64       10.00        NaN\n",
       "502 2009-12-25    AAN        0.65       10.34        NaN\n",
       "527 2009-07-03    AAN        0.66       10.87        NaN\n",
       "539 2009-04-10    AAN        0.50       13.26        NaN\n",
       "579 2008-07-04    AAN        0.59       11.99        NaN\n",
       "594 2008-03-21    AAN        0.64       13.37        NaN\n",
       "644 2007-04-06    AAN        0.82       14.37        NaN\n",
       "695 2006-04-14    AAN        0.91       15.43        NaN\n",
       "750 2005-03-25    AAN        0.80       14.69        NaN\n",
       "763 2004-12-24    AAN        0.98       19.09        NaN"
      ]
     },
     "execution_count": 15,
     "metadata": {},
     "output_type": "execute_result"
    }
   ],
   "source": [
    "with_price[(with_price.adj_close.isnull()) & (with_price.ticker == 'AAN')]"
   ]
  },
  {
   "cell_type": "code",
   "execution_count": 13,
   "metadata": {},
   "outputs": [
    {
     "data": {
      "text/plain": [
       "1547"
      ]
     },
     "execution_count": 13,
     "metadata": {},
     "output_type": "execute_result"
    }
   ],
   "source": [
    "with_price[with_price.adj_close.isnull()].ticker.nunique()"
   ]
  },
  {
   "cell_type": "code",
   "execution_count": 7,
   "metadata": {},
   "outputs": [],
   "source": [
    "# Check if there is any date_gap\n",
    "with_price_test = with_price.copy()\n",
    "with_price_test = with_price_test.sort_values(['ticker' ,'date']).reset_index(drop=True)\n",
    "with_price_test['next_date'] = with_price_test.groupby('ticker')['date'].shift(-1)\n",
    "with_price_test['date_gap'] = with_price_test.apply(lambda x:(x['next_date'] - x['date']).days, axis=1)"
   ]
  },
  {
   "cell_type": "code",
   "execution_count": 19,
   "metadata": {},
   "outputs": [
    {
     "data": {
      "text/html": [
       "<div>\n",
       "<style scoped>\n",
       "    .dataframe tbody tr th:only-of-type {\n",
       "        vertical-align: middle;\n",
       "    }\n",
       "\n",
       "    .dataframe tbody tr th {\n",
       "        vertical-align: top;\n",
       "    }\n",
       "\n",
       "    .dataframe thead th {\n",
       "        text-align: right;\n",
       "    }\n",
       "</style>\n",
       "<table border=\"1\" class=\"dataframe\">\n",
       "  <thead>\n",
       "    <tr style=\"text-align: right;\">\n",
       "      <th></th>\n",
       "      <th>date</th>\n",
       "      <th>ticker</th>\n",
       "      <th>forward_ps</th>\n",
       "      <th>forward_pe</th>\n",
       "      <th>adj_close</th>\n",
       "      <th>next_date</th>\n",
       "      <th>date_gap</th>\n",
       "    </tr>\n",
       "  </thead>\n",
       "  <tbody>\n",
       "  </tbody>\n",
       "</table>\n",
       "</div>"
      ],
      "text/plain": [
       "Empty DataFrame\n",
       "Columns: [date, ticker, forward_ps, forward_pe, adj_close, next_date, date_gap]\n",
       "Index: []"
      ]
     },
     "execution_count": 19,
     "metadata": {},
     "output_type": "execute_result"
    }
   ],
   "source": [
    "with_price_test[(with_price_test['date_gap'].notnull()) & (with_price_test['date_gap'] != 7)].sort_values('date_gap', ascending=False).head()"
   ]
  },
  {
   "cell_type": "code",
   "execution_count": null,
   "metadata": {},
   "outputs": [],
   "source": []
  }
 ],
 "metadata": {
  "kernelspec": {
   "display_name": "Python 3",
   "language": "python",
   "name": "python3"
  },
  "language_info": {
   "codemirror_mode": {
    "name": "ipython",
    "version": 3
   },
   "file_extension": ".py",
   "mimetype": "text/x-python",
   "name": "python",
   "nbconvert_exporter": "python",
   "pygments_lexer": "ipython3",
   "version": "3.7.4"
  }
 },
 "nbformat": 4,
 "nbformat_minor": 4
}
