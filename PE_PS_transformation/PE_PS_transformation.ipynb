{
 "cells": [
  {
   "cell_type": "markdown",
   "metadata": {},
   "source": [
    "# Import"
   ]
  },
  {
   "cell_type": "code",
   "execution_count": 1,
   "metadata": {},
   "outputs": [],
   "source": [
    "import pandas as pd"
   ]
  },
  {
   "cell_type": "markdown",
   "metadata": {},
   "source": [
    "# PE Data"
   ]
  },
  {
   "cell_type": "markdown",
   "metadata": {},
   "source": [
    "## Read In PE Data"
   ]
  },
  {
   "cell_type": "code",
   "execution_count": 2,
   "metadata": {},
   "outputs": [],
   "source": [
    "fwd_pe = pd.read_csv('FWD_PE.csv', low_memory=False)\n",
    "fwd_pe.columns = fwd_pe.columns.str.replace(' ','')"
   ]
  },
  {
   "cell_type": "code",
   "execution_count": 3,
   "metadata": {},
   "outputs": [
    {
     "name": "stderr",
     "output_type": "stream",
     "text": [
      "/Users/sz/anaconda3/lib/python3.7/site-packages/pandas/core/frame.py:4218: SettingWithCopyWarning: \n",
      "A value is trying to be set on a copy of a slice from a DataFrame\n",
      "\n",
      "See the caveats in the documentation: http://pandas.pydata.org/pandas-docs/stable/user_guide/indexing.html#returning-a-view-versus-a-copy\n",
      "  return super().rename(**kwargs)\n",
      "/Users/sz/anaconda3/lib/python3.7/site-packages/ipykernel_launcher.py:3: SettingWithCopyWarning: \n",
      "A value is trying to be set on a copy of a slice from a DataFrame.\n",
      "Try using .loc[row_indexer,col_indexer] = value instead\n",
      "\n",
      "See the caveats in the documentation: http://pandas.pydata.org/pandas-docs/stable/user_guide/indexing.html#returning-a-view-versus-a-copy\n",
      "  This is separate from the ipykernel package so we can avoid doing imports until\n"
     ]
    }
   ],
   "source": [
    "new_df = fwd_pe[['AAN', 'Unnamed:1']]\n",
    "new_df.rename(columns={'AAN':'date', 'Unnamed:1':'forward_pe'}, inplace=True)\n",
    "new_df['ticker'] = 'AAN'"
   ]
  },
  {
   "cell_type": "code",
   "execution_count": 4,
   "metadata": {},
   "outputs": [
    {
     "data": {
      "text/html": [
       "<div>\n",
       "<style scoped>\n",
       "    .dataframe tbody tr th:only-of-type {\n",
       "        vertical-align: middle;\n",
       "    }\n",
       "\n",
       "    .dataframe tbody tr th {\n",
       "        vertical-align: top;\n",
       "    }\n",
       "\n",
       "    .dataframe thead th {\n",
       "        text-align: right;\n",
       "    }\n",
       "</style>\n",
       "<table border=\"1\" class=\"dataframe\">\n",
       "  <thead>\n",
       "    <tr style=\"text-align: right;\">\n",
       "      <th></th>\n",
       "      <th>date</th>\n",
       "      <th>forward_pe</th>\n",
       "      <th>ticker</th>\n",
       "    </tr>\n",
       "  </thead>\n",
       "  <tbody>\n",
       "    <tr>\n",
       "      <th>0</th>\n",
       "      <td>8/14/2019</td>\n",
       "      <td>14.91</td>\n",
       "      <td>AAN</td>\n",
       "    </tr>\n",
       "    <tr>\n",
       "      <th>1</th>\n",
       "      <td>8/9/2019</td>\n",
       "      <td>15.16</td>\n",
       "      <td>AAN</td>\n",
       "    </tr>\n",
       "    <tr>\n",
       "      <th>2</th>\n",
       "      <td>8/2/2019</td>\n",
       "      <td>14.44</td>\n",
       "      <td>AAN</td>\n",
       "    </tr>\n",
       "    <tr>\n",
       "      <th>3</th>\n",
       "      <td>7/26/2019</td>\n",
       "      <td>15.10</td>\n",
       "      <td>AAN</td>\n",
       "    </tr>\n",
       "    <tr>\n",
       "      <th>4</th>\n",
       "      <td>7/19/2019</td>\n",
       "      <td>15.20</td>\n",
       "      <td>AAN</td>\n",
       "    </tr>\n",
       "  </tbody>\n",
       "</table>\n",
       "</div>"
      ],
      "text/plain": [
       "        date  forward_pe ticker\n",
       "0  8/14/2019       14.91    AAN\n",
       "1   8/9/2019       15.16    AAN\n",
       "2   8/2/2019       14.44    AAN\n",
       "3  7/26/2019       15.10    AAN\n",
       "4  7/19/2019       15.20    AAN"
      ]
     },
     "execution_count": 4,
     "metadata": {},
     "output_type": "execute_result"
    }
   ],
   "source": [
    "new_df.head()"
   ]
  },
  {
   "cell_type": "markdown",
   "metadata": {},
   "source": [
    "## Transform the PE Data"
   ]
  },
  {
   "cell_type": "code",
   "execution_count": null,
   "metadata": {},
   "outputs": [
    {
     "name": "stderr",
     "output_type": "stream",
     "text": [
      "/Users/sz/anaconda3/lib/python3.7/site-packages/ipykernel_launcher.py:3: SettingWithCopyWarning: \n",
      "A value is trying to be set on a copy of a slice from a DataFrame.\n",
      "Try using .loc[row_indexer,col_indexer] = value instead\n",
      "\n",
      "See the caveats in the documentation: http://pandas.pydata.org/pandas-docs/stable/user_guide/indexing.html#returning-a-view-versus-a-copy\n",
      "  This is separate from the ipykernel package so we can avoid doing imports until\n"
     ]
    }
   ],
   "source": [
    "for n in range(2,5823,2):\n",
    "    new_df1 = fwd_pe.iloc[:,[n,n+1]]\n",
    "    new_df1['ticker'] = new_df1.columns[0]\n",
    "    first_col = new_df1.columns[0]\n",
    "    new_df1.rename(columns={first_col:'date', 'Unnamed:{}'.format(n+1):'forward_pe'}, inplace=True)\n",
    "    new_df = new_df.append(new_df1, ignore_index=True)"
   ]
  },
  {
   "cell_type": "code",
   "execution_count": null,
   "metadata": {},
   "outputs": [],
   "source": [
    "new_df.ticker.nunique()"
   ]
  },
  {
   "cell_type": "code",
   "execution_count": null,
   "metadata": {},
   "outputs": [],
   "source": [
    "len(new_df)"
   ]
  },
  {
   "cell_type": "markdown",
   "metadata": {},
   "source": [
    "## Data Quality Check"
   ]
  },
  {
   "cell_type": "code",
   "execution_count": 125,
   "metadata": {},
   "outputs": [
    {
     "data": {
      "text/plain": [
       "date          789274\n",
       "forward_pe    789274\n",
       "ticker             0\n",
       "dtype: int64"
      ]
     },
     "execution_count": 125,
     "metadata": {},
     "output_type": "execute_result"
    }
   ],
   "source": [
    "# Check if there is any null value\n",
    "forward_pe = new_df.copy()\n",
    "forward_pe.isnull().sum()"
   ]
  },
  {
   "cell_type": "code",
   "execution_count": 126,
   "metadata": {},
   "outputs": [],
   "source": [
    "# Drop the null values\n",
    "forward_pe = forward_pe.dropna(axis=0, how='any')"
   ]
  },
  {
   "cell_type": "code",
   "execution_count": 127,
   "metadata": {},
   "outputs": [
    {
     "data": {
      "text/plain": [
       "0"
      ]
     },
     "execution_count": 127,
     "metadata": {},
     "output_type": "execute_result"
    }
   ],
   "source": [
    "# Check if there is any duplicates\n",
    "len(forward_pe[forward_pe.duplicated(subset=['ticker', 'date'], keep='first')])"
   ]
  },
  {
   "cell_type": "code",
   "execution_count": 128,
   "metadata": {},
   "outputs": [],
   "source": [
    "forward_pe['date'] = pd.to_datetime(forward_pe['date'])"
   ]
  },
  {
   "cell_type": "code",
   "execution_count": 129,
   "metadata": {},
   "outputs": [],
   "source": [
    "forward_pe.to_csv('forward_pe.csv', index=False)"
   ]
  },
  {
   "cell_type": "code",
   "execution_count": 2,
   "metadata": {},
   "outputs": [],
   "source": [
    "forward_pe_new = pd.read_csv('forward_pe.csv', parse_dates=['date'])"
   ]
  },
  {
   "cell_type": "code",
   "execution_count": 3,
   "metadata": {},
   "outputs": [
    {
     "data": {
      "text/plain": [
       "2912"
      ]
     },
     "execution_count": 3,
     "metadata": {},
     "output_type": "execute_result"
    }
   ],
   "source": [
    "forward_pe_new.ticker.nunique()"
   ]
  },
  {
   "cell_type": "code",
   "execution_count": 4,
   "metadata": {},
   "outputs": [],
   "source": [
    "# Check if there is any date_gap\n",
    "forward_pe_test = forward_pe_new.copy()\n",
    "forward_pe_test = forward_pe_test.sort_values(['ticker' ,'date']).reset_index(drop=True)\n",
    "forward_pe_test['next_date'] = forward_pe_test.groupby('ticker')['date'].shift(-1)\n",
    "forward_pe_test['date_gap'] = forward_pe_test.apply(lambda x:(x['next_date'] - x['date']).days, axis=1)"
   ]
  },
  {
   "cell_type": "code",
   "execution_count": 37,
   "metadata": {},
   "outputs": [
    {
     "data": {
      "text/html": [
       "<div>\n",
       "<style scoped>\n",
       "    .dataframe tbody tr th:only-of-type {\n",
       "        vertical-align: middle;\n",
       "    }\n",
       "\n",
       "    .dataframe tbody tr th {\n",
       "        vertical-align: top;\n",
       "    }\n",
       "\n",
       "    .dataframe thead th {\n",
       "        text-align: right;\n",
       "    }\n",
       "</style>\n",
       "<table border=\"1\" class=\"dataframe\">\n",
       "  <thead>\n",
       "    <tr style=\"text-align: right;\">\n",
       "      <th></th>\n",
       "      <th>date</th>\n",
       "      <th>forward_pe</th>\n",
       "      <th>ticker</th>\n",
       "      <th>next_date</th>\n",
       "      <th>date_gap</th>\n",
       "    </tr>\n",
       "  </thead>\n",
       "  <tbody>\n",
       "    <tr>\n",
       "      <th>592314</th>\n",
       "      <td>2004-12-31</td>\n",
       "      <td>17.58</td>\n",
       "      <td>GNTY</td>\n",
       "      <td>2017-06-09</td>\n",
       "      <td>4543.0</td>\n",
       "    </tr>\n",
       "    <tr>\n",
       "      <th>783120</th>\n",
       "      <td>2006-12-29</td>\n",
       "      <td>99.90</td>\n",
       "      <td>LCTX</td>\n",
       "      <td>2016-03-18</td>\n",
       "      <td>3367.0</td>\n",
       "    </tr>\n",
       "    <tr>\n",
       "      <th>157398</th>\n",
       "      <td>2008-12-26</td>\n",
       "      <td>99.90</td>\n",
       "      <td>BBX</td>\n",
       "      <td>2017-12-01</td>\n",
       "      <td>3262.0</td>\n",
       "    </tr>\n",
       "    <tr>\n",
       "      <th>860085</th>\n",
       "      <td>2009-12-25</td>\n",
       "      <td>13.76</td>\n",
       "      <td>MFNC</td>\n",
       "      <td>2018-04-06</td>\n",
       "      <td>3024.0</td>\n",
       "    </tr>\n",
       "    <tr>\n",
       "      <th>1181089</th>\n",
       "      <td>2007-12-28</td>\n",
       "      <td>14.18</td>\n",
       "      <td>SBBX</td>\n",
       "      <td>2015-10-16</td>\n",
       "      <td>2849.0</td>\n",
       "    </tr>\n",
       "  </tbody>\n",
       "</table>\n",
       "</div>"
      ],
      "text/plain": [
       "              date  forward_pe ticker  next_date  date_gap\n",
       "592314  2004-12-31       17.58   GNTY 2017-06-09    4543.0\n",
       "783120  2006-12-29       99.90   LCTX 2016-03-18    3367.0\n",
       "157398  2008-12-26       99.90    BBX 2017-12-01    3262.0\n",
       "860085  2009-12-25       13.76   MFNC 2018-04-06    3024.0\n",
       "1181089 2007-12-28       14.18   SBBX 2015-10-16    2849.0"
      ]
     },
     "execution_count": 37,
     "metadata": {},
     "output_type": "execute_result"
    }
   ],
   "source": [
    "forward_pe_test[(forward_pe_test['date_gap'].notnull()) & (forward_pe_test['date_gap'] > 7)].sort_values('date_gap', ascending=False).head()"
   ]
  },
  {
   "cell_type": "code",
   "execution_count": 9,
   "metadata": {},
   "outputs": [
    {
     "data": {
      "text/plain": [
       "1066"
      ]
     },
     "execution_count": 9,
     "metadata": {},
     "output_type": "execute_result"
    }
   ],
   "source": [
    "forward_pe_test[(forward_pe_test['date_gap'].notnull()) & (forward_pe_test['date_gap'] > 7) & (forward_pe_test['date'] > '2004-08-06')].ticker.nunique()"
   ]
  },
  {
   "cell_type": "code",
   "execution_count": 23,
   "metadata": {},
   "outputs": [],
   "source": [
    "list = forward_pe_test[(forward_pe_test['date_gap'].notnull()) & (forward_pe_test['date_gap'] > 7)].ticker.unique()"
   ]
  },
  {
   "cell_type": "code",
   "execution_count": 38,
   "metadata": {},
   "outputs": [],
   "source": [
    "# pe_df1 = pd.DataFrame({'Date_Gap_Ticker': list})"
   ]
  },
  {
   "cell_type": "code",
   "execution_count": 26,
   "metadata": {},
   "outputs": [],
   "source": [
    "pe_df1.to_csv('pe_dategap_ticker.csv', index=False)"
   ]
  },
  {
   "cell_type": "code",
   "execution_count": null,
   "metadata": {},
   "outputs": [],
   "source": [
    "forward_pe.to_csv(forward_pe.csv, index=False)"
   ]
  },
  {
   "cell_type": "code",
   "execution_count": 51,
   "metadata": {},
   "outputs": [],
   "source": [
    "# Based on the client's request, drop the tickers that have date-gap is larger than 7 (1066 tickers are dropped)\n",
    "left_pe = forward_pe_new[~forward_pe_new.ticker.isin(list)]"
   ]
  },
  {
   "cell_type": "markdown",
   "metadata": {},
   "source": [
    "# PS Data"
   ]
  },
  {
   "cell_type": "markdown",
   "metadata": {},
   "source": [
    "## Read In PS Data"
   ]
  },
  {
   "cell_type": "code",
   "execution_count": 17,
   "metadata": {},
   "outputs": [],
   "source": [
    "fwd_ps = pd.read_csv('FWD_PS.csv', low_memory=False)\n",
    "fwd_ps.columns = fwd_ps.columns.str.replace(' ','')"
   ]
  },
  {
   "cell_type": "code",
   "execution_count": 107,
   "metadata": {},
   "outputs": [
    {
     "name": "stderr",
     "output_type": "stream",
     "text": [
      "/Users/sz/anaconda3/lib/python3.7/site-packages/ipykernel_launcher.py:3: SettingWithCopyWarning: \n",
      "A value is trying to be set on a copy of a slice from a DataFrame.\n",
      "Try using .loc[row_indexer,col_indexer] = value instead\n",
      "\n",
      "See the caveats in the documentation: http://pandas.pydata.org/pandas-docs/stable/user_guide/indexing.html#returning-a-view-versus-a-copy\n",
      "  This is separate from the ipykernel package so we can avoid doing imports until\n"
     ]
    }
   ],
   "source": [
    "new_df2 = fwd_ps[['AAN', 'Unnamed:1']]\n",
    "new_df2.rename(columns={'AAN':'date', 'Unnamed:1':'forward_ps'}, inplace=True)\n",
    "new_df2['ticker'] = 'AAN'"
   ]
  },
  {
   "cell_type": "code",
   "execution_count": 108,
   "metadata": {},
   "outputs": [
    {
     "data": {
      "text/plain": [
       "(785, 5824)"
      ]
     },
     "execution_count": 108,
     "metadata": {},
     "output_type": "execute_result"
    }
   ],
   "source": [
    "fwd_ps.shape"
   ]
  },
  {
   "cell_type": "code",
   "execution_count": 109,
   "metadata": {},
   "outputs": [
    {
     "data": {
      "text/plain": [
       "'date'"
      ]
     },
     "execution_count": 109,
     "metadata": {},
     "output_type": "execute_result"
    }
   ],
   "source": [
    "new_df2.columns[0]"
   ]
  },
  {
   "cell_type": "markdown",
   "metadata": {},
   "source": [
    "## Transform the PS Data"
   ]
  },
  {
   "cell_type": "code",
   "execution_count": 110,
   "metadata": {},
   "outputs": [
    {
     "name": "stderr",
     "output_type": "stream",
     "text": [
      "/Users/sz/anaconda3/lib/python3.7/site-packages/ipykernel_launcher.py:3: SettingWithCopyWarning: \n",
      "A value is trying to be set on a copy of a slice from a DataFrame.\n",
      "Try using .loc[row_indexer,col_indexer] = value instead\n",
      "\n",
      "See the caveats in the documentation: http://pandas.pydata.org/pandas-docs/stable/user_guide/indexing.html#returning-a-view-versus-a-copy\n",
      "  This is separate from the ipykernel package so we can avoid doing imports until\n"
     ]
    }
   ],
   "source": [
    "for n in range(2,5823,2):\n",
    "    new_df1 = fwd_ps.iloc[:,[n,n+1]]\n",
    "    new_df1['ticker'] = new_df1.columns[0]\n",
    "    first_col = new_df1.columns[0]\n",
    "    new_df1.rename(columns={first_col:'date', 'Unnamed:{}'.format(n+1):'forward_ps'}, inplace=True)\n",
    "    new_df2 = new_df2.append(new_df1, ignore_index=True)"
   ]
  },
  {
   "cell_type": "markdown",
   "metadata": {},
   "source": [
    "## Data Quality Check"
   ]
  },
  {
   "cell_type": "code",
   "execution_count": 111,
   "metadata": {},
   "outputs": [
    {
     "data": {
      "text/plain": [
       "date          813572\n",
       "forward_ps    813572\n",
       "ticker             0\n",
       "dtype: int64"
      ]
     },
     "execution_count": 111,
     "metadata": {},
     "output_type": "execute_result"
    }
   ],
   "source": [
    "# Check if there is any null value\n",
    "forward_ps = new_df2.copy()\n",
    "forward_ps.isnull().sum()"
   ]
  },
  {
   "cell_type": "code",
   "execution_count": 112,
   "metadata": {},
   "outputs": [],
   "source": [
    "# Drop the null values\n",
    "forward_ps = forward_ps.dropna(axis=0, how='any')"
   ]
  },
  {
   "cell_type": "code",
   "execution_count": 113,
   "metadata": {},
   "outputs": [
    {
     "data": {
      "text/plain": [
       "0"
      ]
     },
     "execution_count": 113,
     "metadata": {},
     "output_type": "execute_result"
    }
   ],
   "source": [
    "# Check if there is any duplicates\n",
    "len(forward_ps[forward_ps.duplicated(subset=['ticker', 'date'], keep='first')])"
   ]
  },
  {
   "cell_type": "code",
   "execution_count": 114,
   "metadata": {},
   "outputs": [],
   "source": [
    "forward_ps['date'] = pd.to_datetime(forward_ps['date'])"
   ]
  },
  {
   "cell_type": "code",
   "execution_count": 118,
   "metadata": {},
   "outputs": [],
   "source": [
    "forward_ps.to_csv('forward_ps.csv', index=False)"
   ]
  },
  {
   "cell_type": "code",
   "execution_count": 6,
   "metadata": {},
   "outputs": [],
   "source": [
    "forward_ps_new = pd.read_csv('forward_ps.csv', parse_dates=['date'])"
   ]
  },
  {
   "cell_type": "code",
   "execution_count": 7,
   "metadata": {},
   "outputs": [],
   "source": [
    "# Check if there is any date_gap\n",
    "forward_ps_test = forward_ps_new.copy()\n",
    "forward_ps_test = forward_ps_test.sort_values(['ticker' ,'date']).reset_index(drop=True)\n",
    "forward_ps_test['next_date'] = forward_ps_test.groupby('ticker')['date'].shift(-1)\n",
    "forward_ps_test['date_gap'] = forward_ps_test.apply(lambda x:(x['next_date'] - x['date']).days, axis=1)"
   ]
  },
  {
   "cell_type": "code",
   "execution_count": 44,
   "metadata": {},
   "outputs": [
    {
     "data": {
      "text/plain": [
       "1216"
      ]
     },
     "execution_count": 44,
     "metadata": {},
     "output_type": "execute_result"
    }
   ],
   "source": [
    "forward_ps_test[(forward_ps_test['date_gap'].notnull()) & (forward_ps_test['date_gap'] > 7)].sort_values('date_gap', ascending=False).ticker.nunique()"
   ]
  },
  {
   "cell_type": "code",
   "execution_count": 27,
   "metadata": {},
   "outputs": [],
   "source": [
    "list2 = forward_ps_test[(forward_ps_test['date_gap'].notnull()) & (forward_ps_test['date_gap'] > 7)].sort_values('date_gap', ascending=False).ticker.unique()"
   ]
  },
  {
   "cell_type": "code",
   "execution_count": 28,
   "metadata": {},
   "outputs": [],
   "source": [
    "ps_df1 = pd.DataFrame({'Date_Gap_Ticker': list2})"
   ]
  },
  {
   "cell_type": "code",
   "execution_count": 36,
   "metadata": {},
   "outputs": [],
   "source": [
    "ps_df1.to_csv('ps_dategap_ticker.csv', index=False)"
   ]
  },
  {
   "cell_type": "code",
   "execution_count": 52,
   "metadata": {},
   "outputs": [],
   "source": [
    "# Based on the client's request, drop the tickers that have date-gap is larger than 7 (1216 tickers are dropped)\n",
    "left_ps = forward_ps_new[~forward_ps_new.ticker.isin(list2)]"
   ]
  },
  {
   "cell_type": "markdown",
   "metadata": {},
   "source": [
    "## Merge the left_ps and left_pe"
   ]
  },
  {
   "cell_type": "code",
   "execution_count": 152,
   "metadata": {},
   "outputs": [],
   "source": [
    "# After a check we could know that in all the 2912 tickers, 53 tickers are not overlapped in the pe and ps file, so we just drop them and remain the left part\n",
    "forward_ps_pe = left_ps.merge(left_pe, how='inner', on=['date', 'ticker'])\n",
    "forward_ps_pe = forward_ps_pe[['date', 'ticker', 'forward_ps', 'forward_pe']]"
   ]
  },
  {
   "cell_type": "code",
   "execution_count": 153,
   "metadata": {},
   "outputs": [
    {
     "data": {
      "text/plain": [
       "1550"
      ]
     },
     "execution_count": 153,
     "metadata": {},
     "output_type": "execute_result"
    }
   ],
   "source": [
    "forward_ps_pe.ticker.nunique()"
   ]
  },
  {
   "cell_type": "markdown",
   "metadata": {},
   "source": [
    "## Data Quanlity Check"
   ]
  },
  {
   "cell_type": "code",
   "execution_count": 154,
   "metadata": {},
   "outputs": [
    {
     "data": {
      "text/plain": [
       "date          0\n",
       "ticker        0\n",
       "forward_ps    0\n",
       "forward_pe    0\n",
       "dtype: int64"
      ]
     },
     "execution_count": 154,
     "metadata": {},
     "output_type": "execute_result"
    }
   ],
   "source": [
    "# Check if there is any null value\n",
    "ps_pe = forward_ps_pe.copy()\n",
    "ps_pe.isnull().sum()"
   ]
  },
  {
   "cell_type": "code",
   "execution_count": 155,
   "metadata": {},
   "outputs": [
    {
     "data": {
      "text/plain": [
       "0"
      ]
     },
     "execution_count": 155,
     "metadata": {},
     "output_type": "execute_result"
    }
   ],
   "source": [
    "# Check if there is any duplicates\n",
    "len(ps_pe[ps_pe.duplicated(subset=['ticker', 'date'], keep='first')])"
   ]
  },
  {
   "cell_type": "code",
   "execution_count": 70,
   "metadata": {},
   "outputs": [],
   "source": [
    "# Check if there is any date_gap\n",
    "ps_pe_test = ps_pe.copy()\n",
    "ps_pe_test = ps_pe_test.sort_values(['ticker' ,'date']).reset_index(drop=True)\n",
    "ps_pe_test['next_date'] = ps_pe_test.groupby('ticker')['date'].shift(-1)\n",
    "ps_pe_test['date_gap'] = ps_pe_test.apply(lambda x:(x['next_date'] - x['date']).days, axis=1)"
   ]
  },
  {
   "cell_type": "code",
   "execution_count": 72,
   "metadata": {},
   "outputs": [
    {
     "data": {
      "text/html": [
       "<div>\n",
       "<style scoped>\n",
       "    .dataframe tbody tr th:only-of-type {\n",
       "        vertical-align: middle;\n",
       "    }\n",
       "\n",
       "    .dataframe tbody tr th {\n",
       "        vertical-align: top;\n",
       "    }\n",
       "\n",
       "    .dataframe thead th {\n",
       "        text-align: right;\n",
       "    }\n",
       "</style>\n",
       "<table border=\"1\" class=\"dataframe\">\n",
       "  <thead>\n",
       "    <tr style=\"text-align: right;\">\n",
       "      <th></th>\n",
       "      <th>date</th>\n",
       "      <th>ticker</th>\n",
       "      <th>forward_ps</th>\n",
       "      <th>forward_pe</th>\n",
       "      <th>next_date</th>\n",
       "      <th>date_gap</th>\n",
       "    </tr>\n",
       "  </thead>\n",
       "  <tbody>\n",
       "  </tbody>\n",
       "</table>\n",
       "</div>"
      ],
      "text/plain": [
       "Empty DataFrame\n",
       "Columns: [date, ticker, forward_ps, forward_pe, next_date, date_gap]\n",
       "Index: []"
      ]
     },
     "execution_count": 72,
     "metadata": {},
     "output_type": "execute_result"
    }
   ],
   "source": [
    "ps_pe_test[(ps_pe_test['date_gap'].notnull()) & (ps_pe_test['date_gap'] > 7)].sort_values('date_gap', ascending=False)"
   ]
  },
  {
   "cell_type": "code",
   "execution_count": 156,
   "metadata": {},
   "outputs": [
    {
     "data": {
      "text/html": [
       "<div>\n",
       "<style scoped>\n",
       "    .dataframe tbody tr th:only-of-type {\n",
       "        vertical-align: middle;\n",
       "    }\n",
       "\n",
       "    .dataframe tbody tr th {\n",
       "        vertical-align: top;\n",
       "    }\n",
       "\n",
       "    .dataframe thead th {\n",
       "        text-align: right;\n",
       "    }\n",
       "</style>\n",
       "<table border=\"1\" class=\"dataframe\">\n",
       "  <thead>\n",
       "    <tr style=\"text-align: right;\">\n",
       "      <th></th>\n",
       "      <th>date</th>\n",
       "      <th>ticker</th>\n",
       "      <th>forward_ps</th>\n",
       "      <th>forward_pe</th>\n",
       "      <th>next_date</th>\n",
       "      <th>date_gap</th>\n",
       "    </tr>\n",
       "  </thead>\n",
       "  <tbody>\n",
       "    <tr>\n",
       "      <th>783</th>\n",
       "      <td>2019-08-09</td>\n",
       "      <td>A</td>\n",
       "      <td>3.96</td>\n",
       "      <td>20.68</td>\n",
       "      <td>2019-08-14</td>\n",
       "      <td>5.0</td>\n",
       "    </tr>\n",
       "    <tr>\n",
       "      <th>474443</th>\n",
       "      <td>2019-08-09</td>\n",
       "      <td>ONDK</td>\n",
       "      <td>0.56</td>\n",
       "      <td>8.31</td>\n",
       "      <td>2019-08-14</td>\n",
       "      <td>5.0</td>\n",
       "    </tr>\n",
       "    <tr>\n",
       "      <th>477600</th>\n",
       "      <td>2019-08-09</td>\n",
       "      <td>OSK</td>\n",
       "      <td>0.62</td>\n",
       "      <td>9.50</td>\n",
       "      <td>2019-08-14</td>\n",
       "      <td>5.0</td>\n",
       "    </tr>\n",
       "    <tr>\n",
       "      <th>476734</th>\n",
       "      <td>2019-08-09</td>\n",
       "      <td>ORLY</td>\n",
       "      <td>2.77</td>\n",
       "      <td>20.14</td>\n",
       "      <td>2019-08-14</td>\n",
       "      <td>5.0</td>\n",
       "    </tr>\n",
       "    <tr>\n",
       "      <th>475949</th>\n",
       "      <td>2019-08-09</td>\n",
       "      <td>ORGO</td>\n",
       "      <td>0.14</td>\n",
       "      <td>99.90</td>\n",
       "      <td>2019-08-14</td>\n",
       "      <td>5.0</td>\n",
       "    </tr>\n",
       "  </tbody>\n",
       "</table>\n",
       "</div>"
      ],
      "text/plain": [
       "             date ticker  forward_ps  forward_pe  next_date  date_gap\n",
       "783    2019-08-09      A        3.96       20.68 2019-08-14       5.0\n",
       "474443 2019-08-09   ONDK        0.56        8.31 2019-08-14       5.0\n",
       "477600 2019-08-09    OSK        0.62        9.50 2019-08-14       5.0\n",
       "476734 2019-08-09   ORLY        2.77       20.14 2019-08-14       5.0\n",
       "475949 2019-08-09   ORGO        0.14       99.90 2019-08-14       5.0"
      ]
     },
     "execution_count": 156,
     "metadata": {},
     "output_type": "execute_result"
    }
   ],
   "source": [
    "ps_pe_test[(ps_pe_test['date_gap'].notnull()) & (ps_pe_test['date_gap'] != 7)].sort_values('date_gap', ascending=False).head()"
   ]
  },
  {
   "cell_type": "code",
   "execution_count": 157,
   "metadata": {},
   "outputs": [],
   "source": [
    "ps_pe2 = ps_pe[ps_pe['date'] != '2019-08-14']"
   ]
  },
  {
   "cell_type": "code",
   "execution_count": 138,
   "metadata": {},
   "outputs": [],
   "source": [
    "ps_pe_test3 = ps_pe2.copy()\n",
    "ps_pe_test3 = ps_pe_test3.sort_values(['ticker' ,'date']).reset_index(drop=True)\n",
    "ps_pe_test3['next_date'] = ps_pe_test3.groupby('ticker')['date'].shift(-1)\n",
    "ps_pe_test3['date_gap'] = ps_pe_test3.apply(lambda x:(x['next_date'] - x['date']).days, axis=1)"
   ]
  },
  {
   "cell_type": "code",
   "execution_count": 140,
   "metadata": {},
   "outputs": [
    {
     "data": {
      "text/html": [
       "<div>\n",
       "<style scoped>\n",
       "    .dataframe tbody tr th:only-of-type {\n",
       "        vertical-align: middle;\n",
       "    }\n",
       "\n",
       "    .dataframe tbody tr th {\n",
       "        vertical-align: top;\n",
       "    }\n",
       "\n",
       "    .dataframe thead th {\n",
       "        text-align: right;\n",
       "    }\n",
       "</style>\n",
       "<table border=\"1\" class=\"dataframe\">\n",
       "  <thead>\n",
       "    <tr style=\"text-align: right;\">\n",
       "      <th></th>\n",
       "      <th>date</th>\n",
       "      <th>ticker</th>\n",
       "      <th>forward_ps</th>\n",
       "      <th>forward_pe</th>\n",
       "      <th>next_date</th>\n",
       "      <th>date_gap</th>\n",
       "    </tr>\n",
       "  </thead>\n",
       "  <tbody>\n",
       "  </tbody>\n",
       "</table>\n",
       "</div>"
      ],
      "text/plain": [
       "Empty DataFrame\n",
       "Columns: [date, ticker, forward_ps, forward_pe, next_date, date_gap]\n",
       "Index: []"
      ]
     },
     "execution_count": 140,
     "metadata": {},
     "output_type": "execute_result"
    }
   ],
   "source": [
    "ps_pe_test3[(ps_pe_test3['date_gap'].notnull()) & (ps_pe_test3['date_gap'] != 7)].sort_values('date_gap', ascending=False)"
   ]
  },
  {
   "cell_type": "code",
   "execution_count": 158,
   "metadata": {},
   "outputs": [],
   "source": [
    "ps_pe2.to_csv('forward_ps_pe.csv', index=False)"
   ]
  }
 ],
 "metadata": {
  "kernelspec": {
   "display_name": "Python 3",
   "language": "python",
   "name": "python3"
  },
  "language_info": {
   "codemirror_mode": {
    "name": "ipython",
    "version": 3
   },
   "file_extension": ".py",
   "mimetype": "text/x-python",
   "name": "python",
   "nbconvert_exporter": "python",
   "pygments_lexer": "ipython3",
   "version": "3.7.4"
  }
 },
 "nbformat": 4,
 "nbformat_minor": 4
}
