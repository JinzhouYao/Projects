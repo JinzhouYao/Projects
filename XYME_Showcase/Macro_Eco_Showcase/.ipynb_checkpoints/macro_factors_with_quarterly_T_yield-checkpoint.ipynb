{
 "cells": [
  {
   "cell_type": "markdown",
   "metadata": {},
   "source": [
    "# Import"
   ]
  },
  {
   "cell_type": "code",
   "execution_count": 1,
   "metadata": {},
   "outputs": [],
   "source": [
    "import pandas as pd\n",
    "import numpy as np"
   ]
  },
  {
   "cell_type": "markdown",
   "metadata": {},
   "source": [
    "# Read Data"
   ]
  },
  {
   "cell_type": "code",
   "execution_count": 2,
   "metadata": {},
   "outputs": [],
   "source": [
    "macro_analysis = pd.read_csv('Macroeconomic_Analysis.csv')"
   ]
  },
  {
   "cell_type": "code",
   "execution_count": 3,
   "metadata": {},
   "outputs": [
    {
     "data": {
      "text/html": [
       "<div>\n",
       "<style scoped>\n",
       "    .dataframe tbody tr th:only-of-type {\n",
       "        vertical-align: middle;\n",
       "    }\n",
       "\n",
       "    .dataframe tbody tr th {\n",
       "        vertical-align: top;\n",
       "    }\n",
       "\n",
       "    .dataframe thead th {\n",
       "        text-align: right;\n",
       "    }\n",
       "</style>\n",
       "<table border=\"1\" class=\"dataframe\">\n",
       "  <thead>\n",
       "    <tr style=\"text-align: right;\">\n",
       "      <th></th>\n",
       "      <th>Date</th>\n",
       "      <th>Gross domestic product</th>\n",
       "      <th>Government consumption expenditures and gross investment</th>\n",
       "      <th>Personal income</th>\n",
       "      <th>Government Current receipts</th>\n",
       "      <th>Government Current expenditures</th>\n",
       "      <th>Exports of goods and services</th>\n",
       "      <th>Imports of goods and services</th>\n",
       "      <th>Treasury_yield</th>\n",
       "    </tr>\n",
       "  </thead>\n",
       "  <tbody>\n",
       "    <tr>\n",
       "      <th>0</th>\n",
       "      <td>1990.1</td>\n",
       "      <td>5872.7</td>\n",
       "      <td>1212.5</td>\n",
       "      <td>4818.9</td>\n",
       "      <td>1677.6</td>\n",
       "      <td>1901.2</td>\n",
       "      <td>538.2</td>\n",
       "      <td>626.8</td>\n",
       "      <td>8.441813</td>\n",
       "    </tr>\n",
       "    <tr>\n",
       "      <th>1</th>\n",
       "      <td>1990.2</td>\n",
       "      <td>5960.0</td>\n",
       "      <td>1230.7</td>\n",
       "      <td>4899.2</td>\n",
       "      <td>1698.4</td>\n",
       "      <td>1938.8</td>\n",
       "      <td>545.9</td>\n",
       "      <td>614.8</td>\n",
       "      <td>8.648328</td>\n",
       "    </tr>\n",
       "    <tr>\n",
       "      <th>2</th>\n",
       "      <td>1990.3</td>\n",
       "      <td>6015.1</td>\n",
       "      <td>1242.6</td>\n",
       "      <td>4958.5</td>\n",
       "      <td>1727.6</td>\n",
       "      <td>1965.6</td>\n",
       "      <td>555.1</td>\n",
       "      <td>630.1</td>\n",
       "      <td>8.796840</td>\n",
       "    </tr>\n",
       "    <tr>\n",
       "      <th>3</th>\n",
       "      <td>1990.4</td>\n",
       "      <td>6004.7</td>\n",
       "      <td>1268.5</td>\n",
       "      <td>4978.6</td>\n",
       "      <td>1749.7</td>\n",
       "      <td>2005.9</td>\n",
       "      <td>568.2</td>\n",
       "      <td>647.3</td>\n",
       "      <td>8.545076</td>\n",
       "    </tr>\n",
       "    <tr>\n",
       "      <th>4</th>\n",
       "      <td>1991.1</td>\n",
       "      <td>6035.2</td>\n",
       "      <td>1284.2</td>\n",
       "      <td>4992.5</td>\n",
       "      <td>1735.0</td>\n",
       "      <td>1975.8</td>\n",
       "      <td>573.2</td>\n",
       "      <td>620.3</td>\n",
       "      <td>8.197245</td>\n",
       "    </tr>\n",
       "  </tbody>\n",
       "</table>\n",
       "</div>"
      ],
      "text/plain": [
       "     Date  Gross domestic product  \\\n",
       "0  1990.1                  5872.7   \n",
       "1  1990.2                  5960.0   \n",
       "2  1990.3                  6015.1   \n",
       "3  1990.4                  6004.7   \n",
       "4  1991.1                  6035.2   \n",
       "\n",
       "   Government consumption expenditures and gross investment  Personal income  \\\n",
       "0                                             1212.5                  4818.9   \n",
       "1                                             1230.7                  4899.2   \n",
       "2                                             1242.6                  4958.5   \n",
       "3                                             1268.5                  4978.6   \n",
       "4                                             1284.2                  4992.5   \n",
       "\n",
       "   Government Current receipts  Government Current expenditures  \\\n",
       "0                       1677.6                           1901.2   \n",
       "1                       1698.4                           1938.8   \n",
       "2                       1727.6                           1965.6   \n",
       "3                       1749.7                           2005.9   \n",
       "4                       1735.0                           1975.8   \n",
       "\n",
       "   Exports of goods and services  Imports of goods and services  \\\n",
       "0                          538.2                          626.8   \n",
       "1                          545.9                          614.8   \n",
       "2                          555.1                          630.1   \n",
       "3                          568.2                          647.3   \n",
       "4                          573.2                          620.3   \n",
       "\n",
       "   Treasury_yield  \n",
       "0        8.441813  \n",
       "1        8.648328  \n",
       "2        8.796840  \n",
       "3        8.545076  \n",
       "4        8.197245  "
      ]
     },
     "execution_count": 3,
     "metadata": {},
     "output_type": "execute_result"
    }
   ],
   "source": [
    "macro_analysis.head()"
   ]
  },
  {
   "cell_type": "markdown",
   "metadata": {},
   "source": [
    "# Quality Check"
   ]
  },
  {
   "cell_type": "code",
   "execution_count": 4,
   "metadata": {},
   "outputs": [
    {
     "data": {
      "text/plain": [
       "Date                                                         0\n",
       "Gross domestic product                                       1\n",
       "Government consumption expenditures and gross investment     1\n",
       "Personal income                                              1\n",
       "Government Current receipts                                  1\n",
       "Government Current expenditures                              1\n",
       "Exports of goods and services                                1\n",
       "Imports of goods and services                                1\n",
       "Treasury_yield                                              15\n",
       "dtype: int64"
      ]
     },
     "execution_count": 4,
     "metadata": {},
     "output_type": "execute_result"
    }
   ],
   "source": [
    "macro_analysis.isnull().sum()"
   ]
  },
  {
   "cell_type": "code",
   "execution_count": 5,
   "metadata": {},
   "outputs": [],
   "source": [
    "date_list = []\n",
    "for i in np.arange(1990,2020,1):\n",
    "    date_list.append(str(i) + '.4.1')\n",
    "    date_list.append(str(i) + '.7.1')\n",
    "    date_list.append(str(i) + '.10.1')\n",
    "    date_list.append(str(i) + '.1.1')"
   ]
  },
  {
   "cell_type": "code",
   "execution_count": 6,
   "metadata": {},
   "outputs": [],
   "source": [
    "macro_analysis.drop(columns='Date', inplace=True)"
   ]
  },
  {
   "cell_type": "code",
   "execution_count": 7,
   "metadata": {},
   "outputs": [],
   "source": [
    "macro_analysis.insert(0, column='Dates', value=date_list[:-1])"
   ]
  },
  {
   "cell_type": "code",
   "execution_count": 8,
   "metadata": {},
   "outputs": [
    {
     "data": {
      "text/plain": [
       "array(['2002.7.1', '2002.10.1', '2002.1.1', '2003.4.1', '2003.7.1',\n",
       "       '2003.10.1', '2003.1.1', '2004.4.1', '2004.7.1', '2004.10.1',\n",
       "       '2004.1.1', '2005.4.1', '2005.7.1', '2005.10.1', '2005.1.1'],\n",
       "      dtype=object)"
      ]
     },
     "execution_count": 8,
     "metadata": {},
     "output_type": "execute_result"
    }
   ],
   "source": [
    "macro_analysis[macro_analysis.Treasury_yield.isnull()].Dates.unique()"
   ]
  },
  {
   "cell_type": "code",
   "execution_count": 9,
   "metadata": {},
   "outputs": [],
   "source": [
    "macro_analysis.dropna(subset=['Treasury_yield'], inplace=True)"
   ]
  },
  {
   "cell_type": "code",
   "execution_count": 10,
   "metadata": {},
   "outputs": [
    {
     "data": {
      "text/plain": [
       "0"
      ]
     },
     "execution_count": 10,
     "metadata": {},
     "output_type": "execute_result"
    }
   ],
   "source": [
    "macro_analysis.Treasury_yield.isnull().sum().sum()"
   ]
  },
  {
   "cell_type": "code",
   "execution_count": 11,
   "metadata": {},
   "outputs": [],
   "source": [
    "Treasury_yield_next_quarter = macro_analysis.Treasury_yield.shift(-1, axis=0)\n",
    "macro_analysis.drop(columns='Treasury_yield', inplace=True)\n",
    "macro_analysis['Treasury_yield_next_quarter'] = Treasury_yield_next_quarter"
   ]
  },
  {
   "cell_type": "code",
   "execution_count": 12,
   "metadata": {},
   "outputs": [],
   "source": [
    "macro_analysis.dropna(inplace=True)"
   ]
  },
  {
   "cell_type": "code",
   "execution_count": 13,
   "metadata": {},
   "outputs": [],
   "source": [
    "macro_analysis.to_csv('macro_analysis_final_version.csv', index=False)"
   ]
  }
 ],
 "metadata": {
  "kernelspec": {
   "display_name": "Python 3",
   "language": "python",
   "name": "python3"
  },
  "language_info": {
   "codemirror_mode": {
    "name": "ipython",
    "version": 3
   },
   "file_extension": ".py",
   "mimetype": "text/x-python",
   "name": "python",
   "nbconvert_exporter": "python",
   "pygments_lexer": "ipython3",
   "version": "3.7.1"
  }
 },
 "nbformat": 4,
 "nbformat_minor": 2
}
