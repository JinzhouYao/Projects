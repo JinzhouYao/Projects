{
 "cells": [
  {
   "cell_type": "markdown",
   "metadata": {},
   "source": [
    "# Set Up"
   ]
  },
  {
   "cell_type": "markdown",
   "metadata": {},
   "source": [
    "## Import"
   ]
  },
  {
   "cell_type": "code",
   "execution_count": 1,
   "metadata": {},
   "outputs": [],
   "source": [
    "import pandas as pd \n",
    "from datetime import timedelta  "
   ]
  },
  {
   "cell_type": "markdown",
   "metadata": {},
   "source": [
    "### Read in PE/PS Data"
   ]
  },
  {
   "cell_type": "code",
   "execution_count": 2,
   "metadata": {},
   "outputs": [],
   "source": [
    "pe_ps = pd.read_csv('forward_ps_pe.csv', parse_dates=['date'])"
   ]
  },
  {
   "cell_type": "markdown",
   "metadata": {},
   "source": [
    "### Read in SPX Data"
   ]
  },
  {
   "cell_type": "code",
   "execution_count": 3,
   "metadata": {},
   "outputs": [
    {
     "data": {
      "text/html": [
       "<div>\n",
       "<style scoped>\n",
       "    .dataframe tbody tr th:only-of-type {\n",
       "        vertical-align: middle;\n",
       "    }\n",
       "\n",
       "    .dataframe tbody tr th {\n",
       "        vertical-align: top;\n",
       "    }\n",
       "\n",
       "    .dataframe thead th {\n",
       "        text-align: right;\n",
       "    }\n",
       "</style>\n",
       "<table border=\"1\" class=\"dataframe\">\n",
       "  <thead>\n",
       "    <tr style=\"text-align: right;\">\n",
       "      <th></th>\n",
       "      <th>date</th>\n",
       "      <th>spx_price</th>\n",
       "      <th>spx_ps</th>\n",
       "      <th>spx_pe</th>\n",
       "    </tr>\n",
       "  </thead>\n",
       "  <tbody>\n",
       "    <tr>\n",
       "      <th>0</th>\n",
       "      <td>2004-04-30</td>\n",
       "      <td>1107.31</td>\n",
       "      <td>1.5678</td>\n",
       "      <td>17.1850</td>\n",
       "    </tr>\n",
       "    <tr>\n",
       "      <th>1</th>\n",
       "      <td>2004-05-03</td>\n",
       "      <td>1117.49</td>\n",
       "      <td>1.5808</td>\n",
       "      <td>17.3119</td>\n",
       "    </tr>\n",
       "    <tr>\n",
       "      <th>2</th>\n",
       "      <td>2004-05-04</td>\n",
       "      <td>1119.55</td>\n",
       "      <td>1.5848</td>\n",
       "      <td>17.3311</td>\n",
       "    </tr>\n",
       "    <tr>\n",
       "      <th>3</th>\n",
       "      <td>2004-05-05</td>\n",
       "      <td>1121.53</td>\n",
       "      <td>1.5831</td>\n",
       "      <td>17.3580</td>\n",
       "    </tr>\n",
       "    <tr>\n",
       "      <th>4</th>\n",
       "      <td>2004-05-06</td>\n",
       "      <td>1113.99</td>\n",
       "      <td>1.5712</td>\n",
       "      <td>17.2442</td>\n",
       "    </tr>\n",
       "  </tbody>\n",
       "</table>\n",
       "</div>"
      ],
      "text/plain": [
       "        date  spx_price  spx_ps   spx_pe\n",
       "0 2004-04-30    1107.31  1.5678  17.1850\n",
       "1 2004-05-03    1117.49  1.5808  17.3119\n",
       "2 2004-05-04    1119.55  1.5848  17.3311\n",
       "3 2004-05-05    1121.53  1.5831  17.3580\n",
       "4 2004-05-06    1113.99  1.5712  17.2442"
      ]
     },
     "execution_count": 3,
     "metadata": {},
     "output_type": "execute_result"
    }
   ],
   "source": [
    "spx = pd.read_csv('SPX Data.csv', parse_dates=['Date'])\n",
    "spx = spx[['Date', 'PX_LAST', 'BEST_PX_SALES_RATIO', 'BEST_PE_RATIO']]\n",
    "spx.rename(columns={'Date': 'date', 'PX_LAST': 'spx_price', \n",
    "                    'BEST_PX_SALES_RATIO': 'spx_ps', 'BEST_PE_RATIO': 'spx_pe'}, inplace=True)\n",
    "spx = spx.sort_values(\"date\").reset_index(drop=True)\n",
    "spx.head()"
   ]
  },
  {
   "cell_type": "markdown",
   "metadata": {},
   "source": [
    "## Merge the spx data with pe/ps data"
   ]
  },
  {
   "cell_type": "code",
   "execution_count": 4,
   "metadata": {},
   "outputs": [
    {
     "data": {
      "text/plain": [
       "date              0\n",
       "ticker            0\n",
       "forward_ps        0\n",
       "forward_pe        0\n",
       "spx_price     23420\n",
       "spx_ps        23420\n",
       "spx_pe        23420\n",
       "dtype: int64"
      ]
     },
     "execution_count": 4,
     "metadata": {},
     "output_type": "execute_result"
    }
   ],
   "source": [
    "with_spx = pe_ps.merge(spx, how='left', on=['date'])\n",
    "with_spx.isnull().sum()"
   ]
  },
  {
   "cell_type": "code",
   "execution_count": 5,
   "metadata": {},
   "outputs": [],
   "source": [
    "holiday_list = with_spx[with_spx.spx_price.isnull()].date.unique()"
   ]
  },
  {
   "cell_type": "code",
   "execution_count": 6,
   "metadata": {},
   "outputs": [],
   "source": [
    "pe_ps_corr = pe_ps.copy()"
   ]
  },
  {
   "cell_type": "code",
   "execution_count": 7,
   "metadata": {},
   "outputs": [],
   "source": [
    "\"\"\"\n",
    "Based on the data, the p/e and p/s are predicted data \n",
    "of each Friday but some of these Fridays are holidays \n",
    "and do not have the corrseponding spx and price data\n",
    "So we change the date of these holidays to one day before \n",
    "which would have the corresponding spx and price data\n",
    "\"\"\" \n",
    "# Change the holiday dates to one day before and then merge it with the spx data\n",
    "holiday_index = pe_ps_corr[pe_ps_corr.date.isin(holiday_list)].index\n",
    "for index in holiday_index:\n",
    "    pe_ps_corr.loc[index, 'date'] = pe_ps_corr.loc[index, 'date'] - timedelta(days=1)"
   ]
  },
  {
   "cell_type": "code",
   "execution_count": 8,
   "metadata": {},
   "outputs": [],
   "source": [
    "# Merge the adjusted pe_ps data with the spx date again\n",
    "with_spx_new = pe_ps_corr.merge(spx, how='left', on=['date'])"
   ]
  },
  {
   "cell_type": "code",
   "execution_count": 9,
   "metadata": {},
   "outputs": [
    {
     "data": {
      "text/plain": [
       "array(['2019-08-08T00:00:00.000000000'], dtype='datetime64[ns]')"
      ]
     },
     "execution_count": 9,
     "metadata": {},
     "output_type": "execute_result"
    }
   ],
   "source": [
    "with_spx_new[with_spx_new.spx_ps.isnull()].date.unique()"
   ]
  },
  {
   "cell_type": "code",
   "execution_count": 10,
   "metadata": {},
   "outputs": [],
   "source": [
    "# After check that the 2019-08-08 do not have the latest spx data so drop the records of 2019-08-08\n",
    "with_spx_final = with_spx_new[with_spx_new.date != '2019-08-08']"
   ]
  },
  {
   "cell_type": "code",
   "execution_count": 11,
   "metadata": {},
   "outputs": [
    {
     "data": {
      "text/plain": [
       "date          0\n",
       "ticker        0\n",
       "forward_ps    0\n",
       "forward_pe    0\n",
       "spx_price     0\n",
       "spx_ps        0\n",
       "spx_pe        0\n",
       "dtype: int64"
      ]
     },
     "execution_count": 11,
     "metadata": {},
     "output_type": "execute_result"
    }
   ],
   "source": [
    "# Check if there is still any null values (None)\n",
    "with_spx_final.isnull().sum()"
   ]
  },
  {
   "cell_type": "markdown",
   "metadata": {},
   "source": [
    "# Calculation"
   ]
  },
  {
   "cell_type": "code",
   "execution_count": null,
   "metadata": {},
   "outputs": [],
   "source": [
    "with_spx_final = with_spx_final.sort_values(['ticker', 'date']).reset_index(drop=True)"
   ]
  },
  {
   "cell_type": "code",
   "execution_count": null,
   "metadata": {},
   "outputs": [],
   "source": [
    "with_spx_final.loc[:,'adjusted_spx_price'] = with_spx_final.loc[:,'spx_price']/10\n",
    "# with_spx_final.loc[:,'relative_price'] = with_spx_final.loc[:,'spx_price']/with_spx_final.loc[:,'adjusted_spx_price']"
   ]
  },
  {
   "cell_type": "code",
   "execution_count": null,
   "metadata": {},
   "outputs": [],
   "source": [
    "with_spx_final.loc[26,:]"
   ]
  },
  {
   "cell_type": "code",
   "execution_count": null,
   "metadata": {},
   "outputs": [],
   "source": [
    "#ticker_list = with_spx_final.ticker.unique()\n",
    "# calculation_price = pd.Dataframe()\n",
    "#for ticker in ticker_list:\n",
    "    #sub_data = with_spx_final.query(\"ticker == @ticker\").copy().reset_index(drop=True)\n",
    "    #sub_data.loc[25,'26W EMA Price'] = 0\n",
    "    #for n in range(26, len(sub_data)):\n",
    "        #sub_data.loc[n,'26W EMA Price'] = (sub_data.loc[n,'26W EMA Price']- sub_data.loc[n-1,'26W EMA Price'])*2/27 + sub_data.loc[n-1,'26W EMA Price']\n",
    "        #calculation_price = calculation_price.append(sub_data, index=False)"
   ]
  },
  {
   "cell_type": "code",
   "execution_count": null,
   "metadata": {},
   "outputs": [],
   "source": [
    "test = with_spx_final[with_spx_final.ticker == 'A']"
   ]
  },
  {
   "cell_type": "code",
   "execution_count": null,
   "metadata": {},
   "outputs": [],
   "source": [
    "test.head()"
   ]
  },
  {
   "cell_type": "code",
   "execution_count": null,
   "metadata": {},
   "outputs": [],
   "source": [
    "test.loc[(2-1),:]"
   ]
  },
  {
   "cell_type": "code",
   "execution_count": null,
   "metadata": {},
   "outputs": [],
   "source": [
    "n = 38\n",
    "for n in range(38, len(test)):\n",
    "    test.loc[n,'26W Ann Rate of Chage '] = (test.loc[n,'spx_price']/test.loc[(n-26),'spx_price'] -1 )/ 2\n",
    "    n = n+1"
   ]
  },
  {
   "cell_type": "code",
   "execution_count": null,
   "metadata": {},
   "outputs": [],
   "source": [
    "# test.loc[:,'12W SMA P/E'] = test.spx_price.rolling(window=13).mean()"
   ]
  },
  {
   "cell_type": "code",
   "execution_count": null,
   "metadata": {},
   "outputs": [],
   "source": [
    "# calculation_price2 = pd.Dataframe()\n",
    "#for ticker in ticker_list:\n",
    "    #sub_data = calculation_price.query(\"ticker == @ticker\").copy().reset_index(drop=True)\n",
    "    #sub_data.loc[:,'12W SMA P/E'] = sub_data.forward_pe.rolling(window=13).mean()\n",
    "    #calculation_price2 = calculation_price2.append(sub_data, index=False)"
   ]
  },
  {
   "cell_type": "code",
   "execution_count": null,
   "metadata": {},
   "outputs": [],
   "source": [
    "# calculation_price3 = pd.Dataframe()\n",
    "#for ticker in ticker_list:\n",
    "    #sub_data = calculation_price2.query(\"ticker == @ticker\").copy().reset_index(drop=True)\n",
    "    #for n in range(38, len(sub_data)):\n",
    "        #sub_data.loc[n,'26W Ann Rate of Change'] = (sub_data.loc[n,'spx_price']/sub_data.loc[(n-26),'spx_price'] -1 )/ 2\n",
    "        #calculation_price3 = calculation_price3.append(sub_data, index=False)"
   ]
  },
  {
   "cell_type": "code",
   "execution_count": null,
   "metadata": {},
   "outputs": [],
   "source": [
    "# calculation_price4 = pd.Dataframe()\n",
    "#for ticker in ticker_list:\n",
    "    #sub_data = calculation_price3.query(\"ticker == @ticker\").copy().reset_index(drop=True)\n",
    "    #sub_data.loc[51, '13W EMA Ann Rate of Change'] = np.mean(sub_data.loc[38:51,'26W Ann Rate of Chage']\n",
    "    #for n in range(52, len(sub_data)):\n",
    "        # sub_data.loc[n,'13W EMA Ann Rate of Change'] = (sub_data.loc[n,'26W Ann Rate of Chage']-\n",
    "                                                        #sub_data.loc[n-1,'13W EMA Ann Rate of Change'])*2/14 + sub_data.loc[(n-1),'13W EMA Ann Rate of Change']\n",
    "        #calculation_price4 = calculation_price4.append(sub_data, index=False)"
   ]
  },
  {
   "cell_type": "code",
   "execution_count": null,
   "metadata": {},
   "outputs": [],
   "source": [
    "# calculation_price5 = pd.Dataframe()\n",
    "#for ticker in ticker_list:\n",
    "    #sub_data = calculation_price4.query(\"ticker == @ticker\").copy().reset_index(drop=True)\n",
    "    #sub_data.loc[:,'8W SMA p/s'] = sub_data.forward_ps.rolling(window=9).mean()\n",
    "    #calculation_price5 = calculation_price5.append(sub_data, index=False)"
   ]
  },
  {
   "cell_type": "code",
   "execution_count": null,
   "metadata": {},
   "outputs": [],
   "source": [
    "# calculation_price6 = pd.Dataframe()\n",
    "#for ticker in ticker_list:\n",
    "    #sub_data = calculation_price5.query(\"ticker == @ticker\").copy().reset_index(drop=True)\n",
    "    #for n in range(34, len(sub_data)):\n",
    "        #sub_data.loc[n, '26W Ann Rate Change P/S'] = ((sub_data.loc[n,'8W SMA p/s']/sub_data.loc[(n-26),'8W SMA p/s'])-1)*2\n",
    "        #calculation_price6 = calculation_price6.append(sub_data, index=False)"
   ]
  },
  {
   "cell_type": "code",
   "execution_count": null,
   "metadata": {},
   "outputs": [],
   "source": [
    "# calculation_price7 = pd.Dataframe()\n",
    "#for ticker in ticker_list:\n",
    "    #sub_data = calculation_price6.query(\"ticker == @ticker\").copy().reset_index(drop=True)\n",
    "    #sub_data.loc[47, '13W EMA P/S ROC'] = np.mean(sub_data.loc[34:47,'26W Ann Rate Change P/S']\n",
    "    #for n in range(48, len(sub_data)):\n",
    "        #sub_data.loc[n,'13W EMA P/S ROC'] = (sub_data.loc[n,'26W Ann Rate Change P/S']-\n",
    "                                                        #sub_data.loc[n-1,'13W EMA P/S ROC'])*2/14 + sub_data.loc[(n-1),'13W EMA P/S ROC']\n",
    "        #calculation_price7 = calculation_price7.append(sub_data, index=False)"
   ]
  },
  {
   "cell_type": "code",
   "execution_count": null,
   "metadata": {},
   "outputs": [],
   "source": [
    "# calculation_price8 = pd.Dataframe()\n",
    "#for ticker in ticker_list:\n",
    "    #sub_data = calculation_price7.query(\"ticker == @ticker\").copy().reset_index(drop=True)\n",
    "    #sub_data.loc[:,'8W SMA Price'] = sub_data.relative_price.rolling(window=9).mean()\n",
    "    #calculation_price8 = calculation_price8.append(sub_data, index=False)"
   ]
  },
  {
   "cell_type": "code",
   "execution_count": null,
   "metadata": {},
   "outputs": [],
   "source": [
    "# # calculation_price9 = pd.Dataframe()\n",
    "#for ticker in ticker_list:\n",
    "    #sub_data = calculation_price8.query(\"ticker == @ticker\").copy().reset_index(drop=True)\n",
    "    #for n in range(34, len(sub_data)):\n",
    "        #sub_data.loc[n, '26W Ann Rate Change Price'] = ((sub_data.loc[n,'8W SMA Price']/sub_data.loc[(n-26),'8W SMA Price'])-1)*2\n",
    "        #calculation_price9 = calculation_price9.append(sub_data, index=False)"
   ]
  },
  {
   "cell_type": "code",
   "execution_count": null,
   "metadata": {},
   "outputs": [],
   "source": [
    "# calculation_price10 = pd.Dataframe()\n",
    "#for ticker in ticker_list:\n",
    "    #sub_data = calculation_price9.query(\"ticker == @ticker\").copy().reset_index(drop=True)\n",
    "    #sub_data.loc[47, '13W EMA Price ROC'] = np.mean(sub_data.loc[34:47,'26W Ann Rate Change Price']\n",
    "    #for n in range(48, len(sub_data)):\n",
    "        #sub_data.loc[n,'13W EMA Price ROC'] = (sub_data.loc[n,'26W Ann Rate Change Price']-\n",
    "                                                        #sub_data.loc[n-1,'13W EMA Price ROC'])*2/14 + sub_data.loc[(n-1),'13W EMA Price ROC']\n",
    "        #calculation_price7 = calculation_price10.append(sub_data, index=False)"
   ]
  },
  {
   "cell_type": "code",
   "execution_count": null,
   "metadata": {},
   "outputs": [],
   "source": [
    "# calculation_price11 = pd.Dataframe()\n",
    "#for ticker in ticker_list:\n",
    "    #sub_data = calculation_price10.query(\"ticker == @ticker\").copy().reset_index(drop=True)\n",
    "    # sub_data.loc[12,'12W EMA Relative Price'] = 0\n",
    "    #for n in range(13, len(sub_data)):\n",
    "        #sub_data.loc[n,'12W EMA Relative Price'] = (sub_data.loc[n,'relative_price'] - \n",
    "                                                    #sub_data.loc[n-1,'12W EMA Relative Price'])*2/13 + sub_data.loc[n-1,'12W EMA Relative Price']\n",
    "        #calculation_price8 = calculation_price11.append(sub_data, index=False)"
   ]
  },
  {
   "cell_type": "code",
   "execution_count": null,
   "metadata": {},
   "outputs": [],
   "source": [
    "# calculation_price12 = pd.Dataframe()\n",
    "#for ticker in ticker_list:\n",
    "    #sub_data = calculation_price11.query(\"ticker == @ticker\").copy().reset_index(drop=True)\n",
    "    #for n in range(26, len(sub_data)):\n",
    "        #sub_data.loc[n,'MACD'] = sub_data.loc[n,'12W EMA Relative Price'] - sub_data.loc[n,'26W EMA Price']\n",
    "        #calculation_price9 = calculation_price12.append(sub_data, index=False)"
   ]
  },
  {
   "cell_type": "code",
   "execution_count": null,
   "metadata": {},
   "outputs": [],
   "source": [
    "# calculation_price13 = pd.Dataframe()\n",
    "#for ticker in ticker_list:\n",
    "    #sub_data = calculation_price12.query(\"ticker == @ticker\").copy().reset_index(drop=True)\n",
    "    # sub_data.loc[35,'9W SMA MACD'] = np.mean(sub_data.loc[26:35,'MACD'])\n",
    "    #for n in range(36, len(sub_data)):\n",
    "        #sub_data.loc[n,'9W SMA MACD'] = (sub_data.loc[n,'MACD'] - \n",
    "                                                    #sub_data.loc[n-1,'9W SMA MACD'])*2/10 + sub_data.loc[n-1,'9W SMA MACD']\n",
    "        #calculation_price13 = calculation_price13.append(sub_data, index=False)"
   ]
  },
  {
   "cell_type": "code",
   "execution_count": null,
   "metadata": {},
   "outputs": [],
   "source": [
    "# Some signals Calculation\n",
    "#calculation_unfinish = calculation_price13.copy()"
   ]
  },
  {
   "cell_type": "code",
   "execution_count": null,
   "metadata": {},
   "outputs": [],
   "source": [
    "calculation_unfinish[‘P/S -.5’] = calculation_unfinish[].apply(lambda x:if x<-0.4999 1,0)"
   ]
  },
  {
   "cell_type": "markdown",
   "metadata": {},
   "source": [
    "## Read in Price Data"
   ]
  },
  {
   "cell_type": "code",
   "execution_count": null,
   "metadata": {},
   "outputs": [],
   "source": [
    "price = pd.read_csv('daily_price.csv', parse_dates=['date']).sort_values([\"date\", \"ticker\"]).reset_index(drop=True)\n",
    "price = price[['ticker', 'date', 'adj_close']]\n",
    "price.head()"
   ]
  },
  {
   "cell_type": "code",
   "execution_count": null,
   "metadata": {},
   "outputs": [],
   "source": [
    "price.head()"
   ]
  },
  {
   "cell_type": "code",
   "execution_count": null,
   "metadata": {},
   "outputs": [],
   "source": [
    "with_price = pe_ps.merge(price, how='left', on=['ticker', 'date'])"
   ]
  },
  {
   "cell_type": "code",
   "execution_count": null,
   "metadata": {},
   "outputs": [],
   "source": [
    "with_price.ticker.nunique()"
   ]
  },
  {
   "cell_type": "code",
   "execution_count": null,
   "metadata": {},
   "outputs": [],
   "source": [
    "with_price.isnull().sum()"
   ]
  },
  {
   "cell_type": "code",
   "execution_count": null,
   "metadata": {},
   "outputs": [],
   "source": [
    "len(with_price)"
   ]
  },
  {
   "cell_type": "code",
   "execution_count": null,
   "metadata": {},
   "outputs": [],
   "source": [
    "len(with_price[with_price.adj_close.isnull()].date.unique())"
   ]
  },
  {
   "cell_type": "code",
   "execution_count": null,
   "metadata": {},
   "outputs": [],
   "source": [
    "dates = with_price[with_price.adj_close.isnull()].date.unique()\n",
    "mon_day = [str(x)[5:10] for x in dates]"
   ]
  },
  {
   "cell_type": "code",
   "execution_count": null,
   "metadata": {},
   "outputs": [],
   "source": [
    "len(mon_day)"
   ]
  },
  {
   "cell_type": "code",
   "execution_count": null,
   "metadata": {},
   "outputs": [],
   "source": [
    "with_price[(with_price.adj_close.isnull()) & (with_price.ticker == 'AAN')]"
   ]
  },
  {
   "cell_type": "code",
   "execution_count": null,
   "metadata": {},
   "outputs": [],
   "source": [
    "with_price[with_price.adj_close.isnull()].ticker.nunique()"
   ]
  },
  {
   "cell_type": "code",
   "execution_count": null,
   "metadata": {},
   "outputs": [],
   "source": [
    "# Check if there is any date_gap\n",
    "with_price_test = with_price.copy()\n",
    "with_price_test = with_price_test.sort_values(['ticker' ,'date']).reset_index(drop=True)\n",
    "with_price_test['next_date'] = with_price_test.groupby('ticker')['date'].shift(-1)\n",
    "with_price_test['date_gap'] = with_price_test.apply(lambda x:(x['next_date'] - x['date']).days, axis=1)"
   ]
  },
  {
   "cell_type": "code",
   "execution_count": null,
   "metadata": {},
   "outputs": [],
   "source": [
    "with_price_test[(with_price_test['date_gap'].notnull()) & (with_price_test['date_gap'] != 7)].sort_values('date_gap', ascending=False).head()"
   ]
  },
  {
   "cell_type": "code",
   "execution_count": null,
   "metadata": {},
   "outputs": [],
   "source": []
  }
 ],
 "metadata": {
  "kernelspec": {
   "display_name": "Python 3",
   "language": "python",
   "name": "python3"
  },
  "language_info": {
   "codemirror_mode": {
    "name": "ipython",
    "version": 3
   },
   "file_extension": ".py",
   "mimetype": "text/x-python",
   "name": "python",
   "nbconvert_exporter": "python",
   "pygments_lexer": "ipython3",
   "version": "3.6.5"
  }
 },
 "nbformat": 4,
 "nbformat_minor": 4
}
