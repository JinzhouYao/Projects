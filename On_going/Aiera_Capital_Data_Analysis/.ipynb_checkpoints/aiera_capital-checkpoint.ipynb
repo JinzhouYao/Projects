{
 "cells": [
  {
   "cell_type": "markdown",
   "metadata": {},
   "source": [
    "# Set Up"
   ]
  },
  {
   "cell_type": "markdown",
   "metadata": {},
   "source": [
    "## Import"
   ]
  },
  {
   "cell_type": "code",
   "execution_count": 1,
   "metadata": {},
   "outputs": [],
   "source": [
    "import pandas as pd\n",
    "import numpy as np"
   ]
  },
  {
   "cell_type": "markdown",
   "metadata": {},
   "source": [
    "## Read Sales Data"
   ]
  },
  {
   "cell_type": "code",
   "execution_count": 2,
   "metadata": {},
   "outputs": [],
   "source": [
    "sales_2013 = pd.read_csv('p_sales pre 2013.csv', parse_dates=['revision'])\n",
    "sales_2016 = pd.read_csv('p_sales 2013-2016.csv', parse_dates=['revision'])\n",
    "sales_2017 = pd.read_csv('p_sales post 2017.csv', parse_dates=['revision'])"
   ]
  },
  {
   "cell_type": "code",
   "execution_count": 3,
   "metadata": {},
   "outputs": [
    {
     "data": {
      "text/html": [
       "<div>\n",
       "<style scoped>\n",
       "    .dataframe tbody tr th:only-of-type {\n",
       "        vertical-align: middle;\n",
       "    }\n",
       "\n",
       "    .dataframe tbody tr th {\n",
       "        vertical-align: top;\n",
       "    }\n",
       "\n",
       "    .dataframe thead th {\n",
       "        text-align: right;\n",
       "    }\n",
       "</style>\n",
       "<table border=\"1\" class=\"dataframe\">\n",
       "  <thead>\n",
       "    <tr style=\"text-align: right;\">\n",
       "      <th></th>\n",
       "      <th>equity_id</th>\n",
       "      <th>identifier</th>\n",
       "      <th>metric</th>\n",
       "      <th>revision</th>\n",
       "      <th>next_twelve_months</th>\n",
       "    </tr>\n",
       "  </thead>\n",
       "  <tbody>\n",
       "    <tr>\n",
       "      <th>0</th>\n",
       "      <td>526</td>\n",
       "      <td>XEL</td>\n",
       "      <td>p_sales</td>\n",
       "      <td>2012-12-31</td>\n",
       "      <td>1.175640</td>\n",
       "    </tr>\n",
       "    <tr>\n",
       "      <th>1</th>\n",
       "      <td>528</td>\n",
       "      <td>XLNX</td>\n",
       "      <td>p_sales</td>\n",
       "      <td>2012-12-31</td>\n",
       "      <td>4.198560</td>\n",
       "    </tr>\n",
       "    <tr>\n",
       "      <th>2</th>\n",
       "      <td>235</td>\n",
       "      <td>XOM</td>\n",
       "      <td>p_sales</td>\n",
       "      <td>2012-12-31</td>\n",
       "      <td>0.877024</td>\n",
       "    </tr>\n",
       "    <tr>\n",
       "      <th>3</th>\n",
       "      <td>1360</td>\n",
       "      <td>XPO</td>\n",
       "      <td>p_sales</td>\n",
       "      <td>2012-12-31</td>\n",
       "      <td>0.504743</td>\n",
       "    </tr>\n",
       "    <tr>\n",
       "      <th>4</th>\n",
       "      <td>198</td>\n",
       "      <td>XRAY</td>\n",
       "      <td>p_sales</td>\n",
       "      <td>2012-12-31</td>\n",
       "      <td>1.872420</td>\n",
       "    </tr>\n",
       "  </tbody>\n",
       "</table>\n",
       "</div>"
      ],
      "text/plain": [
       "   equity_id identifier   metric   revision  next_twelve_months\n",
       "0        526        XEL  p_sales 2012-12-31            1.175640\n",
       "1        528       XLNX  p_sales 2012-12-31            4.198560\n",
       "2        235        XOM  p_sales 2012-12-31            0.877024\n",
       "3       1360        XPO  p_sales 2012-12-31            0.504743\n",
       "4        198       XRAY  p_sales 2012-12-31            1.872420"
      ]
     },
     "execution_count": 3,
     "metadata": {},
     "output_type": "execute_result"
    }
   ],
   "source": [
    "sales_2013.head()"
   ]
  },
  {
   "cell_type": "code",
   "execution_count": 4,
   "metadata": {},
   "outputs": [
    {
     "data": {
      "text/html": [
       "<div>\n",
       "<style scoped>\n",
       "    .dataframe tbody tr th:only-of-type {\n",
       "        vertical-align: middle;\n",
       "    }\n",
       "\n",
       "    .dataframe tbody tr th {\n",
       "        vertical-align: top;\n",
       "    }\n",
       "\n",
       "    .dataframe thead th {\n",
       "        text-align: right;\n",
       "    }\n",
       "</style>\n",
       "<table border=\"1\" class=\"dataframe\">\n",
       "  <thead>\n",
       "    <tr style=\"text-align: right;\">\n",
       "      <th></th>\n",
       "      <th>equity_id</th>\n",
       "      <th>identifier</th>\n",
       "      <th>metric</th>\n",
       "      <th>revision</th>\n",
       "      <th>next_twelve_months</th>\n",
       "    </tr>\n",
       "  </thead>\n",
       "  <tbody>\n",
       "    <tr>\n",
       "      <th>0</th>\n",
       "      <td>1360</td>\n",
       "      <td>XPO</td>\n",
       "      <td>p_sales</td>\n",
       "      <td>2016-12-30</td>\n",
       "      <td>0.322400</td>\n",
       "    </tr>\n",
       "    <tr>\n",
       "      <th>1</th>\n",
       "      <td>198</td>\n",
       "      <td>XRAY</td>\n",
       "      <td>p_sales</td>\n",
       "      <td>2016-12-30</td>\n",
       "      <td>3.240700</td>\n",
       "    </tr>\n",
       "    <tr>\n",
       "      <th>2</th>\n",
       "      <td>527</td>\n",
       "      <td>XRX</td>\n",
       "      <td>p_sales</td>\n",
       "      <td>2016-12-30</td>\n",
       "      <td>0.516028</td>\n",
       "    </tr>\n",
       "    <tr>\n",
       "      <th>3</th>\n",
       "      <td>530</td>\n",
       "      <td>XYL</td>\n",
       "      <td>p_sales</td>\n",
       "      <td>2016-12-30</td>\n",
       "      <td>1.953140</td>\n",
       "    </tr>\n",
       "    <tr>\n",
       "      <th>4</th>\n",
       "      <td>595</td>\n",
       "      <td>Y</td>\n",
       "      <td>p_sales</td>\n",
       "      <td>2016-12-30</td>\n",
       "      <td>1.598900</td>\n",
       "    </tr>\n",
       "  </tbody>\n",
       "</table>\n",
       "</div>"
      ],
      "text/plain": [
       "   equity_id identifier   metric   revision  next_twelve_months\n",
       "0       1360        XPO  p_sales 2016-12-30            0.322400\n",
       "1        198       XRAY  p_sales 2016-12-30            3.240700\n",
       "2        527        XRX  p_sales 2016-12-30            0.516028\n",
       "3        530        XYL  p_sales 2016-12-30            1.953140\n",
       "4        595          Y  p_sales 2016-12-30            1.598900"
      ]
     },
     "execution_count": 4,
     "metadata": {},
     "output_type": "execute_result"
    }
   ],
   "source": [
    "sales_2016.head()"
   ]
  },
  {
   "cell_type": "code",
   "execution_count": 5,
   "metadata": {},
   "outputs": [
    {
     "data": {
      "text/html": [
       "<div>\n",
       "<style scoped>\n",
       "    .dataframe tbody tr th:only-of-type {\n",
       "        vertical-align: middle;\n",
       "    }\n",
       "\n",
       "    .dataframe tbody tr th {\n",
       "        vertical-align: top;\n",
       "    }\n",
       "\n",
       "    .dataframe thead th {\n",
       "        text-align: right;\n",
       "    }\n",
       "</style>\n",
       "<table border=\"1\" class=\"dataframe\">\n",
       "  <thead>\n",
       "    <tr style=\"text-align: right;\">\n",
       "      <th></th>\n",
       "      <th>equity_id</th>\n",
       "      <th>identifier</th>\n",
       "      <th>metric</th>\n",
       "      <th>revision</th>\n",
       "      <th>next_twelve_months</th>\n",
       "    </tr>\n",
       "  </thead>\n",
       "  <tbody>\n",
       "    <tr>\n",
       "      <th>0</th>\n",
       "      <td>534</td>\n",
       "      <td>ZTS</td>\n",
       "      <td>p_sales</td>\n",
       "      <td>2019-07-26</td>\n",
       "      <td>8.775030</td>\n",
       "    </tr>\n",
       "    <tr>\n",
       "      <th>1</th>\n",
       "      <td>3314</td>\n",
       "      <td>ZUMZ</td>\n",
       "      <td>p_sales</td>\n",
       "      <td>2019-07-26</td>\n",
       "      <td>0.658078</td>\n",
       "    </tr>\n",
       "    <tr>\n",
       "      <th>2</th>\n",
       "      <td>3296</td>\n",
       "      <td>XENT</td>\n",
       "      <td>p_sales</td>\n",
       "      <td>2019-07-26</td>\n",
       "      <td>5.279740</td>\n",
       "    </tr>\n",
       "    <tr>\n",
       "      <th>3</th>\n",
       "      <td>3297</td>\n",
       "      <td>XHR</td>\n",
       "      <td>p_sales</td>\n",
       "      <td>2019-07-26</td>\n",
       "      <td>2.133200</td>\n",
       "    </tr>\n",
       "    <tr>\n",
       "      <th>4</th>\n",
       "      <td>528</td>\n",
       "      <td>XLNX</td>\n",
       "      <td>p_sales</td>\n",
       "      <td>2019-07-26</td>\n",
       "      <td>8.654860</td>\n",
       "    </tr>\n",
       "  </tbody>\n",
       "</table>\n",
       "</div>"
      ],
      "text/plain": [
       "   equity_id identifier   metric   revision  next_twelve_months\n",
       "0        534        ZTS  p_sales 2019-07-26            8.775030\n",
       "1       3314       ZUMZ  p_sales 2019-07-26            0.658078\n",
       "2       3296       XENT  p_sales 2019-07-26            5.279740\n",
       "3       3297        XHR  p_sales 2019-07-26            2.133200\n",
       "4        528       XLNX  p_sales 2019-07-26            8.654860"
      ]
     },
     "execution_count": 5,
     "metadata": {},
     "output_type": "execute_result"
    }
   ],
   "source": [
    "sales_2017.head()"
   ]
  },
  {
   "cell_type": "code",
   "execution_count": 6,
   "metadata": {},
   "outputs": [],
   "source": [
    "sales = sales_2013.append([sales_2016, sales_2017], ignore_index=True)\n",
    "del sales[\"metric\"]"
   ]
  },
  {
   "cell_type": "code",
   "execution_count": 7,
   "metadata": {},
   "outputs": [
    {
     "data": {
      "text/plain": [
       "True"
      ]
     },
     "execution_count": 7,
     "metadata": {},
     "output_type": "execute_result"
    }
   ],
   "source": [
    "len(sales) == len(sales_2013) + len(sales_2016) + len(sales_2017)"
   ]
  },
  {
   "cell_type": "code",
   "execution_count": 8,
   "metadata": {},
   "outputs": [],
   "source": [
    "sales = sales.sort_values(['identifier', 'revision']).reset_index(drop=True)"
   ]
  },
  {
   "cell_type": "code",
   "execution_count": 9,
   "metadata": {},
   "outputs": [
    {
     "data": {
      "text/html": [
       "<div>\n",
       "<style scoped>\n",
       "    .dataframe tbody tr th:only-of-type {\n",
       "        vertical-align: middle;\n",
       "    }\n",
       "\n",
       "    .dataframe tbody tr th {\n",
       "        vertical-align: top;\n",
       "    }\n",
       "\n",
       "    .dataframe thead th {\n",
       "        text-align: right;\n",
       "    }\n",
       "</style>\n",
       "<table border=\"1\" class=\"dataframe\">\n",
       "  <thead>\n",
       "    <tr style=\"text-align: right;\">\n",
       "      <th></th>\n",
       "      <th>equity_id</th>\n",
       "      <th>identifier</th>\n",
       "      <th>revision</th>\n",
       "      <th>next_twelve_months</th>\n",
       "    </tr>\n",
       "  </thead>\n",
       "  <tbody>\n",
       "    <tr>\n",
       "      <th>0</th>\n",
       "      <td>22</td>\n",
       "      <td>700</td>\n",
       "      <td>2005-08-29</td>\n",
       "      <td>8.23332</td>\n",
       "    </tr>\n",
       "    <tr>\n",
       "      <th>1</th>\n",
       "      <td>22</td>\n",
       "      <td>700</td>\n",
       "      <td>2005-09-12</td>\n",
       "      <td>9.14781</td>\n",
       "    </tr>\n",
       "    <tr>\n",
       "      <th>2</th>\n",
       "      <td>22</td>\n",
       "      <td>700</td>\n",
       "      <td>2007-02-26</td>\n",
       "      <td>14.28690</td>\n",
       "    </tr>\n",
       "    <tr>\n",
       "      <th>3</th>\n",
       "      <td>22</td>\n",
       "      <td>700</td>\n",
       "      <td>2007-03-05</td>\n",
       "      <td>13.39700</td>\n",
       "    </tr>\n",
       "    <tr>\n",
       "      <th>4</th>\n",
       "      <td>22</td>\n",
       "      <td>700</td>\n",
       "      <td>2007-03-12</td>\n",
       "      <td>15.52260</td>\n",
       "    </tr>\n",
       "  </tbody>\n",
       "</table>\n",
       "</div>"
      ],
      "text/plain": [
       "   equity_id identifier   revision  next_twelve_months\n",
       "0         22        700 2005-08-29             8.23332\n",
       "1         22        700 2005-09-12             9.14781\n",
       "2         22        700 2007-02-26            14.28690\n",
       "3         22        700 2007-03-05            13.39700\n",
       "4         22        700 2007-03-12            15.52260"
      ]
     },
     "execution_count": 9,
     "metadata": {},
     "output_type": "execute_result"
    }
   ],
   "source": [
    "sales.head()"
   ]
  },
  {
   "cell_type": "code",
   "execution_count": 10,
   "metadata": {},
   "outputs": [
    {
     "data": {
      "text/plain": [
       "2938"
      ]
     },
     "execution_count": 10,
     "metadata": {},
     "output_type": "execute_result"
    }
   ],
   "source": [
    "len(sales.identifier.unique())"
   ]
  },
  {
   "cell_type": "markdown",
   "metadata": {},
   "source": [
    "## Read Earnings Data"
   ]
  },
  {
   "cell_type": "code",
   "execution_count": 11,
   "metadata": {},
   "outputs": [],
   "source": [
    "eps_2013 = pd.read_csv('p_non_gaap_eps pre 2013.csv', parse_dates=['revision'])\n",
    "eps_2016 = pd.read_csv('p_non_gaap_eps 2013-2016.csv', parse_dates=['revision'])"
   ]
  },
  {
   "cell_type": "code",
   "execution_count": 12,
   "metadata": {},
   "outputs": [
    {
     "data": {
      "text/html": [
       "<div>\n",
       "<style scoped>\n",
       "    .dataframe tbody tr th:only-of-type {\n",
       "        vertical-align: middle;\n",
       "    }\n",
       "\n",
       "    .dataframe tbody tr th {\n",
       "        vertical-align: top;\n",
       "    }\n",
       "\n",
       "    .dataframe thead th {\n",
       "        text-align: right;\n",
       "    }\n",
       "</style>\n",
       "<table border=\"1\" class=\"dataframe\">\n",
       "  <thead>\n",
       "    <tr style=\"text-align: right;\">\n",
       "      <th></th>\n",
       "      <th>equity_id</th>\n",
       "      <th>identifier</th>\n",
       "      <th>metric</th>\n",
       "      <th>revision</th>\n",
       "      <th>next_twelve_months</th>\n",
       "    </tr>\n",
       "  </thead>\n",
       "  <tbody>\n",
       "    <tr>\n",
       "      <th>0</th>\n",
       "      <td>1014</td>\n",
       "      <td>WTW</td>\n",
       "      <td>p_non_gaap_eps</td>\n",
       "      <td>2012-12-31</td>\n",
       "      <td>11.63530</td>\n",
       "    </tr>\n",
       "    <tr>\n",
       "      <th>1</th>\n",
       "      <td>517</td>\n",
       "      <td>WU</td>\n",
       "      <td>p_non_gaap_eps</td>\n",
       "      <td>2012-12-31</td>\n",
       "      <td>9.24896</td>\n",
       "    </tr>\n",
       "    <tr>\n",
       "      <th>2</th>\n",
       "      <td>1145</td>\n",
       "      <td>WWD</td>\n",
       "      <td>p_non_gaap_eps</td>\n",
       "      <td>2012-12-31</td>\n",
       "      <td>17.02230</td>\n",
       "    </tr>\n",
       "    <tr>\n",
       "      <th>3</th>\n",
       "      <td>1485</td>\n",
       "      <td>WWW</td>\n",
       "      <td>p_non_gaap_eps</td>\n",
       "      <td>2012-12-31</td>\n",
       "      <td>15.57510</td>\n",
       "    </tr>\n",
       "    <tr>\n",
       "      <th>4</th>\n",
       "      <td>519</td>\n",
       "      <td>WY</td>\n",
       "      <td>p_non_gaap_eps</td>\n",
       "      <td>2012-12-31</td>\n",
       "      <td>33.17770</td>\n",
       "    </tr>\n",
       "  </tbody>\n",
       "</table>\n",
       "</div>"
      ],
      "text/plain": [
       "   equity_id identifier          metric   revision  next_twelve_months\n",
       "0       1014        WTW  p_non_gaap_eps 2012-12-31            11.63530\n",
       "1        517         WU  p_non_gaap_eps 2012-12-31             9.24896\n",
       "2       1145        WWD  p_non_gaap_eps 2012-12-31            17.02230\n",
       "3       1485        WWW  p_non_gaap_eps 2012-12-31            15.57510\n",
       "4        519         WY  p_non_gaap_eps 2012-12-31            33.17770"
      ]
     },
     "execution_count": 12,
     "metadata": {},
     "output_type": "execute_result"
    }
   ],
   "source": [
    "eps_2013.head()"
   ]
  },
  {
   "cell_type": "code",
   "execution_count": 13,
   "metadata": {},
   "outputs": [
    {
     "data": {
      "text/html": [
       "<div>\n",
       "<style scoped>\n",
       "    .dataframe tbody tr th:only-of-type {\n",
       "        vertical-align: middle;\n",
       "    }\n",
       "\n",
       "    .dataframe tbody tr th {\n",
       "        vertical-align: top;\n",
       "    }\n",
       "\n",
       "    .dataframe thead th {\n",
       "        text-align: right;\n",
       "    }\n",
       "</style>\n",
       "<table border=\"1\" class=\"dataframe\">\n",
       "  <thead>\n",
       "    <tr style=\"text-align: right;\">\n",
       "      <th></th>\n",
       "      <th>equity_id</th>\n",
       "      <th>identifier</th>\n",
       "      <th>metric</th>\n",
       "      <th>revision</th>\n",
       "      <th>next_twelve_months</th>\n",
       "    </tr>\n",
       "  </thead>\n",
       "  <tbody>\n",
       "    <tr>\n",
       "      <th>0</th>\n",
       "      <td>198</td>\n",
       "      <td>XRAY</td>\n",
       "      <td>p_non_gaap_eps</td>\n",
       "      <td>2016-12-30</td>\n",
       "      <td>19.69030</td>\n",
       "    </tr>\n",
       "    <tr>\n",
       "      <th>1</th>\n",
       "      <td>527</td>\n",
       "      <td>XRX</td>\n",
       "      <td>p_non_gaap_eps</td>\n",
       "      <td>2016-12-30</td>\n",
       "      <td>5.12998</td>\n",
       "    </tr>\n",
       "    <tr>\n",
       "      <th>2</th>\n",
       "      <td>530</td>\n",
       "      <td>XYL</td>\n",
       "      <td>p_non_gaap_eps</td>\n",
       "      <td>2016-12-30</td>\n",
       "      <td>21.71690</td>\n",
       "    </tr>\n",
       "    <tr>\n",
       "      <th>3</th>\n",
       "      <td>595</td>\n",
       "      <td>Y</td>\n",
       "      <td>p_non_gaap_eps</td>\n",
       "      <td>2016-12-30</td>\n",
       "      <td>21.59130</td>\n",
       "    </tr>\n",
       "    <tr>\n",
       "      <th>4</th>\n",
       "      <td>3306</td>\n",
       "      <td>YRCW</td>\n",
       "      <td>p_non_gaap_eps</td>\n",
       "      <td>2016-12-30</td>\n",
       "      <td>12.80050</td>\n",
       "    </tr>\n",
       "  </tbody>\n",
       "</table>\n",
       "</div>"
      ],
      "text/plain": [
       "   equity_id identifier          metric   revision  next_twelve_months\n",
       "0        198       XRAY  p_non_gaap_eps 2016-12-30            19.69030\n",
       "1        527        XRX  p_non_gaap_eps 2016-12-30             5.12998\n",
       "2        530        XYL  p_non_gaap_eps 2016-12-30            21.71690\n",
       "3        595          Y  p_non_gaap_eps 2016-12-30            21.59130\n",
       "4       3306       YRCW  p_non_gaap_eps 2016-12-30            12.80050"
      ]
     },
     "execution_count": 13,
     "metadata": {},
     "output_type": "execute_result"
    }
   ],
   "source": [
    "eps_2016.head()"
   ]
  },
  {
   "cell_type": "code",
   "execution_count": 14,
   "metadata": {},
   "outputs": [],
   "source": [
    "eps = eps_2013.append(eps_2016, ignore_index=True)\n",
    "del eps[\"metric\"]"
   ]
  },
  {
   "cell_type": "code",
   "execution_count": 15,
   "metadata": {},
   "outputs": [
    {
     "data": {
      "text/plain": [
       "True"
      ]
     },
     "execution_count": 15,
     "metadata": {},
     "output_type": "execute_result"
    }
   ],
   "source": [
    "len(eps) == len(eps_2013) + len(eps_2016)"
   ]
  },
  {
   "cell_type": "code",
   "execution_count": 16,
   "metadata": {},
   "outputs": [],
   "source": [
    "eps = eps.sort_values(['identifier', 'revision']).reset_index(drop=True)"
   ]
  },
  {
   "cell_type": "code",
   "execution_count": 17,
   "metadata": {},
   "outputs": [
    {
     "data": {
      "text/html": [
       "<div>\n",
       "<style scoped>\n",
       "    .dataframe tbody tr th:only-of-type {\n",
       "        vertical-align: middle;\n",
       "    }\n",
       "\n",
       "    .dataframe tbody tr th {\n",
       "        vertical-align: top;\n",
       "    }\n",
       "\n",
       "    .dataframe thead th {\n",
       "        text-align: right;\n",
       "    }\n",
       "</style>\n",
       "<table border=\"1\" class=\"dataframe\">\n",
       "  <thead>\n",
       "    <tr style=\"text-align: right;\">\n",
       "      <th></th>\n",
       "      <th>equity_id</th>\n",
       "      <th>identifier</th>\n",
       "      <th>revision</th>\n",
       "      <th>next_twelve_months</th>\n",
       "    </tr>\n",
       "  </thead>\n",
       "  <tbody>\n",
       "    <tr>\n",
       "      <th>257463</th>\n",
       "      <td>263</td>\n",
       "      <td>GM</td>\n",
       "      <td>2016-12-30</td>\n",
       "      <td>6.1105</td>\n",
       "    </tr>\n",
       "    <tr>\n",
       "      <th>257069</th>\n",
       "      <td>49</td>\n",
       "      <td>GLW</td>\n",
       "      <td>2016-12-30</td>\n",
       "      <td>14.7193</td>\n",
       "    </tr>\n",
       "    <tr>\n",
       "      <th>256578</th>\n",
       "      <td>1579</td>\n",
       "      <td>GLT</td>\n",
       "      <td>2016-12-30</td>\n",
       "      <td>15.4564</td>\n",
       "    </tr>\n",
       "    <tr>\n",
       "      <th>261099</th>\n",
       "      <td>1402</td>\n",
       "      <td>GPI</td>\n",
       "      <td>2016-12-30</td>\n",
       "      <td>10.4044</td>\n",
       "    </tr>\n",
       "    <tr>\n",
       "      <th>608076</th>\n",
       "      <td>3314</td>\n",
       "      <td>ZUMZ</td>\n",
       "      <td>2016-12-30</td>\n",
       "      <td>20.4769</td>\n",
       "    </tr>\n",
       "  </tbody>\n",
       "</table>\n",
       "</div>"
      ],
      "text/plain": [
       "        equity_id identifier   revision  next_twelve_months\n",
       "257463        263         GM 2016-12-30              6.1105\n",
       "257069         49        GLW 2016-12-30             14.7193\n",
       "256578       1579        GLT 2016-12-30             15.4564\n",
       "261099       1402        GPI 2016-12-30             10.4044\n",
       "608076       3314       ZUMZ 2016-12-30             20.4769"
      ]
     },
     "execution_count": 17,
     "metadata": {},
     "output_type": "execute_result"
    }
   ],
   "source": [
    "# No data later than 2016-12-30\n",
    "eps.sort_values('revision').tail()"
   ]
  },
  {
   "cell_type": "code",
   "execution_count": 18,
   "metadata": {},
   "outputs": [
    {
     "data": {
      "text/plain": [
       "1845"
      ]
     },
     "execution_count": 18,
     "metadata": {},
     "output_type": "execute_result"
    }
   ],
   "source": [
    "len(eps.identifier.unique())"
   ]
  },
  {
   "cell_type": "markdown",
   "metadata": {},
   "source": [
    "# Data Quality Check"
   ]
  },
  {
   "cell_type": "markdown",
   "metadata": {},
   "source": [
    "## Check `equity_id` and `identifier` Relationship"
   ]
  },
  {
   "cell_type": "code",
   "execution_count": 19,
   "metadata": {},
   "outputs": [
    {
     "data": {
      "text/html": [
       "<div>\n",
       "<style scoped>\n",
       "    .dataframe tbody tr th:only-of-type {\n",
       "        vertical-align: middle;\n",
       "    }\n",
       "\n",
       "    .dataframe tbody tr th {\n",
       "        vertical-align: top;\n",
       "    }\n",
       "\n",
       "    .dataframe thead th {\n",
       "        text-align: right;\n",
       "    }\n",
       "</style>\n",
       "<table border=\"1\" class=\"dataframe\">\n",
       "  <thead>\n",
       "    <tr style=\"text-align: right;\">\n",
       "      <th></th>\n",
       "      <th>equity_id</th>\n",
       "      <th>identifier</th>\n",
       "    </tr>\n",
       "  </thead>\n",
       "  <tbody>\n",
       "  </tbody>\n",
       "</table>\n",
       "</div>"
      ],
      "text/plain": [
       "Empty DataFrame\n",
       "Columns: [equity_id, identifier]\n",
       "Index: []"
      ]
     },
     "execution_count": 19,
     "metadata": {},
     "output_type": "execute_result"
    }
   ],
   "source": [
    "sales.groupby('equity_id').nunique()['identifier'].reset_index().query(\"identifier != 1\")"
   ]
  },
  {
   "cell_type": "code",
   "execution_count": 20,
   "metadata": {},
   "outputs": [
    {
     "data": {
      "text/html": [
       "<div>\n",
       "<style scoped>\n",
       "    .dataframe tbody tr th:only-of-type {\n",
       "        vertical-align: middle;\n",
       "    }\n",
       "\n",
       "    .dataframe tbody tr th {\n",
       "        vertical-align: top;\n",
       "    }\n",
       "\n",
       "    .dataframe thead th {\n",
       "        text-align: right;\n",
       "    }\n",
       "</style>\n",
       "<table border=\"1\" class=\"dataframe\">\n",
       "  <thead>\n",
       "    <tr style=\"text-align: right;\">\n",
       "      <th></th>\n",
       "      <th>identifier</th>\n",
       "      <th>equity_id</th>\n",
       "    </tr>\n",
       "  </thead>\n",
       "  <tbody>\n",
       "  </tbody>\n",
       "</table>\n",
       "</div>"
      ],
      "text/plain": [
       "Empty DataFrame\n",
       "Columns: [identifier, equity_id]\n",
       "Index: []"
      ]
     },
     "execution_count": 20,
     "metadata": {},
     "output_type": "execute_result"
    }
   ],
   "source": [
    "sales.groupby('identifier').nunique()['equity_id'].reset_index().query(\"equity_id != 1\")"
   ]
  },
  {
   "cell_type": "code",
   "execution_count": 21,
   "metadata": {},
   "outputs": [
    {
     "data": {
      "text/html": [
       "<div>\n",
       "<style scoped>\n",
       "    .dataframe tbody tr th:only-of-type {\n",
       "        vertical-align: middle;\n",
       "    }\n",
       "\n",
       "    .dataframe tbody tr th {\n",
       "        vertical-align: top;\n",
       "    }\n",
       "\n",
       "    .dataframe thead th {\n",
       "        text-align: right;\n",
       "    }\n",
       "</style>\n",
       "<table border=\"1\" class=\"dataframe\">\n",
       "  <thead>\n",
       "    <tr style=\"text-align: right;\">\n",
       "      <th></th>\n",
       "      <th>equity_id</th>\n",
       "      <th>identifier</th>\n",
       "    </tr>\n",
       "  </thead>\n",
       "  <tbody>\n",
       "  </tbody>\n",
       "</table>\n",
       "</div>"
      ],
      "text/plain": [
       "Empty DataFrame\n",
       "Columns: [equity_id, identifier]\n",
       "Index: []"
      ]
     },
     "execution_count": 21,
     "metadata": {},
     "output_type": "execute_result"
    }
   ],
   "source": [
    "eps.groupby('equity_id').nunique()['identifier'].reset_index().query(\"identifier != 1\")"
   ]
  },
  {
   "cell_type": "code",
   "execution_count": 22,
   "metadata": {},
   "outputs": [
    {
     "data": {
      "text/html": [
       "<div>\n",
       "<style scoped>\n",
       "    .dataframe tbody tr th:only-of-type {\n",
       "        vertical-align: middle;\n",
       "    }\n",
       "\n",
       "    .dataframe tbody tr th {\n",
       "        vertical-align: top;\n",
       "    }\n",
       "\n",
       "    .dataframe thead th {\n",
       "        text-align: right;\n",
       "    }\n",
       "</style>\n",
       "<table border=\"1\" class=\"dataframe\">\n",
       "  <thead>\n",
       "    <tr style=\"text-align: right;\">\n",
       "      <th></th>\n",
       "      <th>identifier</th>\n",
       "      <th>equity_id</th>\n",
       "    </tr>\n",
       "  </thead>\n",
       "  <tbody>\n",
       "  </tbody>\n",
       "</table>\n",
       "</div>"
      ],
      "text/plain": [
       "Empty DataFrame\n",
       "Columns: [identifier, equity_id]\n",
       "Index: []"
      ]
     },
     "execution_count": 22,
     "metadata": {},
     "output_type": "execute_result"
    }
   ],
   "source": [
    "eps.groupby('identifier').nunique()['equity_id'].reset_index().query(\"equity_id != 1\")"
   ]
  },
  {
   "cell_type": "markdown",
   "metadata": {},
   "source": [
    "## Check Missing Data\n",
    "- Based on the last step, `equity_id` and `identifier` has a one-to-one relationship. \n",
    "- Either `equity_id` or `identifier` could be used as the merge key."
   ]
  },
  {
   "cell_type": "code",
   "execution_count": 23,
   "metadata": {},
   "outputs": [
    {
     "data": {
      "text/html": [
       "<div>\n",
       "<style scoped>\n",
       "    .dataframe tbody tr th:only-of-type {\n",
       "        vertical-align: middle;\n",
       "    }\n",
       "\n",
       "    .dataframe tbody tr th {\n",
       "        vertical-align: top;\n",
       "    }\n",
       "\n",
       "    .dataframe thead th {\n",
       "        text-align: right;\n",
       "    }\n",
       "</style>\n",
       "<table border=\"1\" class=\"dataframe\">\n",
       "  <thead>\n",
       "    <tr style=\"text-align: right;\">\n",
       "      <th></th>\n",
       "      <th>equity_id</th>\n",
       "      <th>identifier</th>\n",
       "      <th>revision</th>\n",
       "      <th>next_twelve_months</th>\n",
       "    </tr>\n",
       "  </thead>\n",
       "  <tbody>\n",
       "    <tr>\n",
       "      <th>0</th>\n",
       "      <td>39</td>\n",
       "      <td>A</td>\n",
       "      <td>2009-02-23</td>\n",
       "      <td>12.7990</td>\n",
       "    </tr>\n",
       "    <tr>\n",
       "      <th>1</th>\n",
       "      <td>39</td>\n",
       "      <td>A</td>\n",
       "      <td>2009-03-02</td>\n",
       "      <td>11.3649</td>\n",
       "    </tr>\n",
       "    <tr>\n",
       "      <th>2</th>\n",
       "      <td>39</td>\n",
       "      <td>A</td>\n",
       "      <td>2009-03-09</td>\n",
       "      <td>11.1498</td>\n",
       "    </tr>\n",
       "    <tr>\n",
       "      <th>3</th>\n",
       "      <td>39</td>\n",
       "      <td>A</td>\n",
       "      <td>2009-03-16</td>\n",
       "      <td>12.3329</td>\n",
       "    </tr>\n",
       "    <tr>\n",
       "      <th>4</th>\n",
       "      <td>39</td>\n",
       "      <td>A</td>\n",
       "      <td>2009-03-23</td>\n",
       "      <td>14.2420</td>\n",
       "    </tr>\n",
       "  </tbody>\n",
       "</table>\n",
       "</div>"
      ],
      "text/plain": [
       "   equity_id identifier   revision  next_twelve_months\n",
       "0         39          A 2009-02-23             12.7990\n",
       "1         39          A 2009-03-02             11.3649\n",
       "2         39          A 2009-03-09             11.1498\n",
       "3         39          A 2009-03-16             12.3329\n",
       "4         39          A 2009-03-23             14.2420"
      ]
     },
     "execution_count": 23,
     "metadata": {},
     "output_type": "execute_result"
    }
   ],
   "source": [
    "eps.head()"
   ]
  },
  {
   "cell_type": "code",
   "execution_count": 24,
   "metadata": {},
   "outputs": [
    {
     "data": {
      "text/html": [
       "<div>\n",
       "<style scoped>\n",
       "    .dataframe tbody tr th:only-of-type {\n",
       "        vertical-align: middle;\n",
       "    }\n",
       "\n",
       "    .dataframe tbody tr th {\n",
       "        vertical-align: top;\n",
       "    }\n",
       "\n",
       "    .dataframe thead th {\n",
       "        text-align: right;\n",
       "    }\n",
       "</style>\n",
       "<table border=\"1\" class=\"dataframe\">\n",
       "  <thead>\n",
       "    <tr style=\"text-align: right;\">\n",
       "      <th></th>\n",
       "      <th>equity_id</th>\n",
       "      <th>identifier</th>\n",
       "      <th>revision</th>\n",
       "      <th>next_twelve_months</th>\n",
       "    </tr>\n",
       "  </thead>\n",
       "  <tbody>\n",
       "    <tr>\n",
       "      <th>0</th>\n",
       "      <td>22</td>\n",
       "      <td>700</td>\n",
       "      <td>2005-08-29</td>\n",
       "      <td>8.23332</td>\n",
       "    </tr>\n",
       "    <tr>\n",
       "      <th>1</th>\n",
       "      <td>22</td>\n",
       "      <td>700</td>\n",
       "      <td>2005-09-12</td>\n",
       "      <td>9.14781</td>\n",
       "    </tr>\n",
       "    <tr>\n",
       "      <th>2</th>\n",
       "      <td>22</td>\n",
       "      <td>700</td>\n",
       "      <td>2007-02-26</td>\n",
       "      <td>14.28690</td>\n",
       "    </tr>\n",
       "    <tr>\n",
       "      <th>3</th>\n",
       "      <td>22</td>\n",
       "      <td>700</td>\n",
       "      <td>2007-03-05</td>\n",
       "      <td>13.39700</td>\n",
       "    </tr>\n",
       "    <tr>\n",
       "      <th>4</th>\n",
       "      <td>22</td>\n",
       "      <td>700</td>\n",
       "      <td>2007-03-12</td>\n",
       "      <td>15.52260</td>\n",
       "    </tr>\n",
       "  </tbody>\n",
       "</table>\n",
       "</div>"
      ],
      "text/plain": [
       "   equity_id identifier   revision  next_twelve_months\n",
       "0         22        700 2005-08-29             8.23332\n",
       "1         22        700 2005-09-12             9.14781\n",
       "2         22        700 2007-02-26            14.28690\n",
       "3         22        700 2007-03-05            13.39700\n",
       "4         22        700 2007-03-12            15.52260"
      ]
     },
     "execution_count": 24,
     "metadata": {},
     "output_type": "execute_result"
    }
   ],
   "source": [
    "sales.head()"
   ]
  },
  {
   "cell_type": "code",
   "execution_count": 25,
   "metadata": {},
   "outputs": [],
   "source": [
    "all_data = sales.merge(eps, how ='left', on=['identifier', 'equity_id', 'revision'], suffixes=[\"_sales\", \"_eps\"])\n",
    "all_data = all_data[[\"equity_id\", \"identifier\", \"revision\", \"next_twelve_months_sales\", \"next_twelve_months_eps\"]]"
   ]
  },
  {
   "cell_type": "code",
   "execution_count": 26,
   "metadata": {},
   "outputs": [
    {
     "data": {
      "text/html": [
       "<div>\n",
       "<style scoped>\n",
       "    .dataframe tbody tr th:only-of-type {\n",
       "        vertical-align: middle;\n",
       "    }\n",
       "\n",
       "    .dataframe tbody tr th {\n",
       "        vertical-align: top;\n",
       "    }\n",
       "\n",
       "    .dataframe thead th {\n",
       "        text-align: right;\n",
       "    }\n",
       "</style>\n",
       "<table border=\"1\" class=\"dataframe\">\n",
       "  <thead>\n",
       "    <tr style=\"text-align: right;\">\n",
       "      <th></th>\n",
       "      <th>equity_id</th>\n",
       "      <th>identifier</th>\n",
       "      <th>revision</th>\n",
       "      <th>next_twelve_months_sales</th>\n",
       "      <th>next_twelve_months_eps</th>\n",
       "    </tr>\n",
       "  </thead>\n",
       "  <tbody>\n",
       "    <tr>\n",
       "      <th>0</th>\n",
       "      <td>22</td>\n",
       "      <td>700</td>\n",
       "      <td>2005-08-29</td>\n",
       "      <td>8.23332</td>\n",
       "      <td>NaN</td>\n",
       "    </tr>\n",
       "    <tr>\n",
       "      <th>1</th>\n",
       "      <td>22</td>\n",
       "      <td>700</td>\n",
       "      <td>2005-09-12</td>\n",
       "      <td>9.14781</td>\n",
       "      <td>NaN</td>\n",
       "    </tr>\n",
       "    <tr>\n",
       "      <th>2</th>\n",
       "      <td>22</td>\n",
       "      <td>700</td>\n",
       "      <td>2007-02-26</td>\n",
       "      <td>14.28690</td>\n",
       "      <td>NaN</td>\n",
       "    </tr>\n",
       "    <tr>\n",
       "      <th>3</th>\n",
       "      <td>22</td>\n",
       "      <td>700</td>\n",
       "      <td>2007-03-05</td>\n",
       "      <td>13.39700</td>\n",
       "      <td>NaN</td>\n",
       "    </tr>\n",
       "    <tr>\n",
       "      <th>4</th>\n",
       "      <td>22</td>\n",
       "      <td>700</td>\n",
       "      <td>2007-03-12</td>\n",
       "      <td>15.52260</td>\n",
       "      <td>NaN</td>\n",
       "    </tr>\n",
       "  </tbody>\n",
       "</table>\n",
       "</div>"
      ],
      "text/plain": [
       "   equity_id identifier   revision  next_twelve_months_sales  \\\n",
       "0         22        700 2005-08-29                   8.23332   \n",
       "1         22        700 2005-09-12                   9.14781   \n",
       "2         22        700 2007-02-26                  14.28690   \n",
       "3         22        700 2007-03-05                  13.39700   \n",
       "4         22        700 2007-03-12                  15.52260   \n",
       "\n",
       "   next_twelve_months_eps  \n",
       "0                     NaN  \n",
       "1                     NaN  \n",
       "2                     NaN  \n",
       "3                     NaN  \n",
       "4                     NaN  "
      ]
     },
     "execution_count": 26,
     "metadata": {},
     "output_type": "execute_result"
    }
   ],
   "source": [
    "all_data.head()"
   ]
  },
  {
   "cell_type": "code",
   "execution_count": 27,
   "metadata": {},
   "outputs": [
    {
     "data": {
      "text/plain": [
       "248"
      ]
     },
     "execution_count": 27,
     "metadata": {},
     "output_type": "execute_result"
    }
   ],
   "source": [
    "# The number of missing data both in sales and eps file\n",
    "len(all_data[(all_data.next_twelve_months_sales.isnull()) & (all_data.next_twelve_months_eps.isnull())])"
   ]
  },
  {
   "cell_type": "code",
   "execution_count": 28,
   "metadata": {},
   "outputs": [
    {
     "data": {
      "text/html": [
       "<div>\n",
       "<style scoped>\n",
       "    .dataframe tbody tr th:only-of-type {\n",
       "        vertical-align: middle;\n",
       "    }\n",
       "\n",
       "    .dataframe tbody tr th {\n",
       "        vertical-align: top;\n",
       "    }\n",
       "\n",
       "    .dataframe thead th {\n",
       "        text-align: right;\n",
       "    }\n",
       "</style>\n",
       "<table border=\"1\" class=\"dataframe\">\n",
       "  <thead>\n",
       "    <tr style=\"text-align: right;\">\n",
       "      <th></th>\n",
       "      <th>equity_id</th>\n",
       "      <th>identifier</th>\n",
       "      <th>revision</th>\n",
       "      <th>next_twelve_months_sales</th>\n",
       "      <th>next_twelve_months_eps</th>\n",
       "    </tr>\n",
       "  </thead>\n",
       "  <tbody>\n",
       "    <tr>\n",
       "      <th>29155</th>\n",
       "      <td>1666</td>\n",
       "      <td>ACTG</td>\n",
       "      <td>2019-05-12</td>\n",
       "      <td>NaN</td>\n",
       "      <td>NaN</td>\n",
       "    </tr>\n",
       "    <tr>\n",
       "      <th>29156</th>\n",
       "      <td>1666</td>\n",
       "      <td>ACTG</td>\n",
       "      <td>2019-05-17</td>\n",
       "      <td>NaN</td>\n",
       "      <td>NaN</td>\n",
       "    </tr>\n",
       "    <tr>\n",
       "      <th>56011</th>\n",
       "      <td>1685</td>\n",
       "      <td>AHC</td>\n",
       "      <td>2019-05-10</td>\n",
       "      <td>NaN</td>\n",
       "      <td>NaN</td>\n",
       "    </tr>\n",
       "    <tr>\n",
       "      <th>56012</th>\n",
       "      <td>1685</td>\n",
       "      <td>AHC</td>\n",
       "      <td>2019-05-17</td>\n",
       "      <td>NaN</td>\n",
       "      <td>NaN</td>\n",
       "    </tr>\n",
       "    <tr>\n",
       "      <th>80602</th>\n",
       "      <td>1709</td>\n",
       "      <td>ALSK</td>\n",
       "      <td>2019-05-10</td>\n",
       "      <td>NaN</td>\n",
       "      <td>NaN</td>\n",
       "    </tr>\n",
       "  </tbody>\n",
       "</table>\n",
       "</div>"
      ],
      "text/plain": [
       "       equity_id identifier   revision  next_twelve_months_sales  \\\n",
       "29155       1666       ACTG 2019-05-12                       NaN   \n",
       "29156       1666       ACTG 2019-05-17                       NaN   \n",
       "56011       1685        AHC 2019-05-10                       NaN   \n",
       "56012       1685        AHC 2019-05-17                       NaN   \n",
       "80602       1709       ALSK 2019-05-10                       NaN   \n",
       "\n",
       "       next_twelve_months_eps  \n",
       "29155                     NaN  \n",
       "29156                     NaN  \n",
       "56011                     NaN  \n",
       "56012                     NaN  \n",
       "80602                     NaN  "
      ]
     },
     "execution_count": 28,
     "metadata": {},
     "output_type": "execute_result"
    }
   ],
   "source": [
    "all_data[(all_data.next_twelve_months_sales.isnull()) & (all_data.next_twelve_months_eps.isnull())].head()"
   ]
  },
  {
   "cell_type": "code",
   "execution_count": 30,
   "metadata": {},
   "outputs": [
    {
     "data": {
      "text/plain": [
       "1181904"
      ]
     },
     "execution_count": 30,
     "metadata": {},
     "output_type": "execute_result"
    }
   ],
   "source": [
    "# Check the missing data in eps file but not in sales file(none)\n",
    "len(all_data[all_data.next_twelve_months_eps.isnull() & (all_data.next_twelve_months_sales.notnull())])"
   ]
  },
  {
   "cell_type": "code",
   "execution_count": 31,
   "metadata": {},
   "outputs": [
    {
     "data": {
      "text/html": [
       "<div>\n",
       "<style scoped>\n",
       "    .dataframe tbody tr th:only-of-type {\n",
       "        vertical-align: middle;\n",
       "    }\n",
       "\n",
       "    .dataframe tbody tr th {\n",
       "        vertical-align: top;\n",
       "    }\n",
       "\n",
       "    .dataframe thead th {\n",
       "        text-align: right;\n",
       "    }\n",
       "</style>\n",
       "<table border=\"1\" class=\"dataframe\">\n",
       "  <thead>\n",
       "    <tr style=\"text-align: right;\">\n",
       "      <th></th>\n",
       "      <th>equity_id</th>\n",
       "      <th>identifier</th>\n",
       "      <th>revision</th>\n",
       "      <th>next_twelve_months_sales</th>\n",
       "      <th>next_twelve_months_eps</th>\n",
       "    </tr>\n",
       "  </thead>\n",
       "  <tbody>\n",
       "    <tr>\n",
       "      <th>0</th>\n",
       "      <td>22</td>\n",
       "      <td>700</td>\n",
       "      <td>2005-08-29</td>\n",
       "      <td>8.23332</td>\n",
       "      <td>NaN</td>\n",
       "    </tr>\n",
       "    <tr>\n",
       "      <th>1</th>\n",
       "      <td>22</td>\n",
       "      <td>700</td>\n",
       "      <td>2005-09-12</td>\n",
       "      <td>9.14781</td>\n",
       "      <td>NaN</td>\n",
       "    </tr>\n",
       "    <tr>\n",
       "      <th>2</th>\n",
       "      <td>22</td>\n",
       "      <td>700</td>\n",
       "      <td>2007-02-26</td>\n",
       "      <td>14.28690</td>\n",
       "      <td>NaN</td>\n",
       "    </tr>\n",
       "    <tr>\n",
       "      <th>3</th>\n",
       "      <td>22</td>\n",
       "      <td>700</td>\n",
       "      <td>2007-03-05</td>\n",
       "      <td>13.39700</td>\n",
       "      <td>NaN</td>\n",
       "    </tr>\n",
       "    <tr>\n",
       "      <th>4</th>\n",
       "      <td>22</td>\n",
       "      <td>700</td>\n",
       "      <td>2007-03-12</td>\n",
       "      <td>15.52260</td>\n",
       "      <td>NaN</td>\n",
       "    </tr>\n",
       "  </tbody>\n",
       "</table>\n",
       "</div>"
      ],
      "text/plain": [
       "   equity_id identifier   revision  next_twelve_months_sales  \\\n",
       "0         22        700 2005-08-29                   8.23332   \n",
       "1         22        700 2005-09-12                   9.14781   \n",
       "2         22        700 2007-02-26                  14.28690   \n",
       "3         22        700 2007-03-05                  13.39700   \n",
       "4         22        700 2007-03-12                  15.52260   \n",
       "\n",
       "   next_twelve_months_eps  \n",
       "0                     NaN  \n",
       "1                     NaN  \n",
       "2                     NaN  \n",
       "3                     NaN  \n",
       "4                     NaN  "
      ]
     },
     "execution_count": 31,
     "metadata": {},
     "output_type": "execute_result"
    }
   ],
   "source": [
    "all_data[all_data.next_twelve_months_sales.notnull() & (all_data.next_twelve_months_eps.isnull())].head()"
   ]
  },
  {
   "cell_type": "code",
   "execution_count": 31,
   "metadata": {},
   "outputs": [
    {
     "data": {
      "text/plain": [
       "0"
      ]
     },
     "execution_count": 31,
     "metadata": {},
     "output_type": "execute_result"
    }
   ],
   "source": [
    "# The number of missing data in sales file but not in eps file\n",
    "len(all_data[all_data.next_twelve_months_eps.notnull() & (all_data.next_twelve_months_sales.isnull())])"
   ]
  },
  {
   "cell_type": "code",
   "execution_count": 34,
   "metadata": {},
   "outputs": [
    {
     "data": {
      "text/html": [
       "<div>\n",
       "<style scoped>\n",
       "    .dataframe tbody tr th:only-of-type {\n",
       "        vertical-align: middle;\n",
       "    }\n",
       "\n",
       "    .dataframe tbody tr th {\n",
       "        vertical-align: top;\n",
       "    }\n",
       "\n",
       "    .dataframe thead th {\n",
       "        text-align: right;\n",
       "    }\n",
       "</style>\n",
       "<table border=\"1\" class=\"dataframe\">\n",
       "  <thead>\n",
       "    <tr style=\"text-align: right;\">\n",
       "      <th></th>\n",
       "      <th>equity_id</th>\n",
       "      <th>identifier</th>\n",
       "      <th>revision</th>\n",
       "    </tr>\n",
       "  </thead>\n",
       "  <tbody>\n",
       "    <tr>\n",
       "      <th>0</th>\n",
       "      <td>1</td>\n",
       "      <td>AMZN</td>\n",
       "      <td>2004-05-17</td>\n",
       "    </tr>\n",
       "    <tr>\n",
       "      <th>1</th>\n",
       "      <td>9</td>\n",
       "      <td>NFLX</td>\n",
       "      <td>2004-05-17</td>\n",
       "    </tr>\n",
       "    <tr>\n",
       "      <th>2</th>\n",
       "      <td>28</td>\n",
       "      <td>ABT</td>\n",
       "      <td>2004-05-17</td>\n",
       "    </tr>\n",
       "    <tr>\n",
       "      <th>3</th>\n",
       "      <td>30</td>\n",
       "      <td>ACN</td>\n",
       "      <td>2004-05-17</td>\n",
       "    </tr>\n",
       "    <tr>\n",
       "      <th>4</th>\n",
       "      <td>31</td>\n",
       "      <td>ATVI</td>\n",
       "      <td>2004-05-17</td>\n",
       "    </tr>\n",
       "    <tr>\n",
       "      <th>5</th>\n",
       "      <td>32</td>\n",
       "      <td>AYI</td>\n",
       "      <td>2004-05-17</td>\n",
       "    </tr>\n",
       "    <tr>\n",
       "      <th>6</th>\n",
       "      <td>33</td>\n",
       "      <td>ADBE</td>\n",
       "      <td>2004-05-17</td>\n",
       "    </tr>\n",
       "    <tr>\n",
       "      <th>7</th>\n",
       "      <td>34</td>\n",
       "      <td>AAP</td>\n",
       "      <td>2004-05-17</td>\n",
       "    </tr>\n",
       "    <tr>\n",
       "      <th>8</th>\n",
       "      <td>40</td>\n",
       "      <td>AAPL</td>\n",
       "      <td>2004-05-17</td>\n",
       "    </tr>\n",
       "    <tr>\n",
       "      <th>9</th>\n",
       "      <td>41</td>\n",
       "      <td>AMAT</td>\n",
       "      <td>2004-05-17</td>\n",
       "    </tr>\n",
       "    <tr>\n",
       "      <th>10</th>\n",
       "      <td>42</td>\n",
       "      <td>ASML</td>\n",
       "      <td>2004-05-17</td>\n",
       "    </tr>\n",
       "    <tr>\n",
       "      <th>11</th>\n",
       "      <td>43</td>\n",
       "      <td>ADP</td>\n",
       "      <td>2004-05-17</td>\n",
       "    </tr>\n",
       "    <tr>\n",
       "      <th>12</th>\n",
       "      <td>47</td>\n",
       "      <td>CSCO</td>\n",
       "      <td>2004-05-17</td>\n",
       "    </tr>\n",
       "    <tr>\n",
       "      <th>13</th>\n",
       "      <td>49</td>\n",
       "      <td>GLW</td>\n",
       "      <td>2004-05-17</td>\n",
       "    </tr>\n",
       "    <tr>\n",
       "      <th>14</th>\n",
       "      <td>52</td>\n",
       "      <td>HPQ</td>\n",
       "      <td>2004-05-17</td>\n",
       "    </tr>\n",
       "  </tbody>\n",
       "</table>\n",
       "</div>"
      ],
      "text/plain": [
       "    equity_id identifier   revision\n",
       "0           1       AMZN 2004-05-17\n",
       "1           9       NFLX 2004-05-17\n",
       "2          28        ABT 2004-05-17\n",
       "3          30        ACN 2004-05-17\n",
       "4          31       ATVI 2004-05-17\n",
       "5          32        AYI 2004-05-17\n",
       "6          33       ADBE 2004-05-17\n",
       "7          34        AAP 2004-05-17\n",
       "8          40       AAPL 2004-05-17\n",
       "9          41       AMAT 2004-05-17\n",
       "10         42       ASML 2004-05-17\n",
       "11         43        ADP 2004-05-17\n",
       "12         47       CSCO 2004-05-17\n",
       "13         49        GLW 2004-05-17\n",
       "14         52        HPQ 2004-05-17"
      ]
     },
     "execution_count": 34,
     "metadata": {},
     "output_type": "execute_result"
    }
   ],
   "source": [
    "# The missing identifier and the missing date\n",
    "missing_data = all_data[all_data.next_twelve_months_sales.notnull() & (all_data.next_twelve_months_eps.isnull())]\n",
    "missing_data[[\"equity_id\", 'identifier', 'revision']].sort_values(['revision', \"equity_id\"]).reset_index(drop=True).head(15)"
   ]
  },
  {
   "cell_type": "code",
   "execution_count": 33,
   "metadata": {},
   "outputs": [
    {
     "data": {
      "text/plain": [
       "1094"
      ]
     },
     "execution_count": 33,
     "metadata": {},
     "output_type": "execute_result"
    }
   ],
   "source": [
    "eps_ticker = list(eps.identifier.unique())\n",
    "sales_ticker = list(sales.identifier.unique())\n",
    "\n",
    "# Check the ticker in sales data but not in eps data\n",
    "eps_missing_ticker = set(sales_ticker) - set(eps_ticker)\n",
    "len(eps_missing_ticker)"
   ]
  },
  {
   "cell_type": "code",
   "execution_count": 34,
   "metadata": {},
   "outputs": [
    {
     "data": {
      "text/plain": [
       "1"
      ]
     },
     "execution_count": 34,
     "metadata": {},
     "output_type": "execute_result"
    }
   ],
   "source": [
    "# Check the ticker in eps data but not in sales data\n",
    "sales_missing_ticker = set(eps_ticker) - set(sales_ticker)\n",
    "len(sales_missing_ticker)"
   ]
  },
  {
   "cell_type": "markdown",
   "metadata": {},
   "source": [
    "## Remove the Missing Value and Conduct Further Check"
   ]
  },
  {
   "cell_type": "code",
   "execution_count": 35,
   "metadata": {},
   "outputs": [],
   "source": [
    "useful_data = sales.merge(eps, how = 'inner', on =['equity_id', 'identifier', 'revision'], suffixes=[\"_sales\", \"_eps\"])\n",
    "useful_data.rename(columns={'revision': 'date'}, inplace=True)"
   ]
  },
  {
   "cell_type": "code",
   "execution_count": 36,
   "metadata": {},
   "outputs": [
    {
     "data": {
      "text/html": [
       "<div>\n",
       "<style scoped>\n",
       "    .dataframe tbody tr th:only-of-type {\n",
       "        vertical-align: middle;\n",
       "    }\n",
       "\n",
       "    .dataframe tbody tr th {\n",
       "        vertical-align: top;\n",
       "    }\n",
       "\n",
       "    .dataframe thead th {\n",
       "        text-align: right;\n",
       "    }\n",
       "</style>\n",
       "<table border=\"1\" class=\"dataframe\">\n",
       "  <thead>\n",
       "    <tr style=\"text-align: right;\">\n",
       "      <th></th>\n",
       "      <th>equity_id</th>\n",
       "      <th>identifier</th>\n",
       "      <th>date</th>\n",
       "      <th>next_twelve_months_sales</th>\n",
       "      <th>next_twelve_months_eps</th>\n",
       "    </tr>\n",
       "  </thead>\n",
       "  <tbody>\n",
       "    <tr>\n",
       "      <th>0</th>\n",
       "      <td>39</td>\n",
       "      <td>A</td>\n",
       "      <td>2009-02-23</td>\n",
       "      <td>1.085580</td>\n",
       "      <td>12.7990</td>\n",
       "    </tr>\n",
       "    <tr>\n",
       "      <th>1</th>\n",
       "      <td>39</td>\n",
       "      <td>A</td>\n",
       "      <td>2009-03-02</td>\n",
       "      <td>0.963946</td>\n",
       "      <td>11.3649</td>\n",
       "    </tr>\n",
       "    <tr>\n",
       "      <th>2</th>\n",
       "      <td>39</td>\n",
       "      <td>A</td>\n",
       "      <td>2009-03-09</td>\n",
       "      <td>0.945700</td>\n",
       "      <td>11.1498</td>\n",
       "    </tr>\n",
       "    <tr>\n",
       "      <th>3</th>\n",
       "      <td>39</td>\n",
       "      <td>A</td>\n",
       "      <td>2009-03-16</td>\n",
       "      <td>1.026020</td>\n",
       "      <td>12.3329</td>\n",
       "    </tr>\n",
       "    <tr>\n",
       "      <th>4</th>\n",
       "      <td>39</td>\n",
       "      <td>A</td>\n",
       "      <td>2009-03-23</td>\n",
       "      <td>1.184840</td>\n",
       "      <td>14.2420</td>\n",
       "    </tr>\n",
       "  </tbody>\n",
       "</table>\n",
       "</div>"
      ],
      "text/plain": [
       "   equity_id identifier       date  next_twelve_months_sales  \\\n",
       "0         39          A 2009-02-23                  1.085580   \n",
       "1         39          A 2009-03-02                  0.963946   \n",
       "2         39          A 2009-03-09                  0.945700   \n",
       "3         39          A 2009-03-16                  1.026020   \n",
       "4         39          A 2009-03-23                  1.184840   \n",
       "\n",
       "   next_twelve_months_eps  \n",
       "0                 12.7990  \n",
       "1                 11.3649  \n",
       "2                 11.1498  \n",
       "3                 12.3329  \n",
       "4                 14.2420  "
      ]
     },
     "execution_count": 36,
     "metadata": {},
     "output_type": "execute_result"
    }
   ],
   "source": [
    "useful_data.head()"
   ]
  },
  {
   "cell_type": "code",
   "execution_count": 40,
   "metadata": {},
   "outputs": [
    {
     "data": {
      "text/plain": [
       "equity_id                   0\n",
       "identifier                  0\n",
       "date                        0\n",
       "next_twelve_months_sales    0\n",
       "next_twelve_months_eps      0\n",
       "dtype: int64"
      ]
     },
     "execution_count": 40,
     "metadata": {},
     "output_type": "execute_result"
    }
   ],
   "source": [
    "# Check the null values (None)\n",
    "useful_data.isnull().sum()"
   ]
  },
  {
   "cell_type": "code",
   "execution_count": 41,
   "metadata": {},
   "outputs": [
    {
     "data": {
      "text/html": [
       "<div>\n",
       "<style scoped>\n",
       "    .dataframe tbody tr th:only-of-type {\n",
       "        vertical-align: middle;\n",
       "    }\n",
       "\n",
       "    .dataframe tbody tr th {\n",
       "        vertical-align: top;\n",
       "    }\n",
       "\n",
       "    .dataframe thead th {\n",
       "        text-align: right;\n",
       "    }\n",
       "</style>\n",
       "<table border=\"1\" class=\"dataframe\">\n",
       "  <thead>\n",
       "    <tr style=\"text-align: right;\">\n",
       "      <th></th>\n",
       "      <th>identifier</th>\n",
       "      <th>date</th>\n",
       "      <th>next_twelve_months_sales</th>\n",
       "    </tr>\n",
       "  </thead>\n",
       "  <tbody>\n",
       "  </tbody>\n",
       "</table>\n",
       "</div>"
      ],
      "text/plain": [
       "Empty DataFrame\n",
       "Columns: [identifier, date, next_twelve_months_sales]\n",
       "Index: []"
      ]
     },
     "execution_count": 41,
     "metadata": {},
     "output_type": "execute_result"
    }
   ],
   "source": [
    "# Check if each identifier on each day have double next_twelve_months_sales records (None)\n",
    "useful_data.groupby(['identifier','date']).nunique()['next_twelve_months_sales'].reset_index().query(\"next_twelve_months_sales != 1\")"
   ]
  },
  {
   "cell_type": "code",
   "execution_count": 42,
   "metadata": {},
   "outputs": [
    {
     "data": {
      "text/html": [
       "<div>\n",
       "<style scoped>\n",
       "    .dataframe tbody tr th:only-of-type {\n",
       "        vertical-align: middle;\n",
       "    }\n",
       "\n",
       "    .dataframe tbody tr th {\n",
       "        vertical-align: top;\n",
       "    }\n",
       "\n",
       "    .dataframe thead th {\n",
       "        text-align: right;\n",
       "    }\n",
       "</style>\n",
       "<table border=\"1\" class=\"dataframe\">\n",
       "  <thead>\n",
       "    <tr style=\"text-align: right;\">\n",
       "      <th></th>\n",
       "      <th>identifier</th>\n",
       "      <th>date</th>\n",
       "      <th>next_twelve_months_eps</th>\n",
       "    </tr>\n",
       "  </thead>\n",
       "  <tbody>\n",
       "  </tbody>\n",
       "</table>\n",
       "</div>"
      ],
      "text/plain": [
       "Empty DataFrame\n",
       "Columns: [identifier, date, next_twelve_months_eps]\n",
       "Index: []"
      ]
     },
     "execution_count": 42,
     "metadata": {},
     "output_type": "execute_result"
    }
   ],
   "source": [
    "# Check if each identifier on each day have double next_twelve_months_eps records (None)\n",
    "useful_data.groupby(['identifier','date']).nunique()['next_twelve_months_eps'].reset_index().query(\"next_twelve_months_eps != 1\")"
   ]
  },
  {
   "cell_type": "code",
   "execution_count": 43,
   "metadata": {},
   "outputs": [
    {
     "data": {
      "text/plain": [
       "True"
      ]
     },
     "execution_count": 43,
     "metadata": {},
     "output_type": "execute_result"
    }
   ],
   "source": [
    "# Check if there is any duplicated data (None)\n",
    "useful = useful_data.sort_values(['identifier', 'date']).copy()\n",
    "useful.drop_duplicates(inplace=True)\n",
    "len(useful) == len(useful_data)"
   ]
  },
  {
   "cell_type": "markdown",
   "metadata": {},
   "source": [
    "## Check Date Gap"
   ]
  },
  {
   "cell_type": "code",
   "execution_count": 44,
   "metadata": {},
   "outputs": [
    {
     "data": {
      "text/html": [
       "<div>\n",
       "<style scoped>\n",
       "    .dataframe tbody tr th:only-of-type {\n",
       "        vertical-align: middle;\n",
       "    }\n",
       "\n",
       "    .dataframe tbody tr th {\n",
       "        vertical-align: top;\n",
       "    }\n",
       "\n",
       "    .dataframe thead th {\n",
       "        text-align: right;\n",
       "    }\n",
       "</style>\n",
       "<table border=\"1\" class=\"dataframe\">\n",
       "  <thead>\n",
       "    <tr style=\"text-align: right;\">\n",
       "      <th></th>\n",
       "      <th>equity_id</th>\n",
       "      <th>identifier</th>\n",
       "      <th>revision</th>\n",
       "      <th>next_twelve_months</th>\n",
       "      <th>next_date</th>\n",
       "      <th>date_gap</th>\n",
       "    </tr>\n",
       "  </thead>\n",
       "  <tbody>\n",
       "    <tr>\n",
       "      <th>926021</th>\n",
       "      <td>2462</td>\n",
       "      <td>JBSS</td>\n",
       "      <td>2006-08-14</td>\n",
       "      <td>0.219472</td>\n",
       "      <td>2018-05-04</td>\n",
       "      <td>4281.0</td>\n",
       "    </tr>\n",
       "    <tr>\n",
       "      <th>988967</th>\n",
       "      <td>1387</td>\n",
       "      <td>LEE</td>\n",
       "      <td>2008-11-10</td>\n",
       "      <td>0.064286</td>\n",
       "      <td>2019-05-10</td>\n",
       "      <td>3833.0</td>\n",
       "    </tr>\n",
       "    <tr>\n",
       "      <th>789819</th>\n",
       "      <td>2332</td>\n",
       "      <td>HBP</td>\n",
       "      <td>2008-11-10</td>\n",
       "      <td>0.033976</td>\n",
       "      <td>2019-05-10</td>\n",
       "      <td>3833.0</td>\n",
       "    </tr>\n",
       "    <tr>\n",
       "      <th>191241</th>\n",
       "      <td>1808</td>\n",
       "      <td>BBGI</td>\n",
       "      <td>2008-11-24</td>\n",
       "      <td>0.185117</td>\n",
       "      <td>2019-04-29</td>\n",
       "      <td>3808.0</td>\n",
       "    </tr>\n",
       "    <tr>\n",
       "      <th>193646</th>\n",
       "      <td>1812</td>\n",
       "      <td>BBX</td>\n",
       "      <td>2008-11-10</td>\n",
       "      <td>0.034708</td>\n",
       "      <td>2018-08-10</td>\n",
       "      <td>3560.0</td>\n",
       "    </tr>\n",
       "    <tr>\n",
       "      <th>533792</th>\n",
       "      <td>2093</td>\n",
       "      <td>DVD</td>\n",
       "      <td>2010-04-26</td>\n",
       "      <td>1.097440</td>\n",
       "      <td>2019-05-10</td>\n",
       "      <td>3301.0</td>\n",
       "    </tr>\n",
       "    <tr>\n",
       "      <th>974832</th>\n",
       "      <td>329</td>\n",
       "      <td>L</td>\n",
       "      <td>2010-04-26</td>\n",
       "      <td>1.165830</td>\n",
       "      <td>2019-05-10</td>\n",
       "      <td>3301.0</td>\n",
       "    </tr>\n",
       "    <tr>\n",
       "      <th>476556</th>\n",
       "      <td>2048</td>\n",
       "      <td>CYBE</td>\n",
       "      <td>2009-02-09</td>\n",
       "      <td>1.469590</td>\n",
       "      <td>2017-04-28</td>\n",
       "      <td>3000.0</td>\n",
       "    </tr>\n",
       "    <tr>\n",
       "      <th>717590</th>\n",
       "      <td>2268</td>\n",
       "      <td>GDEN</td>\n",
       "      <td>2009-03-02</td>\n",
       "      <td>1.365320</td>\n",
       "      <td>2017-03-17</td>\n",
       "      <td>2937.0</td>\n",
       "    </tr>\n",
       "    <tr>\n",
       "      <th>321147</th>\n",
       "      <td>1917</td>\n",
       "      <td>CDZI</td>\n",
       "      <td>2011-05-02</td>\n",
       "      <td>169.138000</td>\n",
       "      <td>2019-05-10</td>\n",
       "      <td>2930.0</td>\n",
       "    </tr>\n",
       "  </tbody>\n",
       "</table>\n",
       "</div>"
      ],
      "text/plain": [
       "        equity_id identifier   revision  next_twelve_months  next_date  \\\n",
       "926021       2462       JBSS 2006-08-14            0.219472 2018-05-04   \n",
       "988967       1387        LEE 2008-11-10            0.064286 2019-05-10   \n",
       "789819       2332        HBP 2008-11-10            0.033976 2019-05-10   \n",
       "191241       1808       BBGI 2008-11-24            0.185117 2019-04-29   \n",
       "193646       1812        BBX 2008-11-10            0.034708 2018-08-10   \n",
       "533792       2093        DVD 2010-04-26            1.097440 2019-05-10   \n",
       "974832        329          L 2010-04-26            1.165830 2019-05-10   \n",
       "476556       2048       CYBE 2009-02-09            1.469590 2017-04-28   \n",
       "717590       2268       GDEN 2009-03-02            1.365320 2017-03-17   \n",
       "321147       1917       CDZI 2011-05-02          169.138000 2019-05-10   \n",
       "\n",
       "        date_gap  \n",
       "926021    4281.0  \n",
       "988967    3833.0  \n",
       "789819    3833.0  \n",
       "191241    3808.0  \n",
       "193646    3560.0  \n",
       "533792    3301.0  \n",
       "974832    3301.0  \n",
       "476556    3000.0  \n",
       "717590    2937.0  \n",
       "321147    2930.0  "
      ]
     },
     "execution_count": 44,
     "metadata": {},
     "output_type": "execute_result"
    }
   ],
   "source": [
    "# Check the date gap\n",
    "sales['next_date'] = sales.groupby('identifier')['revision'].shift(-1)\n",
    "sales['date_gap'] = sales.apply(lambda x: (x['next_date'] - x['revision']).days, axis=1)\n",
    "sales[sales['date_gap'].notnull()].sort_values('date_gap', ascending=False).head(10)"
   ]
  },
  {
   "cell_type": "code",
   "execution_count": 46,
   "metadata": {},
   "outputs": [
    {
     "data": {
      "text/plain": [
       "62559"
      ]
     },
     "execution_count": 46,
     "metadata": {},
     "output_type": "execute_result"
    }
   ],
   "source": [
    "# Check the total records that date_gap is larger than 7 days\n",
    "len(sales.query(\"date_gap > 7\"))"
   ]
  },
  {
   "cell_type": "code",
   "execution_count": 48,
   "metadata": {},
   "outputs": [
    {
     "data": {
      "text/plain": [
       "2561"
      ]
     },
     "execution_count": 48,
     "metadata": {},
     "output_type": "execute_result"
    }
   ],
   "source": [
    "# check the number of tickers have date_gap records larger than 7 days\n",
    "sales[sales.date_gap > 7].identifier.nunique()"
   ]
  },
  {
   "cell_type": "code",
   "execution_count": 45,
   "metadata": {},
   "outputs": [
    {
     "data": {
      "text/html": [
       "<div>\n",
       "<style scoped>\n",
       "    .dataframe tbody tr th:only-of-type {\n",
       "        vertical-align: middle;\n",
       "    }\n",
       "\n",
       "    .dataframe tbody tr th {\n",
       "        vertical-align: top;\n",
       "    }\n",
       "\n",
       "    .dataframe thead th {\n",
       "        text-align: right;\n",
       "    }\n",
       "</style>\n",
       "<table border=\"1\" class=\"dataframe\">\n",
       "  <thead>\n",
       "    <tr style=\"text-align: right;\">\n",
       "      <th></th>\n",
       "      <th>equity_id</th>\n",
       "      <th>identifier</th>\n",
       "      <th>revision</th>\n",
       "      <th>next_twelve_months</th>\n",
       "      <th>next_date</th>\n",
       "      <th>date_gap</th>\n",
       "    </tr>\n",
       "  </thead>\n",
       "  <tbody>\n",
       "    <tr>\n",
       "      <th>371284</th>\n",
       "      <td>547</td>\n",
       "      <td>MDCA</td>\n",
       "      <td>2010-02-22</td>\n",
       "      <td>121.6210</td>\n",
       "      <td>2016-05-06</td>\n",
       "      <td>2265.0</td>\n",
       "    </tr>\n",
       "    <tr>\n",
       "      <th>309100</th>\n",
       "      <td>2421</td>\n",
       "      <td>INFN</td>\n",
       "      <td>2008-06-09</td>\n",
       "      <td>321.2500</td>\n",
       "      <td>2014-07-28</td>\n",
       "      <td>2240.0</td>\n",
       "    </tr>\n",
       "    <tr>\n",
       "      <th>509636</th>\n",
       "      <td>945</td>\n",
       "      <td>SNPS</td>\n",
       "      <td>2010-11-29</td>\n",
       "      <td>20.1562</td>\n",
       "      <td>2016-10-21</td>\n",
       "      <td>2153.0</td>\n",
       "    </tr>\n",
       "    <tr>\n",
       "      <th>465137</th>\n",
       "      <td>1078</td>\n",
       "      <td>PTC</td>\n",
       "      <td>2010-04-12</td>\n",
       "      <td>23.8405</td>\n",
       "      <td>2015-11-13</td>\n",
       "      <td>2041.0</td>\n",
       "    </tr>\n",
       "    <tr>\n",
       "      <th>177786</th>\n",
       "      <td>718</td>\n",
       "      <td>DLB</td>\n",
       "      <td>2010-10-25</td>\n",
       "      <td>25.0320</td>\n",
       "      <td>2015-10-23</td>\n",
       "      <td>1824.0</td>\n",
       "    </tr>\n",
       "    <tr>\n",
       "      <th>78432</th>\n",
       "      <td>1840</td>\n",
       "      <td>BKS</td>\n",
       "      <td>2010-06-28</td>\n",
       "      <td>28.7922</td>\n",
       "      <td>2015-06-26</td>\n",
       "      <td>1824.0</td>\n",
       "    </tr>\n",
       "    <tr>\n",
       "      <th>197407</th>\n",
       "      <td>2128</td>\n",
       "      <td>ELY</td>\n",
       "      <td>2009-06-01</td>\n",
       "      <td>28.4308</td>\n",
       "      <td>2014-04-28</td>\n",
       "      <td>1792.0</td>\n",
       "    </tr>\n",
       "    <tr>\n",
       "      <th>501555</th>\n",
       "      <td>21</td>\n",
       "      <td>SINA</td>\n",
       "      <td>2012-05-14</td>\n",
       "      <td>9065.7800</td>\n",
       "      <td>2016-11-21</td>\n",
       "      <td>1652.0</td>\n",
       "    </tr>\n",
       "    <tr>\n",
       "      <th>110818</th>\n",
       "      <td>1919</td>\n",
       "      <td>CECO</td>\n",
       "      <td>2012-06-11</td>\n",
       "      <td>3734.7500</td>\n",
       "      <td>2016-11-04</td>\n",
       "      <td>1607.0</td>\n",
       "    </tr>\n",
       "    <tr>\n",
       "      <th>443243</th>\n",
       "      <td>14</td>\n",
       "      <td>PCLN</td>\n",
       "      <td>2012-04-02</td>\n",
       "      <td>26.8145</td>\n",
       "      <td>2016-08-05</td>\n",
       "      <td>1586.0</td>\n",
       "    </tr>\n",
       "  </tbody>\n",
       "</table>\n",
       "</div>"
      ],
      "text/plain": [
       "        equity_id identifier   revision  next_twelve_months  next_date  \\\n",
       "371284        547       MDCA 2010-02-22            121.6210 2016-05-06   \n",
       "309100       2421       INFN 2008-06-09            321.2500 2014-07-28   \n",
       "509636        945       SNPS 2010-11-29             20.1562 2016-10-21   \n",
       "465137       1078        PTC 2010-04-12             23.8405 2015-11-13   \n",
       "177786        718        DLB 2010-10-25             25.0320 2015-10-23   \n",
       "78432        1840        BKS 2010-06-28             28.7922 2015-06-26   \n",
       "197407       2128        ELY 2009-06-01             28.4308 2014-04-28   \n",
       "501555         21       SINA 2012-05-14           9065.7800 2016-11-21   \n",
       "110818       1919       CECO 2012-06-11           3734.7500 2016-11-04   \n",
       "443243         14       PCLN 2012-04-02             26.8145 2016-08-05   \n",
       "\n",
       "        date_gap  \n",
       "371284    2265.0  \n",
       "309100    2240.0  \n",
       "509636    2153.0  \n",
       "465137    2041.0  \n",
       "177786    1824.0  \n",
       "78432     1824.0  \n",
       "197407    1792.0  \n",
       "501555    1652.0  \n",
       "110818    1607.0  \n",
       "443243    1586.0  "
      ]
     },
     "execution_count": 45,
     "metadata": {},
     "output_type": "execute_result"
    }
   ],
   "source": [
    "# Check the date gap\n",
    "eps['next_date'] = eps.groupby('identifier')['revision'].shift(-1)\n",
    "eps['date_gap'] = eps.apply(lambda x: (x['next_date'] - x['revision']).days, axis=1)\n",
    "eps[eps['date_gap'].notnull()].sort_values('date_gap', ascending=False).head(10)"
   ]
  },
  {
   "cell_type": "code",
   "execution_count": 47,
   "metadata": {},
   "outputs": [
    {
     "data": {
      "text/plain": [
       "26605"
      ]
     },
     "execution_count": 47,
     "metadata": {},
     "output_type": "execute_result"
    }
   ],
   "source": [
    "# Check the total records that date_gap is larger than 7 days\n",
    "len(eps.query(\"date_gap > 7\"))"
   ]
  },
  {
   "cell_type": "code",
   "execution_count": 49,
   "metadata": {},
   "outputs": [
    {
     "data": {
      "text/plain": [
       "1714"
      ]
     },
     "execution_count": 49,
     "metadata": {},
     "output_type": "execute_result"
    }
   ],
   "source": [
    "# check the number of tickers have date_gap records larger than 7 days\n",
    "eps[eps.date_gap > 7].identifier.nunique()"
   ]
  },
  {
   "cell_type": "code",
   "execution_count": null,
   "metadata": {},
   "outputs": [],
   "source": []
  }
 ],
 "metadata": {
  "kernelspec": {
   "display_name": "Python 3",
   "language": "python",
   "name": "python3"
  },
  "language_info": {
   "codemirror_mode": {
    "name": "ipython",
    "version": 3
   },
   "file_extension": ".py",
   "mimetype": "text/x-python",
   "name": "python",
   "nbconvert_exporter": "python",
   "pygments_lexer": "ipython3",
   "version": "3.6.5"
  }
 },
 "nbformat": 4,
 "nbformat_minor": 4
}
