{
 "cells": [
  {
   "cell_type": "markdown",
   "metadata": {},
   "source": [
    "# Set Up"
   ]
  },
  {
   "cell_type": "markdown",
   "metadata": {},
   "source": [
    "## Import"
   ]
  },
  {
   "cell_type": "code",
   "execution_count": 1,
   "metadata": {},
   "outputs": [],
   "source": [
    "import pandas as pd\n",
    "import numpy as np"
   ]
  },
  {
   "cell_type": "markdown",
   "metadata": {},
   "source": [
    "## Read Sales Data"
   ]
  },
  {
   "cell_type": "code",
   "execution_count": 2,
   "metadata": {},
   "outputs": [],
   "source": [
    "sales_2013 = pd.read_csv('p_sales pre 2013.csv', parse_dates=['revision'])\n",
    "sales_2016 = pd.read_csv('p_sales 2013-2016.csv', parse_dates=['revision'])\n",
    "sales_2017 = pd.read_csv('p_sales post 2017.csv', parse_dates=['revision'])"
   ]
  },
  {
   "cell_type": "code",
   "execution_count": 3,
   "metadata": {},
   "outputs": [
    {
     "data": {
      "text/html": [
       "<div>\n",
       "<style scoped>\n",
       "    .dataframe tbody tr th:only-of-type {\n",
       "        vertical-align: middle;\n",
       "    }\n",
       "\n",
       "    .dataframe tbody tr th {\n",
       "        vertical-align: top;\n",
       "    }\n",
       "\n",
       "    .dataframe thead th {\n",
       "        text-align: right;\n",
       "    }\n",
       "</style>\n",
       "<table border=\"1\" class=\"dataframe\">\n",
       "  <thead>\n",
       "    <tr style=\"text-align: right;\">\n",
       "      <th></th>\n",
       "      <th>equity_id</th>\n",
       "      <th>identifier</th>\n",
       "      <th>metric</th>\n",
       "      <th>revision</th>\n",
       "      <th>next_twelve_months</th>\n",
       "    </tr>\n",
       "  </thead>\n",
       "  <tbody>\n",
       "    <tr>\n",
       "      <th>0</th>\n",
       "      <td>526</td>\n",
       "      <td>XEL</td>\n",
       "      <td>p_sales</td>\n",
       "      <td>2012-12-31</td>\n",
       "      <td>1.175640</td>\n",
       "    </tr>\n",
       "    <tr>\n",
       "      <th>1</th>\n",
       "      <td>528</td>\n",
       "      <td>XLNX</td>\n",
       "      <td>p_sales</td>\n",
       "      <td>2012-12-31</td>\n",
       "      <td>4.198560</td>\n",
       "    </tr>\n",
       "    <tr>\n",
       "      <th>2</th>\n",
       "      <td>235</td>\n",
       "      <td>XOM</td>\n",
       "      <td>p_sales</td>\n",
       "      <td>2012-12-31</td>\n",
       "      <td>0.877024</td>\n",
       "    </tr>\n",
       "    <tr>\n",
       "      <th>3</th>\n",
       "      <td>1360</td>\n",
       "      <td>XPO</td>\n",
       "      <td>p_sales</td>\n",
       "      <td>2012-12-31</td>\n",
       "      <td>0.504743</td>\n",
       "    </tr>\n",
       "    <tr>\n",
       "      <th>4</th>\n",
       "      <td>198</td>\n",
       "      <td>XRAY</td>\n",
       "      <td>p_sales</td>\n",
       "      <td>2012-12-31</td>\n",
       "      <td>1.872420</td>\n",
       "    </tr>\n",
       "  </tbody>\n",
       "</table>\n",
       "</div>"
      ],
      "text/plain": [
       "   equity_id identifier   metric   revision  next_twelve_months\n",
       "0        526        XEL  p_sales 2012-12-31            1.175640\n",
       "1        528       XLNX  p_sales 2012-12-31            4.198560\n",
       "2        235        XOM  p_sales 2012-12-31            0.877024\n",
       "3       1360        XPO  p_sales 2012-12-31            0.504743\n",
       "4        198       XRAY  p_sales 2012-12-31            1.872420"
      ]
     },
     "execution_count": 3,
     "metadata": {},
     "output_type": "execute_result"
    }
   ],
   "source": [
    "sales_2013.head()"
   ]
  },
  {
   "cell_type": "code",
   "execution_count": 4,
   "metadata": {},
   "outputs": [
    {
     "data": {
      "text/html": [
       "<div>\n",
       "<style scoped>\n",
       "    .dataframe tbody tr th:only-of-type {\n",
       "        vertical-align: middle;\n",
       "    }\n",
       "\n",
       "    .dataframe tbody tr th {\n",
       "        vertical-align: top;\n",
       "    }\n",
       "\n",
       "    .dataframe thead th {\n",
       "        text-align: right;\n",
       "    }\n",
       "</style>\n",
       "<table border=\"1\" class=\"dataframe\">\n",
       "  <thead>\n",
       "    <tr style=\"text-align: right;\">\n",
       "      <th></th>\n",
       "      <th>equity_id</th>\n",
       "      <th>identifier</th>\n",
       "      <th>metric</th>\n",
       "      <th>revision</th>\n",
       "      <th>next_twelve_months</th>\n",
       "    </tr>\n",
       "  </thead>\n",
       "  <tbody>\n",
       "    <tr>\n",
       "      <th>0</th>\n",
       "      <td>1360</td>\n",
       "      <td>XPO</td>\n",
       "      <td>p_sales</td>\n",
       "      <td>2016-12-30</td>\n",
       "      <td>0.322400</td>\n",
       "    </tr>\n",
       "    <tr>\n",
       "      <th>1</th>\n",
       "      <td>198</td>\n",
       "      <td>XRAY</td>\n",
       "      <td>p_sales</td>\n",
       "      <td>2016-12-30</td>\n",
       "      <td>3.240700</td>\n",
       "    </tr>\n",
       "    <tr>\n",
       "      <th>2</th>\n",
       "      <td>527</td>\n",
       "      <td>XRX</td>\n",
       "      <td>p_sales</td>\n",
       "      <td>2016-12-30</td>\n",
       "      <td>0.516028</td>\n",
       "    </tr>\n",
       "    <tr>\n",
       "      <th>3</th>\n",
       "      <td>530</td>\n",
       "      <td>XYL</td>\n",
       "      <td>p_sales</td>\n",
       "      <td>2016-12-30</td>\n",
       "      <td>1.953140</td>\n",
       "    </tr>\n",
       "    <tr>\n",
       "      <th>4</th>\n",
       "      <td>595</td>\n",
       "      <td>Y</td>\n",
       "      <td>p_sales</td>\n",
       "      <td>2016-12-30</td>\n",
       "      <td>1.598900</td>\n",
       "    </tr>\n",
       "  </tbody>\n",
       "</table>\n",
       "</div>"
      ],
      "text/plain": [
       "   equity_id identifier   metric   revision  next_twelve_months\n",
       "0       1360        XPO  p_sales 2016-12-30            0.322400\n",
       "1        198       XRAY  p_sales 2016-12-30            3.240700\n",
       "2        527        XRX  p_sales 2016-12-30            0.516028\n",
       "3        530        XYL  p_sales 2016-12-30            1.953140\n",
       "4        595          Y  p_sales 2016-12-30            1.598900"
      ]
     },
     "execution_count": 4,
     "metadata": {},
     "output_type": "execute_result"
    }
   ],
   "source": [
    "sales_2016.head()"
   ]
  },
  {
   "cell_type": "code",
   "execution_count": 5,
   "metadata": {},
   "outputs": [
    {
     "data": {
      "text/html": [
       "<div>\n",
       "<style scoped>\n",
       "    .dataframe tbody tr th:only-of-type {\n",
       "        vertical-align: middle;\n",
       "    }\n",
       "\n",
       "    .dataframe tbody tr th {\n",
       "        vertical-align: top;\n",
       "    }\n",
       "\n",
       "    .dataframe thead th {\n",
       "        text-align: right;\n",
       "    }\n",
       "</style>\n",
       "<table border=\"1\" class=\"dataframe\">\n",
       "  <thead>\n",
       "    <tr style=\"text-align: right;\">\n",
       "      <th></th>\n",
       "      <th>equity_id</th>\n",
       "      <th>identifier</th>\n",
       "      <th>metric</th>\n",
       "      <th>revision</th>\n",
       "      <th>next_twelve_months</th>\n",
       "    </tr>\n",
       "  </thead>\n",
       "  <tbody>\n",
       "    <tr>\n",
       "      <th>0</th>\n",
       "      <td>534</td>\n",
       "      <td>ZTS</td>\n",
       "      <td>p_sales</td>\n",
       "      <td>2019-07-26</td>\n",
       "      <td>8.775030</td>\n",
       "    </tr>\n",
       "    <tr>\n",
       "      <th>1</th>\n",
       "      <td>3314</td>\n",
       "      <td>ZUMZ</td>\n",
       "      <td>p_sales</td>\n",
       "      <td>2019-07-26</td>\n",
       "      <td>0.658078</td>\n",
       "    </tr>\n",
       "    <tr>\n",
       "      <th>2</th>\n",
       "      <td>3296</td>\n",
       "      <td>XENT</td>\n",
       "      <td>p_sales</td>\n",
       "      <td>2019-07-26</td>\n",
       "      <td>5.279740</td>\n",
       "    </tr>\n",
       "    <tr>\n",
       "      <th>3</th>\n",
       "      <td>3297</td>\n",
       "      <td>XHR</td>\n",
       "      <td>p_sales</td>\n",
       "      <td>2019-07-26</td>\n",
       "      <td>2.133200</td>\n",
       "    </tr>\n",
       "    <tr>\n",
       "      <th>4</th>\n",
       "      <td>528</td>\n",
       "      <td>XLNX</td>\n",
       "      <td>p_sales</td>\n",
       "      <td>2019-07-26</td>\n",
       "      <td>8.654860</td>\n",
       "    </tr>\n",
       "  </tbody>\n",
       "</table>\n",
       "</div>"
      ],
      "text/plain": [
       "   equity_id identifier   metric   revision  next_twelve_months\n",
       "0        534        ZTS  p_sales 2019-07-26            8.775030\n",
       "1       3314       ZUMZ  p_sales 2019-07-26            0.658078\n",
       "2       3296       XENT  p_sales 2019-07-26            5.279740\n",
       "3       3297        XHR  p_sales 2019-07-26            2.133200\n",
       "4        528       XLNX  p_sales 2019-07-26            8.654860"
      ]
     },
     "execution_count": 5,
     "metadata": {},
     "output_type": "execute_result"
    }
   ],
   "source": [
    "sales_2017.head()"
   ]
  },
  {
   "cell_type": "code",
   "execution_count": 6,
   "metadata": {},
   "outputs": [],
   "source": [
    "sales = sales_2013.append([sales_2016, sales_2017], ignore_index=True)\n",
    "del sales[\"metric\"]"
   ]
  },
  {
   "cell_type": "code",
   "execution_count": 7,
   "metadata": {},
   "outputs": [
    {
     "data": {
      "text/plain": [
       "True"
      ]
     },
     "execution_count": 7,
     "metadata": {},
     "output_type": "execute_result"
    }
   ],
   "source": [
    "len(sales) == len(sales_2013) + len(sales_2016) + len(sales_2017)"
   ]
  },
  {
   "cell_type": "code",
   "execution_count": 8,
   "metadata": {},
   "outputs": [],
   "source": [
    "sales = sales.sort_values(['identifier', 'revision']).reset_index(drop=True)"
   ]
  },
  {
   "cell_type": "code",
   "execution_count": 9,
   "metadata": {},
   "outputs": [
    {
     "data": {
      "text/html": [
       "<div>\n",
       "<style scoped>\n",
       "    .dataframe tbody tr th:only-of-type {\n",
       "        vertical-align: middle;\n",
       "    }\n",
       "\n",
       "    .dataframe tbody tr th {\n",
       "        vertical-align: top;\n",
       "    }\n",
       "\n",
       "    .dataframe thead th {\n",
       "        text-align: right;\n",
       "    }\n",
       "</style>\n",
       "<table border=\"1\" class=\"dataframe\">\n",
       "  <thead>\n",
       "    <tr style=\"text-align: right;\">\n",
       "      <th></th>\n",
       "      <th>equity_id</th>\n",
       "      <th>identifier</th>\n",
       "      <th>revision</th>\n",
       "      <th>next_twelve_months</th>\n",
       "    </tr>\n",
       "  </thead>\n",
       "  <tbody>\n",
       "    <tr>\n",
       "      <th>0</th>\n",
       "      <td>22</td>\n",
       "      <td>700</td>\n",
       "      <td>2005-08-29</td>\n",
       "      <td>8.23332</td>\n",
       "    </tr>\n",
       "    <tr>\n",
       "      <th>1</th>\n",
       "      <td>22</td>\n",
       "      <td>700</td>\n",
       "      <td>2005-09-12</td>\n",
       "      <td>9.14781</td>\n",
       "    </tr>\n",
       "    <tr>\n",
       "      <th>2</th>\n",
       "      <td>22</td>\n",
       "      <td>700</td>\n",
       "      <td>2007-02-26</td>\n",
       "      <td>14.28690</td>\n",
       "    </tr>\n",
       "    <tr>\n",
       "      <th>3</th>\n",
       "      <td>22</td>\n",
       "      <td>700</td>\n",
       "      <td>2007-03-05</td>\n",
       "      <td>13.39700</td>\n",
       "    </tr>\n",
       "    <tr>\n",
       "      <th>4</th>\n",
       "      <td>22</td>\n",
       "      <td>700</td>\n",
       "      <td>2007-03-12</td>\n",
       "      <td>15.52260</td>\n",
       "    </tr>\n",
       "  </tbody>\n",
       "</table>\n",
       "</div>"
      ],
      "text/plain": [
       "   equity_id identifier   revision  next_twelve_months\n",
       "0         22        700 2005-08-29             8.23332\n",
       "1         22        700 2005-09-12             9.14781\n",
       "2         22        700 2007-02-26            14.28690\n",
       "3         22        700 2007-03-05            13.39700\n",
       "4         22        700 2007-03-12            15.52260"
      ]
     },
     "execution_count": 9,
     "metadata": {},
     "output_type": "execute_result"
    }
   ],
   "source": [
    "sales.head()"
   ]
  },
  {
   "cell_type": "code",
   "execution_count": 10,
   "metadata": {},
   "outputs": [
    {
     "data": {
      "text/plain": [
       "2938"
      ]
     },
     "execution_count": 10,
     "metadata": {},
     "output_type": "execute_result"
    }
   ],
   "source": [
    "len(sales.identifier.unique())"
   ]
  },
  {
   "cell_type": "markdown",
   "metadata": {},
   "source": [
    "## Read Earnings Data"
   ]
  },
  {
   "cell_type": "code",
   "execution_count": 11,
   "metadata": {},
   "outputs": [],
   "source": [
    "eps_2013 = pd.read_csv('p_non_gaap_eps pre 2013.csv', parse_dates=['revision'])\n",
    "eps_2016 = pd.read_csv('p_non_gaap_eps 2013-2016.csv', parse_dates=['revision'])\n",
    "eps_2017 = pd.read_csv('p_non_gaap_eps post 2017.csv', parse_dates=['revision'])"
   ]
  },
  {
   "cell_type": "code",
   "execution_count": 12,
   "metadata": {},
   "outputs": [
    {
     "data": {
      "text/html": [
       "<div>\n",
       "<style scoped>\n",
       "    .dataframe tbody tr th:only-of-type {\n",
       "        vertical-align: middle;\n",
       "    }\n",
       "\n",
       "    .dataframe tbody tr th {\n",
       "        vertical-align: top;\n",
       "    }\n",
       "\n",
       "    .dataframe thead th {\n",
       "        text-align: right;\n",
       "    }\n",
       "</style>\n",
       "<table border=\"1\" class=\"dataframe\">\n",
       "  <thead>\n",
       "    <tr style=\"text-align: right;\">\n",
       "      <th></th>\n",
       "      <th>equity_id</th>\n",
       "      <th>identifier</th>\n",
       "      <th>metric</th>\n",
       "      <th>revision</th>\n",
       "      <th>next_twelve_months</th>\n",
       "    </tr>\n",
       "  </thead>\n",
       "  <tbody>\n",
       "    <tr>\n",
       "      <th>0</th>\n",
       "      <td>1014</td>\n",
       "      <td>WTW</td>\n",
       "      <td>p_non_gaap_eps</td>\n",
       "      <td>2012-12-31</td>\n",
       "      <td>11.63530</td>\n",
       "    </tr>\n",
       "    <tr>\n",
       "      <th>1</th>\n",
       "      <td>517</td>\n",
       "      <td>WU</td>\n",
       "      <td>p_non_gaap_eps</td>\n",
       "      <td>2012-12-31</td>\n",
       "      <td>9.24896</td>\n",
       "    </tr>\n",
       "    <tr>\n",
       "      <th>2</th>\n",
       "      <td>1145</td>\n",
       "      <td>WWD</td>\n",
       "      <td>p_non_gaap_eps</td>\n",
       "      <td>2012-12-31</td>\n",
       "      <td>17.02230</td>\n",
       "    </tr>\n",
       "    <tr>\n",
       "      <th>3</th>\n",
       "      <td>1485</td>\n",
       "      <td>WWW</td>\n",
       "      <td>p_non_gaap_eps</td>\n",
       "      <td>2012-12-31</td>\n",
       "      <td>15.57510</td>\n",
       "    </tr>\n",
       "    <tr>\n",
       "      <th>4</th>\n",
       "      <td>519</td>\n",
       "      <td>WY</td>\n",
       "      <td>p_non_gaap_eps</td>\n",
       "      <td>2012-12-31</td>\n",
       "      <td>33.17770</td>\n",
       "    </tr>\n",
       "  </tbody>\n",
       "</table>\n",
       "</div>"
      ],
      "text/plain": [
       "   equity_id identifier          metric   revision  next_twelve_months\n",
       "0       1014        WTW  p_non_gaap_eps 2012-12-31            11.63530\n",
       "1        517         WU  p_non_gaap_eps 2012-12-31             9.24896\n",
       "2       1145        WWD  p_non_gaap_eps 2012-12-31            17.02230\n",
       "3       1485        WWW  p_non_gaap_eps 2012-12-31            15.57510\n",
       "4        519         WY  p_non_gaap_eps 2012-12-31            33.17770"
      ]
     },
     "execution_count": 12,
     "metadata": {},
     "output_type": "execute_result"
    }
   ],
   "source": [
    "eps_2013.head()"
   ]
  },
  {
   "cell_type": "code",
   "execution_count": 13,
   "metadata": {},
   "outputs": [
    {
     "data": {
      "text/html": [
       "<div>\n",
       "<style scoped>\n",
       "    .dataframe tbody tr th:only-of-type {\n",
       "        vertical-align: middle;\n",
       "    }\n",
       "\n",
       "    .dataframe tbody tr th {\n",
       "        vertical-align: top;\n",
       "    }\n",
       "\n",
       "    .dataframe thead th {\n",
       "        text-align: right;\n",
       "    }\n",
       "</style>\n",
       "<table border=\"1\" class=\"dataframe\">\n",
       "  <thead>\n",
       "    <tr style=\"text-align: right;\">\n",
       "      <th></th>\n",
       "      <th>equity_id</th>\n",
       "      <th>identifier</th>\n",
       "      <th>metric</th>\n",
       "      <th>revision</th>\n",
       "      <th>next_twelve_months</th>\n",
       "    </tr>\n",
       "  </thead>\n",
       "  <tbody>\n",
       "    <tr>\n",
       "      <th>0</th>\n",
       "      <td>198</td>\n",
       "      <td>XRAY</td>\n",
       "      <td>p_non_gaap_eps</td>\n",
       "      <td>2016-12-30</td>\n",
       "      <td>19.69030</td>\n",
       "    </tr>\n",
       "    <tr>\n",
       "      <th>1</th>\n",
       "      <td>527</td>\n",
       "      <td>XRX</td>\n",
       "      <td>p_non_gaap_eps</td>\n",
       "      <td>2016-12-30</td>\n",
       "      <td>5.12998</td>\n",
       "    </tr>\n",
       "    <tr>\n",
       "      <th>2</th>\n",
       "      <td>530</td>\n",
       "      <td>XYL</td>\n",
       "      <td>p_non_gaap_eps</td>\n",
       "      <td>2016-12-30</td>\n",
       "      <td>21.71690</td>\n",
       "    </tr>\n",
       "    <tr>\n",
       "      <th>3</th>\n",
       "      <td>595</td>\n",
       "      <td>Y</td>\n",
       "      <td>p_non_gaap_eps</td>\n",
       "      <td>2016-12-30</td>\n",
       "      <td>21.59130</td>\n",
       "    </tr>\n",
       "    <tr>\n",
       "      <th>4</th>\n",
       "      <td>3306</td>\n",
       "      <td>YRCW</td>\n",
       "      <td>p_non_gaap_eps</td>\n",
       "      <td>2016-12-30</td>\n",
       "      <td>12.80050</td>\n",
       "    </tr>\n",
       "  </tbody>\n",
       "</table>\n",
       "</div>"
      ],
      "text/plain": [
       "   equity_id identifier          metric   revision  next_twelve_months\n",
       "0        198       XRAY  p_non_gaap_eps 2016-12-30            19.69030\n",
       "1        527        XRX  p_non_gaap_eps 2016-12-30             5.12998\n",
       "2        530        XYL  p_non_gaap_eps 2016-12-30            21.71690\n",
       "3        595          Y  p_non_gaap_eps 2016-12-30            21.59130\n",
       "4       3306       YRCW  p_non_gaap_eps 2016-12-30            12.80050"
      ]
     },
     "execution_count": 13,
     "metadata": {},
     "output_type": "execute_result"
    }
   ],
   "source": [
    "eps_2016.head()"
   ]
  },
  {
   "cell_type": "code",
   "execution_count": 14,
   "metadata": {},
   "outputs": [
    {
     "data": {
      "text/html": [
       "<div>\n",
       "<style scoped>\n",
       "    .dataframe tbody tr th:only-of-type {\n",
       "        vertical-align: middle;\n",
       "    }\n",
       "\n",
       "    .dataframe tbody tr th {\n",
       "        vertical-align: top;\n",
       "    }\n",
       "\n",
       "    .dataframe thead th {\n",
       "        text-align: right;\n",
       "    }\n",
       "</style>\n",
       "<table border=\"1\" class=\"dataframe\">\n",
       "  <thead>\n",
       "    <tr style=\"text-align: right;\">\n",
       "      <th></th>\n",
       "      <th>equity_id</th>\n",
       "      <th>identifier</th>\n",
       "      <th>metric</th>\n",
       "      <th>revision</th>\n",
       "      <th>next_twelve_months</th>\n",
       "    </tr>\n",
       "  </thead>\n",
       "  <tbody>\n",
       "    <tr>\n",
       "      <th>0</th>\n",
       "      <td>3307</td>\n",
       "      <td>ZAGG</td>\n",
       "      <td>p_non_gaap_eps</td>\n",
       "      <td>2019-07-28</td>\n",
       "      <td>3.82712</td>\n",
       "    </tr>\n",
       "    <tr>\n",
       "      <th>1</th>\n",
       "      <td>1427</td>\n",
       "      <td>ZAYO</td>\n",
       "      <td>p_non_gaap_eps</td>\n",
       "      <td>2019-07-28</td>\n",
       "      <td>42.97600</td>\n",
       "    </tr>\n",
       "    <tr>\n",
       "      <th>2</th>\n",
       "      <td>532</td>\n",
       "      <td>ZBH</td>\n",
       "      <td>p_non_gaap_eps</td>\n",
       "      <td>2019-07-28</td>\n",
       "      <td>47.69500</td>\n",
       "    </tr>\n",
       "    <tr>\n",
       "      <th>3</th>\n",
       "      <td>1000</td>\n",
       "      <td>ZBRA</td>\n",
       "      <td>p_non_gaap_eps</td>\n",
       "      <td>2019-07-28</td>\n",
       "      <td>14.90590</td>\n",
       "    </tr>\n",
       "    <tr>\n",
       "      <th>4</th>\n",
       "      <td>2485</td>\n",
       "      <td>ZEN</td>\n",
       "      <td>p_non_gaap_eps</td>\n",
       "      <td>2019-07-28</td>\n",
       "      <td>281.46100</td>\n",
       "    </tr>\n",
       "  </tbody>\n",
       "</table>\n",
       "</div>"
      ],
      "text/plain": [
       "   equity_id identifier          metric   revision  next_twelve_months\n",
       "0       3307       ZAGG  p_non_gaap_eps 2019-07-28             3.82712\n",
       "1       1427       ZAYO  p_non_gaap_eps 2019-07-28            42.97600\n",
       "2        532        ZBH  p_non_gaap_eps 2019-07-28            47.69500\n",
       "3       1000       ZBRA  p_non_gaap_eps 2019-07-28            14.90590\n",
       "4       2485        ZEN  p_non_gaap_eps 2019-07-28           281.46100"
      ]
     },
     "execution_count": 14,
     "metadata": {},
     "output_type": "execute_result"
    }
   ],
   "source": [
    "eps_2017.head()"
   ]
  },
  {
   "cell_type": "code",
   "execution_count": 15,
   "metadata": {},
   "outputs": [],
   "source": [
    "eps = eps_2013.append([eps_2016, eps_2017], ignore_index=True)\n",
    "del eps[\"metric\"]"
   ]
  },
  {
   "cell_type": "code",
   "execution_count": 16,
   "metadata": {},
   "outputs": [
    {
     "data": {
      "text/plain": [
       "True"
      ]
     },
     "execution_count": 16,
     "metadata": {},
     "output_type": "execute_result"
    }
   ],
   "source": [
    "len(eps) == len(eps_2013) + len(eps_2016) + len(eps_2017)"
   ]
  },
  {
   "cell_type": "code",
   "execution_count": 17,
   "metadata": {},
   "outputs": [],
   "source": [
    "eps = eps.sort_values(['identifier', 'revision']).reset_index(drop=True)"
   ]
  },
  {
   "cell_type": "code",
   "execution_count": 18,
   "metadata": {},
   "outputs": [
    {
     "data": {
      "text/plain": [
       "2725"
      ]
     },
     "execution_count": 18,
     "metadata": {},
     "output_type": "execute_result"
    }
   ],
   "source": [
    "len(eps.identifier.unique())"
   ]
  },
  {
   "cell_type": "markdown",
   "metadata": {},
   "source": [
    "# Data Quality Check"
   ]
  },
  {
   "cell_type": "markdown",
   "metadata": {},
   "source": [
    "## Check `equity_id` and `identifier` Relationship"
   ]
  },
  {
   "cell_type": "code",
   "execution_count": 19,
   "metadata": {},
   "outputs": [
    {
     "data": {
      "text/html": [
       "<div>\n",
       "<style scoped>\n",
       "    .dataframe tbody tr th:only-of-type {\n",
       "        vertical-align: middle;\n",
       "    }\n",
       "\n",
       "    .dataframe tbody tr th {\n",
       "        vertical-align: top;\n",
       "    }\n",
       "\n",
       "    .dataframe thead th {\n",
       "        text-align: right;\n",
       "    }\n",
       "</style>\n",
       "<table border=\"1\" class=\"dataframe\">\n",
       "  <thead>\n",
       "    <tr style=\"text-align: right;\">\n",
       "      <th></th>\n",
       "      <th>equity_id</th>\n",
       "      <th>identifier</th>\n",
       "    </tr>\n",
       "  </thead>\n",
       "  <tbody>\n",
       "  </tbody>\n",
       "</table>\n",
       "</div>"
      ],
      "text/plain": [
       "Empty DataFrame\n",
       "Columns: [equity_id, identifier]\n",
       "Index: []"
      ]
     },
     "execution_count": 19,
     "metadata": {},
     "output_type": "execute_result"
    }
   ],
   "source": [
    "sales.groupby('equity_id').nunique()['identifier'].reset_index().query(\"identifier != 1\")"
   ]
  },
  {
   "cell_type": "code",
   "execution_count": 20,
   "metadata": {},
   "outputs": [
    {
     "data": {
      "text/html": [
       "<div>\n",
       "<style scoped>\n",
       "    .dataframe tbody tr th:only-of-type {\n",
       "        vertical-align: middle;\n",
       "    }\n",
       "\n",
       "    .dataframe tbody tr th {\n",
       "        vertical-align: top;\n",
       "    }\n",
       "\n",
       "    .dataframe thead th {\n",
       "        text-align: right;\n",
       "    }\n",
       "</style>\n",
       "<table border=\"1\" class=\"dataframe\">\n",
       "  <thead>\n",
       "    <tr style=\"text-align: right;\">\n",
       "      <th></th>\n",
       "      <th>identifier</th>\n",
       "      <th>equity_id</th>\n",
       "    </tr>\n",
       "  </thead>\n",
       "  <tbody>\n",
       "  </tbody>\n",
       "</table>\n",
       "</div>"
      ],
      "text/plain": [
       "Empty DataFrame\n",
       "Columns: [identifier, equity_id]\n",
       "Index: []"
      ]
     },
     "execution_count": 20,
     "metadata": {},
     "output_type": "execute_result"
    }
   ],
   "source": [
    "sales.groupby('identifier').nunique()['equity_id'].reset_index().query(\"equity_id != 1\")"
   ]
  },
  {
   "cell_type": "code",
   "execution_count": 21,
   "metadata": {},
   "outputs": [
    {
     "data": {
      "text/html": [
       "<div>\n",
       "<style scoped>\n",
       "    .dataframe tbody tr th:only-of-type {\n",
       "        vertical-align: middle;\n",
       "    }\n",
       "\n",
       "    .dataframe tbody tr th {\n",
       "        vertical-align: top;\n",
       "    }\n",
       "\n",
       "    .dataframe thead th {\n",
       "        text-align: right;\n",
       "    }\n",
       "</style>\n",
       "<table border=\"1\" class=\"dataframe\">\n",
       "  <thead>\n",
       "    <tr style=\"text-align: right;\">\n",
       "      <th></th>\n",
       "      <th>equity_id</th>\n",
       "      <th>identifier</th>\n",
       "    </tr>\n",
       "  </thead>\n",
       "  <tbody>\n",
       "  </tbody>\n",
       "</table>\n",
       "</div>"
      ],
      "text/plain": [
       "Empty DataFrame\n",
       "Columns: [equity_id, identifier]\n",
       "Index: []"
      ]
     },
     "execution_count": 21,
     "metadata": {},
     "output_type": "execute_result"
    }
   ],
   "source": [
    "eps.groupby('equity_id').nunique()['identifier'].reset_index().query(\"identifier != 1\")"
   ]
  },
  {
   "cell_type": "code",
   "execution_count": 22,
   "metadata": {},
   "outputs": [
    {
     "data": {
      "text/html": [
       "<div>\n",
       "<style scoped>\n",
       "    .dataframe tbody tr th:only-of-type {\n",
       "        vertical-align: middle;\n",
       "    }\n",
       "\n",
       "    .dataframe tbody tr th {\n",
       "        vertical-align: top;\n",
       "    }\n",
       "\n",
       "    .dataframe thead th {\n",
       "        text-align: right;\n",
       "    }\n",
       "</style>\n",
       "<table border=\"1\" class=\"dataframe\">\n",
       "  <thead>\n",
       "    <tr style=\"text-align: right;\">\n",
       "      <th></th>\n",
       "      <th>identifier</th>\n",
       "      <th>equity_id</th>\n",
       "    </tr>\n",
       "  </thead>\n",
       "  <tbody>\n",
       "  </tbody>\n",
       "</table>\n",
       "</div>"
      ],
      "text/plain": [
       "Empty DataFrame\n",
       "Columns: [identifier, equity_id]\n",
       "Index: []"
      ]
     },
     "execution_count": 22,
     "metadata": {},
     "output_type": "execute_result"
    }
   ],
   "source": [
    "eps.groupby('identifier').nunique()['equity_id'].reset_index().query(\"equity_id != 1\")"
   ]
  },
  {
   "cell_type": "markdown",
   "metadata": {},
   "source": [
    "## Check Missing Data\n",
    "- Based on the last step, `equity_id` and `identifier` has a one-to-one relationship. \n",
    "- Either `equity_id` or `identifier` could be used as the merge key."
   ]
  },
  {
   "cell_type": "code",
   "execution_count": 23,
   "metadata": {},
   "outputs": [],
   "source": [
    "all_data = sales.merge(eps, how ='left', on=['identifier', 'equity_id', 'revision'], suffixes=[\"_sales\", \"_eps\"])\n",
    "all_data = all_data[[\"equity_id\", \"identifier\", \"revision\", \"next_twelve_months_sales\", \"next_twelve_months_eps\"]]"
   ]
  },
  {
   "cell_type": "code",
   "execution_count": 24,
   "metadata": {},
   "outputs": [
    {
     "data": {
      "text/html": [
       "<div>\n",
       "<style scoped>\n",
       "    .dataframe tbody tr th:only-of-type {\n",
       "        vertical-align: middle;\n",
       "    }\n",
       "\n",
       "    .dataframe tbody tr th {\n",
       "        vertical-align: top;\n",
       "    }\n",
       "\n",
       "    .dataframe thead th {\n",
       "        text-align: right;\n",
       "    }\n",
       "</style>\n",
       "<table border=\"1\" class=\"dataframe\">\n",
       "  <thead>\n",
       "    <tr style=\"text-align: right;\">\n",
       "      <th></th>\n",
       "      <th>equity_id</th>\n",
       "      <th>identifier</th>\n",
       "      <th>revision</th>\n",
       "      <th>next_twelve_months_sales</th>\n",
       "      <th>next_twelve_months_eps</th>\n",
       "    </tr>\n",
       "  </thead>\n",
       "  <tbody>\n",
       "    <tr>\n",
       "      <th>0</th>\n",
       "      <td>22</td>\n",
       "      <td>700</td>\n",
       "      <td>2005-08-29</td>\n",
       "      <td>8.23332</td>\n",
       "      <td>NaN</td>\n",
       "    </tr>\n",
       "    <tr>\n",
       "      <th>1</th>\n",
       "      <td>22</td>\n",
       "      <td>700</td>\n",
       "      <td>2005-09-12</td>\n",
       "      <td>9.14781</td>\n",
       "      <td>NaN</td>\n",
       "    </tr>\n",
       "    <tr>\n",
       "      <th>2</th>\n",
       "      <td>22</td>\n",
       "      <td>700</td>\n",
       "      <td>2007-02-26</td>\n",
       "      <td>14.28690</td>\n",
       "      <td>NaN</td>\n",
       "    </tr>\n",
       "    <tr>\n",
       "      <th>3</th>\n",
       "      <td>22</td>\n",
       "      <td>700</td>\n",
       "      <td>2007-03-05</td>\n",
       "      <td>13.39700</td>\n",
       "      <td>NaN</td>\n",
       "    </tr>\n",
       "    <tr>\n",
       "      <th>4</th>\n",
       "      <td>22</td>\n",
       "      <td>700</td>\n",
       "      <td>2007-03-12</td>\n",
       "      <td>15.52260</td>\n",
       "      <td>NaN</td>\n",
       "    </tr>\n",
       "  </tbody>\n",
       "</table>\n",
       "</div>"
      ],
      "text/plain": [
       "   equity_id identifier   revision  next_twelve_months_sales  \\\n",
       "0         22        700 2005-08-29                   8.23332   \n",
       "1         22        700 2005-09-12                   9.14781   \n",
       "2         22        700 2007-02-26                  14.28690   \n",
       "3         22        700 2007-03-05                  13.39700   \n",
       "4         22        700 2007-03-12                  15.52260   \n",
       "\n",
       "   next_twelve_months_eps  \n",
       "0                     NaN  \n",
       "1                     NaN  \n",
       "2                     NaN  \n",
       "3                     NaN  \n",
       "4                     NaN  "
      ]
     },
     "execution_count": 24,
     "metadata": {},
     "output_type": "execute_result"
    }
   ],
   "source": [
    "all_data.head()"
   ]
  },
  {
   "cell_type": "code",
   "execution_count": 25,
   "metadata": {},
   "outputs": [
    {
     "data": {
      "text/plain": [
       "201"
      ]
     },
     "execution_count": 25,
     "metadata": {},
     "output_type": "execute_result"
    }
   ],
   "source": [
    "# The number of missing data both in sales and eps file\n",
    "len(all_data[(all_data.next_twelve_months_sales.isnull()) & (all_data.next_twelve_months_eps.isnull())])"
   ]
  },
  {
   "cell_type": "code",
   "execution_count": 27,
   "metadata": {},
   "outputs": [
    {
     "data": {
      "text/plain": [
       "757995"
      ]
     },
     "execution_count": 27,
     "metadata": {},
     "output_type": "execute_result"
    }
   ],
   "source": [
    "# Check the missing data in eps file but not in sales file(none)\n",
    "len(all_data[all_data.next_twelve_months_eps.isnull() & (all_data.next_twelve_months_sales.notnull())])"
   ]
  },
  {
   "cell_type": "code",
   "execution_count": 29,
   "metadata": {},
   "outputs": [
    {
     "data": {
      "text/plain": [
       "47"
      ]
     },
     "execution_count": 29,
     "metadata": {},
     "output_type": "execute_result"
    }
   ],
   "source": [
    "# The number of missing data in sales file but not in eps file\n",
    "len(all_data[all_data.next_twelve_months_eps.notnull() & (all_data.next_twelve_months_sales.isnull())])"
   ]
  },
  {
   "cell_type": "code",
   "execution_count": 31,
   "metadata": {},
   "outputs": [
    {
     "data": {
      "text/plain": [
       "233"
      ]
     },
     "execution_count": 31,
     "metadata": {},
     "output_type": "execute_result"
    }
   ],
   "source": [
    "eps_ticker = list(eps.identifier.unique())\n",
    "sales_ticker = list(sales.identifier.unique())\n",
    "\n",
    "# Check the ticker in sales data but not in eps data\n",
    "eps_missing_ticker = set(sales_ticker) - set(eps_ticker)\n",
    "len(eps_missing_ticker)"
   ]
  },
  {
   "cell_type": "code",
   "execution_count": 32,
   "metadata": {},
   "outputs": [
    {
     "data": {
      "text/plain": [
       "20"
      ]
     },
     "execution_count": 32,
     "metadata": {},
     "output_type": "execute_result"
    }
   ],
   "source": [
    "# Check the ticker in eps data but not in sales data\n",
    "sales_missing_ticker = set(eps_ticker) - set(sales_ticker)\n",
    "len(sales_missing_ticker)"
   ]
  },
  {
   "cell_type": "markdown",
   "metadata": {},
   "source": [
    "## Remove the Missing Value and Conduct Further Check"
   ]
  },
  {
   "cell_type": "code",
   "execution_count": 33,
   "metadata": {},
   "outputs": [],
   "source": [
    "useful_data = sales.merge(eps, how='inner', on =['equity_id', 'identifier', 'revision'], suffixes=[\"_sales\", \"_eps\"])\n",
    "useful_data.rename(columns={'revision': 'date'}, inplace=True)\n",
    "useful_data = useful_data[useful_data[\"date\"] < '2019-05-10']"
   ]
  },
  {
   "cell_type": "code",
   "execution_count": 34,
   "metadata": {},
   "outputs": [
    {
     "data": {
      "text/plain": [
       "equity_id                   0\n",
       "identifier                  0\n",
       "date                        0\n",
       "next_twelve_months_sales    0\n",
       "next_twelve_months_eps      0\n",
       "dtype: int64"
      ]
     },
     "execution_count": 34,
     "metadata": {},
     "output_type": "execute_result"
    }
   ],
   "source": [
    "# Check the null values (None)\n",
    "useful_data.isnull().sum()"
   ]
  },
  {
   "cell_type": "code",
   "execution_count": 35,
   "metadata": {},
   "outputs": [
    {
     "data": {
      "text/html": [
       "<div>\n",
       "<style scoped>\n",
       "    .dataframe tbody tr th:only-of-type {\n",
       "        vertical-align: middle;\n",
       "    }\n",
       "\n",
       "    .dataframe tbody tr th {\n",
       "        vertical-align: top;\n",
       "    }\n",
       "\n",
       "    .dataframe thead th {\n",
       "        text-align: right;\n",
       "    }\n",
       "</style>\n",
       "<table border=\"1\" class=\"dataframe\">\n",
       "  <thead>\n",
       "    <tr style=\"text-align: right;\">\n",
       "      <th></th>\n",
       "      <th>equity_id</th>\n",
       "      <th>identifier</th>\n",
       "      <th>date</th>\n",
       "      <th>next_twelve_months_sales</th>\n",
       "      <th>next_twelve_months_eps</th>\n",
       "    </tr>\n",
       "  </thead>\n",
       "  <tbody>\n",
       "  </tbody>\n",
       "</table>\n",
       "</div>"
      ],
      "text/plain": [
       "Empty DataFrame\n",
       "Columns: [equity_id, identifier, date, next_twelve_months_sales, next_twelve_months_eps]\n",
       "Index: []"
      ]
     },
     "execution_count": 35,
     "metadata": {},
     "output_type": "execute_result"
    }
   ],
   "source": [
    "useful_data[(useful_data[\"next_twelve_months_eps\"].isnull()) | (useful_data[\"next_twelve_months_sales\"].isnull())]"
   ]
  },
  {
   "cell_type": "markdown",
   "metadata": {},
   "source": [
    "## Check Date Gap"
   ]
  },
  {
   "cell_type": "code",
   "execution_count": 53,
   "metadata": {},
   "outputs": [
    {
     "data": {
      "text/html": [
       "<div>\n",
       "<style scoped>\n",
       "    .dataframe tbody tr th:only-of-type {\n",
       "        vertical-align: middle;\n",
       "    }\n",
       "\n",
       "    .dataframe tbody tr th {\n",
       "        vertical-align: top;\n",
       "    }\n",
       "\n",
       "    .dataframe thead th {\n",
       "        text-align: right;\n",
       "    }\n",
       "</style>\n",
       "<table border=\"1\" class=\"dataframe\">\n",
       "  <thead>\n",
       "    <tr style=\"text-align: right;\">\n",
       "      <th></th>\n",
       "      <th>equity_id</th>\n",
       "      <th>identifier</th>\n",
       "      <th>date</th>\n",
       "      <th>next_twelve_months_sales</th>\n",
       "      <th>next_twelve_months_eps</th>\n",
       "      <th>next_date</th>\n",
       "      <th>date_gap</th>\n",
       "    </tr>\n",
       "  </thead>\n",
       "  <tbody>\n",
       "    <tr>\n",
       "      <th>752655</th>\n",
       "      <td>2118</td>\n",
       "      <td>EGLE</td>\n",
       "      <td>2011-03-28</td>\n",
       "      <td>0.865268</td>\n",
       "      <td>29.15560</td>\n",
       "      <td>2018-11-09</td>\n",
       "      <td>2783.0</td>\n",
       "    </tr>\n",
       "    <tr>\n",
       "      <th>236320</th>\n",
       "      <td>438</td>\n",
       "      <td>CRM</td>\n",
       "      <td>2011-09-26</td>\n",
       "      <td>6.587680</td>\n",
       "      <td>197.04100</td>\n",
       "      <td>2018-11-30</td>\n",
       "      <td>2622.0</td>\n",
       "    </tr>\n",
       "    <tr>\n",
       "      <th>810602</th>\n",
       "      <td>2358</td>\n",
       "      <td>HMSY</td>\n",
       "      <td>2012-02-13</td>\n",
       "      <td>6.442980</td>\n",
       "      <td>40.58820</td>\n",
       "      <td>2019-02-22</td>\n",
       "      <td>2566.0</td>\n",
       "    </tr>\n",
       "    <tr>\n",
       "      <th>758667</th>\n",
       "      <td>2147</td>\n",
       "      <td>ERII</td>\n",
       "      <td>2010-11-01</td>\n",
       "      <td>3.310990</td>\n",
       "      <td>110.52600</td>\n",
       "      <td>2017-03-10</td>\n",
       "      <td>2321.0</td>\n",
       "    </tr>\n",
       "    <tr>\n",
       "      <th>430543</th>\n",
       "      <td>966</td>\n",
       "      <td>TDS</td>\n",
       "      <td>2012-04-30</td>\n",
       "      <td>0.462974</td>\n",
       "      <td>18.68460</td>\n",
       "      <td>2018-08-03</td>\n",
       "      <td>2286.0</td>\n",
       "    </tr>\n",
       "    <tr>\n",
       "      <th>290770</th>\n",
       "      <td>547</td>\n",
       "      <td>MDCA</td>\n",
       "      <td>2010-02-22</td>\n",
       "      <td>0.450094</td>\n",
       "      <td>121.62100</td>\n",
       "      <td>2016-05-06</td>\n",
       "      <td>2265.0</td>\n",
       "    </tr>\n",
       "    <tr>\n",
       "      <th>524958</th>\n",
       "      <td>1262</td>\n",
       "      <td>EBIX</td>\n",
       "      <td>2013-03-11</td>\n",
       "      <td>2.612190</td>\n",
       "      <td>8.55801</td>\n",
       "      <td>2019-05-09</td>\n",
       "      <td>2250.0</td>\n",
       "    </tr>\n",
       "    <tr>\n",
       "      <th>825927</th>\n",
       "      <td>2421</td>\n",
       "      <td>INFN</td>\n",
       "      <td>2008-06-09</td>\n",
       "      <td>2.949580</td>\n",
       "      <td>321.25000</td>\n",
       "      <td>2014-07-28</td>\n",
       "      <td>2240.0</td>\n",
       "    </tr>\n",
       "    <tr>\n",
       "      <th>423025</th>\n",
       "      <td>945</td>\n",
       "      <td>SNPS</td>\n",
       "      <td>2010-11-29</td>\n",
       "      <td>2.698650</td>\n",
       "      <td>20.15620</td>\n",
       "      <td>2016-10-21</td>\n",
       "      <td>2153.0</td>\n",
       "    </tr>\n",
       "    <tr>\n",
       "      <th>464903</th>\n",
       "      <td>1078</td>\n",
       "      <td>PTC</td>\n",
       "      <td>2010-04-12</td>\n",
       "      <td>2.236240</td>\n",
       "      <td>23.84050</td>\n",
       "      <td>2015-11-13</td>\n",
       "      <td>2041.0</td>\n",
       "    </tr>\n",
       "  </tbody>\n",
       "</table>\n",
       "</div>"
      ],
      "text/plain": [
       "        equity_id identifier       date  next_twelve_months_sales  \\\n",
       "752655       2118       EGLE 2011-03-28                  0.865268   \n",
       "236320        438        CRM 2011-09-26                  6.587680   \n",
       "810602       2358       HMSY 2012-02-13                  6.442980   \n",
       "758667       2147       ERII 2010-11-01                  3.310990   \n",
       "430543        966        TDS 2012-04-30                  0.462974   \n",
       "290770        547       MDCA 2010-02-22                  0.450094   \n",
       "524958       1262       EBIX 2013-03-11                  2.612190   \n",
       "825927       2421       INFN 2008-06-09                  2.949580   \n",
       "423025        945       SNPS 2010-11-29                  2.698650   \n",
       "464903       1078        PTC 2010-04-12                  2.236240   \n",
       "\n",
       "        next_twelve_months_eps  next_date  date_gap  \n",
       "752655                29.15560 2018-11-09    2783.0  \n",
       "236320               197.04100 2018-11-30    2622.0  \n",
       "810602                40.58820 2019-02-22    2566.0  \n",
       "758667               110.52600 2017-03-10    2321.0  \n",
       "430543                18.68460 2018-08-03    2286.0  \n",
       "290770               121.62100 2016-05-06    2265.0  \n",
       "524958                 8.55801 2019-05-09    2250.0  \n",
       "825927               321.25000 2014-07-28    2240.0  \n",
       "423025                20.15620 2016-10-21    2153.0  \n",
       "464903                23.84050 2015-11-13    2041.0  "
      ]
     },
     "execution_count": 53,
     "metadata": {},
     "output_type": "execute_result"
    }
   ],
   "source": [
    "# Check the date gap\n",
    "useful_data = useful_data.sort_values([\"equity_id\", \"identifier\", \"date\"]).reset_index(drop=True)\n",
    "useful_data['next_date'] = useful_data.groupby('identifier')['date'].shift(-1)\n",
    "useful_data['date_gap'] = useful_data.apply(lambda x: (x['next_date'] - x['date']).days, axis=1)\n",
    "useful_data[useful_data['date_gap'].notnull()].sort_values('date_gap', ascending=False).head(10)"
   ]
  },
  {
   "cell_type": "code",
   "execution_count": 54,
   "metadata": {},
   "outputs": [
    {
     "data": {
      "text/plain": [
       "27304"
      ]
     },
     "execution_count": 54,
     "metadata": {},
     "output_type": "execute_result"
    }
   ],
   "source": [
    "# Check the total records that date_gap is larger than 7 days\n",
    "len(useful_data.query(\"date_gap > 7\"))"
   ]
  },
  {
   "cell_type": "markdown",
   "metadata": {},
   "source": [
    "## Remove Tickers with Big Date Gap\n",
    "- Remove tickers that have date gap bigger than 7 days"
   ]
  },
  {
   "cell_type": "code",
   "execution_count": 48,
   "metadata": {},
   "outputs": [
    {
     "data": {
      "text/plain": [
       "1811"
      ]
     },
     "execution_count": 48,
     "metadata": {},
     "output_type": "execute_result"
    }
   ],
   "source": [
    "# check the number of tickers have date_gap records larger than 7 days\n",
    "remove_tickers = useful_data[useful_data.date_gap > 7].identifier.unique()\n",
    "len(remove_tickers)"
   ]
  },
  {
   "cell_type": "code",
   "execution_count": 44,
   "metadata": {},
   "outputs": [],
   "source": [
    "final_data = useful_data[~useful_data[\"identifier\"].isin(remove_tickers)]"
   ]
  },
  {
   "cell_type": "code",
   "execution_count": 45,
   "metadata": {},
   "outputs": [
    {
     "data": {
      "text/plain": [
       "63950"
      ]
     },
     "execution_count": 45,
     "metadata": {},
     "output_type": "execute_result"
    }
   ],
   "source": [
    "len(final_data)"
   ]
  },
  {
   "cell_type": "code",
   "execution_count": 52,
   "metadata": {},
   "outputs": [
    {
     "name": "stdout",
     "output_type": "stream",
     "text": [
      "['AAC' 'AAL' 'AAON' 'ABTX' 'ACBI' 'ACIA' 'ACLS' 'AFI' 'AG' 'AGM' 'AGX'\n",
      " 'AI' 'AJRD' 'AJX' 'ALG' 'ALLE' 'ALLY' 'ALRM' 'ALTR' 'AMPH' 'AMSWA' 'ANDE'\n",
      " 'ANET' 'ANIK' 'ANIP' 'APPF' 'ARA' 'ARCH' 'ARE' 'ARI' 'ARMK' 'ARNC' 'AROW'\n",
      " 'ASIX' 'ASYS' 'ATKR' 'AXTA' 'AYX' 'BABA' 'BBBY' 'BBX' 'BCBP' 'BCPC'\n",
      " 'BFIN' 'BKE' 'BKI' 'BL' 'BLBD' 'BLD' 'BNED' 'BOOT' 'BREW' 'BRX' 'BTE:CT'\n",
      " 'BTU' 'BWEN' 'BWFG' 'CABO' 'CAC' 'CADE' 'CALX' 'CARB' 'CARO' 'CASH' 'CBL'\n",
      " 'CBPX' 'CC' 'CCS' 'CDEV' 'CDK' 'CFG' 'CHGG' 'CHMG' 'CHMI' 'CHTR' 'CJ'\n",
      " 'CKH' 'CLFD' 'CMD' 'COMM' 'CONE' 'COR' 'COUP' 'COWN' 'CPA' 'CPS' 'CRCM'\n",
      " 'CSII' 'CSTR' 'CSWC' 'CSWI' 'CTLT' 'CTS' 'CUBI' 'CVCY' 'CWH' 'CWST'\n",
      " 'CZNC' 'CZR' 'DFIN' 'DLR' 'DLTH' 'DNOW' 'DOOR' 'DPLO' 'DSKE' 'DXCM'\n",
      " 'EARN' 'EBSB' 'ECOM' 'EEX' 'EGRX' 'ELF' 'ELVT' 'EMCI' 'ENFC' 'ENPH' 'ENR'\n",
      " 'ENTA' 'ENVA' 'EQBK' 'EQR' 'ESCA' 'ESTE' 'ESXB' 'ETSY' 'EVA' 'FAST' 'FBK'\n",
      " 'FBM' 'FBMS' 'FDC' 'FEYE' 'FFWM' 'FHB' 'FIVN' 'FIZZ' 'FLOW' 'FMBH' 'FMNB'\n",
      " 'FND' 'FRAC' 'FRBK' 'FRT' 'FSB' 'FTAI' 'FTI' 'FTV' 'FWONA' 'FWONK' 'GCP'\n",
      " 'GDDY' 'GDI' 'GKOS' 'GLOG' 'GMS' 'GNK' 'GNTY' 'GOLF' 'GPRO' 'GRBK' 'GRPN'\n",
      " 'GRUB' 'GSIT' 'GSVC' 'GTE:CT' 'GTT' 'GWB' 'GWRS' 'HABT' 'HBCP' 'HBIO'\n",
      " 'HBMD' 'HCC' 'HCI' 'HCP' 'HLI' 'HLT' 'HNRG' 'HOME' 'HPE' 'HQY' 'HRI'\n",
      " 'HRTG' 'HTBI' 'HTLD' 'HUBS' 'HZN' 'IBCP' 'IBP' 'ICBK' 'ICHR' 'INBK'\n",
      " 'INGN' 'INOV' 'INVE' 'INXN' 'ISTR' 'ITI' 'JAG' 'JAKK' 'JAX' 'JCAP' 'JELD'\n",
      " 'JILL' 'JW.A' 'KEM' 'KEYS' 'KEYW' 'KIM' 'KINS' 'KIRK' 'KNSL' 'KREF' 'L'\n",
      " 'LADR' 'LAUR' 'LC' 'LDL' 'LE' 'LGIH' 'LIND' 'LKSD' 'LOB' 'LOCO' 'LW'\n",
      " 'MAA' 'MAC' 'MBCN' 'MBTF' 'MBUU' 'MC' 'MCBC' 'MCFT' 'MCRN' 'MCS' 'MDLY'\n",
      " 'MEET' 'MEG:CT' 'MEI' 'MELI' 'MGPI' 'MGRC' 'MHO' 'MIK' 'MLAB' 'MLVF'\n",
      " 'MMI' 'MNRO' 'MODN' 'MPX' 'MRLN' 'MRTN' 'MSBI' 'MSEX' 'MSGN' 'MTCH'\n",
      " 'MUSA' 'MXL' 'NANO' 'NAVI' 'NCBS' 'NCSM' 'NEOG' 'NEWR' 'NGHC' 'NGS'\n",
      " 'NGVT' 'NICE' 'NKSH' 'NMFC' 'NMIH' 'NNBR' 'NPTN' 'NRZ' 'NVEE' 'NWHM'\n",
      " 'NWPX' 'NWS' 'NWSA' 'ODFL' 'ODP' 'OFC' 'OFIX' 'OLBK' 'OLLI' 'OMCL' 'OMF'\n",
      " 'ONDK' 'OPB' 'OSUR' 'OUT' 'PAHC' 'PAYC' 'PCMI' 'PCTY' 'PCYG' 'PD:CT'\n",
      " 'PDFS' 'PDLI' 'PE' 'PEGI' 'PEN' 'PETS' 'PFGC' 'PFPT' 'PGC' 'PI' 'PII'\n",
      " 'PJT' 'PKOH' 'PLAY' 'PLNT' 'PMBC' 'PMTS' 'PODD' 'PRAH' 'PRFT' 'PRTS'\n",
      " 'PRTY' 'PSDO' 'PSMT' 'PSTG' 'PUB' 'PUMP' 'PYPL' 'QCRH' 'QTS' 'QTWO'\n",
      " 'QUOT' 'RAIL' 'REVG' 'RGCO' 'RGEN' 'RICK' 'RMR' 'RNG' 'ROCK' 'ROSE' 'RPT'\n",
      " 'RTIX' 'RTRX' 'RUBI' 'RUN' 'RYAM' 'RYI' 'SABR' 'SALM' 'SAMG' 'SBAC'\n",
      " 'SBOW' 'SBSI' 'SC' 'SCL' 'SERV' 'SFBS' 'SGC' 'SHAK' 'SHO' 'SHOP' 'SITE'\n",
      " 'SMBK' 'SMLP' 'SMMF' 'SND' 'SNDR' 'SNHY' 'SOI' 'SONA' 'SPB' 'SPLK' 'SPWH'\n",
      " 'SQ' 'SRCE' 'SRT' 'STAY' 'STNG' 'STRA' 'STRL' 'STWD' 'SUM' 'SYF' 'SYX'\n",
      " 'TACO' 'TBK' 'TCFC' 'TCMD' 'TFSL' 'TMST' 'TNET' 'TOWN' 'TPB' 'TPIC'\n",
      " 'TRCB' 'TRCO' 'TREC' 'TRHC' 'TROX' 'TRST' 'TRU' 'TSCO' 'TSQ' 'TTD' 'TTGT'\n",
      " 'TUSK' 'TVTY' 'TWLO' 'TWNK' 'TWTR' 'UA' 'UAA' 'UCFC' 'UFCS' 'UFI' 'UNIT'\n",
      " 'UPLD' 'USCR' 'USFD' 'UVE' 'UVSP' 'VBTX' 'VEC' 'VECO' 'VGR' 'VIRT' 'VNO'\n",
      " 'VNOM' 'VPG' 'VRNS' 'VRS' 'VSM' 'VST' 'VVI' 'VVV' 'WBT' 'WIFI' 'WING'\n",
      " 'WIX' 'WLDN' 'WLH' 'WMGI' 'WMS' 'WPX' 'WRI' 'WSBF' 'WTBA' 'WTTR' 'WUBA'\n",
      " 'XPO' 'YUMC' 'ZEN']\n"
     ]
    }
   ],
   "source": [
    "print(final_data.identifier.unique())"
   ]
  },
  {
   "cell_type": "code",
   "execution_count": null,
   "metadata": {},
   "outputs": [],
   "source": []
  }
 ],
 "metadata": {
  "kernelspec": {
   "display_name": "Python 3",
   "language": "python",
   "name": "python3"
  },
  "language_info": {
   "codemirror_mode": {
    "name": "ipython",
    "version": 3
   },
   "file_extension": ".py",
   "mimetype": "text/x-python",
   "name": "python",
   "nbconvert_exporter": "python",
   "pygments_lexer": "ipython3",
   "version": "3.6.5"
  }
 },
 "nbformat": 4,
 "nbformat_minor": 4
}
