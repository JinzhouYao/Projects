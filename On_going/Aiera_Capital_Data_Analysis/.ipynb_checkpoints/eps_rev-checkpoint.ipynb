{
 "cells": [
  {
   "cell_type": "markdown",
   "metadata": {},
   "source": [
    "# Set Up"
   ]
  },
  {
   "cell_type": "markdown",
   "metadata": {},
   "source": [
    "## Import"
   ]
  },
  {
   "cell_type": "code",
   "execution_count": 1,
   "metadata": {},
   "outputs": [],
   "source": [
    "import pandas as pd"
   ]
  },
  {
   "cell_type": "markdown",
   "metadata": {},
   "source": [
    "## EPS Data"
   ]
  },
  {
   "cell_type": "markdown",
   "metadata": {},
   "source": [
    "### Read In Data"
   ]
  },
  {
   "cell_type": "code",
   "execution_count": 2,
   "metadata": {},
   "outputs": [],
   "source": [
    "eps1 = pd.read_csv('EPS1.csv', parse_dates=['date']).sort_values(\"date\").reset_index(drop=True)\n",
    "eps2 = pd.read_csv('EPS2.csv', parse_dates=['date']).sort_values(\"date\").reset_index(drop=True)\n",
    "eps3 = pd.read_csv('EPS3.csv', parse_dates=['date']).sort_values(\"date\").reset_index(drop=True)\n",
    "eps4 = pd.read_csv('EPS4.csv', parse_dates=['date']).sort_values(\"date\").reset_index(drop=True)\n",
    "eps5 = pd.read_csv('EPS5.csv', parse_dates=['date']).sort_values(\"date\").reset_index(drop=True)\n",
    "eps6 = pd.read_csv('EPS6.csv', parse_dates=['date']).sort_values(\"date\").reset_index(drop=True)\n",
    "eps7 = pd.read_csv('EPS7.csv', parse_dates=['date']).sort_values(\"date\").reset_index(drop=True)"
   ]
  },
  {
   "cell_type": "markdown",
   "metadata": {},
   "source": [
    "### Merge All Data"
   ]
  },
  {
   "cell_type": "code",
   "execution_count": 3,
   "metadata": {},
   "outputs": [],
   "source": [
    "eps_dfs = [eps1, eps2, eps3, eps4, eps5, eps6, eps7]\n",
    "eps = eps1.merge(eps2, on=\"date\").merge(eps3, on=\"date\").merge(eps4, on=\"date\").merge(eps5, on=\"date\").merge(eps6, on=\"date\").merge(eps7, on=\"date\")\n",
    "eps = eps.sort_values(\"date\").reset_index(drop=True)"
   ]
  },
  {
   "cell_type": "code",
   "execution_count": 4,
   "metadata": {},
   "outputs": [
    {
     "data": {
      "text/plain": [
       "True"
      ]
     },
     "execution_count": 4,
     "metadata": {},
     "output_type": "execute_result"
    }
   ],
   "source": [
    "# Quick quality check to make sure no columns are dropped\n",
    "len(eps.columns) - 1 == sum([len(df.columns) - 1 for df in eps_dfs])"
   ]
  },
  {
   "cell_type": "markdown",
   "metadata": {},
   "source": [
    "### Unstack EPS Data"
   ]
  },
  {
   "cell_type": "code",
   "execution_count": 5,
   "metadata": {},
   "outputs": [],
   "source": [
    "trans_eps = eps.set_index(\"date\").unstack().reset_index()\n",
    "trans_eps.rename(columns={\"level_0\": \"ticker\", 0: \"next_twelve_months_eps\"}, inplace=True)\n",
    "trans_eps = trans_eps.sort_values([\"ticker\", \"date\"]).reset_index(drop=True)"
   ]
  },
  {
   "cell_type": "markdown",
   "metadata": {},
   "source": [
    "### Check Data Quality"
   ]
  },
  {
   "cell_type": "code",
   "execution_count": 6,
   "metadata": {},
   "outputs": [],
   "source": [
    "# Check the date gap\n",
    "eps_test = trans_eps.copy()\n",
    "eps_test = eps_test.sort_values('date').reset_index(drop=True)\n",
    "eps_test['next_date'] = eps_test.groupby('ticker')['date'].shift(-1)\n",
    "eps_test['date_gap'] = eps_test.apply(lambda x:(x['next_date'] - x['date']).days, axis=1)"
   ]
  },
  {
   "cell_type": "code",
   "execution_count": 7,
   "metadata": {},
   "outputs": [
    {
     "data": {
      "text/html": [
       "<div>\n",
       "<style scoped>\n",
       "    .dataframe tbody tr th:only-of-type {\n",
       "        vertical-align: middle;\n",
       "    }\n",
       "\n",
       "    .dataframe tbody tr th {\n",
       "        vertical-align: top;\n",
       "    }\n",
       "\n",
       "    .dataframe thead th {\n",
       "        text-align: right;\n",
       "    }\n",
       "</style>\n",
       "<table border=\"1\" class=\"dataframe\">\n",
       "  <thead>\n",
       "    <tr style=\"text-align: right;\">\n",
       "      <th></th>\n",
       "      <th>ticker</th>\n",
       "      <th>date</th>\n",
       "      <th>next_twelve_months_eps</th>\n",
       "      <th>next_date</th>\n",
       "      <th>date_gap</th>\n",
       "    </tr>\n",
       "  </thead>\n",
       "  <tbody>\n",
       "  </tbody>\n",
       "</table>\n",
       "</div>"
      ],
      "text/plain": [
       "Empty DataFrame\n",
       "Columns: [ticker, date, next_twelve_months_eps, next_date, date_gap]\n",
       "Index: []"
      ]
     },
     "execution_count": 7,
     "metadata": {},
     "output_type": "execute_result"
    }
   ],
   "source": [
    "# Quick check to see if there are any date gaps bigger than 7\n",
    "eps_test[(eps_test['date_gap'].notnull()) & (eps_test['date_gap'] != 7)].sort_values('date_gap', ascending=False).head()"
   ]
  },
  {
   "cell_type": "code",
   "execution_count": 8,
   "metadata": {},
   "outputs": [
    {
     "data": {
      "text/plain": [
       "74"
      ]
     },
     "execution_count": 8,
     "metadata": {},
     "output_type": "execute_result"
    }
   ],
   "source": [
    "# Check how many tickers don't have records at all\n",
    "len(set(eps.columns) - set(eps.dropna(axis=1, how='all').columns))"
   ]
  },
  {
   "cell_type": "markdown",
   "metadata": {},
   "source": [
    "## REV Data"
   ]
  },
  {
   "cell_type": "markdown",
   "metadata": {},
   "source": [
    "### Read In REV Data"
   ]
  },
  {
   "cell_type": "code",
   "execution_count": 9,
   "metadata": {},
   "outputs": [],
   "source": [
    "rev1 = pd.read_csv('REV1.csv', parse_dates=['date']).sort_values(\"date\").reset_index(drop=True)\n",
    "rev2 = pd.read_csv('REV2.csv', parse_dates=['date']).sort_values(\"date\").reset_index(drop=True)\n",
    "rev3 = pd.read_csv('REV3.csv', parse_dates=['date']).sort_values(\"date\").reset_index(drop=True)\n",
    "rev4 = pd.read_csv('REV4.csv', parse_dates=['date']).sort_values(\"date\").reset_index(drop=True)\n",
    "rev5 = pd.read_csv('REV5.csv', parse_dates=['date']).sort_values(\"date\").reset_index(drop=True)\n",
    "rev6 = pd.read_csv('REV6.csv', parse_dates=['date']).sort_values(\"date\").reset_index(drop=True)\n",
    "rev7 = pd.read_csv('REV7.csv', parse_dates=['date']).sort_values(\"date\").reset_index(drop=True)"
   ]
  },
  {
   "cell_type": "markdown",
   "metadata": {},
   "source": [
    "### Merge All Data"
   ]
  },
  {
   "cell_type": "code",
   "execution_count": 10,
   "metadata": {},
   "outputs": [],
   "source": [
    "rev_dfs = [rev1, rev2, rev3, rev4, rev5, rev6, rev7]\n",
    "rev = rev1.merge(rev2, on=\"date\").merge(rev3, on=\"date\").merge(rev4, on=\"date\").merge(rev5, on=\"date\").merge(rev6, on=\"date\").merge(rev7, on=\"date\")\n",
    "rev = rev.sort_values(\"date\").reset_index(drop=True)"
   ]
  },
  {
   "cell_type": "code",
   "execution_count": 11,
   "metadata": {},
   "outputs": [
    {
     "data": {
      "text/plain": [
       "True"
      ]
     },
     "execution_count": 11,
     "metadata": {},
     "output_type": "execute_result"
    }
   ],
   "source": [
    "# Quick quality check to make sure no columns are dropped\n",
    "len(rev.columns) - 1 == sum([len(df.columns) - 1 for df in rev_dfs])"
   ]
  },
  {
   "cell_type": "markdown",
   "metadata": {},
   "source": [
    "### Unstack REV Data"
   ]
  },
  {
   "cell_type": "code",
   "execution_count": 12,
   "metadata": {},
   "outputs": [],
   "source": [
    "trans_rev = rev.set_index(\"date\").unstack().reset_index()\n",
    "trans_rev.rename(columns={\"level_0\": \"ticker\", 0: \"next_twelve_months_rev\"}, inplace=True)\n",
    "trans_rev = trans_rev.sort_values(['ticker', 'date']).reset_index(drop=True)"
   ]
  },
  {
   "cell_type": "markdown",
   "metadata": {},
   "source": [
    "### Check Data Quality"
   ]
  },
  {
   "cell_type": "code",
   "execution_count": 13,
   "metadata": {},
   "outputs": [],
   "source": [
    "# Check the date gap\n",
    "rev_test = trans_rev.copy()\n",
    "rev_test = rev_test.sort_values('date').reset_index(drop=True)\n",
    "rev_test['next_date'] = rev_test.groupby('ticker')['date'].shift(-1)\n",
    "rev_test['date_gap'] = rev_test.apply(lambda x:(x['next_date'] - x['date']).days, axis=1)"
   ]
  },
  {
   "cell_type": "code",
   "execution_count": 14,
   "metadata": {},
   "outputs": [
    {
     "data": {
      "text/html": [
       "<div>\n",
       "<style scoped>\n",
       "    .dataframe tbody tr th:only-of-type {\n",
       "        vertical-align: middle;\n",
       "    }\n",
       "\n",
       "    .dataframe tbody tr th {\n",
       "        vertical-align: top;\n",
       "    }\n",
       "\n",
       "    .dataframe thead th {\n",
       "        text-align: right;\n",
       "    }\n",
       "</style>\n",
       "<table border=\"1\" class=\"dataframe\">\n",
       "  <thead>\n",
       "    <tr style=\"text-align: right;\">\n",
       "      <th></th>\n",
       "      <th>ticker</th>\n",
       "      <th>date</th>\n",
       "      <th>next_twelve_months_rev</th>\n",
       "      <th>next_date</th>\n",
       "      <th>date_gap</th>\n",
       "    </tr>\n",
       "  </thead>\n",
       "  <tbody>\n",
       "  </tbody>\n",
       "</table>\n",
       "</div>"
      ],
      "text/plain": [
       "Empty DataFrame\n",
       "Columns: [ticker, date, next_twelve_months_rev, next_date, date_gap]\n",
       "Index: []"
      ]
     },
     "execution_count": 14,
     "metadata": {},
     "output_type": "execute_result"
    }
   ],
   "source": [
    "# Quick check to see if there are any date gaps bigger than 7\n",
    "rev_test[(rev_test['date_gap'].notnull()) & (rev_test['date_gap'] != 7)].sort_values('date_gap', ascending=False).head()"
   ]
  },
  {
   "cell_type": "code",
   "execution_count": 15,
   "metadata": {},
   "outputs": [
    {
     "data": {
      "text/plain": [
       "77"
      ]
     },
     "execution_count": 15,
     "metadata": {},
     "output_type": "execute_result"
    }
   ],
   "source": [
    "# Check how many tickers don't have records at all\n",
    "len(set(rev.columns) - set(rev.dropna(axis=1, how='all').columns))"
   ]
  },
  {
   "cell_type": "markdown",
   "metadata": {},
   "source": [
    "# Data Transformation"
   ]
  },
  {
   "cell_type": "markdown",
   "metadata": {},
   "source": [
    "## Merge the REV Data and EPS Date"
   ]
  },
  {
   "cell_type": "code",
   "execution_count": 16,
   "metadata": {},
   "outputs": [
    {
     "data": {
      "text/html": [
       "<div>\n",
       "<style scoped>\n",
       "    .dataframe tbody tr th:only-of-type {\n",
       "        vertical-align: middle;\n",
       "    }\n",
       "\n",
       "    .dataframe tbody tr th {\n",
       "        vertical-align: top;\n",
       "    }\n",
       "\n",
       "    .dataframe thead th {\n",
       "        text-align: right;\n",
       "    }\n",
       "</style>\n",
       "<table border=\"1\" class=\"dataframe\">\n",
       "  <thead>\n",
       "    <tr style=\"text-align: right;\">\n",
       "      <th></th>\n",
       "      <th>ticker</th>\n",
       "      <th>date</th>\n",
       "      <th>next_twelve_months_rev</th>\n",
       "      <th>next_twelve_months_eps</th>\n",
       "    </tr>\n",
       "  </thead>\n",
       "  <tbody>\n",
       "    <tr>\n",
       "      <th>0</th>\n",
       "      <td>A</td>\n",
       "      <td>2004-05-14</td>\n",
       "      <td>7317.9</td>\n",
       "      <td>1.28</td>\n",
       "    </tr>\n",
       "    <tr>\n",
       "      <th>1</th>\n",
       "      <td>A</td>\n",
       "      <td>2004-05-21</td>\n",
       "      <td>7602.3</td>\n",
       "      <td>1.33</td>\n",
       "    </tr>\n",
       "    <tr>\n",
       "      <th>2</th>\n",
       "      <td>A</td>\n",
       "      <td>2004-05-28</td>\n",
       "      <td>7618.1</td>\n",
       "      <td>1.34</td>\n",
       "    </tr>\n",
       "    <tr>\n",
       "      <th>3</th>\n",
       "      <td>A</td>\n",
       "      <td>2004-06-04</td>\n",
       "      <td>7633.8</td>\n",
       "      <td>1.35</td>\n",
       "    </tr>\n",
       "    <tr>\n",
       "      <th>4</th>\n",
       "      <td>A</td>\n",
       "      <td>2004-06-11</td>\n",
       "      <td>7649.5</td>\n",
       "      <td>1.36</td>\n",
       "    </tr>\n",
       "  </tbody>\n",
       "</table>\n",
       "</div>"
      ],
      "text/plain": [
       "  ticker       date  next_twelve_months_rev next_twelve_months_eps\n",
       "0      A 2004-05-14                  7317.9                   1.28\n",
       "1      A 2004-05-21                  7602.3                   1.33\n",
       "2      A 2004-05-28                  7618.1                   1.34\n",
       "3      A 2004-06-04                  7633.8                   1.35\n",
       "4      A 2004-06-11                  7649.5                   1.36"
      ]
     },
     "execution_count": 16,
     "metadata": {},
     "output_type": "execute_result"
    }
   ],
   "source": [
    "eps_rev = trans_rev.merge(trans_eps, how='inner', on=['ticker', 'date'])\n",
    "eps_rev.head()"
   ]
  },
  {
   "cell_type": "markdown",
   "metadata": {},
   "source": [
    "## Data Quality Check"
   ]
  },
  {
   "cell_type": "code",
   "execution_count": 17,
   "metadata": {},
   "outputs": [
    {
     "data": {
      "text/plain": [
       "ticker                         0\n",
       "date                           0\n",
       "next_twelve_months_rev    500503\n",
       "next_twelve_months_eps    480359\n",
       "dtype: int64"
      ]
     },
     "execution_count": 17,
     "metadata": {},
     "output_type": "execute_result"
    }
   ],
   "source": [
    "# check the null values\n",
    "eps_rev.isnull().sum()"
   ]
  },
  {
   "cell_type": "code",
   "execution_count": 18,
   "metadata": {},
   "outputs": [
    {
     "data": {
      "text/plain": [
       "192"
      ]
     },
     "execution_count": 18,
     "metadata": {},
     "output_type": "execute_result"
    }
   ],
   "source": [
    "# Check the number of tickers have missing value in the 'revenue'\n",
    "eps_rev[(eps_rev['next_twelve_months_rev'].isnull()) & (eps_rev['next_twelve_months_eps'].notnull())].ticker.nunique()"
   ]
  },
  {
   "cell_type": "code",
   "execution_count": 19,
   "metadata": {},
   "outputs": [
    {
     "data": {
      "text/plain": [
       "50"
      ]
     },
     "execution_count": 19,
     "metadata": {},
     "output_type": "execute_result"
    }
   ],
   "source": [
    "# Check the number of tickers have missing value in the 'revenue'\n",
    "eps_rev[(eps_rev['next_twelve_months_rev'].notnull()) & (eps_rev['next_twelve_months_eps'].isnull())].ticker.nunique()"
   ]
  },
  {
   "cell_type": "code",
   "execution_count": 20,
   "metadata": {},
   "outputs": [],
   "source": [
    "# Check the date gap\n",
    "eps_rev_test = eps_rev.copy()\n",
    "eps_rev_test = eps_rev_test.sort_values('date').reset_index(drop=True)\n",
    "eps_rev_test['next_date'] = eps_rev_test.groupby('ticker')['date'].shift(-1)\n",
    "eps_rev_test['date_gap'] = eps_rev_test.apply(lambda x:(x['next_date'] - x['date']).days, axis=1)"
   ]
  },
  {
   "cell_type": "code",
   "execution_count": 21,
   "metadata": {},
   "outputs": [
    {
     "data": {
      "text/html": [
       "<div>\n",
       "<style scoped>\n",
       "    .dataframe tbody tr th:only-of-type {\n",
       "        vertical-align: middle;\n",
       "    }\n",
       "\n",
       "    .dataframe tbody tr th {\n",
       "        vertical-align: top;\n",
       "    }\n",
       "\n",
       "    .dataframe thead th {\n",
       "        text-align: right;\n",
       "    }\n",
       "</style>\n",
       "<table border=\"1\" class=\"dataframe\">\n",
       "  <thead>\n",
       "    <tr style=\"text-align: right;\">\n",
       "      <th></th>\n",
       "      <th>ticker</th>\n",
       "      <th>date</th>\n",
       "      <th>next_twelve_months_rev</th>\n",
       "      <th>next_twelve_months_eps</th>\n",
       "      <th>next_date</th>\n",
       "      <th>date_gap</th>\n",
       "    </tr>\n",
       "  </thead>\n",
       "  <tbody>\n",
       "  </tbody>\n",
       "</table>\n",
       "</div>"
      ],
      "text/plain": [
       "Empty DataFrame\n",
       "Columns: [ticker, date, next_twelve_months_rev, next_twelve_months_eps, next_date, date_gap]\n",
       "Index: []"
      ]
     },
     "execution_count": 21,
     "metadata": {},
     "output_type": "execute_result"
    }
   ],
   "source": [
    "eps_rev_test[(eps_rev_test['date_gap'].notnull()) & (eps_rev_test['date_gap'] != 7)].sort_values('date_gap', ascending=False).head()"
   ]
  },
  {
   "cell_type": "markdown",
   "metadata": {},
   "source": [
    "## Read the Price Data"
   ]
  },
  {
   "cell_type": "code",
   "execution_count": 22,
   "metadata": {},
   "outputs": [
    {
     "data": {
      "text/html": [
       "<div>\n",
       "<style scoped>\n",
       "    .dataframe tbody tr th:only-of-type {\n",
       "        vertical-align: middle;\n",
       "    }\n",
       "\n",
       "    .dataframe tbody tr th {\n",
       "        vertical-align: top;\n",
       "    }\n",
       "\n",
       "    .dataframe thead th {\n",
       "        text-align: right;\n",
       "    }\n",
       "</style>\n",
       "<table border=\"1\" class=\"dataframe\">\n",
       "  <thead>\n",
       "    <tr style=\"text-align: right;\">\n",
       "      <th></th>\n",
       "      <th>ticker</th>\n",
       "      <th>date</th>\n",
       "      <th>open</th>\n",
       "      <th>high</th>\n",
       "      <th>low</th>\n",
       "      <th>close</th>\n",
       "      <th>volume</th>\n",
       "      <th>dividends</th>\n",
       "      <th>closeunadj</th>\n",
       "      <th>lastupdated</th>\n",
       "    </tr>\n",
       "  </thead>\n",
       "  <tbody>\n",
       "    <tr>\n",
       "      <th>0</th>\n",
       "      <td>A</td>\n",
       "      <td>2014-01-02</td>\n",
       "      <td>57.100</td>\n",
       "      <td>57.100</td>\n",
       "      <td>56.150</td>\n",
       "      <td>56.210</td>\n",
       "      <td>1916200.0</td>\n",
       "      <td>0.0</td>\n",
       "      <td>56.210</td>\n",
       "      <td>2017-11-01</td>\n",
       "    </tr>\n",
       "    <tr>\n",
       "      <th>1</th>\n",
       "      <td>AAGIY</td>\n",
       "      <td>2014-01-02</td>\n",
       "      <td>20.140</td>\n",
       "      <td>20.250</td>\n",
       "      <td>20.120</td>\n",
       "      <td>20.230</td>\n",
       "      <td>41000.0</td>\n",
       "      <td>0.0</td>\n",
       "      <td>20.230</td>\n",
       "      <td>2018-10-10</td>\n",
       "    </tr>\n",
       "    <tr>\n",
       "      <th>2</th>\n",
       "      <td>AAIIQ</td>\n",
       "      <td>2014-01-02</td>\n",
       "      <td>0.030</td>\n",
       "      <td>0.030</td>\n",
       "      <td>0.030</td>\n",
       "      <td>0.030</td>\n",
       "      <td>0.0</td>\n",
       "      <td>0.0</td>\n",
       "      <td>0.030</td>\n",
       "      <td>2019-06-28</td>\n",
       "    </tr>\n",
       "    <tr>\n",
       "      <th>3</th>\n",
       "      <td>AAIR</td>\n",
       "      <td>2014-01-02</td>\n",
       "      <td>0.006</td>\n",
       "      <td>0.006</td>\n",
       "      <td>0.006</td>\n",
       "      <td>0.006</td>\n",
       "      <td>2800.0</td>\n",
       "      <td>0.0</td>\n",
       "      <td>0.006</td>\n",
       "      <td>2017-11-01</td>\n",
       "    </tr>\n",
       "    <tr>\n",
       "      <th>4</th>\n",
       "      <td>AAL</td>\n",
       "      <td>2014-01-02</td>\n",
       "      <td>25.070</td>\n",
       "      <td>25.820</td>\n",
       "      <td>25.060</td>\n",
       "      <td>25.360</td>\n",
       "      <td>8997900.0</td>\n",
       "      <td>0.0</td>\n",
       "      <td>25.360</td>\n",
       "      <td>2017-11-01</td>\n",
       "    </tr>\n",
       "  </tbody>\n",
       "</table>\n",
       "</div>"
      ],
      "text/plain": [
       "  ticker       date    open    high     low   close     volume  dividends  \\\n",
       "0      A 2014-01-02  57.100  57.100  56.150  56.210  1916200.0        0.0   \n",
       "1  AAGIY 2014-01-02  20.140  20.250  20.120  20.230    41000.0        0.0   \n",
       "2  AAIIQ 2014-01-02   0.030   0.030   0.030   0.030        0.0        0.0   \n",
       "3   AAIR 2014-01-02   0.006   0.006   0.006   0.006     2800.0        0.0   \n",
       "4    AAL 2014-01-02  25.070  25.820  25.060  25.360  8997900.0        0.0   \n",
       "\n",
       "   closeunadj lastupdated  \n",
       "0      56.210  2017-11-01  \n",
       "1      20.230  2018-10-10  \n",
       "2       0.030  2019-06-28  \n",
       "3       0.006  2017-11-01  \n",
       "4      25.360  2017-11-01  "
      ]
     },
     "execution_count": 22,
     "metadata": {},
     "output_type": "execute_result"
    }
   ],
   "source": [
    "price = pd.read_csv('daily_price.csv', parse_dates=['date']).sort_values([\"date\", \"ticker\"]).reset_index(drop=True)\n",
    "price.head()"
   ]
  },
  {
   "cell_type": "markdown",
   "metadata": {},
   "source": [
    "## Read the Share Data"
   ]
  },
  {
   "cell_type": "code",
   "execution_count": 23,
   "metadata": {},
   "outputs": [
    {
     "data": {
      "text/html": [
       "<div>\n",
       "<style scoped>\n",
       "    .dataframe tbody tr th:only-of-type {\n",
       "        vertical-align: middle;\n",
       "    }\n",
       "\n",
       "    .dataframe tbody tr th {\n",
       "        vertical-align: top;\n",
       "    }\n",
       "\n",
       "    .dataframe thead th {\n",
       "        text-align: right;\n",
       "    }\n",
       "</style>\n",
       "<table border=\"1\" class=\"dataframe\">\n",
       "  <thead>\n",
       "    <tr style=\"text-align: right;\">\n",
       "      <th></th>\n",
       "      <th>ticker</th>\n",
       "      <th>date</th>\n",
       "      <th>lastupdated</th>\n",
       "      <th>ev</th>\n",
       "      <th>evebit</th>\n",
       "      <th>evebitda</th>\n",
       "      <th>marketcap</th>\n",
       "      <th>pb</th>\n",
       "      <th>pe</th>\n",
       "      <th>ps</th>\n",
       "    </tr>\n",
       "  </thead>\n",
       "  <tbody>\n",
       "    <tr>\n",
       "      <th>0</th>\n",
       "      <td>A</td>\n",
       "      <td>2014-01-02</td>\n",
       "      <td>2018-10-21</td>\n",
       "      <td>18675.0</td>\n",
       "      <td>19.3</td>\n",
       "      <td>14.0</td>\n",
       "      <td>18651.0</td>\n",
       "      <td>3.5</td>\n",
       "      <td>25.8</td>\n",
       "      <td>2.8</td>\n",
       "    </tr>\n",
       "    <tr>\n",
       "      <th>1</th>\n",
       "      <td>AAIIQ</td>\n",
       "      <td>2014-01-02</td>\n",
       "      <td>2019-06-28</td>\n",
       "      <td>-3.1</td>\n",
       "      <td>0.6</td>\n",
       "      <td>0.9</td>\n",
       "      <td>0.1</td>\n",
       "      <td>NaN</td>\n",
       "      <td>NaN</td>\n",
       "      <td>NaN</td>\n",
       "    </tr>\n",
       "    <tr>\n",
       "      <th>2</th>\n",
       "      <td>AAIR</td>\n",
       "      <td>2014-01-02</td>\n",
       "      <td>2018-10-21</td>\n",
       "      <td>28.3</td>\n",
       "      <td>-3.0</td>\n",
       "      <td>-7.5</td>\n",
       "      <td>0.2</td>\n",
       "      <td>NaN</td>\n",
       "      <td>NaN</td>\n",
       "      <td>NaN</td>\n",
       "    </tr>\n",
       "    <tr>\n",
       "      <th>3</th>\n",
       "      <td>AAL</td>\n",
       "      <td>2014-01-02</td>\n",
       "      <td>2019-04-26</td>\n",
       "      <td>24314.8</td>\n",
       "      <td>38.2</td>\n",
       "      <td>14.7</td>\n",
       "      <td>8510.8</td>\n",
       "      <td>-1.1</td>\n",
       "      <td>19.7</td>\n",
       "      <td>0.3</td>\n",
       "    </tr>\n",
       "    <tr>\n",
       "      <th>4</th>\n",
       "      <td>AAMC</td>\n",
       "      <td>2014-01-02</td>\n",
       "      <td>2018-10-21</td>\n",
       "      <td>2404.0</td>\n",
       "      <td>NaN</td>\n",
       "      <td>NaN</td>\n",
       "      <td>2170.4</td>\n",
       "      <td>616.4</td>\n",
       "      <td>NaN</td>\n",
       "      <td>NaN</td>\n",
       "    </tr>\n",
       "  </tbody>\n",
       "</table>\n",
       "</div>"
      ],
      "text/plain": [
       "  ticker       date lastupdated       ev  evebit  evebitda  marketcap     pb  \\\n",
       "0      A 2014-01-02  2018-10-21  18675.0    19.3      14.0    18651.0    3.5   \n",
       "1  AAIIQ 2014-01-02  2019-06-28     -3.1     0.6       0.9        0.1    NaN   \n",
       "2   AAIR 2014-01-02  2018-10-21     28.3    -3.0      -7.5        0.2    NaN   \n",
       "3    AAL 2014-01-02  2019-04-26  24314.8    38.2      14.7     8510.8   -1.1   \n",
       "4   AAMC 2014-01-02  2018-10-21   2404.0     NaN       NaN     2170.4  616.4   \n",
       "\n",
       "     pe   ps  \n",
       "0  25.8  2.8  \n",
       "1   NaN  NaN  \n",
       "2   NaN  NaN  \n",
       "3  19.7  0.3  \n",
       "4   NaN  NaN  "
      ]
     },
     "execution_count": 23,
     "metadata": {},
     "output_type": "execute_result"
    }
   ],
   "source": [
    "share = pd.read_csv('daily_market_cap.csv', parse_dates=['date']).sort_values([\"date\", \"ticker\"]).reset_index(drop=True)\n",
    "share.head()"
   ]
  },
  {
   "cell_type": "code",
   "execution_count": null,
   "metadata": {},
   "outputs": [],
   "source": []
  }
 ],
 "metadata": {
  "kernelspec": {
   "display_name": "Python 3",
   "language": "python",
   "name": "python3"
  },
  "language_info": {
   "codemirror_mode": {
    "name": "ipython",
    "version": 3
   },
   "file_extension": ".py",
   "mimetype": "text/x-python",
   "name": "python",
   "nbconvert_exporter": "python",
   "pygments_lexer": "ipython3",
   "version": "3.6.5"
  }
 },
 "nbformat": 4,
 "nbformat_minor": 4
}
