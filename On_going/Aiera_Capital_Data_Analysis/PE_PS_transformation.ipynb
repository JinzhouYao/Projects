{
 "cells": [
  {
   "cell_type": "markdown",
   "metadata": {},
   "source": [
    "# Import"
   ]
  },
  {
   "cell_type": "code",
   "execution_count": 1,
   "metadata": {},
   "outputs": [],
   "source": [
    "import pandas as pd"
   ]
  },
  {
   "cell_type": "markdown",
   "metadata": {},
   "source": [
    "# PE Data"
   ]
  },
  {
   "cell_type": "markdown",
   "metadata": {},
   "source": [
    "## Read In PE Data"
   ]
  },
  {
   "cell_type": "code",
   "execution_count": 2,
   "metadata": {},
   "outputs": [],
   "source": [
    "# since the columns with values have no names, turn off low_memory to avoid warnings\n",
    "fwd_pe = pd.read_csv('FWD_PE.csv', low_memory=False)"
   ]
  },
  {
   "cell_type": "code",
   "execution_count": 3,
   "metadata": {},
   "outputs": [],
   "source": [
    "# create a new empty df\n",
    "new_fwd_pe = pd.DataFrame()"
   ]
  },
  {
   "cell_type": "markdown",
   "metadata": {},
   "source": [
    "## Transform the PE Data"
   ]
  },
  {
   "cell_type": "code",
   "execution_count": 4,
   "metadata": {},
   "outputs": [],
   "source": [
    "for n in range(0, len(fwd_pe.columns)-1, 2):\n",
    "    pe_temp = fwd_pe.iloc[:,[n, n+1]].copy()\n",
    "    pe_temp['ticker'] = pe_temp.columns[0]\n",
    "    pe_temp.rename(columns={pe_temp.columns[0]: 'date', 'Unnamed: {}'.format(n+1): 'forward_pe'}, inplace=True)\n",
    "    new_fwd_pe = new_fwd_pe.append(pe_temp, ignore_index=True)"
   ]
  },
  {
   "cell_type": "code",
   "execution_count": 5,
   "metadata": {},
   "outputs": [
    {
     "data": {
      "text/plain": [
       "(2912, 2285920)"
      ]
     },
     "execution_count": 5,
     "metadata": {},
     "output_type": "execute_result"
    }
   ],
   "source": [
    "new_fwd_pe.ticker.nunique(), len(new_fwd_pe)"
   ]
  },
  {
   "cell_type": "markdown",
   "metadata": {},
   "source": [
    "## Formatting"
   ]
  },
  {
   "cell_type": "code",
   "execution_count": 6,
   "metadata": {},
   "outputs": [],
   "source": [
    "new_fwd_pe['date'] = pd.to_datetime(new_fwd_pe['date'])\n",
    "# save to csv for the future use\n",
    "new_fwd_pe.to_csv('forward_pe.csv', index=False)\n",
    "# forward_pe_new = pd.read_csv('forward_pe.csv', parse_dates=['date'])"
   ]
  },
  {
   "cell_type": "markdown",
   "metadata": {},
   "source": [
    "## Data Quality Check"
   ]
  },
  {
   "cell_type": "code",
   "execution_count": 7,
   "metadata": {},
   "outputs": [
    {
     "data": {
      "text/plain": [
       "date          789274\n",
       "forward_pe    789274\n",
       "ticker             0\n",
       "dtype: int64"
      ]
     },
     "execution_count": 7,
     "metadata": {},
     "output_type": "execute_result"
    }
   ],
   "source": [
    "# Check if there is any null value\n",
    "forward_pe = new_fwd_pe.copy()\n",
    "forward_pe.isnull().sum()"
   ]
  },
  {
   "cell_type": "code",
   "execution_count": 8,
   "metadata": {},
   "outputs": [],
   "source": [
    "# Drop the null values\n",
    "forward_pe = forward_pe.dropna(axis=0, how='any')"
   ]
  },
  {
   "cell_type": "code",
   "execution_count": 9,
   "metadata": {},
   "outputs": [
    {
     "data": {
      "text/plain": [
       "0"
      ]
     },
     "execution_count": 9,
     "metadata": {},
     "output_type": "execute_result"
    }
   ],
   "source": [
    "# Check if there is any duplicates\n",
    "len(forward_pe[forward_pe.duplicated(subset=['ticker', 'date'], keep='first')])"
   ]
  },
  {
   "cell_type": "code",
   "execution_count": 10,
   "metadata": {},
   "outputs": [],
   "source": [
    "# Check if there is any date_gap\n",
    "forward_pe_test = forward_pe.copy()\n",
    "forward_pe_test = forward_pe_test.sort_values(['ticker' ,'date']).reset_index(drop=True)\n",
    "forward_pe_test['next_date'] = forward_pe_test.groupby('ticker')['date'].shift(-1)\n",
    "forward_pe_test['date_gap'] = forward_pe_test.apply(lambda x:(x['next_date'] - x['date']).days, axis=1)"
   ]
  },
  {
   "cell_type": "code",
   "execution_count": 11,
   "metadata": {},
   "outputs": [
    {
     "data": {
      "text/html": [
       "<div>\n",
       "<style scoped>\n",
       "    .dataframe tbody tr th:only-of-type {\n",
       "        vertical-align: middle;\n",
       "    }\n",
       "\n",
       "    .dataframe tbody tr th {\n",
       "        vertical-align: top;\n",
       "    }\n",
       "\n",
       "    .dataframe thead th {\n",
       "        text-align: right;\n",
       "    }\n",
       "</style>\n",
       "<table border=\"1\" class=\"dataframe\">\n",
       "  <thead>\n",
       "    <tr style=\"text-align: right;\">\n",
       "      <th></th>\n",
       "      <th>date</th>\n",
       "      <th>forward_pe</th>\n",
       "      <th>ticker</th>\n",
       "      <th>next_date</th>\n",
       "      <th>date_gap</th>\n",
       "    </tr>\n",
       "  </thead>\n",
       "  <tbody>\n",
       "    <tr>\n",
       "      <th>592314</th>\n",
       "      <td>2004-12-31</td>\n",
       "      <td>17.58</td>\n",
       "      <td>GNTY</td>\n",
       "      <td>2017-06-09</td>\n",
       "      <td>4543.0</td>\n",
       "    </tr>\n",
       "    <tr>\n",
       "      <th>783120</th>\n",
       "      <td>2006-12-29</td>\n",
       "      <td>99.90</td>\n",
       "      <td>LCTX</td>\n",
       "      <td>2016-03-18</td>\n",
       "      <td>3367.0</td>\n",
       "    </tr>\n",
       "    <tr>\n",
       "      <th>157398</th>\n",
       "      <td>2008-12-26</td>\n",
       "      <td>99.90</td>\n",
       "      <td>BBX</td>\n",
       "      <td>2017-12-01</td>\n",
       "      <td>3262.0</td>\n",
       "    </tr>\n",
       "    <tr>\n",
       "      <th>860085</th>\n",
       "      <td>2009-12-25</td>\n",
       "      <td>13.76</td>\n",
       "      <td>MFNC</td>\n",
       "      <td>2018-04-06</td>\n",
       "      <td>3024.0</td>\n",
       "    </tr>\n",
       "    <tr>\n",
       "      <th>1181089</th>\n",
       "      <td>2007-12-28</td>\n",
       "      <td>14.18</td>\n",
       "      <td>SBBX</td>\n",
       "      <td>2015-10-16</td>\n",
       "      <td>2849.0</td>\n",
       "    </tr>\n",
       "  </tbody>\n",
       "</table>\n",
       "</div>"
      ],
      "text/plain": [
       "              date  forward_pe ticker  next_date  date_gap\n",
       "592314  2004-12-31       17.58   GNTY 2017-06-09    4543.0\n",
       "783120  2006-12-29       99.90   LCTX 2016-03-18    3367.0\n",
       "157398  2008-12-26       99.90    BBX 2017-12-01    3262.0\n",
       "860085  2009-12-25       13.76   MFNC 2018-04-06    3024.0\n",
       "1181089 2007-12-28       14.18   SBBX 2015-10-16    2849.0"
      ]
     },
     "execution_count": 11,
     "metadata": {},
     "output_type": "execute_result"
    }
   ],
   "source": [
    "forward_pe_test[(forward_pe_test['date_gap'].notnull()) & (forward_pe_test['date_gap'] > 7)].sort_values('date_gap', ascending=False).head()"
   ]
  },
  {
   "cell_type": "code",
   "execution_count": 12,
   "metadata": {},
   "outputs": [],
   "source": [
    "pe_problem_tickers = forward_pe_test[(forward_pe_test['date_gap'].notnull()) & (forward_pe_test['date_gap'] > 7)][\"ticker\"].unique()"
   ]
  },
  {
   "cell_type": "code",
   "execution_count": 13,
   "metadata": {},
   "outputs": [],
   "source": [
    "# Based on the client's request, drop the tickers that have date-gap is larger than 7 (1066 tickers are dropped)\n",
    "forward_pe_final = forward_pe[~forward_pe.ticker.isin(pe_problem_tickers)]"
   ]
  },
  {
   "cell_type": "markdown",
   "metadata": {},
   "source": [
    "# PS Data"
   ]
  },
  {
   "cell_type": "markdown",
   "metadata": {},
   "source": [
    "## Read In PS Data"
   ]
  },
  {
   "cell_type": "code",
   "execution_count": 14,
   "metadata": {},
   "outputs": [],
   "source": [
    "fwd_ps = pd.read_csv('FWD_PS.csv', low_memory=False)"
   ]
  },
  {
   "cell_type": "code",
   "execution_count": 15,
   "metadata": {},
   "outputs": [],
   "source": [
    "new_fwd_ps = pd.DataFrame()"
   ]
  },
  {
   "cell_type": "markdown",
   "metadata": {},
   "source": [
    "## Transform the PS Data"
   ]
  },
  {
   "cell_type": "code",
   "execution_count": 16,
   "metadata": {},
   "outputs": [],
   "source": [
    "for n in range(0, len(fwd_ps.columns)-1, 2):\n",
    "    ps_temp = fwd_ps.iloc[:, [n,n+1]].copy()\n",
    "    ps_temp['ticker'] = ps_temp.columns[0]\n",
    "    ps_temp.rename(columns={ps_temp.columns[0]: 'date', 'Unnamed: {}'.format(n+1): 'forward_ps'}, inplace=True)\n",
    "    new_fwd_ps = new_fwd_ps.append(ps_temp, ignore_index=True)"
   ]
  },
  {
   "cell_type": "markdown",
   "metadata": {},
   "source": [
    "## Formatting"
   ]
  },
  {
   "cell_type": "code",
   "execution_count": 17,
   "metadata": {},
   "outputs": [],
   "source": [
    "new_fwd_ps['date'] = pd.to_datetime(new_fwd_ps['date'])\n",
    "new_fwd_ps.to_csv('forward_ps.csv', index=False)\n",
    "# forward_ps_new = pd.read_csv('forward_ps.csv', parse_dates=['date'])"
   ]
  },
  {
   "cell_type": "markdown",
   "metadata": {},
   "source": [
    "## Data Quality Check"
   ]
  },
  {
   "cell_type": "code",
   "execution_count": 18,
   "metadata": {},
   "outputs": [
    {
     "data": {
      "text/plain": [
       "date          813572\n",
       "forward_ps    813572\n",
       "ticker             0\n",
       "dtype: int64"
      ]
     },
     "execution_count": 18,
     "metadata": {},
     "output_type": "execute_result"
    }
   ],
   "source": [
    "# Check if there is any null value\n",
    "forward_ps = new_fwd_ps.copy()\n",
    "forward_ps.isnull().sum()"
   ]
  },
  {
   "cell_type": "code",
   "execution_count": 19,
   "metadata": {},
   "outputs": [],
   "source": [
    "# Drop the null values\n",
    "forward_ps = forward_ps.dropna(axis=0, how='any')"
   ]
  },
  {
   "cell_type": "code",
   "execution_count": 20,
   "metadata": {},
   "outputs": [
    {
     "data": {
      "text/plain": [
       "0"
      ]
     },
     "execution_count": 20,
     "metadata": {},
     "output_type": "execute_result"
    }
   ],
   "source": [
    "# Check if there is any duplicates\n",
    "len(forward_ps[forward_ps.duplicated(subset=['ticker', 'date'], keep='first')])"
   ]
  },
  {
   "cell_type": "code",
   "execution_count": 21,
   "metadata": {},
   "outputs": [],
   "source": [
    "# Check if there is any date_gap\n",
    "forward_ps_test = forward_ps.copy()\n",
    "forward_ps_test = forward_ps_test.sort_values(['ticker' ,'date']).reset_index(drop=True)\n",
    "forward_ps_test['next_date'] = forward_ps_test.groupby('ticker')['date'].shift(-1)\n",
    "forward_ps_test['date_gap'] = forward_ps_test.apply(lambda x:(x['next_date'] - x['date']).days, axis=1)"
   ]
  },
  {
   "cell_type": "code",
   "execution_count": 22,
   "metadata": {},
   "outputs": [
    {
     "data": {
      "text/html": [
       "<div>\n",
       "<style scoped>\n",
       "    .dataframe tbody tr th:only-of-type {\n",
       "        vertical-align: middle;\n",
       "    }\n",
       "\n",
       "    .dataframe tbody tr th {\n",
       "        vertical-align: top;\n",
       "    }\n",
       "\n",
       "    .dataframe thead th {\n",
       "        text-align: right;\n",
       "    }\n",
       "</style>\n",
       "<table border=\"1\" class=\"dataframe\">\n",
       "  <thead>\n",
       "    <tr style=\"text-align: right;\">\n",
       "      <th></th>\n",
       "      <th>date</th>\n",
       "      <th>forward_ps</th>\n",
       "      <th>ticker</th>\n",
       "      <th>next_date</th>\n",
       "      <th>date_gap</th>\n",
       "    </tr>\n",
       "  </thead>\n",
       "  <tbody>\n",
       "    <tr>\n",
       "      <th>878526</th>\n",
       "      <td>2005-06-24</td>\n",
       "      <td>0.76</td>\n",
       "      <td>MSON</td>\n",
       "      <td>2018-08-31</td>\n",
       "      <td>4816.0</td>\n",
       "    </tr>\n",
       "    <tr>\n",
       "      <th>834406</th>\n",
       "      <td>2006-12-29</td>\n",
       "      <td>2.24</td>\n",
       "      <td>MFNC</td>\n",
       "      <td>2018-04-06</td>\n",
       "      <td>4116.0</td>\n",
       "    </tr>\n",
       "    <tr>\n",
       "      <th>1147159</th>\n",
       "      <td>2005-12-30</td>\n",
       "      <td>2.81</td>\n",
       "      <td>SBBX</td>\n",
       "      <td>2015-10-16</td>\n",
       "      <td>3577.0</td>\n",
       "    </tr>\n",
       "    <tr>\n",
       "      <th>921753</th>\n",
       "      <td>2004-08-13</td>\n",
       "      <td>0.55</td>\n",
       "      <td>NL</td>\n",
       "      <td>2014-02-07</td>\n",
       "      <td>3465.0</td>\n",
       "    </tr>\n",
       "    <tr>\n",
       "      <th>759826</th>\n",
       "      <td>2006-12-29</td>\n",
       "      <td>4.50</td>\n",
       "      <td>LCTX</td>\n",
       "      <td>2016-03-18</td>\n",
       "      <td>3367.0</td>\n",
       "    </tr>\n",
       "  </tbody>\n",
       "</table>\n",
       "</div>"
      ],
      "text/plain": [
       "              date  forward_ps ticker  next_date  date_gap\n",
       "878526  2005-06-24        0.76   MSON 2018-08-31    4816.0\n",
       "834406  2006-12-29        2.24   MFNC 2018-04-06    4116.0\n",
       "1147159 2005-12-30        2.81   SBBX 2015-10-16    3577.0\n",
       "921753  2004-08-13        0.55     NL 2014-02-07    3465.0\n",
       "759826  2006-12-29        4.50   LCTX 2016-03-18    3367.0"
      ]
     },
     "execution_count": 22,
     "metadata": {},
     "output_type": "execute_result"
    }
   ],
   "source": [
    "forward_ps_test[(forward_ps_test['date_gap'].notnull()) & (forward_ps_test['date_gap'] > 7)].sort_values('date_gap', ascending=False).head()"
   ]
  },
  {
   "cell_type": "code",
   "execution_count": 23,
   "metadata": {},
   "outputs": [],
   "source": [
    "ps_problem_tickers = forward_ps_test[(forward_ps_test['date_gap'].notnull()) & (forward_ps_test['date_gap'] > 7)].sort_values('date_gap', ascending=False).ticker.unique()"
   ]
  },
  {
   "cell_type": "code",
   "execution_count": 24,
   "metadata": {},
   "outputs": [],
   "source": [
    "# Based on the client's request, drop the tickers that have date-gap is larger than 7 (1216 tickers are dropped)\n",
    "forward_ps_final = forward_ps[~forward_ps.ticker.isin(ps_problem_tickers)]"
   ]
  },
  {
   "cell_type": "markdown",
   "metadata": {},
   "source": [
    "# Final DataFrame"
   ]
  },
  {
   "cell_type": "markdown",
   "metadata": {},
   "source": [
    "## Merge PS and PE DataFrames"
   ]
  },
  {
   "cell_type": "code",
   "execution_count": 25,
   "metadata": {},
   "outputs": [],
   "source": [
    "# After a check we could know that in all the 2912 tickers, \n",
    "# 53 tickers are not overlapped in the pe and ps file, \n",
    "# so we just drop them and remain the left part\n",
    "forward_ps_pe = forward_ps_final.merge(forward_pe_final, how='inner', on=['date', 'ticker'])\n",
    "forward_ps_pe = forward_ps_pe[['date', 'ticker', 'forward_ps', 'forward_pe']]"
   ]
  },
  {
   "cell_type": "code",
   "execution_count": 26,
   "metadata": {},
   "outputs": [
    {
     "data": {
      "text/plain": [
       "1550"
      ]
     },
     "execution_count": 26,
     "metadata": {},
     "output_type": "execute_result"
    }
   ],
   "source": [
    "forward_ps_pe.ticker.nunique()"
   ]
  },
  {
   "cell_type": "markdown",
   "metadata": {},
   "source": [
    "## Data Quanlity Check"
   ]
  },
  {
   "cell_type": "code",
   "execution_count": 27,
   "metadata": {},
   "outputs": [
    {
     "data": {
      "text/plain": [
       "date          0\n",
       "ticker        0\n",
       "forward_ps    0\n",
       "forward_pe    0\n",
       "dtype: int64"
      ]
     },
     "execution_count": 27,
     "metadata": {},
     "output_type": "execute_result"
    }
   ],
   "source": [
    "# Check if there is any null value\n",
    "ps_pe = forward_ps_pe.copy()\n",
    "ps_pe.isnull().sum()"
   ]
  },
  {
   "cell_type": "code",
   "execution_count": 28,
   "metadata": {},
   "outputs": [
    {
     "data": {
      "text/plain": [
       "0"
      ]
     },
     "execution_count": 28,
     "metadata": {},
     "output_type": "execute_result"
    }
   ],
   "source": [
    "# Check if there is any duplicates\n",
    "len(ps_pe[ps_pe.duplicated(subset=['ticker', 'date'], keep='first')])"
   ]
  },
  {
   "cell_type": "code",
   "execution_count": 29,
   "metadata": {},
   "outputs": [],
   "source": [
    "# Check if there is any date_gap\n",
    "ps_pe_test = ps_pe.copy()\n",
    "ps_pe_test = ps_pe_test.sort_values(['ticker' ,'date']).reset_index(drop=True)\n",
    "ps_pe_test['next_date'] = ps_pe_test.groupby('ticker')['date'].shift(-1)\n",
    "ps_pe_test['date_gap'] = ps_pe_test.apply(lambda x:(x['next_date'] - x['date']).days, axis=1)"
   ]
  },
  {
   "cell_type": "code",
   "execution_count": 30,
   "metadata": {},
   "outputs": [
    {
     "data": {
      "text/html": [
       "<div>\n",
       "<style scoped>\n",
       "    .dataframe tbody tr th:only-of-type {\n",
       "        vertical-align: middle;\n",
       "    }\n",
       "\n",
       "    .dataframe tbody tr th {\n",
       "        vertical-align: top;\n",
       "    }\n",
       "\n",
       "    .dataframe thead th {\n",
       "        text-align: right;\n",
       "    }\n",
       "</style>\n",
       "<table border=\"1\" class=\"dataframe\">\n",
       "  <thead>\n",
       "    <tr style=\"text-align: right;\">\n",
       "      <th></th>\n",
       "      <th>date</th>\n",
       "      <th>ticker</th>\n",
       "      <th>forward_ps</th>\n",
       "      <th>forward_pe</th>\n",
       "      <th>next_date</th>\n",
       "      <th>date_gap</th>\n",
       "    </tr>\n",
       "  </thead>\n",
       "  <tbody>\n",
       "  </tbody>\n",
       "</table>\n",
       "</div>"
      ],
      "text/plain": [
       "Empty DataFrame\n",
       "Columns: [date, ticker, forward_ps, forward_pe, next_date, date_gap]\n",
       "Index: []"
      ]
     },
     "execution_count": 30,
     "metadata": {},
     "output_type": "execute_result"
    }
   ],
   "source": [
    "ps_pe_test[(ps_pe_test['date_gap'].notnull()) & (ps_pe_test['date_gap'] > 7)].sort_values('date_gap', ascending=False)"
   ]
  },
  {
   "cell_type": "code",
   "execution_count": 31,
   "metadata": {},
   "outputs": [
    {
     "data": {
      "text/html": [
       "<div>\n",
       "<style scoped>\n",
       "    .dataframe tbody tr th:only-of-type {\n",
       "        vertical-align: middle;\n",
       "    }\n",
       "\n",
       "    .dataframe tbody tr th {\n",
       "        vertical-align: top;\n",
       "    }\n",
       "\n",
       "    .dataframe thead th {\n",
       "        text-align: right;\n",
       "    }\n",
       "</style>\n",
       "<table border=\"1\" class=\"dataframe\">\n",
       "  <thead>\n",
       "    <tr style=\"text-align: right;\">\n",
       "      <th></th>\n",
       "      <th>date</th>\n",
       "      <th>ticker</th>\n",
       "      <th>forward_ps</th>\n",
       "      <th>forward_pe</th>\n",
       "      <th>next_date</th>\n",
       "      <th>date_gap</th>\n",
       "    </tr>\n",
       "  </thead>\n",
       "  <tbody>\n",
       "    <tr>\n",
       "      <th>783</th>\n",
       "      <td>2019-08-09</td>\n",
       "      <td>A</td>\n",
       "      <td>3.96</td>\n",
       "      <td>20.68</td>\n",
       "      <td>2019-08-14</td>\n",
       "      <td>5.0</td>\n",
       "    </tr>\n",
       "    <tr>\n",
       "      <th>474443</th>\n",
       "      <td>2019-08-09</td>\n",
       "      <td>ONDK</td>\n",
       "      <td>0.56</td>\n",
       "      <td>8.31</td>\n",
       "      <td>2019-08-14</td>\n",
       "      <td>5.0</td>\n",
       "    </tr>\n",
       "    <tr>\n",
       "      <th>477600</th>\n",
       "      <td>2019-08-09</td>\n",
       "      <td>OSK</td>\n",
       "      <td>0.62</td>\n",
       "      <td>9.50</td>\n",
       "      <td>2019-08-14</td>\n",
       "      <td>5.0</td>\n",
       "    </tr>\n",
       "    <tr>\n",
       "      <th>476734</th>\n",
       "      <td>2019-08-09</td>\n",
       "      <td>ORLY</td>\n",
       "      <td>2.77</td>\n",
       "      <td>20.14</td>\n",
       "      <td>2019-08-14</td>\n",
       "      <td>5.0</td>\n",
       "    </tr>\n",
       "    <tr>\n",
       "      <th>475949</th>\n",
       "      <td>2019-08-09</td>\n",
       "      <td>ORGO</td>\n",
       "      <td>0.14</td>\n",
       "      <td>99.90</td>\n",
       "      <td>2019-08-14</td>\n",
       "      <td>5.0</td>\n",
       "    </tr>\n",
       "  </tbody>\n",
       "</table>\n",
       "</div>"
      ],
      "text/plain": [
       "             date ticker  forward_ps  forward_pe  next_date  date_gap\n",
       "783    2019-08-09      A        3.96       20.68 2019-08-14       5.0\n",
       "474443 2019-08-09   ONDK        0.56        8.31 2019-08-14       5.0\n",
       "477600 2019-08-09    OSK        0.62        9.50 2019-08-14       5.0\n",
       "476734 2019-08-09   ORLY        2.77       20.14 2019-08-14       5.0\n",
       "475949 2019-08-09   ORGO        0.14       99.90 2019-08-14       5.0"
      ]
     },
     "execution_count": 31,
     "metadata": {},
     "output_type": "execute_result"
    }
   ],
   "source": [
    "# there are records with date gap of 5 days which happens at the latest records\n",
    "ps_pe_test[(ps_pe_test['date_gap'].notnull()) & (ps_pe_test['date_gap'] != 7)].sort_values('date_gap', ascending=False).head()"
   ]
  },
  {
   "cell_type": "code",
   "execution_count": 32,
   "metadata": {},
   "outputs": [],
   "source": [
    "# remove the latest records at 2019-08-14\n",
    "ps_pe_final = ps_pe[ps_pe['date'] != '2019-08-14']"
   ]
  },
  {
   "cell_type": "code",
   "execution_count": 33,
   "metadata": {},
   "outputs": [],
   "source": [
    "ps_pe_test2 = ps_pe_final.copy()\n",
    "ps_pe_test2 = ps_pe_test2.sort_values(['ticker' ,'date']).reset_index(drop=True)\n",
    "ps_pe_test2['next_date'] = ps_pe_test2.groupby('ticker')['date'].shift(-1)\n",
    "ps_pe_test2['date_gap'] = ps_pe_test2.apply(lambda x:(x['next_date'] - x['date']).days, axis=1)"
   ]
  },
  {
   "cell_type": "code",
   "execution_count": 34,
   "metadata": {},
   "outputs": [
    {
     "data": {
      "text/html": [
       "<div>\n",
       "<style scoped>\n",
       "    .dataframe tbody tr th:only-of-type {\n",
       "        vertical-align: middle;\n",
       "    }\n",
       "\n",
       "    .dataframe tbody tr th {\n",
       "        vertical-align: top;\n",
       "    }\n",
       "\n",
       "    .dataframe thead th {\n",
       "        text-align: right;\n",
       "    }\n",
       "</style>\n",
       "<table border=\"1\" class=\"dataframe\">\n",
       "  <thead>\n",
       "    <tr style=\"text-align: right;\">\n",
       "      <th></th>\n",
       "      <th>date</th>\n",
       "      <th>ticker</th>\n",
       "      <th>forward_ps</th>\n",
       "      <th>forward_pe</th>\n",
       "      <th>next_date</th>\n",
       "      <th>date_gap</th>\n",
       "    </tr>\n",
       "  </thead>\n",
       "  <tbody>\n",
       "  </tbody>\n",
       "</table>\n",
       "</div>"
      ],
      "text/plain": [
       "Empty DataFrame\n",
       "Columns: [date, ticker, forward_ps, forward_pe, next_date, date_gap]\n",
       "Index: []"
      ]
     },
     "execution_count": 34,
     "metadata": {},
     "output_type": "execute_result"
    }
   ],
   "source": [
    "ps_pe_test2[(ps_pe_test2['date_gap'].notnull()) & (ps_pe_test2['date_gap'] != 7)].sort_values('date_gap', ascending=False)"
   ]
  },
  {
   "cell_type": "code",
   "execution_count": 35,
   "metadata": {},
   "outputs": [],
   "source": [
    "ps_pe_final.to_csv('forward_ps_pe.csv', index=False)"
   ]
  },
  {
   "cell_type": "code",
   "execution_count": null,
   "metadata": {},
   "outputs": [],
   "source": []
  }
 ],
 "metadata": {
  "kernelspec": {
   "display_name": "Python 3",
   "language": "python",
   "name": "python3"
  },
  "language_info": {
   "codemirror_mode": {
    "name": "ipython",
    "version": 3
   },
   "file_extension": ".py",
   "mimetype": "text/x-python",
   "name": "python",
   "nbconvert_exporter": "python",
   "pygments_lexer": "ipython3",
   "version": "3.6.5"
  }
 },
 "nbformat": 4,
 "nbformat_minor": 4
}
