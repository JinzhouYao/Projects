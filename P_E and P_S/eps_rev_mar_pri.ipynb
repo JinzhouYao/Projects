{
 "cells": [
  {
   "cell_type": "markdown",
   "metadata": {},
   "source": [
    "# Set Up"
   ]
  },
  {
   "cell_type": "markdown",
   "metadata": {},
   "source": [
    "## Import"
   ]
  },
  {
   "cell_type": "code",
   "execution_count": 1,
   "metadata": {},
   "outputs": [],
   "source": [
    "import pandas as pd"
   ]
  },
  {
   "cell_type": "markdown",
   "metadata": {},
   "source": [
    "## EPS Data"
   ]
  },
  {
   "cell_type": "markdown",
   "metadata": {},
   "source": [
    "### Read In Data "
   ]
  },
  {
   "cell_type": "code",
   "execution_count": 2,
   "metadata": {},
   "outputs": [],
   "source": [
    "eps1 = pd.read_csv('EPS1.csv', parse_dates=['date']).sort_values(\"date\").reset_index(drop=True)\n",
    "eps2 = pd.read_csv('EPS2.csv', parse_dates=['date']).sort_values(\"date\").reset_index(drop=True)\n",
    "eps3 = pd.read_csv('EPS3.csv', parse_dates=['date']).sort_values(\"date\").reset_index(drop=True)\n",
    "eps4 = pd.read_csv('EPS4.csv', parse_dates=['date']).sort_values(\"date\").reset_index(drop=True)\n",
    "eps5 = pd.read_csv('EPS5.csv', parse_dates=['date']).sort_values(\"date\").reset_index(drop=True)\n",
    "eps6 = pd.read_csv('EPS6.csv', parse_dates=['date']).sort_values(\"date\").reset_index(drop=True)\n",
    "eps7 = pd.read_csv('EPS7.csv', parse_dates=['date']).sort_values(\"date\").reset_index(drop=True)"
   ]
  },
  {
   "cell_type": "markdown",
   "metadata": {},
   "source": [
    "### Merge All Data"
   ]
  },
  {
   "cell_type": "code",
   "execution_count": 3,
   "metadata": {},
   "outputs": [],
   "source": [
    "eps_dfs = [eps1, eps2, eps3, eps4, eps5, eps6, eps7]\n",
    "eps = eps1.merge(eps2, on=\"date\").merge(eps3, on=\"date\").merge(eps4, on=\"date\").merge(eps5, on=\"date\").merge(eps6, on=\"date\").merge(eps7, on=\"date\")\n",
    "eps = eps.sort_values(\"date\").reset_index(drop=True)"
   ]
  },
  {
   "cell_type": "code",
   "execution_count": 4,
   "metadata": {},
   "outputs": [
    {
     "data": {
      "text/plain": [
       "True"
      ]
     },
     "execution_count": 4,
     "metadata": {},
     "output_type": "execute_result"
    }
   ],
   "source": [
    "# Quick quality check to make sure no columns are dropped\n",
    "len(eps.columns) - 1 == sum([len(df.columns) - 1 for df in eps_dfs])"
   ]
  },
  {
   "cell_type": "code",
   "execution_count": 5,
   "metadata": {},
   "outputs": [
    {
     "data": {
      "text/plain": [
       "2545"
      ]
     },
     "execution_count": 5,
     "metadata": {},
     "output_type": "execute_result"
    }
   ],
   "source": [
    "# Number of tickers left\n",
    "len(eps.columns) - 1"
   ]
  },
  {
   "cell_type": "code",
   "execution_count": 6,
   "metadata": {},
   "outputs": [],
   "source": [
    "# Drop the data without any eps data\n",
    "left_eps = eps.copy()\n",
    "left_eps = left_eps.dropna(axis=1, how='all')"
   ]
  },
  {
   "cell_type": "markdown",
   "metadata": {},
   "source": [
    "### Unstack EPS Data"
   ]
  },
  {
   "cell_type": "code",
   "execution_count": 7,
   "metadata": {},
   "outputs": [],
   "source": [
    "trans_eps = left_eps.set_index(\"date\").unstack().reset_index()\n",
    "trans_eps.rename(columns={\"level_0\": \"ticker\", 0: \"next_twelve_months_eps\"}, inplace=True)\n",
    "trans_eps = trans_eps.sort_values([\"ticker\", \"date\"]).reset_index(drop=True)"
   ]
  },
  {
   "cell_type": "markdown",
   "metadata": {},
   "source": [
    "### Check Data Quality"
   ]
  },
  {
   "cell_type": "code",
   "execution_count": 8,
   "metadata": {},
   "outputs": [],
   "source": [
    "# Check the date gap\n",
    "eps_test = trans_eps.copy()\n",
    "eps_test = eps_test.sort_values('date').reset_index(drop=True)\n",
    "eps_test['next_date'] = eps_test.groupby('ticker')['date'].shift(-1)\n",
    "eps_test['date_gap'] = eps_test.apply(lambda x:(x['next_date'] - x['date']).days, axis=1)"
   ]
  },
  {
   "cell_type": "code",
   "execution_count": 9,
   "metadata": {},
   "outputs": [
    {
     "data": {
      "text/html": [
       "<div>\n",
       "<style scoped>\n",
       "    .dataframe tbody tr th:only-of-type {\n",
       "        vertical-align: middle;\n",
       "    }\n",
       "\n",
       "    .dataframe tbody tr th {\n",
       "        vertical-align: top;\n",
       "    }\n",
       "\n",
       "    .dataframe thead th {\n",
       "        text-align: right;\n",
       "    }\n",
       "</style>\n",
       "<table border=\"1\" class=\"dataframe\">\n",
       "  <thead>\n",
       "    <tr style=\"text-align: right;\">\n",
       "      <th></th>\n",
       "      <th>ticker</th>\n",
       "      <th>date</th>\n",
       "      <th>next_twelve_months_eps</th>\n",
       "      <th>next_date</th>\n",
       "      <th>date_gap</th>\n",
       "    </tr>\n",
       "  </thead>\n",
       "  <tbody>\n",
       "  </tbody>\n",
       "</table>\n",
       "</div>"
      ],
      "text/plain": [
       "Empty DataFrame\n",
       "Columns: [ticker, date, next_twelve_months_eps, next_date, date_gap]\n",
       "Index: []"
      ]
     },
     "execution_count": 9,
     "metadata": {},
     "output_type": "execute_result"
    }
   ],
   "source": [
    "# Quick check to see if there are any date gaps bigger than 7\n",
    "eps_test[(eps_test['date_gap'].notnull()) & (eps_test['date_gap'] != 7)].sort_values('date_gap', ascending=False).head()"
   ]
  },
  {
   "cell_type": "code",
   "execution_count": 10,
   "metadata": {},
   "outputs": [
    {
     "data": {
      "text/plain": [
       "74"
      ]
     },
     "execution_count": 10,
     "metadata": {},
     "output_type": "execute_result"
    }
   ],
   "source": [
    "# Check how many tickers don't have records at all\n",
    "len(set(eps.columns) - set(left_eps.columns))"
   ]
  },
  {
   "cell_type": "markdown",
   "metadata": {},
   "source": [
    "## REV Data"
   ]
  },
  {
   "cell_type": "markdown",
   "metadata": {},
   "source": [
    "### Read In REV Data"
   ]
  },
  {
   "cell_type": "code",
   "execution_count": 11,
   "metadata": {},
   "outputs": [],
   "source": [
    "rev1 = pd.read_csv('REV1.csv', parse_dates=['date']).sort_values(\"date\").reset_index(drop=True)\n",
    "rev2 = pd.read_csv('REV2.csv', parse_dates=['date']).sort_values(\"date\").reset_index(drop=True)\n",
    "rev3 = pd.read_csv('REV3.csv', parse_dates=['date']).sort_values(\"date\").reset_index(drop=True)\n",
    "rev4 = pd.read_csv('REV4.csv', parse_dates=['date']).sort_values(\"date\").reset_index(drop=True)\n",
    "rev5 = pd.read_csv('REV5.csv', parse_dates=['date']).sort_values(\"date\").reset_index(drop=True)\n",
    "rev6 = pd.read_csv('REV6.csv', parse_dates=['date']).sort_values(\"date\").reset_index(drop=True)\n",
    "rev7 = pd.read_csv('REV7.csv', parse_dates=['date']).sort_values(\"date\").reset_index(drop=True)"
   ]
  },
  {
   "cell_type": "markdown",
   "metadata": {},
   "source": [
    "### Merge All Data"
   ]
  },
  {
   "cell_type": "code",
   "execution_count": 12,
   "metadata": {},
   "outputs": [],
   "source": [
    "rev_dfs = [rev1, rev2, rev3, rev4, rev5, rev6, rev7]\n",
    "rev = rev1.merge(rev2, on=\"date\").merge(rev3, on=\"date\").merge(rev4, on=\"date\").merge(rev5, on=\"date\").merge(rev6, on=\"date\").merge(rev7, on=\"date\")\n",
    "rev = rev.sort_values(\"date\").reset_index(drop=True)"
   ]
  },
  {
   "cell_type": "code",
   "execution_count": 13,
   "metadata": {},
   "outputs": [
    {
     "data": {
      "text/plain": [
       "True"
      ]
     },
     "execution_count": 13,
     "metadata": {},
     "output_type": "execute_result"
    }
   ],
   "source": [
    "# Quick quality check to make sure no columns are dropped\n",
    "len(rev.columns) - 1 == sum([len(df.columns) - 1 for df in rev_dfs])"
   ]
  },
  {
   "cell_type": "code",
   "execution_count": 14,
   "metadata": {},
   "outputs": [
    {
     "data": {
      "text/plain": [
       "2545"
      ]
     },
     "execution_count": 14,
     "metadata": {},
     "output_type": "execute_result"
    }
   ],
   "source": [
    "len(rev.columns) - 1"
   ]
  },
  {
   "cell_type": "code",
   "execution_count": 15,
   "metadata": {},
   "outputs": [],
   "source": [
    "# Drop the data without any rev data\n",
    "left_rev = rev.copy()\n",
    "left_rev = left_rev.dropna(axis=1, how='all')"
   ]
  },
  {
   "cell_type": "markdown",
   "metadata": {},
   "source": [
    "### Unstack REV Data"
   ]
  },
  {
   "cell_type": "code",
   "execution_count": 16,
   "metadata": {},
   "outputs": [],
   "source": [
    "trans_rev = left_rev.set_index(\"date\").unstack().reset_index()\n",
    "trans_rev.rename(columns={\"level_0\": \"ticker\", 0: \"next_twelve_months_rev\"}, inplace=True)\n",
    "trans_rev = trans_rev.sort_values(['ticker', 'date']).reset_index(drop=True)"
   ]
  },
  {
   "cell_type": "markdown",
   "metadata": {},
   "source": [
    "### Check Data Quality"
   ]
  },
  {
   "cell_type": "code",
   "execution_count": 17,
   "metadata": {},
   "outputs": [],
   "source": [
    "# Check the date gap\n",
    "rev_test = trans_rev.copy()\n",
    "rev_test = rev_test.sort_values('date').reset_index(drop=True)\n",
    "rev_test['next_date'] = rev_test.groupby('ticker')['date'].shift(-1)\n",
    "rev_test['date_gap'] = rev_test.apply(lambda x:(x['next_date'] - x['date']).days, axis=1)"
   ]
  },
  {
   "cell_type": "code",
   "execution_count": 18,
   "metadata": {},
   "outputs": [
    {
     "data": {
      "text/html": [
       "<div>\n",
       "<style scoped>\n",
       "    .dataframe tbody tr th:only-of-type {\n",
       "        vertical-align: middle;\n",
       "    }\n",
       "\n",
       "    .dataframe tbody tr th {\n",
       "        vertical-align: top;\n",
       "    }\n",
       "\n",
       "    .dataframe thead th {\n",
       "        text-align: right;\n",
       "    }\n",
       "</style>\n",
       "<table border=\"1\" class=\"dataframe\">\n",
       "  <thead>\n",
       "    <tr style=\"text-align: right;\">\n",
       "      <th></th>\n",
       "      <th>ticker</th>\n",
       "      <th>date</th>\n",
       "      <th>next_twelve_months_rev</th>\n",
       "      <th>next_date</th>\n",
       "      <th>date_gap</th>\n",
       "    </tr>\n",
       "  </thead>\n",
       "  <tbody>\n",
       "  </tbody>\n",
       "</table>\n",
       "</div>"
      ],
      "text/plain": [
       "Empty DataFrame\n",
       "Columns: [ticker, date, next_twelve_months_rev, next_date, date_gap]\n",
       "Index: []"
      ]
     },
     "execution_count": 18,
     "metadata": {},
     "output_type": "execute_result"
    }
   ],
   "source": [
    "# Quick check to see if there are any date gaps bigger than 7\n",
    "rev_test[(rev_test['date_gap'].notnull()) & (rev_test['date_gap'] != 7)].sort_values('date_gap', ascending=False).head()"
   ]
  },
  {
   "cell_type": "code",
   "execution_count": 19,
   "metadata": {},
   "outputs": [
    {
     "data": {
      "text/plain": [
       "77"
      ]
     },
     "execution_count": 19,
     "metadata": {},
     "output_type": "execute_result"
    }
   ],
   "source": [
    "# Check how many tickers don't have records at all\n",
    "len(set(rev.columns) - set(left_rev.columns))"
   ]
  },
  {
   "cell_type": "markdown",
   "metadata": {},
   "source": [
    "## Market Cap Data \n",
    "- In the file `fwdREVdataWithMarketCap.xlsx` that the client provided later, there are **780** tickers.\n",
    "- Within all the 780 tickers, there are only **773** tickers also exisiting `daily_market_cap_2014_2019.csv` that the client provided ealier.\n",
    "- After quality check, we found that 7 tickers among 780 tickers contains all null values, which means these 7 tickers do not have any marketcap records at all\n",
    "- **So we will keep those 773 tickers for the future analysis** "
   ]
  },
  {
   "cell_type": "markdown",
   "metadata": {},
   "source": [
    "### Read In Data (2004 - 2014)"
   ]
  },
  {
   "cell_type": "code",
   "execution_count": 20,
   "metadata": {},
   "outputs": [],
   "source": [
    "mar1 = pd.read_csv('MAR1.csv', parse_dates=['date']).sort_values(\"date\").reset_index(drop=True)\n",
    "mar2 = pd.read_csv('MAR2.csv', parse_dates=['date']).sort_values(\"date\").reset_index(drop=True)\n",
    "mar3 = pd.read_csv('MAR3.csv', parse_dates=['date']).sort_values(\"date\").reset_index(drop=True)\n",
    "mar4 = pd.read_csv('MAR4.csv', parse_dates=['date']).sort_values(\"date\").reset_index(drop=True)"
   ]
  },
  {
   "cell_type": "markdown",
   "metadata": {},
   "source": [
    "### Merge All Data"
   ]
  },
  {
   "cell_type": "code",
   "execution_count": 21,
   "metadata": {},
   "outputs": [],
   "source": [
    "mar_dfs = [mar1, mar2, mar3, mar4]\n",
    "mar_2004 = mar1.merge(mar2, on=\"date\").merge(mar3, on=\"date\").merge(mar4, on=\"date\")\n",
    "mar_2004 = mar_2004.sort_values(\"date\").reset_index(drop=True)"
   ]
  },
  {
   "cell_type": "code",
   "execution_count": 22,
   "metadata": {},
   "outputs": [
    {
     "data": {
      "text/html": [
       "<div>\n",
       "<style scoped>\n",
       "    .dataframe tbody tr th:only-of-type {\n",
       "        vertical-align: middle;\n",
       "    }\n",
       "\n",
       "    .dataframe tbody tr th {\n",
       "        vertical-align: top;\n",
       "    }\n",
       "\n",
       "    .dataframe thead th {\n",
       "        text-align: right;\n",
       "    }\n",
       "</style>\n",
       "<table border=\"1\" class=\"dataframe\">\n",
       "  <thead>\n",
       "    <tr style=\"text-align: right;\">\n",
       "      <th></th>\n",
       "      <th>date</th>\n",
       "      <th>AAPL</th>\n",
       "      <th>GOOG</th>\n",
       "      <th>MSFT</th>\n",
       "      <th>AMZN</th>\n",
       "      <th>BRK/A</th>\n",
       "      <th>FB</th>\n",
       "      <th>BABA</th>\n",
       "      <th>JPM</th>\n",
       "      <th>JNJ</th>\n",
       "      <th>...</th>\n",
       "      <th>EXEL</th>\n",
       "      <th>DNKN</th>\n",
       "      <th>WWD</th>\n",
       "      <th>LPLA</th>\n",
       "      <th>NATI</th>\n",
       "      <th>INGR</th>\n",
       "      <th>WPX</th>\n",
       "      <th>FAF</th>\n",
       "      <th>PRAH</th>\n",
       "      <th>BOKF</th>\n",
       "    </tr>\n",
       "  </thead>\n",
       "  <tbody>\n",
       "    <tr>\n",
       "      <th>0</th>\n",
       "      <td>2004-05-07</td>\n",
       "      <td>10135.7281</td>\n",
       "      <td>10135.7281</td>\n",
       "      <td>10135.7281</td>\n",
       "      <td>10135.7281</td>\n",
       "      <td>10135.7281</td>\n",
       "      <td>10135.7281</td>\n",
       "      <td>10135.7281</td>\n",
       "      <td>75940.4142</td>\n",
       "      <td>164163.7474</td>\n",
       "      <td>...</td>\n",
       "      <td>NaN</td>\n",
       "      <td>NaN</td>\n",
       "      <td>NaN</td>\n",
       "      <td>NaN</td>\n",
       "      <td>NaN</td>\n",
       "      <td>NaN</td>\n",
       "      <td>NaN</td>\n",
       "      <td>NaN</td>\n",
       "      <td>NaN</td>\n",
       "      <td>NaN</td>\n",
       "    </tr>\n",
       "    <tr>\n",
       "      <th>1</th>\n",
       "      <td>2004-05-14</td>\n",
       "      <td>10283.9446</td>\n",
       "      <td>10283.9446</td>\n",
       "      <td>10283.9446</td>\n",
       "      <td>10283.9446</td>\n",
       "      <td>10283.9446</td>\n",
       "      <td>10283.9446</td>\n",
       "      <td>10283.9446</td>\n",
       "      <td>74259.4862</td>\n",
       "      <td>161848.2371</td>\n",
       "      <td>...</td>\n",
       "      <td>NaN</td>\n",
       "      <td>NaN</td>\n",
       "      <td>NaN</td>\n",
       "      <td>NaN</td>\n",
       "      <td>NaN</td>\n",
       "      <td>NaN</td>\n",
       "      <td>NaN</td>\n",
       "      <td>NaN</td>\n",
       "      <td>NaN</td>\n",
       "      <td>NaN</td>\n",
       "    </tr>\n",
       "    <tr>\n",
       "      <th>2</th>\n",
       "      <td>2004-05-21</td>\n",
       "      <td>10302.9467</td>\n",
       "      <td>10302.9467</td>\n",
       "      <td>10302.9467</td>\n",
       "      <td>10302.9467</td>\n",
       "      <td>10302.9467</td>\n",
       "      <td>10302.9467</td>\n",
       "      <td>10302.9467</td>\n",
       "      <td>75134.1072</td>\n",
       "      <td>163095.0503</td>\n",
       "      <td>...</td>\n",
       "      <td>NaN</td>\n",
       "      <td>NaN</td>\n",
       "      <td>NaN</td>\n",
       "      <td>NaN</td>\n",
       "      <td>NaN</td>\n",
       "      <td>NaN</td>\n",
       "      <td>NaN</td>\n",
       "      <td>NaN</td>\n",
       "      <td>NaN</td>\n",
       "      <td>NaN</td>\n",
       "    </tr>\n",
       "    <tr>\n",
       "      <th>3</th>\n",
       "      <td>2004-05-28</td>\n",
       "      <td>10663.9869</td>\n",
       "      <td>10663.9869</td>\n",
       "      <td>10663.9869</td>\n",
       "      <td>10663.9869</td>\n",
       "      <td>10663.9869</td>\n",
       "      <td>10663.9869</td>\n",
       "      <td>10663.9869</td>\n",
       "      <td>76716.7547</td>\n",
       "      <td>165380.8747</td>\n",
       "      <td>...</td>\n",
       "      <td>NaN</td>\n",
       "      <td>NaN</td>\n",
       "      <td>NaN</td>\n",
       "      <td>NaN</td>\n",
       "      <td>NaN</td>\n",
       "      <td>NaN</td>\n",
       "      <td>NaN</td>\n",
       "      <td>NaN</td>\n",
       "      <td>NaN</td>\n",
       "      <td>NaN</td>\n",
       "    </tr>\n",
       "    <tr>\n",
       "      <th>4</th>\n",
       "      <td>2004-06-04</td>\n",
       "      <td>10937.6173</td>\n",
       "      <td>10937.6173</td>\n",
       "      <td>10937.6173</td>\n",
       "      <td>10937.6173</td>\n",
       "      <td>10937.6173</td>\n",
       "      <td>10937.6173</td>\n",
       "      <td>10937.6173</td>\n",
       "      <td>77633.0243</td>\n",
       "      <td>167369.8387</td>\n",
       "      <td>...</td>\n",
       "      <td>NaN</td>\n",
       "      <td>NaN</td>\n",
       "      <td>NaN</td>\n",
       "      <td>NaN</td>\n",
       "      <td>NaN</td>\n",
       "      <td>NaN</td>\n",
       "      <td>NaN</td>\n",
       "      <td>NaN</td>\n",
       "      <td>NaN</td>\n",
       "      <td>NaN</td>\n",
       "    </tr>\n",
       "  </tbody>\n",
       "</table>\n",
       "<p>5 rows × 781 columns</p>\n",
       "</div>"
      ],
      "text/plain": [
       "        date        AAPL        GOOG        MSFT        AMZN       BRK/A  \\\n",
       "0 2004-05-07  10135.7281  10135.7281  10135.7281  10135.7281  10135.7281   \n",
       "1 2004-05-14  10283.9446  10283.9446  10283.9446  10283.9446  10283.9446   \n",
       "2 2004-05-21  10302.9467  10302.9467  10302.9467  10302.9467  10302.9467   \n",
       "3 2004-05-28  10663.9869  10663.9869  10663.9869  10663.9869  10663.9869   \n",
       "4 2004-06-04  10937.6173  10937.6173  10937.6173  10937.6173  10937.6173   \n",
       "\n",
       "           FB        BABA         JPM          JNJ  ...  EXEL  DNKN  WWD  \\\n",
       "0  10135.7281  10135.7281  75940.4142  164163.7474  ...   NaN   NaN  NaN   \n",
       "1  10283.9446  10283.9446  74259.4862  161848.2371  ...   NaN   NaN  NaN   \n",
       "2  10302.9467  10302.9467  75134.1072  163095.0503  ...   NaN   NaN  NaN   \n",
       "3  10663.9869  10663.9869  76716.7547  165380.8747  ...   NaN   NaN  NaN   \n",
       "4  10937.6173  10937.6173  77633.0243  167369.8387  ...   NaN   NaN  NaN   \n",
       "\n",
       "   LPLA  NATI  INGR  WPX  FAF  PRAH  BOKF  \n",
       "0   NaN   NaN   NaN  NaN  NaN   NaN   NaN  \n",
       "1   NaN   NaN   NaN  NaN  NaN   NaN   NaN  \n",
       "2   NaN   NaN   NaN  NaN  NaN   NaN   NaN  \n",
       "3   NaN   NaN   NaN  NaN  NaN   NaN   NaN  \n",
       "4   NaN   NaN   NaN  NaN  NaN   NaN   NaN  \n",
       "\n",
       "[5 rows x 781 columns]"
      ]
     },
     "execution_count": 22,
     "metadata": {},
     "output_type": "execute_result"
    }
   ],
   "source": [
    "mar_2004.head()"
   ]
  },
  {
   "cell_type": "code",
   "execution_count": 23,
   "metadata": {},
   "outputs": [
    {
     "data": {
      "text/plain": [
       "True"
      ]
     },
     "execution_count": 23,
     "metadata": {},
     "output_type": "execute_result"
    }
   ],
   "source": [
    "# Quick quality check to make sure no columns are dropped\n",
    "len(mar_2004.columns) - 1 == sum([len(df.columns) - 1 for df in mar_dfs])"
   ]
  },
  {
   "cell_type": "code",
   "execution_count": 24,
   "metadata": {},
   "outputs": [
    {
     "data": {
      "text/plain": [
       "780"
      ]
     },
     "execution_count": 24,
     "metadata": {},
     "output_type": "execute_result"
    }
   ],
   "source": [
    "# Check how many tickers are included in the mar_2004\n",
    "len(mar_2004.columns) - 1"
   ]
  },
  {
   "cell_type": "code",
   "execution_count": 24,
   "metadata": {},
   "outputs": [],
   "source": [
    "# Create a list of all the tickers have records in the mar_2004 File\n",
    "useful_tickers = mar_2004.columns[1:]"
   ]
  },
  {
   "cell_type": "code",
   "execution_count": 25,
   "metadata": {},
   "outputs": [],
   "source": [
    "# Drop the data without any mar data\n",
    "left_mar_2004 = mar_2004.copy()\n",
    "left_mar_2004 = mar_2004.dropna(axis=1, how='all')"
   ]
  },
  {
   "cell_type": "code",
   "execution_count": 27,
   "metadata": {},
   "outputs": [
    {
     "data": {
      "text/plain": [
       "195"
      ]
     },
     "execution_count": 27,
     "metadata": {},
     "output_type": "execute_result"
    }
   ],
   "source": [
    "# The number of the tickers don't have records at all periods\n",
    "len(mar_2004.columns) - len(left_mar_2004.columns)"
   ]
  },
  {
   "cell_type": "markdown",
   "metadata": {},
   "source": [
    "### Unstack MAR Data"
   ]
  },
  {
   "cell_type": "code",
   "execution_count": 28,
   "metadata": {},
   "outputs": [],
   "source": [
    "trans_mar = left_mar_2004.set_index(\"date\").unstack().reset_index()\n",
    "trans_mar.rename(columns={\"level_0\": \"ticker\", 0: \"marketcap\"}, inplace=True)\n",
    "trans_mar = trans_mar.sort_values([\"ticker\", \"date\"]).reset_index(drop=True)"
   ]
  },
  {
   "cell_type": "code",
   "execution_count": 29,
   "metadata": {},
   "outputs": [
    {
     "data": {
      "text/plain": [
       "{numpy.datetime64('2004-05-07T00:00:00.000000000'),\n",
       " numpy.datetime64('2004-06-10T00:00:00.000000000'),\n",
       " numpy.datetime64('2004-12-23T00:00:00.000000000'),\n",
       " numpy.datetime64('2005-03-24T00:00:00.000000000'),\n",
       " numpy.datetime64('2006-04-12T00:00:00.000000000'),\n",
       " numpy.datetime64('2007-04-05T00:00:00.000000000'),\n",
       " numpy.datetime64('2008-03-20T00:00:00.000000000'),\n",
       " numpy.datetime64('2008-07-03T00:00:00.000000000'),\n",
       " numpy.datetime64('2009-04-09T00:00:00.000000000'),\n",
       " numpy.datetime64('2009-07-02T00:00:00.000000000'),\n",
       " numpy.datetime64('2009-12-24T00:00:00.000000000'),\n",
       " numpy.datetime64('2009-12-31T00:00:00.000000000'),\n",
       " numpy.datetime64('2010-04-01T00:00:00.000000000'),\n",
       " numpy.datetime64('2010-12-23T00:00:00.000000000'),\n",
       " numpy.datetime64('2011-04-21T00:00:00.000000000'),\n",
       " numpy.datetime64('2012-04-05T00:00:00.000000000'),\n",
       " numpy.datetime64('2013-03-28T00:00:00.000000000'),\n",
       " numpy.datetime64('2014-04-17T00:00:00.000000000'),\n",
       " numpy.datetime64('2014-07-03T00:00:00.000000000'),\n",
       " numpy.datetime64('2015-04-02T00:00:00.000000000'),\n",
       " numpy.datetime64('2015-07-02T00:00:00.000000000'),\n",
       " numpy.datetime64('2015-12-24T00:00:00.000000000'),\n",
       " numpy.datetime64('2015-12-31T00:00:00.000000000'),\n",
       " numpy.datetime64('2016-03-24T00:00:00.000000000'),\n",
       " numpy.datetime64('2017-04-13T00:00:00.000000000'),\n",
       " numpy.datetime64('2018-03-29T00:00:00.000000000'),\n",
       " numpy.datetime64('2019-04-18T00:00:00.000000000')}"
      ]
     },
     "execution_count": 29,
     "metadata": {},
     "output_type": "execute_result"
    }
   ],
   "source": [
    "set(trans_mar.date.unique()) - set(left_rev.date.unique())"
   ]
  },
  {
   "cell_type": "code",
   "execution_count": 30,
   "metadata": {},
   "outputs": [
    {
     "data": {
      "text/plain": [
       "{numpy.datetime64('2004-06-11T00:00:00.000000000'),\n",
       " numpy.datetime64('2004-12-24T00:00:00.000000000'),\n",
       " numpy.datetime64('2005-03-25T00:00:00.000000000'),\n",
       " numpy.datetime64('2006-04-14T00:00:00.000000000'),\n",
       " numpy.datetime64('2007-04-06T00:00:00.000000000'),\n",
       " numpy.datetime64('2008-03-21T00:00:00.000000000'),\n",
       " numpy.datetime64('2008-07-04T00:00:00.000000000'),\n",
       " numpy.datetime64('2009-04-10T00:00:00.000000000'),\n",
       " numpy.datetime64('2009-07-03T00:00:00.000000000'),\n",
       " numpy.datetime64('2009-12-25T00:00:00.000000000'),\n",
       " numpy.datetime64('2010-01-01T00:00:00.000000000'),\n",
       " numpy.datetime64('2010-04-02T00:00:00.000000000'),\n",
       " numpy.datetime64('2010-12-24T00:00:00.000000000'),\n",
       " numpy.datetime64('2011-04-22T00:00:00.000000000'),\n",
       " numpy.datetime64('2012-04-06T00:00:00.000000000'),\n",
       " numpy.datetime64('2013-03-29T00:00:00.000000000'),\n",
       " numpy.datetime64('2014-04-18T00:00:00.000000000'),\n",
       " numpy.datetime64('2014-07-04T00:00:00.000000000'),\n",
       " numpy.datetime64('2015-04-03T00:00:00.000000000'),\n",
       " numpy.datetime64('2015-07-03T00:00:00.000000000'),\n",
       " numpy.datetime64('2015-12-25T00:00:00.000000000'),\n",
       " numpy.datetime64('2016-01-01T00:00:00.000000000'),\n",
       " numpy.datetime64('2016-03-25T00:00:00.000000000'),\n",
       " numpy.datetime64('2017-04-14T00:00:00.000000000'),\n",
       " numpy.datetime64('2018-03-30T00:00:00.000000000'),\n",
       " numpy.datetime64('2019-04-19T00:00:00.000000000')}"
      ]
     },
     "execution_count": 30,
     "metadata": {},
     "output_type": "execute_result"
    }
   ],
   "source": [
    "set(left_rev.date.unique()) - set(trans_mar.date.unique())"
   ]
  },
  {
   "cell_type": "markdown",
   "metadata": {},
   "source": [
    "### Check Data Quanlity"
   ]
  },
  {
   "cell_type": "code",
   "execution_count": 31,
   "metadata": {},
   "outputs": [],
   "source": [
    "# Check the date gap\n",
    "mar_test = trans_mar.copy()\n",
    "mar_test = mar_test.sort_values('date').reset_index(drop=True)\n",
    "mar_test['next_date'] = mar_test.groupby('ticker')['date'].shift(-1)\n",
    "mar_test['date_gap'] = mar_test.apply(lambda x:(x['next_date'] - x['date']).days, axis=1)"
   ]
  },
  {
   "cell_type": "code",
   "execution_count": 32,
   "metadata": {},
   "outputs": [
    {
     "data": {
      "text/html": [
       "<div>\n",
       "<style scoped>\n",
       "    .dataframe tbody tr th:only-of-type {\n",
       "        vertical-align: middle;\n",
       "    }\n",
       "\n",
       "    .dataframe tbody tr th {\n",
       "        vertical-align: top;\n",
       "    }\n",
       "\n",
       "    .dataframe thead th {\n",
       "        text-align: right;\n",
       "    }\n",
       "</style>\n",
       "<table border=\"1\" class=\"dataframe\">\n",
       "  <thead>\n",
       "    <tr style=\"text-align: right;\">\n",
       "      <th></th>\n",
       "      <th>ticker</th>\n",
       "      <th>date</th>\n",
       "      <th>marketcap</th>\n",
       "      <th>next_date</th>\n",
       "      <th>date_gap</th>\n",
       "    </tr>\n",
       "  </thead>\n",
       "  <tbody>\n",
       "    <tr>\n",
       "      <th>59085</th>\n",
       "      <td>LYB</td>\n",
       "      <td>2006-04-12</td>\n",
       "      <td>NaN</td>\n",
       "      <td>2006-04-21</td>\n",
       "      <td>9.0</td>\n",
       "    </tr>\n",
       "    <tr>\n",
       "      <th>59486</th>\n",
       "      <td>IPGP</td>\n",
       "      <td>2006-04-12</td>\n",
       "      <td>NaN</td>\n",
       "      <td>2006-04-21</td>\n",
       "      <td>9.0</td>\n",
       "    </tr>\n",
       "    <tr>\n",
       "      <th>59470</th>\n",
       "      <td>SWK</td>\n",
       "      <td>2006-04-12</td>\n",
       "      <td>4373.31</td>\n",
       "      <td>2006-04-21</td>\n",
       "      <td>9.0</td>\n",
       "    </tr>\n",
       "    <tr>\n",
       "      <th>59471</th>\n",
       "      <td>CHKP</td>\n",
       "      <td>2006-04-12</td>\n",
       "      <td>4500.19</td>\n",
       "      <td>2006-04-21</td>\n",
       "      <td>9.0</td>\n",
       "    </tr>\n",
       "    <tr>\n",
       "      <th>59472</th>\n",
       "      <td>CERN</td>\n",
       "      <td>2006-04-12</td>\n",
       "      <td>3503.04</td>\n",
       "      <td>2006-04-21</td>\n",
       "      <td>9.0</td>\n",
       "    </tr>\n",
       "  </tbody>\n",
       "</table>\n",
       "</div>"
      ],
      "text/plain": [
       "      ticker       date marketcap  next_date  date_gap\n",
       "59085    LYB 2006-04-12       NaN 2006-04-21       9.0\n",
       "59486   IPGP 2006-04-12       NaN 2006-04-21       9.0\n",
       "59470    SWK 2006-04-12   4373.31 2006-04-21       9.0\n",
       "59471   CHKP 2006-04-12   4500.19 2006-04-21       9.0\n",
       "59472   CERN 2006-04-12   3503.04 2006-04-21       9.0"
      ]
     },
     "execution_count": 32,
     "metadata": {},
     "output_type": "execute_result"
    }
   ],
   "source": [
    "# Quick check to see if there are any date gaps bigger than 7 (None)\n",
    "mar_test[(mar_test['date_gap'].notnull()) & (mar_test['date_gap'] != 7)].sort_values('date_gap', ascending=False).head()"
   ]
  },
  {
   "cell_type": "markdown",
   "metadata": {},
   "source": [
    "### Read In Data (2014 - present)"
   ]
  },
  {
   "cell_type": "code",
   "execution_count": 33,
   "metadata": {},
   "outputs": [
    {
     "data": {
      "text/html": [
       "<div>\n",
       "<style scoped>\n",
       "    .dataframe tbody tr th:only-of-type {\n",
       "        vertical-align: middle;\n",
       "    }\n",
       "\n",
       "    .dataframe tbody tr th {\n",
       "        vertical-align: top;\n",
       "    }\n",
       "\n",
       "    .dataframe thead th {\n",
       "        text-align: right;\n",
       "    }\n",
       "</style>\n",
       "<table border=\"1\" class=\"dataframe\">\n",
       "  <thead>\n",
       "    <tr style=\"text-align: right;\">\n",
       "      <th></th>\n",
       "      <th>ticker</th>\n",
       "      <th>date</th>\n",
       "      <th>marketcap</th>\n",
       "    </tr>\n",
       "  </thead>\n",
       "  <tbody>\n",
       "    <tr>\n",
       "      <th>0</th>\n",
       "      <td>A</td>\n",
       "      <td>2018-10-19</td>\n",
       "      <td>20551.1</td>\n",
       "    </tr>\n",
       "    <tr>\n",
       "      <th>1</th>\n",
       "      <td>AA</td>\n",
       "      <td>2018-10-19</td>\n",
       "      <td>7197.9</td>\n",
       "    </tr>\n",
       "    <tr>\n",
       "      <th>2</th>\n",
       "      <td>AAC</td>\n",
       "      <td>2018-10-19</td>\n",
       "      <td>170.2</td>\n",
       "    </tr>\n",
       "    <tr>\n",
       "      <th>3</th>\n",
       "      <td>AAL</td>\n",
       "      <td>2018-10-19</td>\n",
       "      <td>14754.7</td>\n",
       "    </tr>\n",
       "    <tr>\n",
       "      <th>4</th>\n",
       "      <td>AAMC</td>\n",
       "      <td>2018-10-19</td>\n",
       "      <td>79.1</td>\n",
       "    </tr>\n",
       "  </tbody>\n",
       "</table>\n",
       "</div>"
      ],
      "text/plain": [
       "  ticker       date  marketcap\n",
       "0      A 2018-10-19    20551.1\n",
       "1     AA 2018-10-19     7197.9\n",
       "2    AAC 2018-10-19      170.2\n",
       "3    AAL 2018-10-19    14754.7\n",
       "4   AAMC 2018-10-19       79.1"
      ]
     },
     "execution_count": 33,
     "metadata": {},
     "output_type": "execute_result"
    }
   ],
   "source": [
    "mar_2014 = pd.read_csv('daily_market_cap_2014_2019.csv', parse_dates=['date'])\n",
    "mar_2014 = mar_2014[['ticker', 'date', 'marketcap']]\n",
    "mar_2014.head()"
   ]
  },
  {
   "cell_type": "markdown",
   "metadata": {},
   "source": [
    "### Append the Mar_2004 File Mar_2014 File "
   ]
  },
  {
   "cell_type": "code",
   "execution_count": 34,
   "metadata": {},
   "outputs": [
    {
     "data": {
      "text/plain": [
       "773"
      ]
     },
     "execution_count": 34,
     "metadata": {},
     "output_type": "execute_result"
    }
   ],
   "source": [
    "mar = mar_2014.append(trans_mar, ignore_index=True)\n",
    "\n",
    "# Just remain the 780 tickers have in mar_2004\n",
    "useful_mar = mar[mar.ticker.isin(useful_tickers)]\n",
    "useful_mar.ticker.nunique()"
   ]
  },
  {
   "cell_type": "markdown",
   "metadata": {},
   "source": [
    "### Data Quality Check"
   ]
  },
  {
   "cell_type": "code",
   "execution_count": 35,
   "metadata": {},
   "outputs": [
    {
     "data": {
      "text/plain": [
       "{'DWDP', 'FQVLF', 'FWONK', 'HRS', 'NWS', 'SBNY', 'ZG'}"
      ]
     },
     "execution_count": 35,
     "metadata": {},
     "output_type": "execute_result"
    }
   ],
   "source": [
    "# Check what tickers are in the marketcap file from 2004 but not in the marketfile from 2014\n",
    "set(useful_tickers) - set(useful_mar.ticker.unique())"
   ]
  },
  {
   "cell_type": "code",
   "execution_count": 36,
   "metadata": {},
   "outputs": [
    {
     "data": {
      "text/html": [
       "<div>\n",
       "<style scoped>\n",
       "    .dataframe tbody tr th:only-of-type {\n",
       "        vertical-align: middle;\n",
       "    }\n",
       "\n",
       "    .dataframe tbody tr th {\n",
       "        vertical-align: top;\n",
       "    }\n",
       "\n",
       "    .dataframe thead th {\n",
       "        text-align: right;\n",
       "    }\n",
       "</style>\n",
       "<table border=\"1\" class=\"dataframe\">\n",
       "  <thead>\n",
       "    <tr style=\"text-align: right;\">\n",
       "      <th></th>\n",
       "      <th>ticker</th>\n",
       "      <th>date</th>\n",
       "      <th>marketcap</th>\n",
       "    </tr>\n",
       "  </thead>\n",
       "  <tbody>\n",
       "  </tbody>\n",
       "</table>\n",
       "</div>"
      ],
      "text/plain": [
       "Empty DataFrame\n",
       "Columns: [ticker, date, marketcap]\n",
       "Index: []"
      ]
     },
     "execution_count": 36,
     "metadata": {},
     "output_type": "execute_result"
    }
   ],
   "source": [
    "# Check if any of the ticker actually have records in the mar_2004 file (None)\n",
    "trans_mar[trans_mar.ticker == 'DWDP']"
   ]
  },
  {
   "cell_type": "code",
   "execution_count": 37,
   "metadata": {},
   "outputs": [
    {
     "data": {
      "text/html": [
       "<div>\n",
       "<style scoped>\n",
       "    .dataframe tbody tr th:only-of-type {\n",
       "        vertical-align: middle;\n",
       "    }\n",
       "\n",
       "    .dataframe tbody tr th {\n",
       "        vertical-align: top;\n",
       "    }\n",
       "\n",
       "    .dataframe thead th {\n",
       "        text-align: right;\n",
       "    }\n",
       "</style>\n",
       "<table border=\"1\" class=\"dataframe\">\n",
       "  <thead>\n",
       "    <tr style=\"text-align: right;\">\n",
       "      <th></th>\n",
       "      <th>ticker</th>\n",
       "      <th>date</th>\n",
       "      <th>marketcap</th>\n",
       "    </tr>\n",
       "  </thead>\n",
       "  <tbody>\n",
       "  </tbody>\n",
       "</table>\n",
       "</div>"
      ],
      "text/plain": [
       "Empty DataFrame\n",
       "Columns: [ticker, date, marketcap]\n",
       "Index: []"
      ]
     },
     "execution_count": 37,
     "metadata": {},
     "output_type": "execute_result"
    }
   ],
   "source": [
    "trans_mar[trans_mar.ticker == 'FQVLF']"
   ]
  },
  {
   "cell_type": "code",
   "execution_count": 38,
   "metadata": {},
   "outputs": [
    {
     "data": {
      "text/html": [
       "<div>\n",
       "<style scoped>\n",
       "    .dataframe tbody tr th:only-of-type {\n",
       "        vertical-align: middle;\n",
       "    }\n",
       "\n",
       "    .dataframe tbody tr th {\n",
       "        vertical-align: top;\n",
       "    }\n",
       "\n",
       "    .dataframe thead th {\n",
       "        text-align: right;\n",
       "    }\n",
       "</style>\n",
       "<table border=\"1\" class=\"dataframe\">\n",
       "  <thead>\n",
       "    <tr style=\"text-align: right;\">\n",
       "      <th></th>\n",
       "      <th>ticker</th>\n",
       "      <th>date</th>\n",
       "      <th>marketcap</th>\n",
       "    </tr>\n",
       "  </thead>\n",
       "  <tbody>\n",
       "  </tbody>\n",
       "</table>\n",
       "</div>"
      ],
      "text/plain": [
       "Empty DataFrame\n",
       "Columns: [ticker, date, marketcap]\n",
       "Index: []"
      ]
     },
     "execution_count": 38,
     "metadata": {},
     "output_type": "execute_result"
    }
   ],
   "source": [
    "trans_mar[trans_mar.ticker == 'FWONK']"
   ]
  },
  {
   "cell_type": "code",
   "execution_count": 39,
   "metadata": {},
   "outputs": [
    {
     "data": {
      "text/html": [
       "<div>\n",
       "<style scoped>\n",
       "    .dataframe tbody tr th:only-of-type {\n",
       "        vertical-align: middle;\n",
       "    }\n",
       "\n",
       "    .dataframe tbody tr th {\n",
       "        vertical-align: top;\n",
       "    }\n",
       "\n",
       "    .dataframe thead th {\n",
       "        text-align: right;\n",
       "    }\n",
       "</style>\n",
       "<table border=\"1\" class=\"dataframe\">\n",
       "  <thead>\n",
       "    <tr style=\"text-align: right;\">\n",
       "      <th></th>\n",
       "      <th>ticker</th>\n",
       "      <th>date</th>\n",
       "      <th>marketcap</th>\n",
       "    </tr>\n",
       "  </thead>\n",
       "  <tbody>\n",
       "  </tbody>\n",
       "</table>\n",
       "</div>"
      ],
      "text/plain": [
       "Empty DataFrame\n",
       "Columns: [ticker, date, marketcap]\n",
       "Index: []"
      ]
     },
     "execution_count": 39,
     "metadata": {},
     "output_type": "execute_result"
    }
   ],
   "source": [
    "trans_mar[trans_mar.ticker == 'HRS']"
   ]
  },
  {
   "cell_type": "code",
   "execution_count": 40,
   "metadata": {},
   "outputs": [
    {
     "data": {
      "text/html": [
       "<div>\n",
       "<style scoped>\n",
       "    .dataframe tbody tr th:only-of-type {\n",
       "        vertical-align: middle;\n",
       "    }\n",
       "\n",
       "    .dataframe tbody tr th {\n",
       "        vertical-align: top;\n",
       "    }\n",
       "\n",
       "    .dataframe thead th {\n",
       "        text-align: right;\n",
       "    }\n",
       "</style>\n",
       "<table border=\"1\" class=\"dataframe\">\n",
       "  <thead>\n",
       "    <tr style=\"text-align: right;\">\n",
       "      <th></th>\n",
       "      <th>ticker</th>\n",
       "      <th>date</th>\n",
       "      <th>marketcap</th>\n",
       "    </tr>\n",
       "  </thead>\n",
       "  <tbody>\n",
       "  </tbody>\n",
       "</table>\n",
       "</div>"
      ],
      "text/plain": [
       "Empty DataFrame\n",
       "Columns: [ticker, date, marketcap]\n",
       "Index: []"
      ]
     },
     "execution_count": 40,
     "metadata": {},
     "output_type": "execute_result"
    }
   ],
   "source": [
    "trans_mar[trans_mar.ticker == 'NWS']"
   ]
  },
  {
   "cell_type": "code",
   "execution_count": 41,
   "metadata": {},
   "outputs": [
    {
     "data": {
      "text/html": [
       "<div>\n",
       "<style scoped>\n",
       "    .dataframe tbody tr th:only-of-type {\n",
       "        vertical-align: middle;\n",
       "    }\n",
       "\n",
       "    .dataframe tbody tr th {\n",
       "        vertical-align: top;\n",
       "    }\n",
       "\n",
       "    .dataframe thead th {\n",
       "        text-align: right;\n",
       "    }\n",
       "</style>\n",
       "<table border=\"1\" class=\"dataframe\">\n",
       "  <thead>\n",
       "    <tr style=\"text-align: right;\">\n",
       "      <th></th>\n",
       "      <th>ticker</th>\n",
       "      <th>date</th>\n",
       "      <th>marketcap</th>\n",
       "    </tr>\n",
       "  </thead>\n",
       "  <tbody>\n",
       "  </tbody>\n",
       "</table>\n",
       "</div>"
      ],
      "text/plain": [
       "Empty DataFrame\n",
       "Columns: [ticker, date, marketcap]\n",
       "Index: []"
      ]
     },
     "execution_count": 41,
     "metadata": {},
     "output_type": "execute_result"
    }
   ],
   "source": [
    "trans_mar[trans_mar.ticker == 'SBNY']"
   ]
  },
  {
   "cell_type": "code",
   "execution_count": 42,
   "metadata": {},
   "outputs": [
    {
     "data": {
      "text/html": [
       "<div>\n",
       "<style scoped>\n",
       "    .dataframe tbody tr th:only-of-type {\n",
       "        vertical-align: middle;\n",
       "    }\n",
       "\n",
       "    .dataframe tbody tr th {\n",
       "        vertical-align: top;\n",
       "    }\n",
       "\n",
       "    .dataframe thead th {\n",
       "        text-align: right;\n",
       "    }\n",
       "</style>\n",
       "<table border=\"1\" class=\"dataframe\">\n",
       "  <thead>\n",
       "    <tr style=\"text-align: right;\">\n",
       "      <th></th>\n",
       "      <th>ticker</th>\n",
       "      <th>date</th>\n",
       "      <th>marketcap</th>\n",
       "    </tr>\n",
       "  </thead>\n",
       "  <tbody>\n",
       "  </tbody>\n",
       "</table>\n",
       "</div>"
      ],
      "text/plain": [
       "Empty DataFrame\n",
       "Columns: [ticker, date, marketcap]\n",
       "Index: []"
      ]
     },
     "execution_count": 42,
     "metadata": {},
     "output_type": "execute_result"
    }
   ],
   "source": [
    "trans_mar[trans_mar.ticker == 'ZG']"
   ]
  },
  {
   "cell_type": "code",
   "execution_count": 43,
   "metadata": {},
   "outputs": [
    {
     "data": {
      "text/plain": [
       "ticker            0\n",
       "date              0\n",
       "marketcap    164373\n",
       "dtype: int64"
      ]
     },
     "execution_count": 43,
     "metadata": {},
     "output_type": "execute_result"
    }
   ],
   "source": [
    "# Check the null value\n",
    "useful_mar.isnull().sum()"
   ]
  },
  {
   "cell_type": "code",
   "execution_count": 44,
   "metadata": {},
   "outputs": [],
   "source": [
    "# Drop the null values\n",
    "left_mar = useful_mar.dropna(subset=['marketcap'])"
   ]
  },
  {
   "cell_type": "code",
   "execution_count": 45,
   "metadata": {},
   "outputs": [
    {
     "data": {
      "text/plain": [
       "773"
      ]
     },
     "execution_count": 45,
     "metadata": {},
     "output_type": "execute_result"
    }
   ],
   "source": [
    "# Check after the drop if the ticker have any loss\n",
    "left_mar.ticker.nunique()"
   ]
  },
  {
   "cell_type": "code",
   "execution_count": 46,
   "metadata": {},
   "outputs": [
    {
     "data": {
      "text/plain": [
       "31876"
      ]
     },
     "execution_count": 46,
     "metadata": {},
     "output_type": "execute_result"
    }
   ],
   "source": [
    "# Check the duplicated records\n",
    "len(left_mar[left_mar.duplicated(subset=['ticker', 'date'], keep='first')])"
   ]
  },
  {
   "cell_type": "code",
   "execution_count": 47,
   "metadata": {},
   "outputs": [],
   "source": [
    "# Drop Duplicates\n",
    "\"\"\"\n",
    "For dulpicated marketcap values, we want to keep the marketcap value of the data from mar_2014\n",
    "After we picked some tickers and checked randomly, for the duplicated records, the first line is the records of mar_2014\n",
    "So we choose tp keep the first line of duplicates\n",
    "\"\"\"\n",
    "final_mar = left_mar.drop_duplicates(subset=['ticker', 'date'], keep='first')"
   ]
  },
  {
   "cell_type": "code",
   "execution_count": 48,
   "metadata": {},
   "outputs": [
    {
     "data": {
      "text/plain": [
       "31876"
      ]
     },
     "execution_count": 48,
     "metadata": {},
     "output_type": "execute_result"
    }
   ],
   "source": [
    "# Check if the drop is correct\n",
    "len(left_mar) - len(final_mar)"
   ]
  },
  {
   "cell_type": "code",
   "execution_count": 49,
   "metadata": {},
   "outputs": [],
   "source": [
    "# Create a list only includes the 773 tickers we would like to go on with\n",
    "left_tickers = list(final_mar.ticker.unique())"
   ]
  },
  {
   "cell_type": "markdown",
   "metadata": {},
   "source": [
    "## Read In Price Data"
   ]
  },
  {
   "cell_type": "code",
   "execution_count": 50,
   "metadata": {},
   "outputs": [
    {
     "data": {
      "text/html": [
       "<div>\n",
       "<style scoped>\n",
       "    .dataframe tbody tr th:only-of-type {\n",
       "        vertical-align: middle;\n",
       "    }\n",
       "\n",
       "    .dataframe tbody tr th {\n",
       "        vertical-align: top;\n",
       "    }\n",
       "\n",
       "    .dataframe thead th {\n",
       "        text-align: right;\n",
       "    }\n",
       "</style>\n",
       "<table border=\"1\" class=\"dataframe\">\n",
       "  <thead>\n",
       "    <tr style=\"text-align: right;\">\n",
       "      <th></th>\n",
       "      <th>ticker</th>\n",
       "      <th>date</th>\n",
       "      <th>adj_close</th>\n",
       "    </tr>\n",
       "  </thead>\n",
       "  <tbody>\n",
       "    <tr>\n",
       "      <th>0</th>\n",
       "      <td>A</td>\n",
       "      <td>2004-05-07</td>\n",
       "      <td>17.670214</td>\n",
       "    </tr>\n",
       "    <tr>\n",
       "      <th>1</th>\n",
       "      <td>AABA</td>\n",
       "      <td>2004-05-07</td>\n",
       "      <td>26.400000</td>\n",
       "    </tr>\n",
       "    <tr>\n",
       "      <th>2</th>\n",
       "      <td>AAME</td>\n",
       "      <td>2004-05-07</td>\n",
       "      <td>2.642746</td>\n",
       "    </tr>\n",
       "    <tr>\n",
       "      <th>3</th>\n",
       "      <td>AAN</td>\n",
       "      <td>2004-05-07</td>\n",
       "      <td>10.597434</td>\n",
       "    </tr>\n",
       "    <tr>\n",
       "      <th>4</th>\n",
       "      <td>AAON</td>\n",
       "      <td>2004-05-07</td>\n",
       "      <td>3.215521</td>\n",
       "    </tr>\n",
       "  </tbody>\n",
       "</table>\n",
       "</div>"
      ],
      "text/plain": [
       "  ticker       date  adj_close\n",
       "0      A 2004-05-07  17.670214\n",
       "1   AABA 2004-05-07  26.400000\n",
       "2   AAME 2004-05-07   2.642746\n",
       "3    AAN 2004-05-07  10.597434\n",
       "4   AAON 2004-05-07   3.215521"
      ]
     },
     "execution_count": 50,
     "metadata": {},
     "output_type": "execute_result"
    }
   ],
   "source": [
    "price = pd.read_csv('daily_price.csv', parse_dates=['date']).sort_values([\"date\", \"ticker\"]).reset_index(drop=True)\n",
    "price = price[['ticker', 'date', 'adj_close']]\n",
    "price.head()"
   ]
  },
  {
   "cell_type": "markdown",
   "metadata": {},
   "source": [
    "## Merge the REV Data and EPS Data"
   ]
  },
  {
   "cell_type": "code",
   "execution_count": 51,
   "metadata": {},
   "outputs": [
    {
     "data": {
      "text/html": [
       "<div>\n",
       "<style scoped>\n",
       "    .dataframe tbody tr th:only-of-type {\n",
       "        vertical-align: middle;\n",
       "    }\n",
       "\n",
       "    .dataframe tbody tr th {\n",
       "        vertical-align: top;\n",
       "    }\n",
       "\n",
       "    .dataframe thead th {\n",
       "        text-align: right;\n",
       "    }\n",
       "</style>\n",
       "<table border=\"1\" class=\"dataframe\">\n",
       "  <thead>\n",
       "    <tr style=\"text-align: right;\">\n",
       "      <th></th>\n",
       "      <th>ticker</th>\n",
       "      <th>date</th>\n",
       "      <th>next_twelve_months_rev</th>\n",
       "      <th>next_twelve_months_eps</th>\n",
       "    </tr>\n",
       "  </thead>\n",
       "  <tbody>\n",
       "    <tr>\n",
       "      <th>0</th>\n",
       "      <td>A</td>\n",
       "      <td>2004-05-14</td>\n",
       "      <td>7317.9</td>\n",
       "      <td>1.28</td>\n",
       "    </tr>\n",
       "    <tr>\n",
       "      <th>1</th>\n",
       "      <td>A</td>\n",
       "      <td>2004-05-21</td>\n",
       "      <td>7602.3</td>\n",
       "      <td>1.33</td>\n",
       "    </tr>\n",
       "    <tr>\n",
       "      <th>2</th>\n",
       "      <td>A</td>\n",
       "      <td>2004-05-28</td>\n",
       "      <td>7618.1</td>\n",
       "      <td>1.34</td>\n",
       "    </tr>\n",
       "    <tr>\n",
       "      <th>3</th>\n",
       "      <td>A</td>\n",
       "      <td>2004-06-04</td>\n",
       "      <td>7633.8</td>\n",
       "      <td>1.35</td>\n",
       "    </tr>\n",
       "    <tr>\n",
       "      <th>4</th>\n",
       "      <td>A</td>\n",
       "      <td>2004-06-11</td>\n",
       "      <td>7649.5</td>\n",
       "      <td>1.36</td>\n",
       "    </tr>\n",
       "  </tbody>\n",
       "</table>\n",
       "</div>"
      ],
      "text/plain": [
       "  ticker       date  next_twelve_months_rev next_twelve_months_eps\n",
       "0      A 2004-05-14                  7317.9                   1.28\n",
       "1      A 2004-05-21                  7602.3                   1.33\n",
       "2      A 2004-05-28                  7618.1                   1.34\n",
       "3      A 2004-06-04                  7633.8                   1.35\n",
       "4      A 2004-06-11                  7649.5                   1.36"
      ]
     },
     "execution_count": 51,
     "metadata": {},
     "output_type": "execute_result"
    }
   ],
   "source": [
    "eps_rev = trans_rev.merge(trans_eps, how='inner', on=['ticker', 'date'])\n",
    "eps_rev.head()"
   ]
  },
  {
   "cell_type": "code",
   "execution_count": 52,
   "metadata": {},
   "outputs": [
    {
     "data": {
      "text/plain": [
       "2465"
      ]
     },
     "execution_count": 52,
     "metadata": {},
     "output_type": "execute_result"
    }
   ],
   "source": [
    "\"\"\"\n",
    "Based on the client's request:\n",
    "drop all the null records (both revenue and eps) but remain the ticker\n",
    "\"\"\"\n",
    "useful_eps_rev = eps_rev.dropna(subset=['next_twelve_months_rev', 'next_twelve_months_eps'], how='any')\n",
    "\n",
    "# Check if there is ticker loss in the drop (none)\n",
    "useful_eps_rev.ticker.nunique()"
   ]
  },
  {
   "cell_type": "code",
   "execution_count": 53,
   "metadata": {},
   "outputs": [
    {
     "data": {
      "text/plain": [
       "ticker                    0\n",
       "date                      0\n",
       "next_twelve_months_rev    0\n",
       "next_twelve_months_eps    0\n",
       "dtype: int64"
      ]
     },
     "execution_count": 53,
     "metadata": {},
     "output_type": "execute_result"
    }
   ],
   "source": [
    "useful_eps_rev.isnull().sum()"
   ]
  },
  {
   "cell_type": "code",
   "execution_count": 54,
   "metadata": {},
   "outputs": [],
   "source": [
    "# Check the date gap\n",
    "eps_rev_test = useful_eps_rev.copy()\n",
    "eps_rev_test = eps_rev_test.sort_values('date').reset_index(drop=True)\n",
    "eps_rev_test['next_date'] = eps_rev_test.groupby('ticker')['date'].shift(-1)\n",
    "eps_rev_test['date_gap'] = eps_rev_test.apply(lambda x:(x['next_date'] - x['date']).days, axis=1)"
   ]
  },
  {
   "cell_type": "code",
   "execution_count": 55,
   "metadata": {},
   "outputs": [
    {
     "data": {
      "text/html": [
       "<div>\n",
       "<style scoped>\n",
       "    .dataframe tbody tr th:only-of-type {\n",
       "        vertical-align: middle;\n",
       "    }\n",
       "\n",
       "    .dataframe tbody tr th {\n",
       "        vertical-align: top;\n",
       "    }\n",
       "\n",
       "    .dataframe thead th {\n",
       "        text-align: right;\n",
       "    }\n",
       "</style>\n",
       "<table border=\"1\" class=\"dataframe\">\n",
       "  <thead>\n",
       "    <tr style=\"text-align: right;\">\n",
       "      <th></th>\n",
       "      <th>ticker</th>\n",
       "      <th>date</th>\n",
       "      <th>next_twelve_months_rev</th>\n",
       "      <th>next_twelve_months_eps</th>\n",
       "      <th>next_date</th>\n",
       "      <th>date_gap</th>\n",
       "    </tr>\n",
       "  </thead>\n",
       "  <tbody>\n",
       "  </tbody>\n",
       "</table>\n",
       "</div>"
      ],
      "text/plain": [
       "Empty DataFrame\n",
       "Columns: [ticker, date, next_twelve_months_rev, next_twelve_months_eps, next_date, date_gap]\n",
       "Index: []"
      ]
     },
     "execution_count": 55,
     "metadata": {},
     "output_type": "execute_result"
    }
   ],
   "source": [
    "eps_rev_test[(eps_rev_test['date_gap'].notnull()) & (eps_rev_test['date_gap'] != 7)].sort_values('date_gap', ascending=False).head()"
   ]
  },
  {
   "cell_type": "markdown",
   "metadata": {},
   "source": [
    "### Only remain the EPS and REV records of the 773 tickers"
   ]
  },
  {
   "cell_type": "code",
   "execution_count": 56,
   "metadata": {},
   "outputs": [],
   "source": [
    "# Only remain the eps and rev records in the left_tickers\n",
    "left_eps_rev = useful_eps_rev[useful_eps_rev.ticker.isin(left_tickers)]"
   ]
  },
  {
   "cell_type": "code",
   "execution_count": 57,
   "metadata": {},
   "outputs": [
    {
     "data": {
      "text/plain": [
       "751"
      ]
     },
     "execution_count": 57,
     "metadata": {},
     "output_type": "execute_result"
    }
   ],
   "source": [
    "left_eps_rev.ticker.nunique()"
   ]
  },
  {
   "cell_type": "code",
   "execution_count": 58,
   "metadata": {},
   "outputs": [
    {
     "name": "stdout",
     "output_type": "stream",
     "text": [
      "['BRK/A', 'CMCSA', 'CBOE', 'DISCA', 'ULTI', 'LBRDK', 'APTV', 'FWONA', 'WPP LN', 'LEN/B', 'NWSA', 'VIA', 'Unnamed: 87', 'LBTYK', 'LBRDA', 'IBKR', 'CBS/A', 'RYAAY', 'Unnamed: 65', 'UA', 'TRIP', 'LBTYA']\n"
     ]
    }
   ],
   "source": [
    "# The following tickers do not have any records of the eps_rev information (so we just drop them)\n",
    "print(list(set(left_tickers) - set(left_eps_rev.ticker.unique())))"
   ]
  },
  {
   "cell_type": "markdown",
   "metadata": {},
   "source": [
    "## Merge the EPS, REV Data with the MAR Data"
   ]
  },
  {
   "cell_type": "code",
   "execution_count": 81,
   "metadata": {},
   "outputs": [],
   "source": [
    "with_mar = left_eps_rev.merge(final_mar, how='left', on=['ticker', 'date'])"
   ]
  },
  {
   "cell_type": "code",
   "execution_count": 82,
   "metadata": {},
   "outputs": [
    {
     "data": {
      "text/plain": [
       "True"
      ]
     },
     "execution_count": 82,
     "metadata": {},
     "output_type": "execute_result"
    }
   ],
   "source": [
    "# Check if the merge is correct\n",
    "len(with_mar) == len(left_eps_rev)"
   ]
  },
  {
   "cell_type": "markdown",
   "metadata": {},
   "source": [
    "## Merge the EPS, REV, MAR Data with Price Data"
   ]
  },
  {
   "cell_type": "code",
   "execution_count": 83,
   "metadata": {},
   "outputs": [],
   "source": [
    "all_data = with_mar.merge(price, how='left', on=['ticker', 'date'])"
   ]
  },
  {
   "cell_type": "code",
   "execution_count": 84,
   "metadata": {},
   "outputs": [
    {
     "data": {
      "text/plain": [
       "True"
      ]
     },
     "execution_count": 84,
     "metadata": {},
     "output_type": "execute_result"
    }
   ],
   "source": [
    "# Check if the merge is correct\n",
    "len(with_mar) == len(all_data)"
   ]
  },
  {
   "cell_type": "code",
   "execution_count": 85,
   "metadata": {},
   "outputs": [
    {
     "data": {
      "text/html": [
       "<div>\n",
       "<style scoped>\n",
       "    .dataframe tbody tr th:only-of-type {\n",
       "        vertical-align: middle;\n",
       "    }\n",
       "\n",
       "    .dataframe tbody tr th {\n",
       "        vertical-align: top;\n",
       "    }\n",
       "\n",
       "    .dataframe thead th {\n",
       "        text-align: right;\n",
       "    }\n",
       "</style>\n",
       "<table border=\"1\" class=\"dataframe\">\n",
       "  <thead>\n",
       "    <tr style=\"text-align: right;\">\n",
       "      <th></th>\n",
       "      <th>ticker</th>\n",
       "      <th>date</th>\n",
       "      <th>next_twelve_months_rev</th>\n",
       "      <th>next_twelve_months_eps</th>\n",
       "      <th>marketcap</th>\n",
       "      <th>adj_close</th>\n",
       "    </tr>\n",
       "  </thead>\n",
       "  <tbody>\n",
       "    <tr>\n",
       "      <th>0</th>\n",
       "      <td>A</td>\n",
       "      <td>2004-05-14</td>\n",
       "      <td>7317.9</td>\n",
       "      <td>1.28</td>\n",
       "      <td>12302.5</td>\n",
       "      <td>17.186650</td>\n",
       "    </tr>\n",
       "    <tr>\n",
       "      <th>1</th>\n",
       "      <td>A</td>\n",
       "      <td>2004-05-21</td>\n",
       "      <td>7602.3</td>\n",
       "      <td>1.33</td>\n",
       "      <td>11726.8</td>\n",
       "      <td>16.373995</td>\n",
       "    </tr>\n",
       "    <tr>\n",
       "      <th>2</th>\n",
       "      <td>A</td>\n",
       "      <td>2004-05-28</td>\n",
       "      <td>7618.1</td>\n",
       "      <td>1.34</td>\n",
       "      <td>12361.7</td>\n",
       "      <td>17.260528</td>\n",
       "    </tr>\n",
       "    <tr>\n",
       "      <th>3</th>\n",
       "      <td>A</td>\n",
       "      <td>2004-06-04</td>\n",
       "      <td>7633.8</td>\n",
       "      <td>1.35</td>\n",
       "      <td>12142.2</td>\n",
       "      <td>16.938152</td>\n",
       "    </tr>\n",
       "    <tr>\n",
       "      <th>4</th>\n",
       "      <td>A</td>\n",
       "      <td>2004-06-11</td>\n",
       "      <td>7649.5</td>\n",
       "      <td>1.36</td>\n",
       "      <td>12662.2</td>\n",
       "      <td>NaN</td>\n",
       "    </tr>\n",
       "  </tbody>\n",
       "</table>\n",
       "</div>"
      ],
      "text/plain": [
       "  ticker       date  next_twelve_months_rev next_twelve_months_eps marketcap  \\\n",
       "0      A 2004-05-14                  7317.9                   1.28   12302.5   \n",
       "1      A 2004-05-21                  7602.3                   1.33   11726.8   \n",
       "2      A 2004-05-28                  7618.1                   1.34   12361.7   \n",
       "3      A 2004-06-04                  7633.8                   1.35   12142.2   \n",
       "4      A 2004-06-11                  7649.5                   1.36   12662.2   \n",
       "\n",
       "   adj_close  \n",
       "0  17.186650  \n",
       "1  16.373995  \n",
       "2  17.260528  \n",
       "3  16.938152  \n",
       "4        NaN  "
      ]
     },
     "execution_count": 85,
     "metadata": {},
     "output_type": "execute_result"
    }
   ],
   "source": [
    "all_data.head()"
   ]
  },
  {
   "cell_type": "code",
   "execution_count": 86,
   "metadata": {},
   "outputs": [
    {
     "data": {
      "text/plain": [
       "751"
      ]
     },
     "execution_count": 86,
     "metadata": {},
     "output_type": "execute_result"
    }
   ],
   "source": [
    "# All ticker have missing adj_close values\n",
    "all_data[all_data.adj_close.isnull()].ticker.nunique()"
   ]
  },
  {
   "cell_type": "code",
   "execution_count": 111,
   "metadata": {},
   "outputs": [],
   "source": [
    "all_data.to_csv(\"all_data.csv\", index=False)"
   ]
  },
  {
   "cell_type": "code",
   "execution_count": null,
   "metadata": {},
   "outputs": [],
   "source": []
  }
 ],
 "metadata": {
  "kernelspec": {
   "display_name": "Python 3",
   "language": "python",
   "name": "python3"
  },
  "language_info": {
   "codemirror_mode": {
    "name": "ipython",
    "version": 3
   },
   "file_extension": ".py",
   "mimetype": "text/x-python",
   "name": "python",
   "nbconvert_exporter": "python",
   "pygments_lexer": "ipython3",
   "version": "3.7.1"
  }
 },
 "nbformat": 4,
 "nbformat_minor": 4
}
