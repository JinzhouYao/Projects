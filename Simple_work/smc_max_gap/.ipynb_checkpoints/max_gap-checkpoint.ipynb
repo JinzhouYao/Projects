{
 "cells": [
  {
   "cell_type": "markdown",
   "metadata": {},
   "source": [
    "## Import"
   ]
  },
  {
   "cell_type": "code",
   "execution_count": 1,
   "metadata": {},
   "outputs": [],
   "source": [
    "import pandas as pd"
   ]
  },
  {
   "cell_type": "markdown",
   "metadata": {},
   "source": [
    "## smc_daliy_price data max date_gap\n",
    "### Read the smc daily price data"
   ]
  },
  {
   "cell_type": "code",
   "execution_count": 2,
   "metadata": {},
   "outputs": [
    {
     "data": {
      "text/html": [
       "<div>\n",
       "<style scoped>\n",
       "    .dataframe tbody tr th:only-of-type {\n",
       "        vertical-align: middle;\n",
       "    }\n",
       "\n",
       "    .dataframe tbody tr th {\n",
       "        vertical-align: top;\n",
       "    }\n",
       "\n",
       "    .dataframe thead th {\n",
       "        text-align: right;\n",
       "    }\n",
       "</style>\n",
       "<table border=\"1\" class=\"dataframe\">\n",
       "  <thead>\n",
       "    <tr style=\"text-align: right;\">\n",
       "      <th></th>\n",
       "      <th>bloomberg_ticker</th>\n",
       "      <th>nse_ticker</th>\n",
       "      <th>entity_share_class_figi</th>\n",
       "      <th>date</th>\n",
       "      <th>adj_open</th>\n",
       "      <th>adj_high</th>\n",
       "      <th>adj_low</th>\n",
       "      <th>adj_close</th>\n",
       "      <th>adj_volume</th>\n",
       "      <th>value</th>\n",
       "      <th>adj_oi</th>\n",
       "    </tr>\n",
       "  </thead>\n",
       "  <tbody>\n",
       "    <tr>\n",
       "      <th>0</th>\n",
       "      <td>NaN</td>\n",
       "      <td>3IINFOTECH</td>\n",
       "      <td>NaN</td>\n",
       "      <td>2009-01-01</td>\n",
       "      <td>39.35</td>\n",
       "      <td>41.40</td>\n",
       "      <td>38.75</td>\n",
       "      <td>40.60</td>\n",
       "      <td>299.0</td>\n",
       "      <td>324.86</td>\n",
       "      <td>2373300.0</td>\n",
       "    </tr>\n",
       "    <tr>\n",
       "      <th>1</th>\n",
       "      <td>NaN</td>\n",
       "      <td>3IINFOTECH</td>\n",
       "      <td>NaN</td>\n",
       "      <td>2009-01-02</td>\n",
       "      <td>40.90</td>\n",
       "      <td>43.60</td>\n",
       "      <td>40.70</td>\n",
       "      <td>41.40</td>\n",
       "      <td>435.0</td>\n",
       "      <td>495.12</td>\n",
       "      <td>2567700.0</td>\n",
       "    </tr>\n",
       "    <tr>\n",
       "      <th>2</th>\n",
       "      <td>NaN</td>\n",
       "      <td>3IINFOTECH</td>\n",
       "      <td>NaN</td>\n",
       "      <td>2009-01-05</td>\n",
       "      <td>42.00</td>\n",
       "      <td>42.20</td>\n",
       "      <td>40.15</td>\n",
       "      <td>40.55</td>\n",
       "      <td>322.0</td>\n",
       "      <td>356.59</td>\n",
       "      <td>2578500.0</td>\n",
       "    </tr>\n",
       "    <tr>\n",
       "      <th>3</th>\n",
       "      <td>NaN</td>\n",
       "      <td>3IINFOTECH</td>\n",
       "      <td>NaN</td>\n",
       "      <td>2009-01-06</td>\n",
       "      <td>40.20</td>\n",
       "      <td>42.70</td>\n",
       "      <td>40.00</td>\n",
       "      <td>40.90</td>\n",
       "      <td>247.0</td>\n",
       "      <td>276.09</td>\n",
       "      <td>2675700.0</td>\n",
       "    </tr>\n",
       "    <tr>\n",
       "      <th>4</th>\n",
       "      <td>NaN</td>\n",
       "      <td>3IINFOTECH</td>\n",
       "      <td>NaN</td>\n",
       "      <td>2009-01-07</td>\n",
       "      <td>41.90</td>\n",
       "      <td>43.25</td>\n",
       "      <td>35.25</td>\n",
       "      <td>36.65</td>\n",
       "      <td>687.0</td>\n",
       "      <td>727.72</td>\n",
       "      <td>2459700.0</td>\n",
       "    </tr>\n",
       "  </tbody>\n",
       "</table>\n",
       "</div>"
      ],
      "text/plain": [
       "  bloomberg_ticker  nse_ticker entity_share_class_figi       date  adj_open  \\\n",
       "0              NaN  3IINFOTECH                     NaN 2009-01-01     39.35   \n",
       "1              NaN  3IINFOTECH                     NaN 2009-01-02     40.90   \n",
       "2              NaN  3IINFOTECH                     NaN 2009-01-05     42.00   \n",
       "3              NaN  3IINFOTECH                     NaN 2009-01-06     40.20   \n",
       "4              NaN  3IINFOTECH                     NaN 2009-01-07     41.90   \n",
       "\n",
       "   adj_high  adj_low  adj_close  adj_volume   value     adj_oi  \n",
       "0     41.40    38.75      40.60       299.0  324.86  2373300.0  \n",
       "1     43.60    40.70      41.40       435.0  495.12  2567700.0  \n",
       "2     42.20    40.15      40.55       322.0  356.59  2578500.0  \n",
       "3     42.70    40.00      40.90       247.0  276.09  2675700.0  \n",
       "4     43.25    35.25      36.65       687.0  727.72  2459700.0  "
      ]
     },
     "execution_count": 2,
     "metadata": {},
     "output_type": "execute_result"
    }
   ],
   "source": [
    "adj_price = pd.read_csv('adj_smc_daily_price_no_0.csv', parse_dates=['date'])\n",
    "adj_price.head()"
   ]
  },
  {
   "cell_type": "markdown",
   "metadata": {},
   "source": [
    "### Shift the date and calculate the date gap"
   ]
  },
  {
   "cell_type": "code",
   "execution_count": 3,
   "metadata": {},
   "outputs": [],
   "source": [
    "adj_price = adj_price.sort_values(['nse_ticker', 'date'])\n",
    "adj_price['next_date'] = adj_price.groupby('nse_ticker').date.shift(-1)\n",
    "adj_price['date_gap'] = adj_price['next_date'] - adj_price['date']\n",
    "adj_price['date_gap'] = adj_price['date_gap'].apply(lambda x: x.days)"
   ]
  },
  {
   "cell_type": "code",
   "execution_count": 4,
   "metadata": {},
   "outputs": [
    {
     "data": {
      "text/html": [
       "<div>\n",
       "<style scoped>\n",
       "    .dataframe tbody tr th:only-of-type {\n",
       "        vertical-align: middle;\n",
       "    }\n",
       "\n",
       "    .dataframe tbody tr th {\n",
       "        vertical-align: top;\n",
       "    }\n",
       "\n",
       "    .dataframe thead th {\n",
       "        text-align: right;\n",
       "    }\n",
       "</style>\n",
       "<table border=\"1\" class=\"dataframe\">\n",
       "  <thead>\n",
       "    <tr style=\"text-align: right;\">\n",
       "      <th></th>\n",
       "      <th>bloomberg_ticker</th>\n",
       "      <th>nse_ticker</th>\n",
       "      <th>entity_share_class_figi</th>\n",
       "      <th>date</th>\n",
       "      <th>adj_open</th>\n",
       "      <th>adj_high</th>\n",
       "      <th>adj_low</th>\n",
       "      <th>adj_close</th>\n",
       "      <th>adj_volume</th>\n",
       "      <th>value</th>\n",
       "      <th>adj_oi</th>\n",
       "      <th>next_date</th>\n",
       "      <th>date_gap</th>\n",
       "    </tr>\n",
       "  </thead>\n",
       "  <tbody>\n",
       "    <tr>\n",
       "      <th>0</th>\n",
       "      <td>NaN</td>\n",
       "      <td>3IINFOTECH</td>\n",
       "      <td>NaN</td>\n",
       "      <td>2009-01-01</td>\n",
       "      <td>39.35</td>\n",
       "      <td>41.40</td>\n",
       "      <td>38.75</td>\n",
       "      <td>40.60</td>\n",
       "      <td>299.0</td>\n",
       "      <td>324.86</td>\n",
       "      <td>2373300.0</td>\n",
       "      <td>2009-01-02</td>\n",
       "      <td>1.0</td>\n",
       "    </tr>\n",
       "    <tr>\n",
       "      <th>1</th>\n",
       "      <td>NaN</td>\n",
       "      <td>3IINFOTECH</td>\n",
       "      <td>NaN</td>\n",
       "      <td>2009-01-02</td>\n",
       "      <td>40.90</td>\n",
       "      <td>43.60</td>\n",
       "      <td>40.70</td>\n",
       "      <td>41.40</td>\n",
       "      <td>435.0</td>\n",
       "      <td>495.12</td>\n",
       "      <td>2567700.0</td>\n",
       "      <td>2009-01-05</td>\n",
       "      <td>3.0</td>\n",
       "    </tr>\n",
       "    <tr>\n",
       "      <th>2</th>\n",
       "      <td>NaN</td>\n",
       "      <td>3IINFOTECH</td>\n",
       "      <td>NaN</td>\n",
       "      <td>2009-01-05</td>\n",
       "      <td>42.00</td>\n",
       "      <td>42.20</td>\n",
       "      <td>40.15</td>\n",
       "      <td>40.55</td>\n",
       "      <td>322.0</td>\n",
       "      <td>356.59</td>\n",
       "      <td>2578500.0</td>\n",
       "      <td>2009-01-06</td>\n",
       "      <td>1.0</td>\n",
       "    </tr>\n",
       "    <tr>\n",
       "      <th>3</th>\n",
       "      <td>NaN</td>\n",
       "      <td>3IINFOTECH</td>\n",
       "      <td>NaN</td>\n",
       "      <td>2009-01-06</td>\n",
       "      <td>40.20</td>\n",
       "      <td>42.70</td>\n",
       "      <td>40.00</td>\n",
       "      <td>40.90</td>\n",
       "      <td>247.0</td>\n",
       "      <td>276.09</td>\n",
       "      <td>2675700.0</td>\n",
       "      <td>2009-01-07</td>\n",
       "      <td>1.0</td>\n",
       "    </tr>\n",
       "    <tr>\n",
       "      <th>4</th>\n",
       "      <td>NaN</td>\n",
       "      <td>3IINFOTECH</td>\n",
       "      <td>NaN</td>\n",
       "      <td>2009-01-07</td>\n",
       "      <td>41.90</td>\n",
       "      <td>43.25</td>\n",
       "      <td>35.25</td>\n",
       "      <td>36.65</td>\n",
       "      <td>687.0</td>\n",
       "      <td>727.72</td>\n",
       "      <td>2459700.0</td>\n",
       "      <td>2009-01-09</td>\n",
       "      <td>2.0</td>\n",
       "    </tr>\n",
       "  </tbody>\n",
       "</table>\n",
       "</div>"
      ],
      "text/plain": [
       "  bloomberg_ticker  nse_ticker entity_share_class_figi       date  adj_open  \\\n",
       "0              NaN  3IINFOTECH                     NaN 2009-01-01     39.35   \n",
       "1              NaN  3IINFOTECH                     NaN 2009-01-02     40.90   \n",
       "2              NaN  3IINFOTECH                     NaN 2009-01-05     42.00   \n",
       "3              NaN  3IINFOTECH                     NaN 2009-01-06     40.20   \n",
       "4              NaN  3IINFOTECH                     NaN 2009-01-07     41.90   \n",
       "\n",
       "   adj_high  adj_low  adj_close  adj_volume   value     adj_oi  next_date  \\\n",
       "0     41.40    38.75      40.60       299.0  324.86  2373300.0 2009-01-02   \n",
       "1     43.60    40.70      41.40       435.0  495.12  2567700.0 2009-01-05   \n",
       "2     42.20    40.15      40.55       322.0  356.59  2578500.0 2009-01-06   \n",
       "3     42.70    40.00      40.90       247.0  276.09  2675700.0 2009-01-07   \n",
       "4     43.25    35.25      36.65       687.0  727.72  2459700.0 2009-01-09   \n",
       "\n",
       "   date_gap  \n",
       "0       1.0  \n",
       "1       3.0  \n",
       "2       1.0  \n",
       "3       1.0  \n",
       "4       2.0  "
      ]
     },
     "execution_count": 4,
     "metadata": {},
     "output_type": "execute_result"
    }
   ],
   "source": [
    "adj_price.head()"
   ]
  },
  {
   "cell_type": "code",
   "execution_count": 5,
   "metadata": {},
   "outputs": [
    {
     "data": {
      "text/html": [
       "<div>\n",
       "<style scoped>\n",
       "    .dataframe tbody tr th:only-of-type {\n",
       "        vertical-align: middle;\n",
       "    }\n",
       "\n",
       "    .dataframe tbody tr th {\n",
       "        vertical-align: top;\n",
       "    }\n",
       "\n",
       "    .dataframe thead th {\n",
       "        text-align: right;\n",
       "    }\n",
       "</style>\n",
       "<table border=\"1\" class=\"dataframe\">\n",
       "  <thead>\n",
       "    <tr style=\"text-align: right;\">\n",
       "      <th></th>\n",
       "      <th>nse_ticker</th>\n",
       "      <th>date_gap</th>\n",
       "    </tr>\n",
       "  </thead>\n",
       "  <tbody>\n",
       "    <tr>\n",
       "      <th>368</th>\n",
       "      <td>TORNTPOWER</td>\n",
       "      <td>2654.0</td>\n",
       "    </tr>\n",
       "    <tr>\n",
       "      <th>272</th>\n",
       "      <td>NIITTECH</td>\n",
       "      <td>2654.0</td>\n",
       "    </tr>\n",
       "    <tr>\n",
       "      <th>342</th>\n",
       "      <td>SRF</td>\n",
       "      <td>2164.0</td>\n",
       "    </tr>\n",
       "    <tr>\n",
       "      <th>77</th>\n",
       "      <td>CHENNPETRO</td>\n",
       "      <td>2164.0</td>\n",
       "    </tr>\n",
       "    <tr>\n",
       "      <th>396</th>\n",
       "      <td>WOCKPHARMA</td>\n",
       "      <td>1982.0</td>\n",
       "    </tr>\n",
       "  </tbody>\n",
       "</table>\n",
       "</div>"
      ],
      "text/plain": [
       "     nse_ticker  date_gap\n",
       "368  TORNTPOWER    2654.0\n",
       "272    NIITTECH    2654.0\n",
       "342         SRF    2164.0\n",
       "77   CHENNPETRO    2164.0\n",
       "396  WOCKPHARMA    1982.0"
      ]
     },
     "execution_count": 5,
     "metadata": {},
     "output_type": "execute_result"
    }
   ],
   "source": [
    "# check if any problematic ticker (date_gap is too big) exists \n",
    "adj_price.groupby(['nse_ticker'])['date_gap'].max().reset_index().sort_values(\"date_gap\", ascending=False).head()"
   ]
  },
  {
   "cell_type": "code",
   "execution_count": 6,
   "metadata": {},
   "outputs": [
    {
     "data": {
      "text/html": [
       "<div>\n",
       "<style scoped>\n",
       "    .dataframe tbody tr th:only-of-type {\n",
       "        vertical-align: middle;\n",
       "    }\n",
       "\n",
       "    .dataframe tbody tr th {\n",
       "        vertical-align: top;\n",
       "    }\n",
       "\n",
       "    .dataframe thead th {\n",
       "        text-align: right;\n",
       "    }\n",
       "</style>\n",
       "<table border=\"1\" class=\"dataframe\">\n",
       "  <thead>\n",
       "    <tr style=\"text-align: right;\">\n",
       "      <th></th>\n",
       "      <th>nse_ticker</th>\n",
       "      <th>date_gap</th>\n",
       "    </tr>\n",
       "  </thead>\n",
       "  <tbody>\n",
       "    <tr>\n",
       "      <th>0</th>\n",
       "      <td>TORNTPOWER</td>\n",
       "      <td>2654.0</td>\n",
       "    </tr>\n",
       "    <tr>\n",
       "      <th>1</th>\n",
       "      <td>NIITTECH</td>\n",
       "      <td>2654.0</td>\n",
       "    </tr>\n",
       "    <tr>\n",
       "      <th>2</th>\n",
       "      <td>SRF</td>\n",
       "      <td>2164.0</td>\n",
       "    </tr>\n",
       "    <tr>\n",
       "      <th>3</th>\n",
       "      <td>CHENNPETRO</td>\n",
       "      <td>2164.0</td>\n",
       "    </tr>\n",
       "    <tr>\n",
       "      <th>4</th>\n",
       "      <td>WOCKPHARMA</td>\n",
       "      <td>1982.0</td>\n",
       "    </tr>\n",
       "  </tbody>\n",
       "</table>\n",
       "</div>"
      ],
      "text/plain": [
       "   nse_ticker  date_gap\n",
       "0  TORNTPOWER    2654.0\n",
       "1    NIITTECH    2654.0\n",
       "2         SRF    2164.0\n",
       "3  CHENNPETRO    2164.0\n",
       "4  WOCKPHARMA    1982.0"
      ]
     },
     "execution_count": 6,
     "metadata": {},
     "output_type": "execute_result"
    }
   ],
   "source": [
    "max_gap = pd.pivot_table(adj_price, values='date_gap', index='nse_ticker', \n",
    "                         aggfunc=max).sort_values('date_gap', ascending=False).reset_index()\n",
    "max_gap.head()"
   ]
  },
  {
   "cell_type": "code",
   "execution_count": 7,
   "metadata": {},
   "outputs": [
    {
     "data": {
      "text/plain": [
       "52"
      ]
     },
     "execution_count": 7,
     "metadata": {},
     "output_type": "execute_result"
    }
   ],
   "source": [
    "# check how many tickers have a big gap in the price records\n",
    "len(max_gap[max_gap['date_gap'] > 6])"
   ]
  },
  {
   "cell_type": "code",
   "execution_count": 8,
   "metadata": {},
   "outputs": [],
   "source": [
    "# convert to a csv of the max gap_date based on each ticker\n",
    "max_gap.to_csv('adj_smc_daily_price_max_gapdate.csv', index=False)"
   ]
  },
  {
   "cell_type": "markdown",
   "metadata": {},
   "source": [
    "## healthcare price prediction data max date_gap"
   ]
  },
  {
   "cell_type": "code",
   "execution_count": 9,
   "metadata": {},
   "outputs": [
    {
     "data": {
      "text/html": [
       "<div>\n",
       "<style scoped>\n",
       "    .dataframe tbody tr th:only-of-type {\n",
       "        vertical-align: middle;\n",
       "    }\n",
       "\n",
       "    .dataframe tbody tr th {\n",
       "        vertical-align: top;\n",
       "    }\n",
       "\n",
       "    .dataframe thead th {\n",
       "        text-align: right;\n",
       "    }\n",
       "</style>\n",
       "<table border=\"1\" class=\"dataframe\">\n",
       "  <thead>\n",
       "    <tr style=\"text-align: right;\">\n",
       "      <th></th>\n",
       "      <th>date</th>\n",
       "      <th>ticker</th>\n",
       "      <th>preds</th>\n",
       "      <th>truths</th>\n",
       "      <th>proba</th>\n",
       "      <th>proba_filtered</th>\n",
       "    </tr>\n",
       "  </thead>\n",
       "  <tbody>\n",
       "    <tr>\n",
       "      <th>0</th>\n",
       "      <td>2019-05-21 00:00:00-04:00</td>\n",
       "      <td>APOLLOHOSP</td>\n",
       "      <td>1</td>\n",
       "      <td>-1</td>\n",
       "      <td>0.706357</td>\n",
       "      <td>0.706357</td>\n",
       "    </tr>\n",
       "    <tr>\n",
       "      <th>1</th>\n",
       "      <td>2019-05-21 00:00:00-04:00</td>\n",
       "      <td>BIOCON</td>\n",
       "      <td>-1</td>\n",
       "      <td>-1</td>\n",
       "      <td>-1.000000</td>\n",
       "      <td>-1.000000</td>\n",
       "    </tr>\n",
       "    <tr>\n",
       "      <th>2</th>\n",
       "      <td>2019-05-21 00:00:00-04:00</td>\n",
       "      <td>CADILAHC</td>\n",
       "      <td>-1</td>\n",
       "      <td>-1</td>\n",
       "      <td>-1.000000</td>\n",
       "      <td>-1.000000</td>\n",
       "    </tr>\n",
       "    <tr>\n",
       "      <th>3</th>\n",
       "      <td>2019-05-21 00:00:00-04:00</td>\n",
       "      <td>CIPLA</td>\n",
       "      <td>1</td>\n",
       "      <td>-1</td>\n",
       "      <td>0.871319</td>\n",
       "      <td>0.871319</td>\n",
       "    </tr>\n",
       "    <tr>\n",
       "      <th>4</th>\n",
       "      <td>2019-05-21 00:00:00-04:00</td>\n",
       "      <td>DRREDDY</td>\n",
       "      <td>1</td>\n",
       "      <td>1</td>\n",
       "      <td>0.550777</td>\n",
       "      <td>NaN</td>\n",
       "    </tr>\n",
       "  </tbody>\n",
       "</table>\n",
       "</div>"
      ],
      "text/plain": [
       "                        date      ticker  preds  truths     proba  \\\n",
       "0  2019-05-21 00:00:00-04:00  APOLLOHOSP      1      -1  0.706357   \n",
       "1  2019-05-21 00:00:00-04:00      BIOCON     -1      -1 -1.000000   \n",
       "2  2019-05-21 00:00:00-04:00    CADILAHC     -1      -1 -1.000000   \n",
       "3  2019-05-21 00:00:00-04:00       CIPLA      1      -1  0.871319   \n",
       "4  2019-05-21 00:00:00-04:00     DRREDDY      1       1  0.550777   \n",
       "\n",
       "   proba_filtered  \n",
       "0        0.706357  \n",
       "1       -1.000000  \n",
       "2       -1.000000  \n",
       "3        0.871319  \n",
       "4             NaN  "
      ]
     },
     "execution_count": 9,
     "metadata": {},
     "output_type": "execute_result"
    }
   ],
   "source": [
    "healthcare_prediction = pd.read_csv(\"auto_healthcare_dj_price_prediction.csv\", parse_dates=['date'])\n",
    "healthcare_prediction.head()"
   ]
  },
  {
   "cell_type": "code",
   "execution_count": 10,
   "metadata": {},
   "outputs": [],
   "source": [
    "healthcare_prediction = healthcare_prediction.sort_values(['ticker', 'date'])\n",
    "healthcare_prediction['next_date'] = healthcare_prediction.groupby('ticker')['date'].shift(-1)\n",
    "healthcare_prediction['date_gap'] = healthcare_prediction['next_date'] - healthcare_prediction['date']\n",
    "healthcare_prediction['date_gap'] = healthcare_prediction['date_gap'].apply(lambda x:x.days)"
   ]
  },
  {
   "cell_type": "code",
   "execution_count": 11,
   "metadata": {},
   "outputs": [
    {
     "data": {
      "text/plain": [
       "15492    1982.0\n",
       "9996        6.0\n",
       "9994        6.0\n",
       "9991        6.0\n",
       "9992        6.0\n",
       "Name: date_gap, dtype: float64"
      ]
     },
     "execution_count": 11,
     "metadata": {},
     "output_type": "execute_result"
    }
   ],
   "source": [
    "# healthcare_prediction['date_gap'].sort_values(ascending=False).head()"
   ]
  },
  {
   "cell_type": "code",
   "execution_count": 12,
   "metadata": {},
   "outputs": [
    {
     "data": {
      "text/plain": [
       "10"
      ]
     },
     "execution_count": 12,
     "metadata": {},
     "output_type": "execute_result"
    }
   ],
   "source": [
    "# check the number of tickers\n",
    "# healthcare_prediction.ticker.nunique()"
   ]
  },
  {
   "cell_type": "code",
   "execution_count": 13,
   "metadata": {},
   "outputs": [],
   "source": [
    "healthcare_max_gap = healthcare_prediction.pivot_table(values='date_gap', index='ticker', \n",
    "                                                       aggfunc='max').sort_values('date_gap', ascending=False).reset_index()"
   ]
  },
  {
   "cell_type": "code",
   "execution_count": 14,
   "metadata": {},
   "outputs": [
    {
     "data": {
      "text/html": [
       "<div>\n",
       "<style scoped>\n",
       "    .dataframe tbody tr th:only-of-type {\n",
       "        vertical-align: middle;\n",
       "    }\n",
       "\n",
       "    .dataframe tbody tr th {\n",
       "        vertical-align: top;\n",
       "    }\n",
       "\n",
       "    .dataframe thead th {\n",
       "        text-align: right;\n",
       "    }\n",
       "</style>\n",
       "<table border=\"1\" class=\"dataframe\">\n",
       "  <thead>\n",
       "    <tr style=\"text-align: right;\">\n",
       "      <th></th>\n",
       "      <th>ticker</th>\n",
       "      <th>date_gap</th>\n",
       "    </tr>\n",
       "  </thead>\n",
       "  <tbody>\n",
       "    <tr>\n",
       "      <th>0</th>\n",
       "      <td>WOCKPHARMA</td>\n",
       "      <td>1982.0</td>\n",
       "    </tr>\n",
       "    <tr>\n",
       "      <th>1</th>\n",
       "      <td>APOLLOHOSP</td>\n",
       "      <td>6.0</td>\n",
       "    </tr>\n",
       "    <tr>\n",
       "      <th>2</th>\n",
       "      <td>BIOCON</td>\n",
       "      <td>6.0</td>\n",
       "    </tr>\n",
       "    <tr>\n",
       "      <th>3</th>\n",
       "      <td>CIPLA</td>\n",
       "      <td>6.0</td>\n",
       "    </tr>\n",
       "    <tr>\n",
       "      <th>4</th>\n",
       "      <td>DRREDDY</td>\n",
       "      <td>6.0</td>\n",
       "    </tr>\n",
       "    <tr>\n",
       "      <th>5</th>\n",
       "      <td>GLENMARK</td>\n",
       "      <td>6.0</td>\n",
       "    </tr>\n",
       "    <tr>\n",
       "      <th>6</th>\n",
       "      <td>LUPIN</td>\n",
       "      <td>6.0</td>\n",
       "    </tr>\n",
       "    <tr>\n",
       "      <th>7</th>\n",
       "      <td>CADILAHC</td>\n",
       "      <td>5.0</td>\n",
       "    </tr>\n",
       "    <tr>\n",
       "      <th>8</th>\n",
       "      <td>PEL</td>\n",
       "      <td>5.0</td>\n",
       "    </tr>\n",
       "    <tr>\n",
       "      <th>9</th>\n",
       "      <td>TORNTPHARM</td>\n",
       "      <td>5.0</td>\n",
       "    </tr>\n",
       "  </tbody>\n",
       "</table>\n",
       "</div>"
      ],
      "text/plain": [
       "       ticker  date_gap\n",
       "0  WOCKPHARMA    1982.0\n",
       "1  APOLLOHOSP       6.0\n",
       "2      BIOCON       6.0\n",
       "3       CIPLA       6.0\n",
       "4     DRREDDY       6.0\n",
       "5    GLENMARK       6.0\n",
       "6       LUPIN       6.0\n",
       "7    CADILAHC       5.0\n",
       "8         PEL       5.0\n",
       "9  TORNTPHARM       5.0"
      ]
     },
     "execution_count": 14,
     "metadata": {},
     "output_type": "execute_result"
    }
   ],
   "source": [
    "# check if any problematic ticker exists in the healthcare price prediction data\n",
    "healthcare_max_gap"
   ]
  },
  {
   "cell_type": "code",
   "execution_count": 15,
   "metadata": {},
   "outputs": [
    {
     "data": {
      "text/plain": [
       "ticker\n",
       "APOLLOHOSP    2014-05-14 00:00:00-04:00\n",
       "BIOCON        2009-05-29 00:00:00-04:00\n",
       "CADILAHC      2016-02-10 00:00:00-05:00\n",
       "CIPLA         2009-05-25 00:00:00-04:00\n",
       "DRREDDY       2009-05-25 00:00:00-04:00\n",
       "GLENMARK      2014-02-12 00:00:00-05:00\n",
       "LUPIN         2009-05-26 00:00:00-04:00\n",
       "PEL           2017-05-15 00:00:00-04:00\n",
       "TORNTPHARM    2016-05-18 00:00:00-04:00\n",
       "WOCKPHARMA    2009-05-26 00:00:00-04:00\n",
       "Name: date, dtype: object"
      ]
     },
     "execution_count": 15,
     "metadata": {},
     "output_type": "execute_result"
    }
   ],
   "source": [
    "# the start-date of the prediction of the healthcare ticker\n",
    "healthcare_prediction.groupby('ticker')['date'].min()"
   ]
  },
  {
   "cell_type": "code",
   "execution_count": 16,
   "metadata": {},
   "outputs": [],
   "source": [
    "healthcare = healthcare_prediction.ticker.unique()\n",
    "sub_price_healthcare = adj_price[adj_price.nse_ticker.isin(healthcare)]"
   ]
  },
  {
   "cell_type": "code",
   "execution_count": 17,
   "metadata": {},
   "outputs": [
    {
     "data": {
      "text/plain": [
       "nse_ticker\n",
       "APOLLOHOSP   2013-12-27\n",
       "BIOCON       2009-01-01\n",
       "CADILAHC     2015-09-28\n",
       "CIPLA        2009-01-01\n",
       "DRREDDY      2009-01-01\n",
       "GLENMARK     2013-10-03\n",
       "LUPIN        2009-01-01\n",
       "PEL          2012-09-21\n",
       "TORNTPHARM   2016-01-01\n",
       "WOCKPHARMA   2009-01-01\n",
       "Name: date, dtype: datetime64[ns]"
      ]
     },
     "execution_count": 17,
     "metadata": {},
     "output_type": "execute_result"
    }
   ],
   "source": [
    "# the start-date of the price of the healthcare ticker\n",
    "sub_price_healthcare.groupby('nse_ticker').date.min()"
   ]
  },
  {
   "cell_type": "code",
   "execution_count": 18,
   "metadata": {},
   "outputs": [
    {
     "data": {
      "text/html": [
       "<div>\n",
       "<style scoped>\n",
       "    .dataframe tbody tr th:only-of-type {\n",
       "        vertical-align: middle;\n",
       "    }\n",
       "\n",
       "    .dataframe tbody tr th {\n",
       "        vertical-align: top;\n",
       "    }\n",
       "\n",
       "    .dataframe thead th {\n",
       "        text-align: right;\n",
       "    }\n",
       "</style>\n",
       "<table border=\"1\" class=\"dataframe\">\n",
       "  <thead>\n",
       "    <tr style=\"text-align: right;\">\n",
       "      <th></th>\n",
       "      <th>nse_ticker</th>\n",
       "      <th>date_gap</th>\n",
       "    </tr>\n",
       "  </thead>\n",
       "  <tbody>\n",
       "    <tr>\n",
       "      <th>0</th>\n",
       "      <td>APOLLOHOSP</td>\n",
       "      <td>6.0</td>\n",
       "    </tr>\n",
       "    <tr>\n",
       "      <th>1</th>\n",
       "      <td>BIOCON</td>\n",
       "      <td>6.0</td>\n",
       "    </tr>\n",
       "    <tr>\n",
       "      <th>2</th>\n",
       "      <td>CADILAHC</td>\n",
       "      <td>5.0</td>\n",
       "    </tr>\n",
       "    <tr>\n",
       "      <th>3</th>\n",
       "      <td>CIPLA</td>\n",
       "      <td>6.0</td>\n",
       "    </tr>\n",
       "    <tr>\n",
       "      <th>4</th>\n",
       "      <td>DRREDDY</td>\n",
       "      <td>6.0</td>\n",
       "    </tr>\n",
       "    <tr>\n",
       "      <th>5</th>\n",
       "      <td>GLENMARK</td>\n",
       "      <td>6.0</td>\n",
       "    </tr>\n",
       "    <tr>\n",
       "      <th>6</th>\n",
       "      <td>LUPIN</td>\n",
       "      <td>6.0</td>\n",
       "    </tr>\n",
       "    <tr>\n",
       "      <th>7</th>\n",
       "      <td>PEL</td>\n",
       "      <td>1555.0</td>\n",
       "    </tr>\n",
       "    <tr>\n",
       "      <th>8</th>\n",
       "      <td>TORNTPHARM</td>\n",
       "      <td>5.0</td>\n",
       "    </tr>\n",
       "    <tr>\n",
       "      <th>9</th>\n",
       "      <td>WOCKPHARMA</td>\n",
       "      <td>1982.0</td>\n",
       "    </tr>\n",
       "  </tbody>\n",
       "</table>\n",
       "</div>"
      ],
      "text/plain": [
       "   nse_ticker  date_gap\n",
       "0  APOLLOHOSP       6.0\n",
       "1      BIOCON       6.0\n",
       "2    CADILAHC       5.0\n",
       "3       CIPLA       6.0\n",
       "4     DRREDDY       6.0\n",
       "5    GLENMARK       6.0\n",
       "6       LUPIN       6.0\n",
       "7         PEL    1555.0\n",
       "8  TORNTPHARM       5.0\n",
       "9  WOCKPHARMA    1982.0"
      ]
     },
     "execution_count": 18,
     "metadata": {},
     "output_type": "execute_result"
    }
   ],
   "source": [
    "# check if any problematic ticker exists in the healthcare price data\n",
    "sub_price_healthcare.groupby(\"nse_ticker\").date_gap.max().reset_index()"
   ]
  },
  {
   "cell_type": "code",
   "execution_count": 19,
   "metadata": {},
   "outputs": [
    {
     "data": {
      "text/html": [
       "<div>\n",
       "<style scoped>\n",
       "    .dataframe tbody tr th:only-of-type {\n",
       "        vertical-align: middle;\n",
       "    }\n",
       "\n",
       "    .dataframe tbody tr th {\n",
       "        vertical-align: top;\n",
       "    }\n",
       "\n",
       "    .dataframe thead th {\n",
       "        text-align: right;\n",
       "    }\n",
       "</style>\n",
       "<table border=\"1\" class=\"dataframe\">\n",
       "  <thead>\n",
       "    <tr style=\"text-align: right;\">\n",
       "      <th></th>\n",
       "      <th>date</th>\n",
       "      <th>ticker</th>\n",
       "      <th>preds</th>\n",
       "      <th>truths</th>\n",
       "      <th>proba</th>\n",
       "      <th>proba_filtered</th>\n",
       "      <th>next_date</th>\n",
       "      <th>date_gap</th>\n",
       "    </tr>\n",
       "  </thead>\n",
       "  <tbody>\n",
       "    <tr>\n",
       "      <th>15492</th>\n",
       "      <td>2009-06-25 00:00:00-04:00</td>\n",
       "      <td>WOCKPHARMA</td>\n",
       "      <td>1</td>\n",
       "      <td>1</td>\n",
       "      <td>0.734567</td>\n",
       "      <td>NaN</td>\n",
       "      <td>2014-11-28 00:00:00-05:00</td>\n",
       "      <td>1982.0</td>\n",
       "    </tr>\n",
       "    <tr>\n",
       "      <th>9192</th>\n",
       "      <td>2015-04-01 00:00:00-04:00</td>\n",
       "      <td>WOCKPHARMA</td>\n",
       "      <td>1</td>\n",
       "      <td>1</td>\n",
       "      <td>0.714829</td>\n",
       "      <td>NaN</td>\n",
       "      <td>2015-04-06 00:00:00-04:00</td>\n",
       "      <td>5.0</td>\n",
       "    </tr>\n",
       "    <tr>\n",
       "      <th>7367</th>\n",
       "      <td>2016-04-13 00:00:00-04:00</td>\n",
       "      <td>WOCKPHARMA</td>\n",
       "      <td>1</td>\n",
       "      <td>-1</td>\n",
       "      <td>0.702100</td>\n",
       "      <td>NaN</td>\n",
       "      <td>2016-04-18 00:00:00-04:00</td>\n",
       "      <td>5.0</td>\n",
       "    </tr>\n",
       "    <tr>\n",
       "      <th>7471</th>\n",
       "      <td>2016-03-23 00:00:00-04:00</td>\n",
       "      <td>WOCKPHARMA</td>\n",
       "      <td>1</td>\n",
       "      <td>-1</td>\n",
       "      <td>0.567800</td>\n",
       "      <td>0.567800</td>\n",
       "      <td>2016-03-28 00:00:00-04:00</td>\n",
       "      <td>5.0</td>\n",
       "    </tr>\n",
       "    <tr>\n",
       "      <th>2816</th>\n",
       "      <td>2018-03-28 00:00:00-04:00</td>\n",
       "      <td>WOCKPHARMA</td>\n",
       "      <td>1</td>\n",
       "      <td>-1</td>\n",
       "      <td>0.652895</td>\n",
       "      <td>0.652895</td>\n",
       "      <td>2018-04-02 00:00:00-04:00</td>\n",
       "      <td>5.0</td>\n",
       "    </tr>\n",
       "  </tbody>\n",
       "</table>\n",
       "</div>"
      ],
      "text/plain": [
       "                            date      ticker  preds  truths     proba  \\\n",
       "15492  2009-06-25 00:00:00-04:00  WOCKPHARMA      1       1  0.734567   \n",
       "9192   2015-04-01 00:00:00-04:00  WOCKPHARMA      1       1  0.714829   \n",
       "7367   2016-04-13 00:00:00-04:00  WOCKPHARMA      1      -1  0.702100   \n",
       "7471   2016-03-23 00:00:00-04:00  WOCKPHARMA      1      -1  0.567800   \n",
       "2816   2018-03-28 00:00:00-04:00  WOCKPHARMA      1      -1  0.652895   \n",
       "\n",
       "       proba_filtered                  next_date  date_gap  \n",
       "15492             NaN  2014-11-28 00:00:00-05:00    1982.0  \n",
       "9192              NaN  2015-04-06 00:00:00-04:00       5.0  \n",
       "7367              NaN  2016-04-18 00:00:00-04:00       5.0  \n",
       "7471         0.567800  2016-03-28 00:00:00-04:00       5.0  \n",
       "2816         0.652895  2018-04-02 00:00:00-04:00       5.0  "
      ]
     },
     "execution_count": 19,
     "metadata": {},
     "output_type": "execute_result"
    }
   ],
   "source": [
    "# Query the gap date of the problematic ticker in the prediction data\n",
    "healthcare_prediction.query(\"ticker == 'WOCKPHARMA'\").sort_values('date_gap', ascending=False).head()"
   ]
  },
  {
   "cell_type": "code",
   "execution_count": 20,
   "metadata": {},
   "outputs": [
    {
     "data": {
      "text/html": [
       "<div>\n",
       "<style scoped>\n",
       "    .dataframe tbody tr th:only-of-type {\n",
       "        vertical-align: middle;\n",
       "    }\n",
       "\n",
       "    .dataframe tbody tr th {\n",
       "        vertical-align: top;\n",
       "    }\n",
       "\n",
       "    .dataframe thead th {\n",
       "        text-align: right;\n",
       "    }\n",
       "</style>\n",
       "<table border=\"1\" class=\"dataframe\">\n",
       "  <thead>\n",
       "    <tr style=\"text-align: right;\">\n",
       "      <th></th>\n",
       "      <th>bloomberg_ticker</th>\n",
       "      <th>nse_ticker</th>\n",
       "      <th>entity_share_class_figi</th>\n",
       "      <th>date</th>\n",
       "      <th>adj_open</th>\n",
       "      <th>adj_high</th>\n",
       "      <th>adj_low</th>\n",
       "      <th>adj_close</th>\n",
       "      <th>adj_volume</th>\n",
       "      <th>value</th>\n",
       "      <th>adj_oi</th>\n",
       "      <th>next_date</th>\n",
       "      <th>date_gap</th>\n",
       "    </tr>\n",
       "  </thead>\n",
       "  <tbody>\n",
       "    <tr>\n",
       "      <th>484554</th>\n",
       "      <td>WPL</td>\n",
       "      <td>WOCKPHARMA</td>\n",
       "      <td>BBG001SDN510</td>\n",
       "      <td>2009-06-25</td>\n",
       "      <td>144.00</td>\n",
       "      <td>148.5</td>\n",
       "      <td>142.50</td>\n",
       "      <td>148.00</td>\n",
       "      <td>179.0</td>\n",
       "      <td>626.86</td>\n",
       "      <td>1113600.0</td>\n",
       "      <td>2014-11-28</td>\n",
       "      <td>1982.0</td>\n",
       "    </tr>\n",
       "    <tr>\n",
       "      <th>484640</th>\n",
       "      <td>WPL</td>\n",
       "      <td>WOCKPHARMA</td>\n",
       "      <td>BBG001SDN510</td>\n",
       "      <td>2015-04-01</td>\n",
       "      <td>1861.10</td>\n",
       "      <td>1893.5</td>\n",
       "      <td>1856.30</td>\n",
       "      <td>1887.55</td>\n",
       "      <td>5236.0</td>\n",
       "      <td>49107.26</td>\n",
       "      <td>2631500.0</td>\n",
       "      <td>2015-04-06</td>\n",
       "      <td>5.0</td>\n",
       "    </tr>\n",
       "    <tr>\n",
       "      <th>485380</th>\n",
       "      <td>WPL</td>\n",
       "      <td>WOCKPHARMA</td>\n",
       "      <td>BBG001SDN510</td>\n",
       "      <td>2018-03-28</td>\n",
       "      <td>731.10</td>\n",
       "      <td>741.6</td>\n",
       "      <td>723.65</td>\n",
       "      <td>726.65</td>\n",
       "      <td>2659.0</td>\n",
       "      <td>17532.42</td>\n",
       "      <td>301500.0</td>\n",
       "      <td>2018-04-02</td>\n",
       "      <td>5.0</td>\n",
       "    </tr>\n",
       "    <tr>\n",
       "      <th>484895</th>\n",
       "      <td>WPL</td>\n",
       "      <td>WOCKPHARMA</td>\n",
       "      <td>BBG001SDN510</td>\n",
       "      <td>2016-04-13</td>\n",
       "      <td>1047.85</td>\n",
       "      <td>1058.0</td>\n",
       "      <td>1030.00</td>\n",
       "      <td>1035.50</td>\n",
       "      <td>5436.0</td>\n",
       "      <td>21361.81</td>\n",
       "      <td>2147625.0</td>\n",
       "      <td>2016-04-18</td>\n",
       "      <td>5.0</td>\n",
       "    </tr>\n",
       "    <tr>\n",
       "      <th>484515</th>\n",
       "      <td>WPL</td>\n",
       "      <td>WOCKPHARMA</td>\n",
       "      <td>BBG001SDN510</td>\n",
       "      <td>2009-04-29</td>\n",
       "      <td>91.40</td>\n",
       "      <td>95.4</td>\n",
       "      <td>88.15</td>\n",
       "      <td>88.75</td>\n",
       "      <td>337.0</td>\n",
       "      <td>746.43</td>\n",
       "      <td>290400.0</td>\n",
       "      <td>2009-05-04</td>\n",
       "      <td>5.0</td>\n",
       "    </tr>\n",
       "  </tbody>\n",
       "</table>\n",
       "</div>"
      ],
      "text/plain": [
       "       bloomberg_ticker  nse_ticker entity_share_class_figi       date  \\\n",
       "484554              WPL  WOCKPHARMA            BBG001SDN510 2009-06-25   \n",
       "484640              WPL  WOCKPHARMA            BBG001SDN510 2015-04-01   \n",
       "485380              WPL  WOCKPHARMA            BBG001SDN510 2018-03-28   \n",
       "484895              WPL  WOCKPHARMA            BBG001SDN510 2016-04-13   \n",
       "484515              WPL  WOCKPHARMA            BBG001SDN510 2009-04-29   \n",
       "\n",
       "        adj_open  adj_high  adj_low  adj_close  adj_volume     value  \\\n",
       "484554    144.00     148.5   142.50     148.00       179.0    626.86   \n",
       "484640   1861.10    1893.5  1856.30    1887.55      5236.0  49107.26   \n",
       "485380    731.10     741.6   723.65     726.65      2659.0  17532.42   \n",
       "484895   1047.85    1058.0  1030.00    1035.50      5436.0  21361.81   \n",
       "484515     91.40      95.4    88.15      88.75       337.0    746.43   \n",
       "\n",
       "           adj_oi  next_date  date_gap  \n",
       "484554  1113600.0 2014-11-28    1982.0  \n",
       "484640  2631500.0 2015-04-06       5.0  \n",
       "485380   301500.0 2018-04-02       5.0  \n",
       "484895  2147625.0 2016-04-18       5.0  \n",
       "484515   290400.0 2009-05-04       5.0  "
      ]
     },
     "execution_count": 20,
     "metadata": {},
     "output_type": "execute_result"
    }
   ],
   "source": [
    "## Query the gap date of the problematic ticker in the price data\n",
    "adj_price.query(\"nse_ticker == 'WOCKPHARMA'\").sort_values('date_gap', ascending=False).head()"
   ]
  },
  {
   "cell_type": "markdown",
   "metadata": {},
   "source": [
    "## Auto energey price prediction data max date_gap"
   ]
  },
  {
   "cell_type": "code",
   "execution_count": 21,
   "metadata": {},
   "outputs": [
    {
     "data": {
      "text/html": [
       "<div>\n",
       "<style scoped>\n",
       "    .dataframe tbody tr th:only-of-type {\n",
       "        vertical-align: middle;\n",
       "    }\n",
       "\n",
       "    .dataframe tbody tr th {\n",
       "        vertical-align: top;\n",
       "    }\n",
       "\n",
       "    .dataframe thead th {\n",
       "        text-align: right;\n",
       "    }\n",
       "</style>\n",
       "<table border=\"1\" class=\"dataframe\">\n",
       "  <thead>\n",
       "    <tr style=\"text-align: right;\">\n",
       "      <th></th>\n",
       "      <th>date</th>\n",
       "      <th>ticker</th>\n",
       "      <th>preds</th>\n",
       "      <th>truths</th>\n",
       "      <th>proba</th>\n",
       "      <th>proba_filtered</th>\n",
       "    </tr>\n",
       "  </thead>\n",
       "  <tbody>\n",
       "    <tr>\n",
       "      <th>0</th>\n",
       "      <td>2019-05-21 00:00:00-04:00</td>\n",
       "      <td>BPCL</td>\n",
       "      <td>1</td>\n",
       "      <td>-1</td>\n",
       "      <td>0.900000</td>\n",
       "      <td>0.900000</td>\n",
       "    </tr>\n",
       "    <tr>\n",
       "      <th>1</th>\n",
       "      <td>2019-05-21 00:00:00-04:00</td>\n",
       "      <td>HINDPETRO</td>\n",
       "      <td>-1</td>\n",
       "      <td>-1</td>\n",
       "      <td>-0.594386</td>\n",
       "      <td>-0.594386</td>\n",
       "    </tr>\n",
       "    <tr>\n",
       "      <th>2</th>\n",
       "      <td>2019-05-21 00:00:00-04:00</td>\n",
       "      <td>IOC</td>\n",
       "      <td>1</td>\n",
       "      <td>-1</td>\n",
       "      <td>0.730989</td>\n",
       "      <td>NaN</td>\n",
       "    </tr>\n",
       "    <tr>\n",
       "      <th>3</th>\n",
       "      <td>2019-05-21 00:00:00-04:00</td>\n",
       "      <td>MRPL</td>\n",
       "      <td>-1</td>\n",
       "      <td>-1</td>\n",
       "      <td>-0.877875</td>\n",
       "      <td>NaN</td>\n",
       "    </tr>\n",
       "    <tr>\n",
       "      <th>4</th>\n",
       "      <td>2019-05-21 00:00:00-04:00</td>\n",
       "      <td>OIL</td>\n",
       "      <td>1</td>\n",
       "      <td>-1</td>\n",
       "      <td>0.632422</td>\n",
       "      <td>NaN</td>\n",
       "    </tr>\n",
       "  </tbody>\n",
       "</table>\n",
       "</div>"
      ],
      "text/plain": [
       "                        date     ticker  preds  truths     proba  \\\n",
       "0  2019-05-21 00:00:00-04:00       BPCL      1      -1  0.900000   \n",
       "1  2019-05-21 00:00:00-04:00  HINDPETRO     -1      -1 -0.594386   \n",
       "2  2019-05-21 00:00:00-04:00        IOC      1      -1  0.730989   \n",
       "3  2019-05-21 00:00:00-04:00       MRPL     -1      -1 -0.877875   \n",
       "4  2019-05-21 00:00:00-04:00        OIL      1      -1  0.632422   \n",
       "\n",
       "   proba_filtered  \n",
       "0        0.900000  \n",
       "1       -0.594386  \n",
       "2             NaN  \n",
       "3             NaN  \n",
       "4             NaN  "
      ]
     },
     "execution_count": 21,
     "metadata": {},
     "output_type": "execute_result"
    }
   ],
   "source": [
    "energy_prediction = pd.read_csv(\"auto_energy_dj_price_prediction.csv\", parse_dates=['date'])\n",
    "energy_prediction.head()"
   ]
  },
  {
   "cell_type": "code",
   "execution_count": 22,
   "metadata": {},
   "outputs": [],
   "source": [
    "energy_prediction = energy_prediction.sort_values(['ticker', 'date'])\n",
    "energy_prediction['next_date'] = energy_prediction.groupby('ticker')['date'].shift(-1)\n",
    "energy_prediction['date_gap'] = energy_prediction['next_date'] - energy_prediction['date']\n",
    "energy_prediction['date_gap'] = energy_prediction['date_gap'].apply(lambda x:x.days)"
   ]
  },
  {
   "cell_type": "code",
   "execution_count": 23,
   "metadata": {},
   "outputs": [
    {
     "data": {
      "text/plain": [
       "11291    1674.0\n",
       "11292     974.0\n",
       "8306        6.0\n",
       "8303        6.0\n",
       "8305        6.0\n",
       "Name: date_gap, dtype: float64"
      ]
     },
     "execution_count": 23,
     "metadata": {},
     "output_type": "execute_result"
    }
   ],
   "source": [
    "# energy_prediction['date_gap'].sort_values(ascending=False).head()"
   ]
  },
  {
   "cell_type": "code",
   "execution_count": 24,
   "metadata": {},
   "outputs": [
    {
     "data": {
      "text/plain": [
       "8"
      ]
     },
     "execution_count": 24,
     "metadata": {},
     "output_type": "execute_result"
    }
   ],
   "source": [
    "# energy_prediction.ticker.nunique()"
   ]
  },
  {
   "cell_type": "code",
   "execution_count": 25,
   "metadata": {},
   "outputs": [],
   "source": [
    "energy_max_gap = energy_prediction.pivot_table(values='date_gap', index='ticker', \n",
    "                                               aggfunc='max').sort_values('date_gap', ascending=False).reset_index()"
   ]
  },
  {
   "cell_type": "code",
   "execution_count": 26,
   "metadata": {},
   "outputs": [
    {
     "data": {
      "text/html": [
       "<div>\n",
       "<style scoped>\n",
       "    .dataframe tbody tr th:only-of-type {\n",
       "        vertical-align: middle;\n",
       "    }\n",
       "\n",
       "    .dataframe tbody tr th {\n",
       "        vertical-align: top;\n",
       "    }\n",
       "\n",
       "    .dataframe thead th {\n",
       "        text-align: right;\n",
       "    }\n",
       "</style>\n",
       "<table border=\"1\" class=\"dataframe\">\n",
       "  <thead>\n",
       "    <tr style=\"text-align: right;\">\n",
       "      <th></th>\n",
       "      <th>ticker</th>\n",
       "      <th>date_gap</th>\n",
       "    </tr>\n",
       "  </thead>\n",
       "  <tbody>\n",
       "    <tr>\n",
       "      <th>0</th>\n",
       "      <td>MRPL</td>\n",
       "      <td>1674.0</td>\n",
       "    </tr>\n",
       "    <tr>\n",
       "      <th>1</th>\n",
       "      <td>OIL</td>\n",
       "      <td>974.0</td>\n",
       "    </tr>\n",
       "    <tr>\n",
       "      <th>2</th>\n",
       "      <td>BPCL</td>\n",
       "      <td>6.0</td>\n",
       "    </tr>\n",
       "    <tr>\n",
       "      <th>3</th>\n",
       "      <td>HINDPETRO</td>\n",
       "      <td>6.0</td>\n",
       "    </tr>\n",
       "    <tr>\n",
       "      <th>4</th>\n",
       "      <td>IOC</td>\n",
       "      <td>6.0</td>\n",
       "    </tr>\n",
       "    <tr>\n",
       "      <th>5</th>\n",
       "      <td>ONGC</td>\n",
       "      <td>6.0</td>\n",
       "    </tr>\n",
       "    <tr>\n",
       "      <th>6</th>\n",
       "      <td>PETRONET</td>\n",
       "      <td>6.0</td>\n",
       "    </tr>\n",
       "    <tr>\n",
       "      <th>7</th>\n",
       "      <td>RELIANCE</td>\n",
       "      <td>6.0</td>\n",
       "    </tr>\n",
       "  </tbody>\n",
       "</table>\n",
       "</div>"
      ],
      "text/plain": [
       "      ticker  date_gap\n",
       "0       MRPL    1674.0\n",
       "1        OIL     974.0\n",
       "2       BPCL       6.0\n",
       "3  HINDPETRO       6.0\n",
       "4        IOC       6.0\n",
       "5       ONGC       6.0\n",
       "6   PETRONET       6.0\n",
       "7   RELIANCE       6.0"
      ]
     },
     "execution_count": 26,
     "metadata": {},
     "output_type": "execute_result"
    }
   ],
   "source": [
    "energy_max_gap"
   ]
  },
  {
   "cell_type": "code",
   "execution_count": 27,
   "metadata": {},
   "outputs": [
    {
     "data": {
      "text/plain": [
       "ticker\n",
       "BPCL        2009-05-25 00:00:00-04:00\n",
       "HINDPETRO   2009-05-26 00:00:00-04:00\n",
       "IOC         2009-05-26 00:00:00-04:00\n",
       "MRPL        2009-05-26 00:00:00-04:00\n",
       "OIL         2011-03-16 00:00:00-04:00\n",
       "ONGC        2009-05-25 00:00:00-04:00\n",
       "PETRONET    2009-05-27 00:00:00-04:00\n",
       "RELIANCE    2009-05-25 00:00:00-04:00\n",
       "Name: date, dtype: datetime64[ns, tzoffset(None, -14400)]"
      ]
     },
     "execution_count": 27,
     "metadata": {},
     "output_type": "execute_result"
    }
   ],
   "source": [
    "energy_prediction.groupby('ticker')['date'].min()"
   ]
  },
  {
   "cell_type": "code",
   "execution_count": 28,
   "metadata": {},
   "outputs": [],
   "source": [
    "energy = energy_prediction.ticker.unique()\n",
    "sub_price_energy = adj_price[adj_price[\"nse_ticker\"].isin(energy)]"
   ]
  },
  {
   "cell_type": "code",
   "execution_count": 29,
   "metadata": {},
   "outputs": [
    {
     "data": {
      "text/plain": [
       "nse_ticker\n",
       "BPCL        2009-01-01\n",
       "HINDPETRO   2009-01-01\n",
       "IOC         2009-01-01\n",
       "MRPL        2009-01-01\n",
       "OIL         2010-10-29\n",
       "ONGC        2009-01-01\n",
       "PETRONET    2009-01-01\n",
       "RELIANCE    2009-01-01\n",
       "Name: date, dtype: datetime64[ns]"
      ]
     },
     "execution_count": 29,
     "metadata": {},
     "output_type": "execute_result"
    }
   ],
   "source": [
    "sub_price_energy.groupby('nse_ticker').date.min()"
   ]
  },
  {
   "cell_type": "code",
   "execution_count": 30,
   "metadata": {},
   "outputs": [
    {
     "data": {
      "text/html": [
       "<div>\n",
       "<style scoped>\n",
       "    .dataframe tbody tr th:only-of-type {\n",
       "        vertical-align: middle;\n",
       "    }\n",
       "\n",
       "    .dataframe tbody tr th {\n",
       "        vertical-align: top;\n",
       "    }\n",
       "\n",
       "    .dataframe thead th {\n",
       "        text-align: right;\n",
       "    }\n",
       "</style>\n",
       "<table border=\"1\" class=\"dataframe\">\n",
       "  <thead>\n",
       "    <tr style=\"text-align: right;\">\n",
       "      <th></th>\n",
       "      <th>nse_ticker</th>\n",
       "      <th>date_gap</th>\n",
       "    </tr>\n",
       "  </thead>\n",
       "  <tbody>\n",
       "    <tr>\n",
       "      <th>0</th>\n",
       "      <td>BPCL</td>\n",
       "      <td>6.0</td>\n",
       "    </tr>\n",
       "    <tr>\n",
       "      <th>1</th>\n",
       "      <td>HINDPETRO</td>\n",
       "      <td>6.0</td>\n",
       "    </tr>\n",
       "    <tr>\n",
       "      <th>2</th>\n",
       "      <td>IOC</td>\n",
       "      <td>6.0</td>\n",
       "    </tr>\n",
       "    <tr>\n",
       "      <th>3</th>\n",
       "      <td>MRPL</td>\n",
       "      <td>1674.0</td>\n",
       "    </tr>\n",
       "    <tr>\n",
       "      <th>4</th>\n",
       "      <td>OIL</td>\n",
       "      <td>974.0</td>\n",
       "    </tr>\n",
       "    <tr>\n",
       "      <th>5</th>\n",
       "      <td>ONGC</td>\n",
       "      <td>6.0</td>\n",
       "    </tr>\n",
       "    <tr>\n",
       "      <th>6</th>\n",
       "      <td>PETRONET</td>\n",
       "      <td>6.0</td>\n",
       "    </tr>\n",
       "    <tr>\n",
       "      <th>7</th>\n",
       "      <td>RELIANCE</td>\n",
       "      <td>6.0</td>\n",
       "    </tr>\n",
       "  </tbody>\n",
       "</table>\n",
       "</div>"
      ],
      "text/plain": [
       "  nse_ticker  date_gap\n",
       "0       BPCL       6.0\n",
       "1  HINDPETRO       6.0\n",
       "2        IOC       6.0\n",
       "3       MRPL    1674.0\n",
       "4        OIL     974.0\n",
       "5       ONGC       6.0\n",
       "6   PETRONET       6.0\n",
       "7   RELIANCE       6.0"
      ]
     },
     "execution_count": 30,
     "metadata": {},
     "output_type": "execute_result"
    }
   ],
   "source": [
    "sub_price_energy.groupby(\"nse_ticker\").date_gap.max().reset_index()"
   ]
  },
  {
   "cell_type": "code",
   "execution_count": 31,
   "metadata": {},
   "outputs": [
    {
     "data": {
      "text/html": [
       "<div>\n",
       "<style scoped>\n",
       "    .dataframe tbody tr th:only-of-type {\n",
       "        vertical-align: middle;\n",
       "    }\n",
       "\n",
       "    .dataframe tbody tr th {\n",
       "        vertical-align: top;\n",
       "    }\n",
       "\n",
       "    .dataframe thead th {\n",
       "        text-align: right;\n",
       "    }\n",
       "</style>\n",
       "<table border=\"1\" class=\"dataframe\">\n",
       "  <thead>\n",
       "    <tr style=\"text-align: right;\">\n",
       "      <th></th>\n",
       "      <th>date</th>\n",
       "      <th>ticker</th>\n",
       "      <th>preds</th>\n",
       "      <th>truths</th>\n",
       "      <th>proba</th>\n",
       "      <th>proba_filtered</th>\n",
       "      <th>next_date</th>\n",
       "      <th>date_gap</th>\n",
       "    </tr>\n",
       "  </thead>\n",
       "  <tbody>\n",
       "    <tr>\n",
       "      <th>11291</th>\n",
       "      <td>2012-09-27 00:00:00-04:00</td>\n",
       "      <td>MRPL</td>\n",
       "      <td>1</td>\n",
       "      <td>1</td>\n",
       "      <td>0.909219</td>\n",
       "      <td>0.909219</td>\n",
       "      <td>2017-04-28 00:00:00-04:00</td>\n",
       "      <td>1674.0</td>\n",
       "    </tr>\n",
       "    <tr>\n",
       "      <th>16483</th>\n",
       "      <td>2009-12-24 00:00:00-05:00</td>\n",
       "      <td>MRPL</td>\n",
       "      <td>1</td>\n",
       "      <td>1</td>\n",
       "      <td>0.704940</td>\n",
       "      <td>0.704940</td>\n",
       "      <td>2009-12-29 00:00:00-05:00</td>\n",
       "      <td>5.0</td>\n",
       "    </tr>\n",
       "    <tr>\n",
       "      <th>1321</th>\n",
       "      <td>2018-09-12 00:00:00-04:00</td>\n",
       "      <td>MRPL</td>\n",
       "      <td>1</td>\n",
       "      <td>-1</td>\n",
       "      <td>0.559267</td>\n",
       "      <td>NaN</td>\n",
       "      <td>2018-09-17 00:00:00-04:00</td>\n",
       "      <td>5.0</td>\n",
       "    </tr>\n",
       "    <tr>\n",
       "      <th>16189</th>\n",
       "      <td>2010-02-26 00:00:00-05:00</td>\n",
       "      <td>MRPL</td>\n",
       "      <td>-1</td>\n",
       "      <td>1</td>\n",
       "      <td>-0.960244</td>\n",
       "      <td>-0.960244</td>\n",
       "      <td>2010-03-03 00:00:00-05:00</td>\n",
       "      <td>5.0</td>\n",
       "    </tr>\n",
       "    <tr>\n",
       "      <th>12262</th>\n",
       "      <td>2012-04-04 00:00:00-04:00</td>\n",
       "      <td>MRPL</td>\n",
       "      <td>-1</td>\n",
       "      <td>1</td>\n",
       "      <td>-0.689684</td>\n",
       "      <td>-0.689684</td>\n",
       "      <td>2012-04-09 00:00:00-04:00</td>\n",
       "      <td>5.0</td>\n",
       "    </tr>\n",
       "  </tbody>\n",
       "</table>\n",
       "</div>"
      ],
      "text/plain": [
       "                            date ticker  preds  truths     proba  \\\n",
       "11291  2012-09-27 00:00:00-04:00   MRPL      1       1  0.909219   \n",
       "16483  2009-12-24 00:00:00-05:00   MRPL      1       1  0.704940   \n",
       "1321   2018-09-12 00:00:00-04:00   MRPL      1      -1  0.559267   \n",
       "16189  2010-02-26 00:00:00-05:00   MRPL     -1       1 -0.960244   \n",
       "12262  2012-04-04 00:00:00-04:00   MRPL     -1       1 -0.689684   \n",
       "\n",
       "       proba_filtered                  next_date  date_gap  \n",
       "11291        0.909219  2017-04-28 00:00:00-04:00    1674.0  \n",
       "16483        0.704940  2009-12-29 00:00:00-05:00       5.0  \n",
       "1321              NaN  2018-09-17 00:00:00-04:00       5.0  \n",
       "16189       -0.960244  2010-03-03 00:00:00-05:00       5.0  \n",
       "12262       -0.689684  2012-04-09 00:00:00-04:00       5.0  "
      ]
     },
     "execution_count": 31,
     "metadata": {},
     "output_type": "execute_result"
    }
   ],
   "source": [
    "energy_prediction.query(\"ticker =='MRPL'\").sort_values('date_gap', ascending=False).head()"
   ]
  },
  {
   "cell_type": "code",
   "execution_count": 32,
   "metadata": {},
   "outputs": [
    {
     "data": {
      "text/html": [
       "<div>\n",
       "<style scoped>\n",
       "    .dataframe tbody tr th:only-of-type {\n",
       "        vertical-align: middle;\n",
       "    }\n",
       "\n",
       "    .dataframe tbody tr th {\n",
       "        vertical-align: top;\n",
       "    }\n",
       "\n",
       "    .dataframe thead th {\n",
       "        text-align: right;\n",
       "    }\n",
       "</style>\n",
       "<table border=\"1\" class=\"dataframe\">\n",
       "  <thead>\n",
       "    <tr style=\"text-align: right;\">\n",
       "      <th></th>\n",
       "      <th>bloomberg_ticker</th>\n",
       "      <th>nse_ticker</th>\n",
       "      <th>entity_share_class_figi</th>\n",
       "      <th>date</th>\n",
       "      <th>adj_open</th>\n",
       "      <th>adj_high</th>\n",
       "      <th>adj_low</th>\n",
       "      <th>adj_close</th>\n",
       "      <th>adj_volume</th>\n",
       "      <th>value</th>\n",
       "      <th>adj_oi</th>\n",
       "      <th>next_date</th>\n",
       "      <th>date_gap</th>\n",
       "    </tr>\n",
       "  </thead>\n",
       "  <tbody>\n",
       "    <tr>\n",
       "      <th>310178</th>\n",
       "      <td>MRPL</td>\n",
       "      <td>MRPL</td>\n",
       "      <td>BBG001S840W9</td>\n",
       "      <td>2012-09-27</td>\n",
       "      <td>59.25</td>\n",
       "      <td>60.65</td>\n",
       "      <td>58.10</td>\n",
       "      <td>60.10</td>\n",
       "      <td>214.0</td>\n",
       "      <td>509.08</td>\n",
       "      <td>616000.0</td>\n",
       "      <td>2017-04-28</td>\n",
       "      <td>1674.0</td>\n",
       "    </tr>\n",
       "    <tr>\n",
       "      <th>310407</th>\n",
       "      <td>MRPL</td>\n",
       "      <td>MRPL</td>\n",
       "      <td>BBG001S840W9</td>\n",
       "      <td>2018-03-28</td>\n",
       "      <td>111.45</td>\n",
       "      <td>111.45</td>\n",
       "      <td>108.20</td>\n",
       "      <td>109.75</td>\n",
       "      <td>993.0</td>\n",
       "      <td>4928.36</td>\n",
       "      <td>814500.0</td>\n",
       "      <td>2018-04-02</td>\n",
       "      <td>5.0</td>\n",
       "    </tr>\n",
       "    <tr>\n",
       "      <th>309487</th>\n",
       "      <td>MRPL</td>\n",
       "      <td>MRPL</td>\n",
       "      <td>BBG001S840W9</td>\n",
       "      <td>2009-12-24</td>\n",
       "      <td>78.00</td>\n",
       "      <td>79.20</td>\n",
       "      <td>77.75</td>\n",
       "      <td>78.35</td>\n",
       "      <td>564.0</td>\n",
       "      <td>1966.95</td>\n",
       "      <td>4605750.0</td>\n",
       "      <td>2009-12-29</td>\n",
       "      <td>5.0</td>\n",
       "    </tr>\n",
       "    <tr>\n",
       "      <th>309323</th>\n",
       "      <td>MRPL</td>\n",
       "      <td>MRPL</td>\n",
       "      <td>BBG001S840W9</td>\n",
       "      <td>2009-04-29</td>\n",
       "      <td>48.20</td>\n",
       "      <td>49.20</td>\n",
       "      <td>47.60</td>\n",
       "      <td>49.10</td>\n",
       "      <td>189.0</td>\n",
       "      <td>815.02</td>\n",
       "      <td>720900.0</td>\n",
       "      <td>2009-05-04</td>\n",
       "      <td>5.0</td>\n",
       "    </tr>\n",
       "    <tr>\n",
       "      <th>310056</th>\n",
       "      <td>MRPL</td>\n",
       "      <td>MRPL</td>\n",
       "      <td>BBG001S840W9</td>\n",
       "      <td>2012-04-04</td>\n",
       "      <td>68.25</td>\n",
       "      <td>68.70</td>\n",
       "      <td>67.45</td>\n",
       "      <td>68.40</td>\n",
       "      <td>43.0</td>\n",
       "      <td>117.14</td>\n",
       "      <td>1796000.0</td>\n",
       "      <td>2012-04-09</td>\n",
       "      <td>5.0</td>\n",
       "    </tr>\n",
       "  </tbody>\n",
       "</table>\n",
       "</div>"
      ],
      "text/plain": [
       "       bloomberg_ticker nse_ticker entity_share_class_figi       date  \\\n",
       "310178             MRPL       MRPL            BBG001S840W9 2012-09-27   \n",
       "310407             MRPL       MRPL            BBG001S840W9 2018-03-28   \n",
       "309487             MRPL       MRPL            BBG001S840W9 2009-12-24   \n",
       "309323             MRPL       MRPL            BBG001S840W9 2009-04-29   \n",
       "310056             MRPL       MRPL            BBG001S840W9 2012-04-04   \n",
       "\n",
       "        adj_open  adj_high  adj_low  adj_close  adj_volume    value  \\\n",
       "310178     59.25     60.65    58.10      60.10       214.0   509.08   \n",
       "310407    111.45    111.45   108.20     109.75       993.0  4928.36   \n",
       "309487     78.00     79.20    77.75      78.35       564.0  1966.95   \n",
       "309323     48.20     49.20    47.60      49.10       189.0   815.02   \n",
       "310056     68.25     68.70    67.45      68.40        43.0   117.14   \n",
       "\n",
       "           adj_oi  next_date  date_gap  \n",
       "310178   616000.0 2017-04-28    1674.0  \n",
       "310407   814500.0 2018-04-02       5.0  \n",
       "309487  4605750.0 2009-12-29       5.0  \n",
       "309323   720900.0 2009-05-04       5.0  \n",
       "310056  1796000.0 2012-04-09       5.0  "
      ]
     },
     "execution_count": 32,
     "metadata": {},
     "output_type": "execute_result"
    }
   ],
   "source": [
    "sub_price_energy.query(\"nse_ticker == 'MRPL'\").sort_values('date_gap', ascending=False).head()"
   ]
  },
  {
   "cell_type": "markdown",
   "metadata": {},
   "source": [
    "## Auto communication price prediction(both news and price) data max date_gap"
   ]
  },
  {
   "cell_type": "code",
   "execution_count": 33,
   "metadata": {},
   "outputs": [
    {
     "data": {
      "text/html": [
       "<div>\n",
       "<style scoped>\n",
       "    .dataframe tbody tr th:only-of-type {\n",
       "        vertical-align: middle;\n",
       "    }\n",
       "\n",
       "    .dataframe tbody tr th {\n",
       "        vertical-align: top;\n",
       "    }\n",
       "\n",
       "    .dataframe thead th {\n",
       "        text-align: right;\n",
       "    }\n",
       "</style>\n",
       "<table border=\"1\" class=\"dataframe\">\n",
       "  <thead>\n",
       "    <tr style=\"text-align: right;\">\n",
       "      <th></th>\n",
       "      <th>date</th>\n",
       "      <th>ticker</th>\n",
       "      <th>preds</th>\n",
       "      <th>truths</th>\n",
       "      <th>proba</th>\n",
       "      <th>proba_filtered</th>\n",
       "    </tr>\n",
       "  </thead>\n",
       "  <tbody>\n",
       "    <tr>\n",
       "      <th>0</th>\n",
       "      <td>2019-05-21 00:00:00-04:00</td>\n",
       "      <td>BHARTIARTL</td>\n",
       "      <td>1</td>\n",
       "      <td>-1</td>\n",
       "      <td>0.856928</td>\n",
       "      <td>0.856928</td>\n",
       "    </tr>\n",
       "    <tr>\n",
       "      <th>1</th>\n",
       "      <td>2019-05-21 00:00:00-04:00</td>\n",
       "      <td>IDEA</td>\n",
       "      <td>1</td>\n",
       "      <td>-1</td>\n",
       "      <td>0.587570</td>\n",
       "      <td>0.587570</td>\n",
       "    </tr>\n",
       "    <tr>\n",
       "      <th>2</th>\n",
       "      <td>2019-05-21 00:00:00-04:00</td>\n",
       "      <td>INFRATEL</td>\n",
       "      <td>1</td>\n",
       "      <td>1</td>\n",
       "      <td>0.522500</td>\n",
       "      <td>0.522500</td>\n",
       "    </tr>\n",
       "    <tr>\n",
       "      <th>3</th>\n",
       "      <td>2019-05-21 00:00:00-04:00</td>\n",
       "      <td>TATACOMM</td>\n",
       "      <td>-1</td>\n",
       "      <td>-1</td>\n",
       "      <td>-0.580018</td>\n",
       "      <td>NaN</td>\n",
       "    </tr>\n",
       "    <tr>\n",
       "      <th>4</th>\n",
       "      <td>2019-05-20 00:00:00-04:00</td>\n",
       "      <td>BHARTIARTL</td>\n",
       "      <td>1</td>\n",
       "      <td>1</td>\n",
       "      <td>0.902589</td>\n",
       "      <td>0.902589</td>\n",
       "    </tr>\n",
       "  </tbody>\n",
       "</table>\n",
       "</div>"
      ],
      "text/plain": [
       "                        date      ticker  preds  truths     proba  \\\n",
       "0  2019-05-21 00:00:00-04:00  BHARTIARTL      1      -1  0.856928   \n",
       "1  2019-05-21 00:00:00-04:00        IDEA      1      -1  0.587570   \n",
       "2  2019-05-21 00:00:00-04:00    INFRATEL      1       1  0.522500   \n",
       "3  2019-05-21 00:00:00-04:00    TATACOMM     -1      -1 -0.580018   \n",
       "4  2019-05-20 00:00:00-04:00  BHARTIARTL      1       1  0.902589   \n",
       "\n",
       "   proba_filtered  \n",
       "0        0.856928  \n",
       "1        0.587570  \n",
       "2        0.522500  \n",
       "3             NaN  \n",
       "4        0.902589  "
      ]
     },
     "execution_count": 33,
     "metadata": {},
     "output_type": "execute_result"
    }
   ],
   "source": [
    "communication_prediction = pd.read_csv(\"auto_communication_dj_price_prediction.csv\", parse_dates=['date'])\n",
    "communication_prediction.head()"
   ]
  },
  {
   "cell_type": "code",
   "execution_count": 34,
   "metadata": {},
   "outputs": [],
   "source": [
    "communication_prediction = communication_prediction.sort_values(['ticker', 'date'])\n",
    "communication_prediction['next_date'] = communication_prediction.groupby('ticker')['date'].shift(-1)\n",
    "communication_prediction['date_gap'] = communication_prediction['next_date'] - communication_prediction['date']\n",
    "communication_prediction['date_gap'] = communication_prediction['date_gap'].apply(lambda x:x.days)"
   ]
  },
  {
   "cell_type": "code",
   "execution_count": 35,
   "metadata": {},
   "outputs": [
    {
     "data": {
      "text/plain": [
       "5260    6.0\n",
       "5262    6.0\n",
       "3794    6.0\n",
       "5259    6.0\n",
       "5261    6.0\n",
       "Name: date_gap, dtype: float64"
      ]
     },
     "execution_count": 35,
     "metadata": {},
     "output_type": "execute_result"
    }
   ],
   "source": [
    "# communication_prediction['date_gap'].sort_values(ascending=False).head()"
   ]
  },
  {
   "cell_type": "code",
   "execution_count": 36,
   "metadata": {},
   "outputs": [
    {
     "data": {
      "text/plain": [
       "5"
      ]
     },
     "execution_count": 36,
     "metadata": {},
     "output_type": "execute_result"
    }
   ],
   "source": [
    "# communication_prediction['ticker'].nunique()"
   ]
  },
  {
   "cell_type": "code",
   "execution_count": 37,
   "metadata": {},
   "outputs": [],
   "source": [
    "communication_max_gap = communication_prediction.pivot_table(values='date_gap', index='ticker', \n",
    "                                                             aggfunc='max').sort_values('date_gap', ascending=False).reset_index()"
   ]
  },
  {
   "cell_type": "code",
   "execution_count": 38,
   "metadata": {},
   "outputs": [
    {
     "data": {
      "text/html": [
       "<div>\n",
       "<style scoped>\n",
       "    .dataframe tbody tr th:only-of-type {\n",
       "        vertical-align: middle;\n",
       "    }\n",
       "\n",
       "    .dataframe tbody tr th {\n",
       "        vertical-align: top;\n",
       "    }\n",
       "\n",
       "    .dataframe thead th {\n",
       "        text-align: right;\n",
       "    }\n",
       "</style>\n",
       "<table border=\"1\" class=\"dataframe\">\n",
       "  <thead>\n",
       "    <tr style=\"text-align: right;\">\n",
       "      <th></th>\n",
       "      <th>ticker</th>\n",
       "      <th>date_gap</th>\n",
       "    </tr>\n",
       "  </thead>\n",
       "  <tbody>\n",
       "    <tr>\n",
       "      <th>0</th>\n",
       "      <td>BHARTIARTL</td>\n",
       "      <td>6.0</td>\n",
       "    </tr>\n",
       "    <tr>\n",
       "      <th>1</th>\n",
       "      <td>IDEA</td>\n",
       "      <td>6.0</td>\n",
       "    </tr>\n",
       "    <tr>\n",
       "      <th>2</th>\n",
       "      <td>RCOM</td>\n",
       "      <td>6.0</td>\n",
       "    </tr>\n",
       "    <tr>\n",
       "      <th>3</th>\n",
       "      <td>TATACOMM</td>\n",
       "      <td>6.0</td>\n",
       "    </tr>\n",
       "    <tr>\n",
       "      <th>4</th>\n",
       "      <td>INFRATEL</td>\n",
       "      <td>5.0</td>\n",
       "    </tr>\n",
       "  </tbody>\n",
       "</table>\n",
       "</div>"
      ],
      "text/plain": [
       "       ticker  date_gap\n",
       "0  BHARTIARTL       6.0\n",
       "1        IDEA       6.0\n",
       "2        RCOM       6.0\n",
       "3    TATACOMM       6.0\n",
       "4    INFRATEL       5.0"
      ]
     },
     "execution_count": 38,
     "metadata": {},
     "output_type": "execute_result"
    }
   ],
   "source": [
    "communication_max_gap"
   ]
  },
  {
   "cell_type": "code",
   "execution_count": 39,
   "metadata": {},
   "outputs": [
    {
     "data": {
      "text/plain": [
       "ticker\n",
       "BHARTIARTL    2009-05-25 00:00:00-04:00\n",
       "IDEA          2009-05-28 00:00:00-04:00\n",
       "INFRATEL      2016-02-10 00:00:00-05:00\n",
       "RCOM          2009-05-25 00:00:00-04:00\n",
       "TATACOMM      2009-05-25 00:00:00-04:00\n",
       "Name: date, dtype: object"
      ]
     },
     "execution_count": 39,
     "metadata": {},
     "output_type": "execute_result"
    }
   ],
   "source": [
    "communication_prediction.groupby('ticker')['date'].min()"
   ]
  },
  {
   "cell_type": "code",
   "execution_count": 40,
   "metadata": {},
   "outputs": [],
   "source": [
    "communication = communication_prediction.ticker.unique()\n",
    "sub_price_communication = adj_price[adj_price[\"nse_ticker\"].isin(communication)]"
   ]
  },
  {
   "cell_type": "code",
   "execution_count": 63,
   "metadata": {},
   "outputs": [
    {
     "data": {
      "text/html": [
       "<div>\n",
       "<style scoped>\n",
       "    .dataframe tbody tr th:only-of-type {\n",
       "        vertical-align: middle;\n",
       "    }\n",
       "\n",
       "    .dataframe tbody tr th {\n",
       "        vertical-align: top;\n",
       "    }\n",
       "\n",
       "    .dataframe thead th {\n",
       "        text-align: right;\n",
       "    }\n",
       "</style>\n",
       "<table border=\"1\" class=\"dataframe\">\n",
       "  <thead>\n",
       "    <tr style=\"text-align: right;\">\n",
       "      <th></th>\n",
       "      <th>nse_ticker</th>\n",
       "      <th>date</th>\n",
       "    </tr>\n",
       "  </thead>\n",
       "  <tbody>\n",
       "    <tr>\n",
       "      <th>0</th>\n",
       "      <td>BHARTIARTL</td>\n",
       "      <td>2009-01-01</td>\n",
       "    </tr>\n",
       "    <tr>\n",
       "      <th>1</th>\n",
       "      <td>IDEA</td>\n",
       "      <td>2009-01-01</td>\n",
       "    </tr>\n",
       "    <tr>\n",
       "      <th>2</th>\n",
       "      <td>INFRATEL</td>\n",
       "      <td>2015-09-28</td>\n",
       "    </tr>\n",
       "    <tr>\n",
       "      <th>3</th>\n",
       "      <td>RCOM</td>\n",
       "      <td>2009-01-01</td>\n",
       "    </tr>\n",
       "    <tr>\n",
       "      <th>4</th>\n",
       "      <td>TATACOMM</td>\n",
       "      <td>2009-01-01</td>\n",
       "    </tr>\n",
       "  </tbody>\n",
       "</table>\n",
       "</div>"
      ],
      "text/plain": [
       "   nse_ticker       date\n",
       "0  BHARTIARTL 2009-01-01\n",
       "1        IDEA 2009-01-01\n",
       "2    INFRATEL 2015-09-28\n",
       "3        RCOM 2009-01-01\n",
       "4    TATACOMM 2009-01-01"
      ]
     },
     "execution_count": 63,
     "metadata": {},
     "output_type": "execute_result"
    }
   ],
   "source": [
    "sub_price_communication.groupby('nse_ticker').date.min().reset_index()"
   ]
  },
  {
   "cell_type": "code",
   "execution_count": 42,
   "metadata": {},
   "outputs": [
    {
     "data": {
      "text/html": [
       "<div>\n",
       "<style scoped>\n",
       "    .dataframe tbody tr th:only-of-type {\n",
       "        vertical-align: middle;\n",
       "    }\n",
       "\n",
       "    .dataframe tbody tr th {\n",
       "        vertical-align: top;\n",
       "    }\n",
       "\n",
       "    .dataframe thead th {\n",
       "        text-align: right;\n",
       "    }\n",
       "</style>\n",
       "<table border=\"1\" class=\"dataframe\">\n",
       "  <thead>\n",
       "    <tr style=\"text-align: right;\">\n",
       "      <th></th>\n",
       "      <th>nse_ticker</th>\n",
       "      <th>date_gap</th>\n",
       "    </tr>\n",
       "  </thead>\n",
       "  <tbody>\n",
       "    <tr>\n",
       "      <th>0</th>\n",
       "      <td>BHARTIARTL</td>\n",
       "      <td>6.0</td>\n",
       "    </tr>\n",
       "    <tr>\n",
       "      <th>1</th>\n",
       "      <td>IDEA</td>\n",
       "      <td>6.0</td>\n",
       "    </tr>\n",
       "    <tr>\n",
       "      <th>2</th>\n",
       "      <td>INFRATEL</td>\n",
       "      <td>5.0</td>\n",
       "    </tr>\n",
       "    <tr>\n",
       "      <th>3</th>\n",
       "      <td>RCOM</td>\n",
       "      <td>6.0</td>\n",
       "    </tr>\n",
       "    <tr>\n",
       "      <th>4</th>\n",
       "      <td>TATACOMM</td>\n",
       "      <td>6.0</td>\n",
       "    </tr>\n",
       "  </tbody>\n",
       "</table>\n",
       "</div>"
      ],
      "text/plain": [
       "   nse_ticker  date_gap\n",
       "0  BHARTIARTL       6.0\n",
       "1        IDEA       6.0\n",
       "2    INFRATEL       5.0\n",
       "3        RCOM       6.0\n",
       "4    TATACOMM       6.0"
      ]
     },
     "execution_count": 42,
     "metadata": {},
     "output_type": "execute_result"
    }
   ],
   "source": [
    "sub_price_communication.groupby(\"nse_ticker\").date_gap.max().reset_index()"
   ]
  },
  {
   "cell_type": "markdown",
   "metadata": {},
   "source": [
    "## Auto communication price prediction (price only) data max date_gap"
   ]
  },
  {
   "cell_type": "code",
   "execution_count": 43,
   "metadata": {},
   "outputs": [
    {
     "data": {
      "text/html": [
       "<div>\n",
       "<style scoped>\n",
       "    .dataframe tbody tr th:only-of-type {\n",
       "        vertical-align: middle;\n",
       "    }\n",
       "\n",
       "    .dataframe tbody tr th {\n",
       "        vertical-align: top;\n",
       "    }\n",
       "\n",
       "    .dataframe thead th {\n",
       "        text-align: right;\n",
       "    }\n",
       "</style>\n",
       "<table border=\"1\" class=\"dataframe\">\n",
       "  <thead>\n",
       "    <tr style=\"text-align: right;\">\n",
       "      <th></th>\n",
       "      <th>date</th>\n",
       "      <th>ticker</th>\n",
       "      <th>preds</th>\n",
       "      <th>truths</th>\n",
       "      <th>proba</th>\n",
       "      <th>proba_filtered</th>\n",
       "    </tr>\n",
       "  </thead>\n",
       "  <tbody>\n",
       "    <tr>\n",
       "      <th>0</th>\n",
       "      <td>2019-05-21 00:00:00-04:00</td>\n",
       "      <td>BHARTIARTL</td>\n",
       "      <td>1</td>\n",
       "      <td>-1</td>\n",
       "      <td>0.800000</td>\n",
       "      <td>NaN</td>\n",
       "    </tr>\n",
       "    <tr>\n",
       "      <th>1</th>\n",
       "      <td>2019-05-21 00:00:00-04:00</td>\n",
       "      <td>IDEA</td>\n",
       "      <td>-1</td>\n",
       "      <td>-1</td>\n",
       "      <td>-0.878111</td>\n",
       "      <td>-0.878111</td>\n",
       "    </tr>\n",
       "    <tr>\n",
       "      <th>2</th>\n",
       "      <td>2019-05-21 00:00:00-04:00</td>\n",
       "      <td>INFRATEL</td>\n",
       "      <td>-1</td>\n",
       "      <td>1</td>\n",
       "      <td>-0.590387</td>\n",
       "      <td>-0.590387</td>\n",
       "    </tr>\n",
       "    <tr>\n",
       "      <th>3</th>\n",
       "      <td>2019-05-21 00:00:00-04:00</td>\n",
       "      <td>TATACOMM</td>\n",
       "      <td>-1</td>\n",
       "      <td>-1</td>\n",
       "      <td>-0.643513</td>\n",
       "      <td>NaN</td>\n",
       "    </tr>\n",
       "    <tr>\n",
       "      <th>4</th>\n",
       "      <td>2019-05-20 00:00:00-04:00</td>\n",
       "      <td>BHARTIARTL</td>\n",
       "      <td>-1</td>\n",
       "      <td>1</td>\n",
       "      <td>-0.600000</td>\n",
       "      <td>NaN</td>\n",
       "    </tr>\n",
       "  </tbody>\n",
       "</table>\n",
       "</div>"
      ],
      "text/plain": [
       "                        date      ticker  preds  truths     proba  \\\n",
       "0  2019-05-21 00:00:00-04:00  BHARTIARTL      1      -1  0.800000   \n",
       "1  2019-05-21 00:00:00-04:00        IDEA     -1      -1 -0.878111   \n",
       "2  2019-05-21 00:00:00-04:00    INFRATEL     -1       1 -0.590387   \n",
       "3  2019-05-21 00:00:00-04:00    TATACOMM     -1      -1 -0.643513   \n",
       "4  2019-05-20 00:00:00-04:00  BHARTIARTL     -1       1 -0.600000   \n",
       "\n",
       "   proba_filtered  \n",
       "0             NaN  \n",
       "1       -0.878111  \n",
       "2       -0.590387  \n",
       "3             NaN  \n",
       "4             NaN  "
      ]
     },
     "execution_count": 43,
     "metadata": {},
     "output_type": "execute_result"
    }
   ],
   "source": [
    "communication_price_only = pd.read_csv(\"auto_communication_price_only_prediction.csv\", parse_dates=['date'])\n",
    "communication_price_only.head()"
   ]
  },
  {
   "cell_type": "code",
   "execution_count": 44,
   "metadata": {},
   "outputs": [],
   "source": [
    "communication_price_only = communication_price_only.sort_values(['ticker', 'date'])\n",
    "communication_price_only['next_date'] = communication_price_only.groupby('ticker')['date'].shift(-1)\n",
    "communication_price_only['date_gap'] = communication_price_only['next_date'] - communication_price_only['date']\n",
    "communication_price_only['date_gap'] = communication_price_only['date_gap'].apply(lambda x:x.days)"
   ]
  },
  {
   "cell_type": "code",
   "execution_count": 45,
   "metadata": {},
   "outputs": [
    {
     "data": {
      "text/plain": [
       "5260    6.0\n",
       "5262    6.0\n",
       "3794    6.0\n",
       "5259    6.0\n",
       "5261    6.0\n",
       "Name: date_gap, dtype: float64"
      ]
     },
     "execution_count": 45,
     "metadata": {},
     "output_type": "execute_result"
    }
   ],
   "source": [
    "# communication_price_only['date_gap'].sort_values(ascending=False).head()"
   ]
  },
  {
   "cell_type": "code",
   "execution_count": 46,
   "metadata": {},
   "outputs": [
    {
     "data": {
      "text/plain": [
       "5"
      ]
     },
     "execution_count": 46,
     "metadata": {},
     "output_type": "execute_result"
    }
   ],
   "source": [
    "# communication_price_only['ticker'].nunique()"
   ]
  },
  {
   "cell_type": "code",
   "execution_count": 47,
   "metadata": {},
   "outputs": [],
   "source": [
    "communication_price_only_max_gap = communication_price_only.pivot_table(values='date_gap', index='ticker', \n",
    "                                                                        aggfunc='max').sort_values('date_gap', ascending=False).reset_index()"
   ]
  },
  {
   "cell_type": "code",
   "execution_count": 48,
   "metadata": {},
   "outputs": [
    {
     "data": {
      "text/html": [
       "<div>\n",
       "<style scoped>\n",
       "    .dataframe tbody tr th:only-of-type {\n",
       "        vertical-align: middle;\n",
       "    }\n",
       "\n",
       "    .dataframe tbody tr th {\n",
       "        vertical-align: top;\n",
       "    }\n",
       "\n",
       "    .dataframe thead th {\n",
       "        text-align: right;\n",
       "    }\n",
       "</style>\n",
       "<table border=\"1\" class=\"dataframe\">\n",
       "  <thead>\n",
       "    <tr style=\"text-align: right;\">\n",
       "      <th></th>\n",
       "      <th>ticker</th>\n",
       "      <th>date_gap</th>\n",
       "    </tr>\n",
       "  </thead>\n",
       "  <tbody>\n",
       "    <tr>\n",
       "      <th>0</th>\n",
       "      <td>BHARTIARTL</td>\n",
       "      <td>6.0</td>\n",
       "    </tr>\n",
       "    <tr>\n",
       "      <th>1</th>\n",
       "      <td>IDEA</td>\n",
       "      <td>6.0</td>\n",
       "    </tr>\n",
       "    <tr>\n",
       "      <th>2</th>\n",
       "      <td>RCOM</td>\n",
       "      <td>6.0</td>\n",
       "    </tr>\n",
       "    <tr>\n",
       "      <th>3</th>\n",
       "      <td>TATACOMM</td>\n",
       "      <td>6.0</td>\n",
       "    </tr>\n",
       "    <tr>\n",
       "      <th>4</th>\n",
       "      <td>INFRATEL</td>\n",
       "      <td>5.0</td>\n",
       "    </tr>\n",
       "  </tbody>\n",
       "</table>\n",
       "</div>"
      ],
      "text/plain": [
       "       ticker  date_gap\n",
       "0  BHARTIARTL       6.0\n",
       "1        IDEA       6.0\n",
       "2        RCOM       6.0\n",
       "3    TATACOMM       6.0\n",
       "4    INFRATEL       5.0"
      ]
     },
     "execution_count": 48,
     "metadata": {},
     "output_type": "execute_result"
    }
   ],
   "source": [
    "communication_price_only_max_gap"
   ]
  },
  {
   "cell_type": "code",
   "execution_count": 49,
   "metadata": {},
   "outputs": [
    {
     "data": {
      "text/plain": [
       "ticker\n",
       "BHARTIARTL    2009-05-25 00:00:00-04:00\n",
       "IDEA          2009-05-28 00:00:00-04:00\n",
       "INFRATEL      2016-02-10 00:00:00-05:00\n",
       "RCOM          2009-05-25 00:00:00-04:00\n",
       "TATACOMM      2009-05-25 00:00:00-04:00\n",
       "Name: date, dtype: object"
      ]
     },
     "execution_count": 49,
     "metadata": {},
     "output_type": "execute_result"
    }
   ],
   "source": [
    "communication_price_only.groupby('ticker')['date'].min()"
   ]
  },
  {
   "cell_type": "code",
   "execution_count": 50,
   "metadata": {},
   "outputs": [],
   "source": [
    "communication_only = communication_price_only.ticker.unique()\n",
    "sub_price_communication_only = adj_price[adj_price[\"nse_ticker\"].isin(communication_only)]"
   ]
  },
  {
   "cell_type": "code",
   "execution_count": 51,
   "metadata": {},
   "outputs": [
    {
     "data": {
      "text/plain": [
       "nse_ticker\n",
       "BHARTIARTL   2009-01-01\n",
       "IDEA         2009-01-01\n",
       "INFRATEL     2015-09-28\n",
       "RCOM         2009-01-01\n",
       "TATACOMM     2009-01-01\n",
       "Name: date, dtype: datetime64[ns]"
      ]
     },
     "execution_count": 51,
     "metadata": {},
     "output_type": "execute_result"
    }
   ],
   "source": [
    "sub_price_communication_only.groupby('nse_ticker').date.min()"
   ]
  },
  {
   "cell_type": "code",
   "execution_count": 52,
   "metadata": {},
   "outputs": [
    {
     "data": {
      "text/html": [
       "<div>\n",
       "<style scoped>\n",
       "    .dataframe tbody tr th:only-of-type {\n",
       "        vertical-align: middle;\n",
       "    }\n",
       "\n",
       "    .dataframe tbody tr th {\n",
       "        vertical-align: top;\n",
       "    }\n",
       "\n",
       "    .dataframe thead th {\n",
       "        text-align: right;\n",
       "    }\n",
       "</style>\n",
       "<table border=\"1\" class=\"dataframe\">\n",
       "  <thead>\n",
       "    <tr style=\"text-align: right;\">\n",
       "      <th></th>\n",
       "      <th>nse_ticker</th>\n",
       "      <th>date_gap</th>\n",
       "    </tr>\n",
       "  </thead>\n",
       "  <tbody>\n",
       "    <tr>\n",
       "      <th>0</th>\n",
       "      <td>BHARTIARTL</td>\n",
       "      <td>6.0</td>\n",
       "    </tr>\n",
       "    <tr>\n",
       "      <th>1</th>\n",
       "      <td>IDEA</td>\n",
       "      <td>6.0</td>\n",
       "    </tr>\n",
       "    <tr>\n",
       "      <th>2</th>\n",
       "      <td>INFRATEL</td>\n",
       "      <td>5.0</td>\n",
       "    </tr>\n",
       "    <tr>\n",
       "      <th>3</th>\n",
       "      <td>RCOM</td>\n",
       "      <td>6.0</td>\n",
       "    </tr>\n",
       "    <tr>\n",
       "      <th>4</th>\n",
       "      <td>TATACOMM</td>\n",
       "      <td>6.0</td>\n",
       "    </tr>\n",
       "  </tbody>\n",
       "</table>\n",
       "</div>"
      ],
      "text/plain": [
       "   nse_ticker  date_gap\n",
       "0  BHARTIARTL       6.0\n",
       "1        IDEA       6.0\n",
       "2    INFRATEL       5.0\n",
       "3        RCOM       6.0\n",
       "4    TATACOMM       6.0"
      ]
     },
     "execution_count": 52,
     "metadata": {},
     "output_type": "execute_result"
    }
   ],
   "source": [
    "sub_price_communication_only.groupby(\"nse_ticker\").date_gap.max().reset_index()"
   ]
  },
  {
   "cell_type": "markdown",
   "metadata": {},
   "source": [
    "## Auto utilities price prediction data max date_gap"
   ]
  },
  {
   "cell_type": "code",
   "execution_count": 53,
   "metadata": {},
   "outputs": [
    {
     "data": {
      "text/html": [
       "<div>\n",
       "<style scoped>\n",
       "    .dataframe tbody tr th:only-of-type {\n",
       "        vertical-align: middle;\n",
       "    }\n",
       "\n",
       "    .dataframe tbody tr th {\n",
       "        vertical-align: top;\n",
       "    }\n",
       "\n",
       "    .dataframe thead th {\n",
       "        text-align: right;\n",
       "    }\n",
       "</style>\n",
       "<table border=\"1\" class=\"dataframe\">\n",
       "  <thead>\n",
       "    <tr style=\"text-align: right;\">\n",
       "      <th></th>\n",
       "      <th>date</th>\n",
       "      <th>ticker</th>\n",
       "      <th>preds</th>\n",
       "      <th>truths</th>\n",
       "      <th>proba</th>\n",
       "      <th>proba_filtered</th>\n",
       "    </tr>\n",
       "  </thead>\n",
       "  <tbody>\n",
       "    <tr>\n",
       "      <th>0</th>\n",
       "      <td>2019-05-21 00:00:00-04:00</td>\n",
       "      <td>CESC</td>\n",
       "      <td>-1</td>\n",
       "      <td>-1</td>\n",
       "      <td>-0.687360</td>\n",
       "      <td>-0.687360</td>\n",
       "    </tr>\n",
       "    <tr>\n",
       "      <th>1</th>\n",
       "      <td>2019-05-21 00:00:00-04:00</td>\n",
       "      <td>GAIL</td>\n",
       "      <td>1</td>\n",
       "      <td>-1</td>\n",
       "      <td>0.605790</td>\n",
       "      <td>NaN</td>\n",
       "    </tr>\n",
       "    <tr>\n",
       "      <th>2</th>\n",
       "      <td>2019-05-21 00:00:00-04:00</td>\n",
       "      <td>IGL</td>\n",
       "      <td>-1</td>\n",
       "      <td>-1</td>\n",
       "      <td>-0.678000</td>\n",
       "      <td>-0.678000</td>\n",
       "    </tr>\n",
       "    <tr>\n",
       "      <th>3</th>\n",
       "      <td>2019-05-21 00:00:00-04:00</td>\n",
       "      <td>NTPC</td>\n",
       "      <td>1</td>\n",
       "      <td>-1</td>\n",
       "      <td>0.535581</td>\n",
       "      <td>0.535581</td>\n",
       "    </tr>\n",
       "    <tr>\n",
       "      <th>4</th>\n",
       "      <td>2019-05-21 00:00:00-04:00</td>\n",
       "      <td>POWERGRID</td>\n",
       "      <td>-1</td>\n",
       "      <td>-1</td>\n",
       "      <td>-1.000000</td>\n",
       "      <td>-1.000000</td>\n",
       "    </tr>\n",
       "  </tbody>\n",
       "</table>\n",
       "</div>"
      ],
      "text/plain": [
       "                        date     ticker  preds  truths     proba  \\\n",
       "0  2019-05-21 00:00:00-04:00       CESC     -1      -1 -0.687360   \n",
       "1  2019-05-21 00:00:00-04:00       GAIL      1      -1  0.605790   \n",
       "2  2019-05-21 00:00:00-04:00        IGL     -1      -1 -0.678000   \n",
       "3  2019-05-21 00:00:00-04:00       NTPC      1      -1  0.535581   \n",
       "4  2019-05-21 00:00:00-04:00  POWERGRID     -1      -1 -1.000000   \n",
       "\n",
       "   proba_filtered  \n",
       "0       -0.687360  \n",
       "1             NaN  \n",
       "2       -0.678000  \n",
       "3        0.535581  \n",
       "4       -1.000000  "
      ]
     },
     "execution_count": 53,
     "metadata": {},
     "output_type": "execute_result"
    }
   ],
   "source": [
    "utilities_prediction = pd.read_csv('auto_utilities_price_only_prediction.csv', parse_dates=['date'])\n",
    "utilities_prediction.head()"
   ]
  },
  {
   "cell_type": "code",
   "execution_count": 54,
   "metadata": {},
   "outputs": [],
   "source": [
    "utilities_prediction = utilities_prediction.sort_values(['ticker', 'date'])\n",
    "utilities_prediction['next_date'] = utilities_prediction.groupby('ticker')['date'].shift(-1)\n",
    "utilities_prediction['date_gap'] = utilities_prediction['next_date'] - utilities_prediction['date']\n",
    "utilities_prediction['date_gap'] = utilities_prediction['date_gap'].apply(lambda x:x.days)"
   ]
  },
  {
   "cell_type": "code",
   "execution_count": 55,
   "metadata": {},
   "outputs": [
    {
     "data": {
      "text/plain": [
       "9838     6.0\n",
       "9839     6.0\n",
       "9842     6.0\n",
       "20645    6.0\n",
       "9841     6.0\n",
       "Name: date_gap, dtype: float64"
      ]
     },
     "execution_count": 55,
     "metadata": {},
     "output_type": "execute_result"
    }
   ],
   "source": [
    "# utilities_prediction['date_gap'].sort_values(ascending=False).head()"
   ]
  },
  {
   "cell_type": "code",
   "execution_count": 56,
   "metadata": {},
   "outputs": [
    {
     "data": {
      "text/plain": [
       "10"
      ]
     },
     "execution_count": 56,
     "metadata": {},
     "output_type": "execute_result"
    }
   ],
   "source": [
    "# utilities_prediction.ticker.nunique()"
   ]
  },
  {
   "cell_type": "code",
   "execution_count": 57,
   "metadata": {},
   "outputs": [],
   "source": [
    "utilities_max_gap = utilities_prediction.pivot_table(values='date_gap', index='ticker', \n",
    "                                                     aggfunc='max').sort_values('date_gap', ascending=False).reset_index()                                                                                            "
   ]
  },
  {
   "cell_type": "code",
   "execution_count": 58,
   "metadata": {},
   "outputs": [
    {
     "data": {
      "text/html": [
       "<div>\n",
       "<style scoped>\n",
       "    .dataframe tbody tr th:only-of-type {\n",
       "        vertical-align: middle;\n",
       "    }\n",
       "\n",
       "    .dataframe tbody tr th {\n",
       "        vertical-align: top;\n",
       "    }\n",
       "\n",
       "    .dataframe thead th {\n",
       "        text-align: right;\n",
       "    }\n",
       "</style>\n",
       "<table border=\"1\" class=\"dataframe\">\n",
       "  <thead>\n",
       "    <tr style=\"text-align: right;\">\n",
       "      <th></th>\n",
       "      <th>ticker</th>\n",
       "      <th>date_gap</th>\n",
       "    </tr>\n",
       "  </thead>\n",
       "  <tbody>\n",
       "    <tr>\n",
       "      <th>0</th>\n",
       "      <td>CESC</td>\n",
       "      <td>6.0</td>\n",
       "    </tr>\n",
       "    <tr>\n",
       "      <th>1</th>\n",
       "      <td>GAIL</td>\n",
       "      <td>6.0</td>\n",
       "    </tr>\n",
       "    <tr>\n",
       "      <th>2</th>\n",
       "      <td>IGL</td>\n",
       "      <td>6.0</td>\n",
       "    </tr>\n",
       "    <tr>\n",
       "      <th>3</th>\n",
       "      <td>JSWENERGY</td>\n",
       "      <td>6.0</td>\n",
       "    </tr>\n",
       "    <tr>\n",
       "      <th>4</th>\n",
       "      <td>NTPC</td>\n",
       "      <td>6.0</td>\n",
       "    </tr>\n",
       "    <tr>\n",
       "      <th>5</th>\n",
       "      <td>POWERGRID</td>\n",
       "      <td>6.0</td>\n",
       "    </tr>\n",
       "    <tr>\n",
       "      <th>6</th>\n",
       "      <td>RELINFRA</td>\n",
       "      <td>6.0</td>\n",
       "    </tr>\n",
       "    <tr>\n",
       "      <th>7</th>\n",
       "      <td>RPOWER</td>\n",
       "      <td>6.0</td>\n",
       "    </tr>\n",
       "    <tr>\n",
       "      <th>8</th>\n",
       "      <td>TATAPOWER</td>\n",
       "      <td>6.0</td>\n",
       "    </tr>\n",
       "    <tr>\n",
       "      <th>9</th>\n",
       "      <td>GSPL</td>\n",
       "      <td>5.0</td>\n",
       "    </tr>\n",
       "  </tbody>\n",
       "</table>\n",
       "</div>"
      ],
      "text/plain": [
       "      ticker  date_gap\n",
       "0       CESC       6.0\n",
       "1       GAIL       6.0\n",
       "2        IGL       6.0\n",
       "3  JSWENERGY       6.0\n",
       "4       NTPC       6.0\n",
       "5  POWERGRID       6.0\n",
       "6   RELINFRA       6.0\n",
       "7     RPOWER       6.0\n",
       "8  TATAPOWER       6.0\n",
       "9       GSPL       5.0"
      ]
     },
     "execution_count": 58,
     "metadata": {},
     "output_type": "execute_result"
    }
   ],
   "source": [
    "utilities_max_gap"
   ]
  },
  {
   "cell_type": "code",
   "execution_count": 59,
   "metadata": {},
   "outputs": [
    {
     "data": {
      "text/plain": [
       "ticker\n",
       "CESC         2009-05-25 00:00:00-04:00\n",
       "GAIL         2009-05-25 00:00:00-04:00\n",
       "GSPL         2009-05-28 00:00:00-04:00\n",
       "IGL          2011-03-11 00:00:00-05:00\n",
       "JSWENERGY    2011-12-01 00:00:00-05:00\n",
       "NTPC         2009-05-26 00:00:00-04:00\n",
       "POWERGRID    2009-05-27 00:00:00-04:00\n",
       "RELINFRA     2009-05-25 00:00:00-04:00\n",
       "RPOWER       2009-05-25 00:00:00-04:00\n",
       "TATAPOWER    2009-05-25 00:00:00-04:00\n",
       "Name: date, dtype: object"
      ]
     },
     "execution_count": 59,
     "metadata": {},
     "output_type": "execute_result"
    }
   ],
   "source": [
    "utilities_prediction.groupby('ticker')['date'].min()"
   ]
  },
  {
   "cell_type": "code",
   "execution_count": 60,
   "metadata": {},
   "outputs": [],
   "source": [
    "utilities =  utilities_prediction.ticker.unique()\n",
    "sub_price_utilities = adj_price[adj_price[\"nse_ticker\"].isin(utilities)]"
   ]
  },
  {
   "cell_type": "code",
   "execution_count": 61,
   "metadata": {},
   "outputs": [
    {
     "data": {
      "text/plain": [
       "nse_ticker\n",
       "CESC        2009-01-01\n",
       "GAIL        2009-01-01\n",
       "GSPL        2009-01-01\n",
       "IGL         2010-10-29\n",
       "JSWENERGY   2011-07-18\n",
       "NTPC        2009-01-01\n",
       "POWERGRID   2009-01-01\n",
       "RELINFRA    2009-01-01\n",
       "RPOWER      2009-01-01\n",
       "TATAPOWER   2009-01-01\n",
       "Name: date, dtype: datetime64[ns]"
      ]
     },
     "execution_count": 61,
     "metadata": {},
     "output_type": "execute_result"
    }
   ],
   "source": [
    "sub_price_utilities.groupby('nse_ticker').date.min()"
   ]
  },
  {
   "cell_type": "code",
   "execution_count": 62,
   "metadata": {},
   "outputs": [
    {
     "data": {
      "text/html": [
       "<div>\n",
       "<style scoped>\n",
       "    .dataframe tbody tr th:only-of-type {\n",
       "        vertical-align: middle;\n",
       "    }\n",
       "\n",
       "    .dataframe tbody tr th {\n",
       "        vertical-align: top;\n",
       "    }\n",
       "\n",
       "    .dataframe thead th {\n",
       "        text-align: right;\n",
       "    }\n",
       "</style>\n",
       "<table border=\"1\" class=\"dataframe\">\n",
       "  <thead>\n",
       "    <tr style=\"text-align: right;\">\n",
       "      <th></th>\n",
       "      <th>nse_ticker</th>\n",
       "      <th>date_gap</th>\n",
       "    </tr>\n",
       "  </thead>\n",
       "  <tbody>\n",
       "    <tr>\n",
       "      <th>0</th>\n",
       "      <td>CESC</td>\n",
       "      <td>6.0</td>\n",
       "    </tr>\n",
       "    <tr>\n",
       "      <th>1</th>\n",
       "      <td>GAIL</td>\n",
       "      <td>6.0</td>\n",
       "    </tr>\n",
       "    <tr>\n",
       "      <th>2</th>\n",
       "      <td>GSPL</td>\n",
       "      <td>5.0</td>\n",
       "    </tr>\n",
       "    <tr>\n",
       "      <th>3</th>\n",
       "      <td>IGL</td>\n",
       "      <td>6.0</td>\n",
       "    </tr>\n",
       "    <tr>\n",
       "      <th>4</th>\n",
       "      <td>JSWENERGY</td>\n",
       "      <td>6.0</td>\n",
       "    </tr>\n",
       "    <tr>\n",
       "      <th>5</th>\n",
       "      <td>NTPC</td>\n",
       "      <td>6.0</td>\n",
       "    </tr>\n",
       "    <tr>\n",
       "      <th>6</th>\n",
       "      <td>POWERGRID</td>\n",
       "      <td>6.0</td>\n",
       "    </tr>\n",
       "    <tr>\n",
       "      <th>7</th>\n",
       "      <td>RELINFRA</td>\n",
       "      <td>6.0</td>\n",
       "    </tr>\n",
       "    <tr>\n",
       "      <th>8</th>\n",
       "      <td>RPOWER</td>\n",
       "      <td>6.0</td>\n",
       "    </tr>\n",
       "    <tr>\n",
       "      <th>9</th>\n",
       "      <td>TATAPOWER</td>\n",
       "      <td>6.0</td>\n",
       "    </tr>\n",
       "  </tbody>\n",
       "</table>\n",
       "</div>"
      ],
      "text/plain": [
       "  nse_ticker  date_gap\n",
       "0       CESC       6.0\n",
       "1       GAIL       6.0\n",
       "2       GSPL       5.0\n",
       "3        IGL       6.0\n",
       "4  JSWENERGY       6.0\n",
       "5       NTPC       6.0\n",
       "6  POWERGRID       6.0\n",
       "7   RELINFRA       6.0\n",
       "8     RPOWER       6.0\n",
       "9  TATAPOWER       6.0"
      ]
     },
     "execution_count": 62,
     "metadata": {},
     "output_type": "execute_result"
    }
   ],
   "source": [
    "sub_price_utilities.groupby(\"nse_ticker\").date_gap.max().reset_index()"
   ]
  },
  {
   "cell_type": "code",
   "execution_count": null,
   "metadata": {},
   "outputs": [],
   "source": []
  },
  {
   "cell_type": "code",
   "execution_count": null,
   "metadata": {},
   "outputs": [],
   "source": []
  }
 ],
 "metadata": {
  "kernelspec": {
   "display_name": "Python 3",
   "language": "python",
   "name": "python3"
  },
  "language_info": {
   "codemirror_mode": {
    "name": "ipython",
    "version": 3
   },
   "file_extension": ".py",
   "mimetype": "text/x-python",
   "name": "python",
   "nbconvert_exporter": "python",
   "pygments_lexer": "ipython3",
   "version": "3.7.3"
  }
 },
 "nbformat": 4,
 "nbformat_minor": 2
}
