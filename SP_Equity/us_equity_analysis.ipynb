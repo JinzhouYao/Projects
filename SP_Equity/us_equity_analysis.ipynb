{
 "cells": [
  {
   "cell_type": "markdown",
   "metadata": {},
   "source": [
    "# Import"
   ]
  },
  {
   "cell_type": "code",
   "execution_count": 1,
   "metadata": {},
   "outputs": [],
   "source": [
    "# Required version of fix_yahoo_finance is 0.021\n",
    "from os import listdir\n",
    "import time\n",
    "import numpy as np\n",
    "import pandas as pd\n",
    "import fix_yahoo_finance as yf\n",
    "import warnings\n",
    "warnings.filterwarnings('ignore')"
   ]
  },
  {
   "cell_type": "markdown",
   "metadata": {},
   "source": [
    "# Download & Read & Clean All U.S. Equity Tickers from Database"
   ]
  },
  {
   "cell_type": "code",
   "execution_count": 2,
   "metadata": {},
   "outputs": [
    {
     "data": {
      "text/html": [
       "<div>\n",
       "<style scoped>\n",
       "    .dataframe tbody tr th:only-of-type {\n",
       "        vertical-align: middle;\n",
       "    }\n",
       "\n",
       "    .dataframe tbody tr th {\n",
       "        vertical-align: top;\n",
       "    }\n",
       "\n",
       "    .dataframe thead th {\n",
       "        text-align: right;\n",
       "    }\n",
       "</style>\n",
       "<table border=\"1\" class=\"dataframe\">\n",
       "  <thead>\n",
       "    <tr style=\"text-align: right;\">\n",
       "      <th></th>\n",
       "      <th>entity_share_class_figi</th>\n",
       "      <th>entity_ticker</th>\n",
       "    </tr>\n",
       "  </thead>\n",
       "  <tbody>\n",
       "    <tr>\n",
       "      <th>0</th>\n",
       "      <td>BBG001S16908</td>\n",
       "      <td>HCHC</td>\n",
       "    </tr>\n",
       "    <tr>\n",
       "      <th>1</th>\n",
       "      <td>BBG001S169P1</td>\n",
       "      <td>MPC</td>\n",
       "    </tr>\n",
       "    <tr>\n",
       "      <th>2</th>\n",
       "      <td>BBG001S26WK3</td>\n",
       "      <td>ATE</td>\n",
       "    </tr>\n",
       "    <tr>\n",
       "      <th>3</th>\n",
       "      <td>BBG001S3DVN2</td>\n",
       "      <td>MEMP</td>\n",
       "    </tr>\n",
       "    <tr>\n",
       "      <th>4</th>\n",
       "      <td>BBG001S3RCX8</td>\n",
       "      <td>CFCB</td>\n",
       "    </tr>\n",
       "  </tbody>\n",
       "</table>\n",
       "</div>"
      ],
      "text/plain": [
       "  entity_share_class_figi entity_ticker\n",
       "0            BBG001S16908          HCHC\n",
       "1            BBG001S169P1           MPC\n",
       "2            BBG001S26WK3           ATE\n",
       "3            BBG001S3DVN2          MEMP\n",
       "4            BBG001S3RCX8          CFCB"
      ]
     },
     "execution_count": 2,
     "metadata": {},
     "output_type": "execute_result"
    }
   ],
   "source": [
    "# read entities.csv downloaded from Entities Manager\n",
    "all_us_tickers = pd.read_csv(\"us_entities_database.csv\")\n",
    "all_us_tickers.head()"
   ]
  },
  {
   "cell_type": "code",
   "execution_count": 3,
   "metadata": {},
   "outputs": [],
   "source": [
    "# exclude tickers contain non-letters\n",
    "# in our database, it could contain \"-\" or numbers\n",
    "def non_letter(x):\n",
    "    if \"-\" in x[\"entity_ticker\"] or any(char.isdigit() for char in x[\"entity_ticker\"]):\n",
    "        return 1\n",
    "    else:\n",
    "        return 0\n",
    "all_us_tickers[\"non_letter\"] = all_us_tickers.apply(lambda x: non_letter(x), axis=1)\n",
    "all_us_tickers = all_us_tickers[all_us_tickers[\"non_letter\"] == 0]\n",
    "\n",
    "# process \"/\" to \"-\"\n",
    "def process_dot(x):\n",
    "    if \"/\" in x[\"entity_ticker\"]:\n",
    "        return x[\"entity_ticker\"].replace(\"/\", \"-\")\n",
    "    else:\n",
    "        return x[\"entity_ticker\"]\n",
    "    \n",
    "all_us_tickers[\"entity_ticker\"] = all_us_tickers.apply(lambda x: process_dot(x), axis=1)\n",
    "del all_us_tickers[\"non_letter\"]\n",
    "all_us_tickers = all_us_tickers.sort_values(\"entity_ticker\").reset_index(drop=True)\n",
    "\n",
    "# write to csv\n",
    "all_us_tickers.to_csv(\"all_us_tickers.csv\", index=False)"
   ]
  },
  {
   "cell_type": "markdown",
   "metadata": {},
   "source": [
    "# Use `fix_yahoo_finance` to Download Price Data"
   ]
  },
  {
   "cell_type": "code",
   "execution_count": 4,
   "metadata": {},
   "outputs": [],
   "source": [
    "# define some constants\n",
    "start_date = '2005-01-01'\n",
    "end_date = '2019-05-15'\n",
    "ticker_list = all_us_tickers[\"entity_ticker\"].to_list()\n",
    "PRICE_MAX_RETRY = 5\n",
    "PRICE_MAX_SLEEP = 5\n",
    "YF_VERBOSE = False"
   ]
  },
  {
   "cell_type": "code",
   "execution_count": 5,
   "metadata": {},
   "outputs": [
    {
     "data": {
      "text/plain": [
       "7368"
      ]
     },
     "execution_count": 5,
     "metadata": {},
     "output_type": "execute_result"
    }
   ],
   "source": [
    "len(ticker_list)"
   ]
  },
  {
   "cell_type": "code",
   "execution_count": null,
   "metadata": {},
   "outputs": [
    {
     "name": "stdout",
     "output_type": "stream",
     "text": [
      "batch: 1 - Trial no. 1, 100 tickers left...\n"
     ]
    }
   ],
   "source": [
    "for batch in range(1, 75):\n",
    "    tickers = ticker_list[(batch-1)*100:batch*100]\n",
    "    df_price = pd.DataFrame()\n",
    "    retry = 0\n",
    "    while tickers and retry < PRICE_MAX_RETRY:\n",
    "        failed_list = []\n",
    "        print(\"batch: \" + str(batch) + \" - Trial no. \" + str(retry+1) + \n",
    "              \", \" + str(len(tickers)) + \" tickers left...\")\n",
    "        # Data returned excludes end_date\n",
    "        price = pd.DataFrame()\n",
    "        success_tickers = []\n",
    "        try:\n",
    "            pan = yf.download(\n",
    "                tickers,\n",
    "                start_date,\n",
    "                end_date,\n",
    "                progress=YF_VERBOSE\n",
    "            )\n",
    "            #print(\"download finished\")\n",
    "            if isinstance(pan, pd.core.panel.Panel):\n",
    "                price = pan.to_frame().iloc[::-1].reset_index()\n",
    "            else:\n",
    "                pan[\"minor\"] = tickers[0]\n",
    "                price = pan.copy()\n",
    "                price.reset_index(drop=False, inplace=True)\n",
    "            success_tickers = price[\"minor\"].unique().tolist()\n",
    "\n",
    "            if not price.empty:\n",
    "                print(\"batch: \" + str(batch) + \" - Basic data transformation\")\n",
    "                price = price.rename(columns={\n",
    "                    \"Date\": \"date\",\n",
    "                    \"minor\": \"yahoo_quote\",\n",
    "                    \"High\": \"high\",\n",
    "                    \"Low\": \"low\",\n",
    "                    \"Open\": \"open\",\n",
    "                    \"Volume\": \"volume\",\n",
    "                    \"Adj Close\": \"adj_close\",\n",
    "                    \"Close\": \"close\"\n",
    "                })\n",
    "                df_price = df_price.append(price)\n",
    "        except Exception:  # pylint: disable=broad-except\n",
    "            success_tickers = []\n",
    "\n",
    "        print(\"batch: \" + str(batch) + \" - success rate: \" + \n",
    "              str(len(success_tickers)) + \" / \" + str(len(tickers)) + \"\\n\")\n",
    "        \n",
    "        failed_tickers = list(sorted(set(tickers) - set(success_tickers)))\n",
    "        failed_list.extend(failed_tickers)\n",
    "\n",
    "        time.sleep(int(PRICE_MAX_SLEEP))\n",
    "        tickers = failed_list\n",
    "        # TODO: Test if it makes YF download better\n",
    "        np.random.shuffle(tickers)\n",
    "        retry += 1\n",
    "    print (\"Saving batch \" + str(batch) + \" to csv\\n\")\n",
    "    df_price.to_csv(\"./us_daily_price/batch_\" + str(batch) + \".csv\", index=False)"
   ]
  },
  {
   "cell_type": "markdown",
   "metadata": {},
   "source": [
    "Review the data after the download. If the size of the data is too small, then find which batch the data belongs to, and go back to the above code and change the range and run it again. Rpeat this process 4-5 times and then we can download all of datat that we need. "
   ]
  },
  {
   "cell_type": "markdown",
   "metadata": {},
   "source": [
    "## Data Transformation"
   ]
  },
  {
   "cell_type": "markdown",
   "metadata": {},
   "source": [
    "### Load All Downloaded CSV Files"
   ]
  },
  {
   "cell_type": "code",
   "execution_count": 14,
   "metadata": {},
   "outputs": [],
   "source": [
    "# locate the data folder\n",
    "data_path = \"./us_daily_price/\"\n",
    "csv_files = [filename for filename in listdir(data_path) if filename.endswith(\".csv\")]"
   ]
  },
  {
   "cell_type": "code",
   "execution_count": 15,
   "metadata": {},
   "outputs": [],
   "source": [
    "# read all csv price data\n",
    "all_price = pd.DataFrame()\n",
    "for filename in csv_files:\n",
    "    price = pd.read_csv(data_path + filename, parse_dates=[\"major\"])\n",
    "    all_price = all_price.append(price)"
   ]
  },
  {
   "cell_type": "code",
   "execution_count": 16,
   "metadata": {},
   "outputs": [],
   "source": [
    "# rename and sort\n",
    "all_price = all_price.drop_duplicates()\n",
    "all_price.rename(columns={\"major\": \"date\", \"yahoo_quote\": \"ticker\"}, inplace=True)\n",
    "all_price = all_price.sort_values([\"ticker\", \"date\"]).reset_index(drop=True)"
   ]
  },
  {
   "cell_type": "code",
   "execution_count": 59,
   "metadata": {},
   "outputs": [],
   "source": [
    "# get tickers who have been public traded since 2005-01-01\n",
    "min_date = all_price.groupby(\"ticker\").min()[\"date\"].reset_index()\n",
    "min_date_tickers = min_date.query(\"date == '2005-01-03'\").reset_index(drop=True)\n",
    "max_date = all_price.groupby(\"ticker\").max()[\"date\"].reset_index()\n",
    "max_date_tickers = max_date.query(\"date == '2019-05-15'\").reset_index(drop=True)\n",
    "remain_tickers = list(set(min_date_tickers[\"ticker\"]) & set(max_date_tickers[\"ticker\"]))"
   ]
  },
  {
   "cell_type": "code",
   "execution_count": 60,
   "metadata": {},
   "outputs": [
    {
     "data": {
      "text/plain": [
       "2702"
      ]
     },
     "execution_count": 60,
     "metadata": {},
     "output_type": "execute_result"
    }
   ],
   "source": [
    "len(remain_tickers)"
   ]
  },
  {
   "cell_type": "code",
   "execution_count": 40,
   "metadata": {},
   "outputs": [],
   "source": [
    "filtered_price = all_price[all_price[\"ticker\"].isin(remain_tickers)]"
   ]
  },
  {
   "cell_type": "markdown",
   "metadata": {},
   "source": [
    "## QA on Filtered Data"
   ]
  },
  {
   "cell_type": "code",
   "execution_count": 44,
   "metadata": {},
   "outputs": [],
   "source": [
    "qa = filtered_price.groupby(\"ticker\").count()[\"date\"].reset_index()\n",
    "# full range should have 3616 records\n",
    "remove_tickers = list(qa.query(\"date != 3616\").ticker)\n",
    "# remove all tickers have less than 3616 price records\n",
    "final_price = filtered_price[~filtered_price[\"ticker\"].isin(remove_tickers)].reset_index(drop=True)"
   ]
  },
  {
   "cell_type": "code",
   "execution_count": 55,
   "metadata": {},
   "outputs": [
    {
     "data": {
      "text/plain": [
       "0"
      ]
     },
     "execution_count": 55,
     "metadata": {},
     "output_type": "execute_result"
    }
   ],
   "source": [
    "# Check if each ticker has 3616 days data\n",
    "sum(final_price.groupby('ticker').count()[\"date\"].reset_index().date != 3616)"
   ]
  },
  {
   "cell_type": "code",
   "execution_count": 89,
   "metadata": {},
   "outputs": [
    {
     "data": {
      "text/html": [
       "<div>\n",
       "<style scoped>\n",
       "    .dataframe tbody tr th:only-of-type {\n",
       "        vertical-align: middle;\n",
       "    }\n",
       "\n",
       "    .dataframe tbody tr th {\n",
       "        vertical-align: top;\n",
       "    }\n",
       "\n",
       "    .dataframe thead th {\n",
       "        text-align: right;\n",
       "    }\n",
       "</style>\n",
       "<table border=\"1\" class=\"dataframe\">\n",
       "  <thead>\n",
       "    <tr style=\"text-align: right;\">\n",
       "      <th></th>\n",
       "      <th>date</th>\n",
       "      <th>ticker</th>\n",
       "      <th>adj_close</th>\n",
       "      <th>close</th>\n",
       "      <th>high</th>\n",
       "      <th>low</th>\n",
       "      <th>open</th>\n",
       "      <th>volume</th>\n",
       "    </tr>\n",
       "  </thead>\n",
       "  <tbody>\n",
       "    <tr>\n",
       "      <th>7899773</th>\n",
       "      <td>2014-08-27</td>\n",
       "      <td>SLCT</td>\n",
       "      <td>7.550000</td>\n",
       "      <td>7.550000</td>\n",
       "      <td>7.550000</td>\n",
       "      <td>7.550000</td>\n",
       "      <td>7.550000</td>\n",
       "      <td>0.0</td>\n",
       "    </tr>\n",
       "    <tr>\n",
       "      <th>8418654</th>\n",
       "      <td>2007-06-01</td>\n",
       "      <td>TENX</td>\n",
       "      <td>750.000000</td>\n",
       "      <td>750.000000</td>\n",
       "      <td>774.000000</td>\n",
       "      <td>750.000000</td>\n",
       "      <td>750.000000</td>\n",
       "      <td>0.0</td>\n",
       "    </tr>\n",
       "    <tr>\n",
       "      <th>1396881</th>\n",
       "      <td>2009-05-26</td>\n",
       "      <td>CARV</td>\n",
       "      <td>83.755394</td>\n",
       "      <td>84.150002</td>\n",
       "      <td>84.150002</td>\n",
       "      <td>84.150002</td>\n",
       "      <td>84.150002</td>\n",
       "      <td>0.0</td>\n",
       "    </tr>\n",
       "    <tr>\n",
       "      <th>7761551</th>\n",
       "      <td>2011-06-02</td>\n",
       "      <td>SGB</td>\n",
       "      <td>8.973354</td>\n",
       "      <td>10.570000</td>\n",
       "      <td>10.570000</td>\n",
       "      <td>10.570000</td>\n",
       "      <td>10.570000</td>\n",
       "      <td>0.0</td>\n",
       "    </tr>\n",
       "    <tr>\n",
       "      <th>9435829</th>\n",
       "      <td>2011-09-12</td>\n",
       "      <td>WSO-B</td>\n",
       "      <td>45.214828</td>\n",
       "      <td>56.020000</td>\n",
       "      <td>56.020000</td>\n",
       "      <td>56.020000</td>\n",
       "      <td>56.020000</td>\n",
       "      <td>0.0</td>\n",
       "    </tr>\n",
       "    <tr>\n",
       "      <th>935727</th>\n",
       "      <td>2016-02-17</td>\n",
       "      <td>BDR</td>\n",
       "      <td>0.440000</td>\n",
       "      <td>0.440000</td>\n",
       "      <td>0.440000</td>\n",
       "      <td>0.440000</td>\n",
       "      <td>0.440000</td>\n",
       "      <td>0.0</td>\n",
       "    </tr>\n",
       "    <tr>\n",
       "      <th>7741112</th>\n",
       "      <td>2016-06-01</td>\n",
       "      <td>SENEB</td>\n",
       "      <td>38.099998</td>\n",
       "      <td>38.099998</td>\n",
       "      <td>38.099998</td>\n",
       "      <td>38.099998</td>\n",
       "      <td>38.099998</td>\n",
       "      <td>0.0</td>\n",
       "    </tr>\n",
       "    <tr>\n",
       "      <th>923036</th>\n",
       "      <td>2008-10-20</td>\n",
       "      <td>BDGE</td>\n",
       "      <td>13.745096</td>\n",
       "      <td>20.250000</td>\n",
       "      <td>20.250000</td>\n",
       "      <td>20.250000</td>\n",
       "      <td>20.250000</td>\n",
       "      <td>0.0</td>\n",
       "    </tr>\n",
       "    <tr>\n",
       "      <th>4474199</th>\n",
       "      <td>2009-10-19</td>\n",
       "      <td>IPB</td>\n",
       "      <td>10.570426</td>\n",
       "      <td>18.250000</td>\n",
       "      <td>18.250000</td>\n",
       "      <td>18.250000</td>\n",
       "      <td>18.250000</td>\n",
       "      <td>0.0</td>\n",
       "    </tr>\n",
       "    <tr>\n",
       "      <th>5301905</th>\n",
       "      <td>2008-05-19</td>\n",
       "      <td>MAMS</td>\n",
       "      <td>1.100000</td>\n",
       "      <td>1.100000</td>\n",
       "      <td>1.100000</td>\n",
       "      <td>1.100000</td>\n",
       "      <td>1.100000</td>\n",
       "      <td>0.0</td>\n",
       "    </tr>\n",
       "  </tbody>\n",
       "</table>\n",
       "</div>"
      ],
      "text/plain": [
       "              date ticker   adj_close       close        high         low  \\\n",
       "7899773 2014-08-27   SLCT    7.550000    7.550000    7.550000    7.550000   \n",
       "8418654 2007-06-01   TENX  750.000000  750.000000  774.000000  750.000000   \n",
       "1396881 2009-05-26   CARV   83.755394   84.150002   84.150002   84.150002   \n",
       "7761551 2011-06-02    SGB    8.973354   10.570000   10.570000   10.570000   \n",
       "9435829 2011-09-12  WSO-B   45.214828   56.020000   56.020000   56.020000   \n",
       "935727  2016-02-17    BDR    0.440000    0.440000    0.440000    0.440000   \n",
       "7741112 2016-06-01  SENEB   38.099998   38.099998   38.099998   38.099998   \n",
       "923036  2008-10-20   BDGE   13.745096   20.250000   20.250000   20.250000   \n",
       "4474199 2009-10-19    IPB   10.570426   18.250000   18.250000   18.250000   \n",
       "5301905 2008-05-19   MAMS    1.100000    1.100000    1.100000    1.100000   \n",
       "\n",
       "               open  volume  \n",
       "7899773    7.550000     0.0  \n",
       "8418654  750.000000     0.0  \n",
       "1396881   84.150002     0.0  \n",
       "7761551   10.570000     0.0  \n",
       "9435829   56.020000     0.0  \n",
       "935727     0.440000     0.0  \n",
       "7741112   38.099998     0.0  \n",
       "923036    20.250000     0.0  \n",
       "4474199   18.250000     0.0  \n",
       "5301905    1.100000     0.0  "
      ]
     },
     "execution_count": 89,
     "metadata": {},
     "output_type": "execute_result"
    }
   ],
   "source": [
    "# Some unporpular stocks may not have trade volumes for certain days\n",
    "final_price[final_price['volume'] == 0].sample(10)"
   ]
  },
  {
   "cell_type": "code",
   "execution_count": 90,
   "metadata": {},
   "outputs": [
    {
     "data": {
      "text/html": [
       "<div>\n",
       "<style scoped>\n",
       "    .dataframe tbody tr th:only-of-type {\n",
       "        vertical-align: middle;\n",
       "    }\n",
       "\n",
       "    .dataframe tbody tr th {\n",
       "        vertical-align: top;\n",
       "    }\n",
       "\n",
       "    .dataframe thead th {\n",
       "        text-align: right;\n",
       "    }\n",
       "</style>\n",
       "<table border=\"1\" class=\"dataframe\">\n",
       "  <thead>\n",
       "    <tr style=\"text-align: right;\">\n",
       "      <th></th>\n",
       "      <th>date</th>\n",
       "      <th>ticker</th>\n",
       "      <th>adj_close</th>\n",
       "      <th>close</th>\n",
       "      <th>high</th>\n",
       "      <th>low</th>\n",
       "      <th>open</th>\n",
       "      <th>volume</th>\n",
       "    </tr>\n",
       "  </thead>\n",
       "  <tbody>\n",
       "    <tr>\n",
       "      <th>800376</th>\n",
       "      <td>2009-12-04</td>\n",
       "      <td>BAC</td>\n",
       "      <td>14.886605</td>\n",
       "      <td>16.280001</td>\n",
       "      <td>16.4</td>\n",
       "      <td>15.62</td>\n",
       "      <td>15.76</td>\n",
       "      <td>1.226791e+09</td>\n",
       "    </tr>\n",
       "  </tbody>\n",
       "</table>\n",
       "</div>"
      ],
      "text/plain": [
       "             date ticker  adj_close      close  high    low   open  \\\n",
       "800376 2009-12-04    BAC  14.886605  16.280001  16.4  15.62  15.76   \n",
       "\n",
       "              volume  \n",
       "800376  1.226791e+09  "
      ]
     },
     "execution_count": 90,
     "metadata": {},
     "output_type": "execute_result"
    }
   ],
   "source": [
    "# BAC releases massive stocks in 2009/12 which cause a huge volume jump\n",
    "final_price[final_price['volume'] == max(final_price['volume'])]"
   ]
  },
  {
   "cell_type": "code",
   "execution_count": 93,
   "metadata": {},
   "outputs": [
    {
     "data": {
      "text/html": [
       "<div>\n",
       "<style scoped>\n",
       "    .dataframe tbody tr th:only-of-type {\n",
       "        vertical-align: middle;\n",
       "    }\n",
       "\n",
       "    .dataframe tbody tr th {\n",
       "        vertical-align: top;\n",
       "    }\n",
       "\n",
       "    .dataframe thead th {\n",
       "        text-align: right;\n",
       "    }\n",
       "</style>\n",
       "<table border=\"1\" class=\"dataframe\">\n",
       "  <thead>\n",
       "    <tr style=\"text-align: right;\">\n",
       "      <th></th>\n",
       "      <th>date</th>\n",
       "      <th>ticker</th>\n",
       "      <th>adj_close</th>\n",
       "      <th>close</th>\n",
       "      <th>high</th>\n",
       "      <th>low</th>\n",
       "      <th>open</th>\n",
       "      <th>volume</th>\n",
       "    </tr>\n",
       "  </thead>\n",
       "  <tbody>\n",
       "    <tr>\n",
       "      <th>8041209</th>\n",
       "      <td>2016-04-18</td>\n",
       "      <td>SPDC</td>\n",
       "      <td>0.0001</td>\n",
       "      <td>0.0001</td>\n",
       "      <td>0.0001</td>\n",
       "      <td>0.0001</td>\n",
       "      <td>0.0001</td>\n",
       "      <td>339.0</td>\n",
       "    </tr>\n",
       "  </tbody>\n",
       "</table>\n",
       "</div>"
      ],
      "text/plain": [
       "              date ticker  adj_close   close    high     low    open  volume\n",
       "8041209 2016-04-18   SPDC     0.0001  0.0001  0.0001  0.0001  0.0001   339.0"
      ]
     },
     "execution_count": 93,
     "metadata": {},
     "output_type": "execute_result"
    }
   ],
   "source": [
    "# The stock is still traded on over-the-counter market at a very low price\n",
    "final_price[final_price['close'] == min(final_price['close'])]"
   ]
  },
  {
   "cell_type": "code",
   "execution_count": 94,
   "metadata": {},
   "outputs": [
    {
     "data": {
      "text/html": [
       "<div>\n",
       "<style scoped>\n",
       "    .dataframe tbody tr th:only-of-type {\n",
       "        vertical-align: middle;\n",
       "    }\n",
       "\n",
       "    .dataframe tbody tr th {\n",
       "        vertical-align: top;\n",
       "    }\n",
       "\n",
       "    .dataframe thead th {\n",
       "        text-align: right;\n",
       "    }\n",
       "</style>\n",
       "<table border=\"1\" class=\"dataframe\">\n",
       "  <thead>\n",
       "    <tr style=\"text-align: right;\">\n",
       "      <th></th>\n",
       "      <th>date</th>\n",
       "      <th>ticker</th>\n",
       "      <th>adj_close</th>\n",
       "      <th>close</th>\n",
       "      <th>high</th>\n",
       "      <th>low</th>\n",
       "      <th>open</th>\n",
       "      <th>volume</th>\n",
       "    </tr>\n",
       "  </thead>\n",
       "  <tbody>\n",
       "    <tr>\n",
       "      <th>8569958</th>\n",
       "      <td>2005-02-28</td>\n",
       "      <td>TOPS</td>\n",
       "      <td>8.157235e+09</td>\n",
       "      <td>8.157240e+09</td>\n",
       "      <td>8.316000e+09</td>\n",
       "      <td>7.677180e+09</td>\n",
       "      <td>7.862400e+09</td>\n",
       "      <td>0.0</td>\n",
       "    </tr>\n",
       "  </tbody>\n",
       "</table>\n",
       "</div>"
      ],
      "text/plain": [
       "              date ticker     adj_close         close          high  \\\n",
       "8569958 2005-02-28   TOPS  8.157235e+09  8.157240e+09  8.316000e+09   \n",
       "\n",
       "                  low          open  volume  \n",
       "8569958  7.677180e+09  7.862400e+09     0.0  "
      ]
     },
     "execution_count": 94,
     "metadata": {},
     "output_type": "execute_result"
    }
   ],
   "source": [
    "\"\"\"\n",
    "The prices look unreasonable, but we cross checked with Bloomberg and \n",
    "the price are real. It might be due to a reverse stock split during that time,\n",
    "A reverse stock split is a type of corporate action which consolidates \n",
    "the number of existing shares of stock into fewer, proportionally more valuable, shares. \n",
    "\"\"\"\n",
    "final_price[final_price['close'] == max(final_price['close'])]"
   ]
  },
  {
   "cell_type": "markdown",
   "metadata": {},
   "source": [
    "## Conclusion on QA\n",
    "Even though some numbers of certain stocks look unreasonable, they all can be explained. As a result, we will keep all the records."
   ]
  },
  {
   "cell_type": "markdown",
   "metadata": {},
   "source": [
    "## Define Helper Functions"
   ]
  },
  {
   "cell_type": "code",
   "execution_count": 101,
   "metadata": {},
   "outputs": [],
   "source": [
    "def shift_cal(df, days=[1], price_type=\"open\", cal_type=[\"pct\", \"dir\"]):\n",
    "    # make shift and calculation\n",
    "    for day in days:\n",
    "        shift_col = price_type + \"_\" + str(day)\n",
    "        df[shift_col] = df.groupby(\"ticker\")[price_type].shift(day)\n",
    "        for calculation in cal_type:\n",
    "            cal_col = price_type[0] * 2 + \"_\" + str(day) + \"d_\" + calculation\n",
    "            if calculation == \"pct\":\n",
    "                df[cal_col] = (df[price_type] - df[shift_col]) / df[shift_col]\n",
    "            elif calculation == \"dir\":\n",
    "                df[cal_col] = np.sign(df[price_type] - df[shift_col])\n",
    "            else:\n",
    "                raise ValueError(\"The given cal_type is not defined\")\n",
    "    return df"
   ]
  },
  {
   "cell_type": "markdown",
   "metadata": {},
   "source": [
    "### Define Shift Days"
   ]
  },
  {
   "cell_type": "code",
   "execution_count": 102,
   "metadata": {},
   "outputs": [],
   "source": [
    "shift_days = [1, 5, 22, 66]"
   ]
  },
  {
   "cell_type": "markdown",
   "metadata": {},
   "source": [
    "### OO Transformation"
   ]
  },
  {
   "cell_type": "code",
   "execution_count": 103,
   "metadata": {},
   "outputs": [],
   "source": [
    "# get open price from the dataframe\n",
    "open_price = final_price[[\"ticker\", \"date\", \"open\"]].sort_values([\"ticker\", \"date\"]).reset_index(drop=True)\n",
    "\n",
    "# apply shift_cal on open price df\n",
    "open_shifted = shift_cal(open_price, days=shift_days, price_type=\"open\", cal_type=[\"pct\", \"dir\"])\n",
    "\n",
    "# keep related columns\n",
    "remain_cols = []\n",
    "for col in open_shifted.columns:\n",
    "    if \"oo\" in col:\n",
    "        remain_cols.append(col)\n",
    "oo_final = open_shifted[[\"ticker\", \"date\"] + remain_cols]\n",
    "\n",
    "# final sort and export\n",
    "oo_final = oo_final.sort_values([\"ticker\", \"date\"]).reset_index(drop=True)"
   ]
  },
  {
   "cell_type": "code",
   "execution_count": 125,
   "metadata": {},
   "outputs": [],
   "source": [
    "oo_1d_pct = oo_final[[\"ticker\",\"date\",\"oo_1d_pct\"]]\n",
    "oo_1d_dir = oo_final[[\"ticker\",\"date\",\"oo_1d_dir\"]]\n",
    "oo_5d_pct = oo_final[[\"ticker\",\"date\",\"oo_5d_pct\"]]\n",
    "oo_5d_dir = oo_final[[\"ticker\",\"date\",\"oo_5d_dir\"]]\n",
    "oo_22d_pct = oo_final[[\"ticker\",\"date\",\"oo_22d_pct\"]]\n",
    "oo_22d_dir = oo_final[[\"ticker\",\"date\",\"oo_22d_dir\"]]\n",
    "oo_66d_pct = oo_final[[\"ticker\",\"date\",\"oo_66d_pct\"]]\n",
    "oo_66d_dir = oo_final[[\"ticker\",\"date\",\"oo_66d_dir\"]]\n",
    "oo_1d_pct.to_csv(\"./us_daily_target/oo_1d_pct.csv\", index=False)\n",
    "oo_1d_dir.to_csv(\"./us_daily_target/oo_1d_dir.csv\", index=False)\n",
    "oo_5d_pct.to_csv(\"./us_daily_target/oo_5d_pct.csv\", index=False)\n",
    "oo_5d_dir.to_csv(\"./us_daily_target/oo_5d_dir.csv\", index=False)\n",
    "oo_22d_pct.to_csv(\"./us_daily_target/oo_22d_pct.csv\", index=False)\n",
    "oo_22d_dir.to_csv(\"./us_daily_target/oo_22d_dir.csv\", index=False)\n",
    "oo_66d_pct.to_csv(\"./us_daily_target/oo_66d_pct.csv\", index=False)\n",
    "oo_66d_dir.to_csv(\"./us_daily_target/oo_66d_dir.csv\", index=False)"
   ]
  },
  {
   "cell_type": "markdown",
   "metadata": {},
   "source": [
    "### CC Transformation"
   ]
  },
  {
   "cell_type": "code",
   "execution_count": 106,
   "metadata": {},
   "outputs": [],
   "source": [
    "# get close price from the dataframe\n",
    "close_price = final_price[[\"ticker\", \"date\", \"adj_close\"]].sort_values([\"ticker\", \"date\"]).reset_index(drop=True)\n",
    "close_price.rename(columns={\"adj_close\": \"close\"}, inplace=True)\n",
    "\n",
    "# apply shift_cal on close price df\n",
    "close_shifted = shift_cal(close_price, days=shift_days, price_type=\"close\", cal_type=[\"pct\", \"dir\"])\n",
    "\n",
    "# keep related columns\n",
    "remain_cols = []\n",
    "for col in close_shifted.columns:\n",
    "    if \"cc\" in col:\n",
    "        remain_cols.append(col)\n",
    "cc_final = close_shifted[[\"ticker\", \"date\"] + remain_cols]\n",
    "\n",
    "# final sort and export\n",
    "cc_final = cc_final.sort_values([\"ticker\", \"date\"]).reset_index(drop=True)"
   ]
  },
  {
   "cell_type": "code",
   "execution_count": 111,
   "metadata": {
    "scrolled": true
   },
   "outputs": [
    {
     "data": {
      "text/html": [
       "<div>\n",
       "<style scoped>\n",
       "    .dataframe tbody tr th:only-of-type {\n",
       "        vertical-align: middle;\n",
       "    }\n",
       "\n",
       "    .dataframe tbody tr th {\n",
       "        vertical-align: top;\n",
       "    }\n",
       "\n",
       "    .dataframe thead th {\n",
       "        text-align: right;\n",
       "    }\n",
       "</style>\n",
       "<table border=\"1\" class=\"dataframe\">\n",
       "  <thead>\n",
       "    <tr style=\"text-align: right;\">\n",
       "      <th></th>\n",
       "      <th>ticker</th>\n",
       "      <th>date</th>\n",
       "      <th>cc_1d_pct</th>\n",
       "      <th>cc_1d_dir</th>\n",
       "      <th>cc_5d_pct</th>\n",
       "      <th>cc_5d_dir</th>\n",
       "      <th>cc_22d_pct</th>\n",
       "      <th>cc_22d_dir</th>\n",
       "      <th>cc_66d_pct</th>\n",
       "      <th>cc_66d_dir</th>\n",
       "    </tr>\n",
       "  </thead>\n",
       "  <tbody>\n",
       "    <tr>\n",
       "      <th>0</th>\n",
       "      <td>A</td>\n",
       "      <td>2005-01-03</td>\n",
       "      <td>NaN</td>\n",
       "      <td>NaN</td>\n",
       "      <td>NaN</td>\n",
       "      <td>NaN</td>\n",
       "      <td>NaN</td>\n",
       "      <td>NaN</td>\n",
       "      <td>NaN</td>\n",
       "      <td>NaN</td>\n",
       "    </tr>\n",
       "    <tr>\n",
       "      <th>1</th>\n",
       "      <td>A</td>\n",
       "      <td>2005-01-04</td>\n",
       "      <td>-0.026382</td>\n",
       "      <td>-1.0</td>\n",
       "      <td>NaN</td>\n",
       "      <td>NaN</td>\n",
       "      <td>NaN</td>\n",
       "      <td>NaN</td>\n",
       "      <td>NaN</td>\n",
       "      <td>NaN</td>\n",
       "    </tr>\n",
       "    <tr>\n",
       "      <th>2</th>\n",
       "      <td>A</td>\n",
       "      <td>2005-01-05</td>\n",
       "      <td>-0.000430</td>\n",
       "      <td>-1.0</td>\n",
       "      <td>NaN</td>\n",
       "      <td>NaN</td>\n",
       "      <td>NaN</td>\n",
       "      <td>NaN</td>\n",
       "      <td>NaN</td>\n",
       "      <td>NaN</td>\n",
       "    </tr>\n",
       "    <tr>\n",
       "      <th>3</th>\n",
       "      <td>A</td>\n",
       "      <td>2005-01-06</td>\n",
       "      <td>-0.021945</td>\n",
       "      <td>-1.0</td>\n",
       "      <td>NaN</td>\n",
       "      <td>NaN</td>\n",
       "      <td>NaN</td>\n",
       "      <td>NaN</td>\n",
       "      <td>NaN</td>\n",
       "      <td>NaN</td>\n",
       "    </tr>\n",
       "    <tr>\n",
       "      <th>4</th>\n",
       "      <td>A</td>\n",
       "      <td>2005-01-07</td>\n",
       "      <td>-0.000880</td>\n",
       "      <td>-1.0</td>\n",
       "      <td>NaN</td>\n",
       "      <td>NaN</td>\n",
       "      <td>NaN</td>\n",
       "      <td>NaN</td>\n",
       "      <td>NaN</td>\n",
       "      <td>NaN</td>\n",
       "    </tr>\n",
       "  </tbody>\n",
       "</table>\n",
       "</div>"
      ],
      "text/plain": [
       "  ticker       date  cc_1d_pct  cc_1d_dir  cc_5d_pct  cc_5d_dir  cc_22d_pct  \\\n",
       "0      A 2005-01-03        NaN        NaN        NaN        NaN         NaN   \n",
       "1      A 2005-01-04  -0.026382       -1.0        NaN        NaN         NaN   \n",
       "2      A 2005-01-05  -0.000430       -1.0        NaN        NaN         NaN   \n",
       "3      A 2005-01-06  -0.021945       -1.0        NaN        NaN         NaN   \n",
       "4      A 2005-01-07  -0.000880       -1.0        NaN        NaN         NaN   \n",
       "\n",
       "   cc_22d_dir  cc_66d_pct  cc_66d_dir  \n",
       "0         NaN         NaN         NaN  \n",
       "1         NaN         NaN         NaN  \n",
       "2         NaN         NaN         NaN  \n",
       "3         NaN         NaN         NaN  \n",
       "4         NaN         NaN         NaN  "
      ]
     },
     "execution_count": 111,
     "metadata": {},
     "output_type": "execute_result"
    }
   ],
   "source": [
    "cc_final.head()"
   ]
  },
  {
   "cell_type": "code",
   "execution_count": 117,
   "metadata": {},
   "outputs": [],
   "source": [
    "cc_1d_pct = cc_final[[\"ticker\",\"date\",\"cc_1d_pct\"]]\n",
    "cc_1d_dir = cc_final[[\"ticker\",\"date\",\"cc_1d_dir\"]]\n",
    "cc_5d_pct = cc_final[[\"ticker\",\"date\",\"cc_5d_pct\"]]\n",
    "cc_5d_dir = cc_final[[\"ticker\",\"date\",\"cc_5d_dir\"]]\n",
    "cc_22d_pct = cc_final[[\"ticker\",\"date\",\"cc_22d_pct\"]]\n",
    "cc_22d_dir = cc_final[[\"ticker\",\"date\",\"cc_22d_dir\"]]\n",
    "cc_66d_pct = cc_final[[\"ticker\",\"date\",\"cc_66d_pct\"]]\n",
    "cc_66d_dir = cc_final[[\"ticker\",\"date\",\"cc_66d_dir\"]]\n",
    "cc_1d_pct.to_csv(\"./us_daily_target/cc_1d_pct.csv\", index=False)\n",
    "cc_1d_dir.to_csv(\"./us_daily_target/cc_1d_dir.csv\", index=False)\n",
    "cc_5d_pct.to_csv(\"./us_daily_target/cc_5d_pct.csv\", index=False)\n",
    "cc_5d_dir.to_csv(\"./us_daily_target/cc_5d_dir.csv\", index=False)\n",
    "cc_22d_pct.to_csv(\"./us_daily_target/cc_22d_pct.csv\", index=False)\n",
    "cc_22d_dir.to_csv(\"./us_daily_target/cc_22d_dir.csv\", index=False)\n",
    "cc_66d_pct.to_csv(\"./us_daily_target/cc_66d_pct.csv\", index=False)\n",
    "cc_66d_dir.to_csv(\"./us_daily_target/cc_66d_dir.csv\", index=False)"
   ]
  },
  {
   "cell_type": "code",
   "execution_count": 107,
   "metadata": {},
   "outputs": [
    {
     "data": {
      "text/plain": [
       "2657"
      ]
     },
     "execution_count": 107,
     "metadata": {},
     "output_type": "execute_result"
    }
   ],
   "source": [
    "len(oo_final.ticker.unique())"
   ]
  },
  {
   "cell_type": "code",
   "execution_count": 108,
   "metadata": {},
   "outputs": [
    {
     "data": {
      "text/plain": [
       "2657"
      ]
     },
     "execution_count": 108,
     "metadata": {},
     "output_type": "execute_result"
    }
   ],
   "source": [
    "len(cc_final.ticker.unique())"
   ]
  },
  {
   "cell_type": "code",
   "execution_count": 126,
   "metadata": {},
   "outputs": [
    {
     "data": {
      "text/plain": [
       "5208"
      ]
     },
     "execution_count": 126,
     "metadata": {},
     "output_type": "execute_result"
    }
   ],
   "source": [
    "len(all_price.ticker.unique())"
   ]
  }
 ],
 "metadata": {
  "kernelspec": {
   "display_name": "Python 3",
   "language": "python",
   "name": "python3"
  },
  "language_info": {
   "codemirror_mode": {
    "name": "ipython",
    "version": 3
   },
   "file_extension": ".py",
   "mimetype": "text/x-python",
   "name": "python",
   "nbconvert_exporter": "python",
   "pygments_lexer": "ipython3",
   "version": "3.6.5"
  }
 },
 "nbformat": 4,
 "nbformat_minor": 4
}
