{
 "cells": [
  {
   "cell_type": "markdown",
   "metadata": {},
   "source": [
    "# Import"
   ]
  },
  {
   "cell_type": "code",
   "execution_count": 1,
   "metadata": {},
   "outputs": [],
   "source": [
    "import pandas as pd\n",
    "import yfinance as yf"
   ]
  },
  {
   "cell_type": "markdown",
   "metadata": {},
   "source": [
    "# Read S&P 500 Constituents Ticker List"
   ]
  },
  {
   "cell_type": "code",
   "execution_count": 2,
   "metadata": {},
   "outputs": [
    {
     "data": {
      "text/html": [
       "<div>\n",
       "<style scoped>\n",
       "    .dataframe tbody tr th:only-of-type {\n",
       "        vertical-align: middle;\n",
       "    }\n",
       "\n",
       "    .dataframe tbody tr th {\n",
       "        vertical-align: top;\n",
       "    }\n",
       "\n",
       "    .dataframe thead th {\n",
       "        text-align: right;\n",
       "    }\n",
       "</style>\n",
       "<table border=\"1\" class=\"dataframe\">\n",
       "  <thead>\n",
       "    <tr style=\"text-align: right;\">\n",
       "      <th></th>\n",
       "      <th>company_name</th>\n",
       "      <th>ticker</th>\n",
       "    </tr>\n",
       "  </thead>\n",
       "  <tbody>\n",
       "    <tr>\n",
       "      <td>0</td>\n",
       "      <td>3M Company</td>\n",
       "      <td>MMM</td>\n",
       "    </tr>\n",
       "    <tr>\n",
       "      <td>1</td>\n",
       "      <td>A. O. Smith Corporation</td>\n",
       "      <td>AOS</td>\n",
       "    </tr>\n",
       "    <tr>\n",
       "      <td>2</td>\n",
       "      <td>Abbott Laboratories</td>\n",
       "      <td>ABT</td>\n",
       "    </tr>\n",
       "    <tr>\n",
       "      <td>3</td>\n",
       "      <td>AbbVie Inc.</td>\n",
       "      <td>ABBV</td>\n",
       "    </tr>\n",
       "    <tr>\n",
       "      <td>4</td>\n",
       "      <td>Abiomed, Inc.</td>\n",
       "      <td>ABMD</td>\n",
       "    </tr>\n",
       "  </tbody>\n",
       "</table>\n",
       "</div>"
      ],
      "text/plain": [
       "              company_name ticker\n",
       "0               3M Company    MMM\n",
       "1  A. O. Smith Corporation    AOS\n",
       "2      Abbott Laboratories    ABT\n",
       "3              AbbVie Inc.   ABBV\n",
       "4            Abiomed, Inc.   ABMD"
      ]
     },
     "execution_count": 2,
     "metadata": {},
     "output_type": "execute_result"
    }
   ],
   "source": [
    "sp_ticker = pd.read_csv(\"sp500_Constituents_20190906.csv\")\n",
    "sp_ticker.head()"
   ]
  },
  {
   "cell_type": "markdown",
   "metadata": {},
   "source": [
    "# Quality Check"
   ]
  },
  {
   "cell_type": "code",
   "execution_count": 3,
   "metadata": {},
   "outputs": [
    {
     "name": "stdout",
     "output_type": "stream",
     "text": [
      "(505, 2)\n"
     ]
    },
    {
     "data": {
      "text/plain": [
       "505"
      ]
     },
     "execution_count": 3,
     "metadata": {},
     "output_type": "execute_result"
    }
   ],
   "source": [
    "# check if each ticker is unique\n",
    "print(sp_ticker.shape)\n",
    "sp_ticker.ticker.nunique()"
   ]
  },
  {
   "cell_type": "markdown",
   "metadata": {},
   "source": [
    "# Use `yfinance` to Download Price Data"
   ]
  },
  {
   "cell_type": "code",
   "execution_count": 4,
   "metadata": {},
   "outputs": [],
   "source": [
    "# delete dot if it's included in ticker \n",
    "def del_dot(x):\n",
    "    if '.' in x:\n",
    "        return x.replace('.', '')\n",
    "    else:\n",
    "        return x"
   ]
  },
  {
   "cell_type": "code",
   "execution_count": 5,
   "metadata": {},
   "outputs": [],
   "source": [
    "sp_ticker.ticker = sp_ticker.ticker.apply(lambda x : del_dot(x))"
   ]
  },
  {
   "cell_type": "code",
   "execution_count": 6,
   "metadata": {},
   "outputs": [],
   "source": [
    "# drop BFB since it only has one day historical date\n",
    "sp_ticker.drop(index=sp_ticker.loc[sp_ticker.ticker=='BFB'].index, inplace=True)"
   ]
  },
  {
   "cell_type": "code",
   "execution_count": 7,
   "metadata": {},
   "outputs": [],
   "source": [
    "# change ticker BRKB to BRK-B\n",
    "sp_ticker.loc[sp_ticker.ticker == 'BRKB', 'ticker'] = 'BRK-B'"
   ]
  },
  {
   "cell_type": "code",
   "execution_count": 8,
   "metadata": {},
   "outputs": [],
   "source": [
    "# define some constants\n",
    "start_date = '2005-01-01'\n",
    "end_date = '2019-09-01'\n",
    "ticker_list = sp_ticker.ticker.to_list()\n",
    "PRICE_MAX_RETRY = 5\n",
    "PRICE_MAX_SLEEP = 5\n",
    "YF_VERBOSE = False"
   ]
  },
  {
   "cell_type": "code",
   "execution_count": 9,
   "metadata": {},
   "outputs": [
    {
     "name": "stdout",
     "output_type": "stream",
     "text": [
      "[*********************100%***********************]  504 of 504 downloaded\n"
     ]
    }
   ],
   "source": [
    "stock_price = yf.download(ticker_list, start=start_date, end=end_date)"
   ]
  },
  {
   "cell_type": "markdown",
   "metadata": {},
   "source": [
    "# Transformation"
   ]
  },
  {
   "cell_type": "code",
   "execution_count": 10,
   "metadata": {},
   "outputs": [],
   "source": [
    "# only keep adjusted close price\n",
    "stock_adj_close = stock_price.drop(columns=['Volume', 'Open', 'Low', 'High', 'Close'])"
   ]
  },
  {
   "cell_type": "code",
   "execution_count": 11,
   "metadata": {},
   "outputs": [],
   "source": [
    "# drop level 0 index 'Adj Close'\n",
    "stock_adj_close.columns = stock_adj_close.columns.droplevel(0)"
   ]
  },
  {
   "cell_type": "code",
   "execution_count": 12,
   "metadata": {},
   "outputs": [
    {
     "data": {
      "text/html": [
       "<div>\n",
       "<style scoped>\n",
       "    .dataframe tbody tr th:only-of-type {\n",
       "        vertical-align: middle;\n",
       "    }\n",
       "\n",
       "    .dataframe tbody tr th {\n",
       "        vertical-align: top;\n",
       "    }\n",
       "\n",
       "    .dataframe thead th {\n",
       "        text-align: right;\n",
       "    }\n",
       "</style>\n",
       "<table border=\"1\" class=\"dataframe\">\n",
       "  <thead>\n",
       "    <tr style=\"text-align: right;\">\n",
       "      <th></th>\n",
       "      <th>A</th>\n",
       "      <th>AAL</th>\n",
       "      <th>AAP</th>\n",
       "      <th>AAPL</th>\n",
       "      <th>ABBV</th>\n",
       "      <th>ABC</th>\n",
       "      <th>ABMD</th>\n",
       "      <th>ABT</th>\n",
       "      <th>ACN</th>\n",
       "      <th>ADBE</th>\n",
       "      <th>...</th>\n",
       "      <th>XEL</th>\n",
       "      <th>XLNX</th>\n",
       "      <th>XOM</th>\n",
       "      <th>XRAY</th>\n",
       "      <th>XRX</th>\n",
       "      <th>XYL</th>\n",
       "      <th>YUM</th>\n",
       "      <th>ZBH</th>\n",
       "      <th>ZION</th>\n",
       "      <th>ZTS</th>\n",
       "    </tr>\n",
       "    <tr>\n",
       "      <th>Date</th>\n",
       "      <th></th>\n",
       "      <th></th>\n",
       "      <th></th>\n",
       "      <th></th>\n",
       "      <th></th>\n",
       "      <th></th>\n",
       "      <th></th>\n",
       "      <th></th>\n",
       "      <th></th>\n",
       "      <th></th>\n",
       "      <th></th>\n",
       "      <th></th>\n",
       "      <th></th>\n",
       "      <th></th>\n",
       "      <th></th>\n",
       "      <th></th>\n",
       "      <th></th>\n",
       "      <th></th>\n",
       "      <th></th>\n",
       "      <th></th>\n",
       "      <th></th>\n",
       "    </tr>\n",
       "  </thead>\n",
       "  <tbody>\n",
       "    <tr>\n",
       "      <td>2005-01-03</td>\n",
       "      <td>14.95</td>\n",
       "      <td>NaN</td>\n",
       "      <td>27.64</td>\n",
       "      <td>3.95</td>\n",
       "      <td>NaN</td>\n",
       "      <td>11.54</td>\n",
       "      <td>15.01</td>\n",
       "      <td>15.43</td>\n",
       "      <td>19.99</td>\n",
       "      <td>30.84</td>\n",
       "      <td>...</td>\n",
       "      <td>10.00</td>\n",
       "      <td>21.21</td>\n",
       "      <td>33.26</td>\n",
       "      <td>25.40</td>\n",
       "      <td>38.39</td>\n",
       "      <td>NaN</td>\n",
       "      <td>11.30</td>\n",
       "      <td>NaN</td>\n",
       "      <td>55.63</td>\n",
       "      <td>NaN</td>\n",
       "    </tr>\n",
       "    <tr>\n",
       "      <td>2005-01-04</td>\n",
       "      <td>14.56</td>\n",
       "      <td>NaN</td>\n",
       "      <td>27.45</td>\n",
       "      <td>3.99</td>\n",
       "      <td>NaN</td>\n",
       "      <td>11.45</td>\n",
       "      <td>14.98</td>\n",
       "      <td>15.27</td>\n",
       "      <td>19.52</td>\n",
       "      <td>30.02</td>\n",
       "      <td>...</td>\n",
       "      <td>9.85</td>\n",
       "      <td>20.61</td>\n",
       "      <td>33.04</td>\n",
       "      <td>25.20</td>\n",
       "      <td>37.83</td>\n",
       "      <td>NaN</td>\n",
       "      <td>11.15</td>\n",
       "      <td>NaN</td>\n",
       "      <td>54.87</td>\n",
       "      <td>NaN</td>\n",
       "    </tr>\n",
       "    <tr>\n",
       "      <td>2005-01-05</td>\n",
       "      <td>14.55</td>\n",
       "      <td>NaN</td>\n",
       "      <td>27.51</td>\n",
       "      <td>4.02</td>\n",
       "      <td>NaN</td>\n",
       "      <td>11.43</td>\n",
       "      <td>14.69</td>\n",
       "      <td>15.10</td>\n",
       "      <td>19.44</td>\n",
       "      <td>29.86</td>\n",
       "      <td>...</td>\n",
       "      <td>9.73</td>\n",
       "      <td>19.96</td>\n",
       "      <td>32.87</td>\n",
       "      <td>24.90</td>\n",
       "      <td>37.08</td>\n",
       "      <td>NaN</td>\n",
       "      <td>11.13</td>\n",
       "      <td>NaN</td>\n",
       "      <td>54.67</td>\n",
       "      <td>NaN</td>\n",
       "    </tr>\n",
       "    <tr>\n",
       "      <td>2005-01-06</td>\n",
       "      <td>14.23</td>\n",
       "      <td>NaN</td>\n",
       "      <td>27.48</td>\n",
       "      <td>4.02</td>\n",
       "      <td>NaN</td>\n",
       "      <td>11.52</td>\n",
       "      <td>14.52</td>\n",
       "      <td>15.44</td>\n",
       "      <td>19.27</td>\n",
       "      <td>29.36</td>\n",
       "      <td>...</td>\n",
       "      <td>9.72</td>\n",
       "      <td>19.64</td>\n",
       "      <td>33.28</td>\n",
       "      <td>25.02</td>\n",
       "      <td>36.92</td>\n",
       "      <td>NaN</td>\n",
       "      <td>11.25</td>\n",
       "      <td>NaN</td>\n",
       "      <td>54.98</td>\n",
       "      <td>NaN</td>\n",
       "    </tr>\n",
       "    <tr>\n",
       "      <td>2005-01-07</td>\n",
       "      <td>14.22</td>\n",
       "      <td>NaN</td>\n",
       "      <td>27.32</td>\n",
       "      <td>4.32</td>\n",
       "      <td>NaN</td>\n",
       "      <td>11.49</td>\n",
       "      <td>14.29</td>\n",
       "      <td>15.70</td>\n",
       "      <td>20.17</td>\n",
       "      <td>29.38</td>\n",
       "      <td>...</td>\n",
       "      <td>9.66</td>\n",
       "      <td>19.81</td>\n",
       "      <td>33.06</td>\n",
       "      <td>24.83</td>\n",
       "      <td>36.72</td>\n",
       "      <td>NaN</td>\n",
       "      <td>11.19</td>\n",
       "      <td>NaN</td>\n",
       "      <td>53.65</td>\n",
       "      <td>NaN</td>\n",
       "    </tr>\n",
       "  </tbody>\n",
       "</table>\n",
       "<p>5 rows × 504 columns</p>\n",
       "</div>"
      ],
      "text/plain": [
       "                A  AAL    AAP  AAPL  ABBV    ABC   ABMD    ABT    ACN   ADBE  \\\n",
       "Date                                                                           \n",
       "2005-01-03  14.95  NaN  27.64  3.95   NaN  11.54  15.01  15.43  19.99  30.84   \n",
       "2005-01-04  14.56  NaN  27.45  3.99   NaN  11.45  14.98  15.27  19.52  30.02   \n",
       "2005-01-05  14.55  NaN  27.51  4.02   NaN  11.43  14.69  15.10  19.44  29.86   \n",
       "2005-01-06  14.23  NaN  27.48  4.02   NaN  11.52  14.52  15.44  19.27  29.36   \n",
       "2005-01-07  14.22  NaN  27.32  4.32   NaN  11.49  14.29  15.70  20.17  29.38   \n",
       "\n",
       "            ...    XEL   XLNX    XOM   XRAY    XRX  XYL    YUM  ZBH   ZION  \\\n",
       "Date        ...                                                              \n",
       "2005-01-03  ...  10.00  21.21  33.26  25.40  38.39  NaN  11.30  NaN  55.63   \n",
       "2005-01-04  ...   9.85  20.61  33.04  25.20  37.83  NaN  11.15  NaN  54.87   \n",
       "2005-01-05  ...   9.73  19.96  32.87  24.90  37.08  NaN  11.13  NaN  54.67   \n",
       "2005-01-06  ...   9.72  19.64  33.28  25.02  36.92  NaN  11.25  NaN  54.98   \n",
       "2005-01-07  ...   9.66  19.81  33.06  24.83  36.72  NaN  11.19  NaN  53.65   \n",
       "\n",
       "            ZTS  \n",
       "Date             \n",
       "2005-01-03  NaN  \n",
       "2005-01-04  NaN  \n",
       "2005-01-05  NaN  \n",
       "2005-01-06  NaN  \n",
       "2005-01-07  NaN  \n",
       "\n",
       "[5 rows x 504 columns]"
      ]
     },
     "execution_count": 12,
     "metadata": {},
     "output_type": "execute_result"
    }
   ],
   "source": [
    "stock_adj_close.head()"
   ]
  },
  {
   "cell_type": "code",
   "execution_count": 13,
   "metadata": {},
   "outputs": [],
   "source": [
    "stock_adj_close = stock_adj_close.unstack().reset_index()"
   ]
  },
  {
   "cell_type": "code",
   "execution_count": 14,
   "metadata": {},
   "outputs": [],
   "source": [
    "stock_adj_close.columns = ['Ticker', 'Date', 'Adj_Close']"
   ]
  },
  {
   "cell_type": "code",
   "execution_count": 15,
   "metadata": {},
   "outputs": [
    {
     "data": {
      "text/html": [
       "<div>\n",
       "<style scoped>\n",
       "    .dataframe tbody tr th:only-of-type {\n",
       "        vertical-align: middle;\n",
       "    }\n",
       "\n",
       "    .dataframe tbody tr th {\n",
       "        vertical-align: top;\n",
       "    }\n",
       "\n",
       "    .dataframe thead th {\n",
       "        text-align: right;\n",
       "    }\n",
       "</style>\n",
       "<table border=\"1\" class=\"dataframe\">\n",
       "  <thead>\n",
       "    <tr style=\"text-align: right;\">\n",
       "      <th></th>\n",
       "      <th>Ticker</th>\n",
       "      <th>Date</th>\n",
       "      <th>Adj_Close</th>\n",
       "    </tr>\n",
       "  </thead>\n",
       "  <tbody>\n",
       "    <tr>\n",
       "      <td>0</td>\n",
       "      <td>A</td>\n",
       "      <td>2005-01-03</td>\n",
       "      <td>14.95</td>\n",
       "    </tr>\n",
       "    <tr>\n",
       "      <td>1</td>\n",
       "      <td>A</td>\n",
       "      <td>2005-01-04</td>\n",
       "      <td>14.56</td>\n",
       "    </tr>\n",
       "    <tr>\n",
       "      <td>2</td>\n",
       "      <td>A</td>\n",
       "      <td>2005-01-05</td>\n",
       "      <td>14.55</td>\n",
       "    </tr>\n",
       "    <tr>\n",
       "      <td>3</td>\n",
       "      <td>A</td>\n",
       "      <td>2005-01-06</td>\n",
       "      <td>14.23</td>\n",
       "    </tr>\n",
       "    <tr>\n",
       "      <td>4</td>\n",
       "      <td>A</td>\n",
       "      <td>2005-01-07</td>\n",
       "      <td>14.22</td>\n",
       "    </tr>\n",
       "  </tbody>\n",
       "</table>\n",
       "</div>"
      ],
      "text/plain": [
       "  Ticker       Date  Adj_Close\n",
       "0      A 2005-01-03      14.95\n",
       "1      A 2005-01-04      14.56\n",
       "2      A 2005-01-05      14.55\n",
       "3      A 2005-01-06      14.23\n",
       "4      A 2005-01-07      14.22"
      ]
     },
     "execution_count": 15,
     "metadata": {},
     "output_type": "execute_result"
    }
   ],
   "source": [
    "stock_adj_close.head()"
   ]
  },
  {
   "cell_type": "code",
   "execution_count": 16,
   "metadata": {},
   "outputs": [],
   "source": [
    "# output data\n",
    "stock_adj_close.to_csv('SP_Stock_Adj_Close.csv', index=False)"
   ]
  }
 ],
 "metadata": {
  "kernelspec": {
   "display_name": "Python 3",
   "language": "python",
   "name": "python3"
  },
  "language_info": {
   "codemirror_mode": {
    "name": "ipython",
    "version": 3
   },
   "file_extension": ".py",
   "mimetype": "text/x-python",
   "name": "python",
   "nbconvert_exporter": "python",
   "pygments_lexer": "ipython3",
   "version": "3.7.1"
  }
 },
 "nbformat": 4,
 "nbformat_minor": 2
}
